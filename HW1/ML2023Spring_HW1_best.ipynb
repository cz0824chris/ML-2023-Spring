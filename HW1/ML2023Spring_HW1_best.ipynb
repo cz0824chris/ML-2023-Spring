{
 "cells": [
  {
   "cell_type": "code",
   "execution_count": 18,
   "metadata": {},
   "outputs": [
    {
     "name": "stderr",
     "output_type": "stream",
     "text": [
      "'wget' 不是內部或外部命令、可執行的程式或批次檔。\n",
      "'wget' 不是內部或外部命令、可執行的程式或批次檔。\n"
     ]
    }
   ],
   "source": [
    "# google drive link\n",
    "# !gdown --id '1BjXalPZxq9mybPKNjF3h5L3NcF7XKTS-' --output covid_train.csv\n",
    "# !gdown --id '1B55t74Jg2E5FCsKCsUEkPKIuqaY7UIi1' --output covid_test.csv\n",
    "\n",
    "# dropbox link\n",
    "!wget -O covid_train.csv https://www.dropbox.com/s/lmy1riadzoy0ahw/covid.train.csv?dl=0\n",
    "!wget -O covid_test.csv https://www.dropbox.com/s/zalbw42lu4nmhr2/covid.test.csv?dl=0\n",
    "# Numerical Operations\n",
    "import math\n",
    "import numpy as np\n",
    "\n",
    "# Reading/Writing Data\n",
    "import pandas as pd\n",
    "import os\n",
    "import csv\n",
    "\n",
    "# For Progress Bar\n",
    "from tqdm import tqdm\n",
    "\n",
    "# Pytorch\n",
    "import torch \n",
    "import torch.nn as nn\n",
    "from torch.utils.data import Dataset, DataLoader, random_split\n",
    "\n",
    "# For plotting learning curve\n",
    "from torch.utils.tensorboard import SummaryWriter\n",
    "def same_seed(seed): \n",
    "    '''Fixes random number generator seeds for reproducibility.'''\n",
    "    torch.backends.cudnn.deterministic = True\n",
    "    torch.backends.cudnn.benchmark = False\n",
    "    np.random.seed(seed)\n",
    "    torch.manual_seed(seed)\n",
    "    if torch.cuda.is_available():\n",
    "        torch.cuda.manual_seed_all(seed)\n",
    "\n",
    "def train_valid_split(data_set, valid_ratio, seed):\n",
    "    '''Split provided training data into training set and validation set'''\n",
    "    valid_set_size = int(valid_ratio * len(data_set)) \n",
    "    train_set_size = len(data_set) - valid_set_size\n",
    "    train_set, valid_set = random_split(data_set, [train_set_size, valid_set_size], generator=torch.Generator().manual_seed(seed))\n",
    "    return np.array(train_set), np.array(valid_set)\n",
    "\n",
    "def predict(test_loader, model, device):\n",
    "    model.eval() # Set your model to evaluation mode.\n",
    "    preds = []\n",
    "    for x in tqdm(test_loader):\n",
    "        x = x.to(device)                        \n",
    "        with torch.no_grad():                   \n",
    "            pred = model(x)                     \n",
    "            preds.append(pred.detach().cpu())   \n",
    "    preds = torch.cat(preds, dim=0).numpy()  \n",
    "    return preds\n",
    "class COVID19Dataset(Dataset):\n",
    "    '''\n",
    "    x: Features.\n",
    "    y: Targets, if none, do prediction.\n",
    "    '''\n",
    "    def __init__(self, x, y=None):\n",
    "        if y is None:\n",
    "            self.y = y\n",
    "        else:\n",
    "            self.y = torch.FloatTensor(y)\n",
    "        self.x = torch.FloatTensor(x)\n",
    "\n",
    "    def __getitem__(self, idx):\n",
    "        if self.y is None:\n",
    "            return self.x[idx]\n",
    "        else:\n",
    "            return self.x[idx], self.y[idx]\n",
    "\n",
    "    def __len__(self):\n",
    "        return len(self.x)"
   ]
  },
  {
   "cell_type": "code",
   "execution_count": 19,
   "metadata": {},
   "outputs": [],
   "source": [
    "class My_Model(nn.Module):\n",
    "    def __init__(self, input_dim):\n",
    "        super(My_Model, self).__init__()\n",
    "        # TODO: modify model's structure, be aware of dimensions. \n",
    "        self.layers = nn.Sequential(\n",
    "            nn.Linear(input_dim, 64), \n",
    "            nn.ReLU(),\n",
    "            nn.Linear(64, 32),#64 32\n",
    "            nn.ReLU(),\n",
    "            nn.Linear(32, 16),#32 16 \n",
    "            nn.ReLU(),\n",
    "            nn.Linear(16, 1),\n",
    "        )\n",
    "\n",
    "    def forward(self, x):\n",
    "        x = self.layers(x)\n",
    "        x = x.squeeze(1) # (B, 1) -> (B)\n",
    "        return x"
   ]
  },
  {
   "cell_type": "code",
   "execution_count": 20,
   "metadata": {},
   "outputs": [],
   "source": [
    "def select_feat(train_data, valid_data, test_data, select_all=True):\n",
    "    '''Selects useful features to perform regression'''\n",
    "    y_train, y_valid = train_data[:,-1], valid_data[:,-1]\n",
    "    raw_x_train, raw_x_valid, raw_x_test = train_data[:,:-1], valid_data[:,:-1], test_data\n",
    "\n",
    "    if select_all:\n",
    "        feat_idx = list(range(raw_x_train.shape[1]))\n",
    "    else:\n",
    "        feat_idx = [35,36,37,47,48,52,\n",
    "                    53,54,55,65,66,70,\n",
    "                    71,72,73,83,84]\n",
    "        \n",
    "    return raw_x_train[:,feat_idx], raw_x_valid[:,feat_idx], raw_x_test[:,feat_idx], y_train, y_valid"
   ]
  },
  {
   "cell_type": "code",
   "execution_count": 21,
   "metadata": {},
   "outputs": [],
   "source": [
    "# a = 2.6\n",
    "def trainer(train_loader, valid_loader, model, config, device):\n",
    "\n",
    "    criterion = nn.MSELoss(reduction='mean') # Define your loss function, do not modify this.\n",
    "\n",
    "    # Define your optimization algorithm. \n",
    "    # TODO: Please check https://pytorch.org/docs/stable/optim.html to get more available algorithms.\n",
    "    # TODO: L2 regularization (optimizer(weight decay...) or implement by your self).\n",
    "    #optimizer = torch.optim.SGD(model.parameters(), lr=config['learning_rate'], momentum=0.7)\n",
    "#     optimizer = torch.optim.RMSprop(model.parameters(), lr=config['learning_rate'], momentum=0.7)\n",
    "#     optimizer = torch.optim.Adam(model.parameters(), lr=config['learning_rate'],weight_decay = 0.01)\n",
    "    optimizer = torch.optim.AdamW(model.parameters(), lr=config['learning_rate'],weight_decay = 0.00)\n",
    "    \n",
    "#     scheduler = torch.optim.lr_scheduler.ReduceLROnPlateau(optimizer, \"min\", factor = 0.0005,\n",
    "#                                                            patience=5, verbose=True,min_lr = 0.001)\n",
    "    \n",
    "    scheduler = torch.optim.lr_scheduler.ReduceLROnPlateau(optimizer, mode='min',\n",
    "    factor=0.001, patience=3, threshold=0.001,verbose=True,min_lr = 0.001)\n",
    "    \n",
    "    writer = SummaryWriter() # Writer of tensoboard.\n",
    "\n",
    "    if not os.path.isdir('./models'):\n",
    "        os.mkdir('./models') # Create directory of saving models.\n",
    "\n",
    "    n_epochs, best_loss, step, early_stop_count = config['n_epochs'], math.inf, 0, 0\n",
    "\n",
    "    for epoch in range(n_epochs):\n",
    "        model.train() # Set your model to train mode.\n",
    "        loss_record = []\n",
    "\n",
    "        # tqdm is a package to visualize your training progress.\n",
    "        train_pbar = tqdm(train_loader, position=0, leave=True)\n",
    "\n",
    "        for x, y in train_pbar:\n",
    "            optimizer.zero_grad()               # Set gradient to zero.\n",
    "            x, y = x.to(device), y.to(device)   # Move your data to device. \n",
    "            pred = model(x)             \n",
    "            loss = criterion(pred, y)\n",
    "            loss.backward()                     # Compute gradient(backpropagation).\n",
    "            optimizer.step()                    # Update parameters.\n",
    "            step += 1\n",
    "            loss_record.append(loss.detach().item())\n",
    "            \n",
    "            # Display current epoch number and loss on tqdm progress bar.\n",
    "            train_pbar.set_description(f'Epoch [{epoch+1}/{n_epochs}]')\n",
    "            train_pbar.set_postfix({'loss': loss.detach().item()})\n",
    "\n",
    "        mean_train_loss = sum(loss_record)/len(loss_record)\n",
    "        writer.add_scalar('Loss/train', mean_train_loss, step)\n",
    "\n",
    "        model.eval() # Set your model to evaluation mode.\n",
    "        loss_record = []\n",
    "        for x, y in valid_loader:\n",
    "            x, y = x.to(device), y.to(device)\n",
    "            with torch.no_grad():\n",
    "                pred = model(x)\n",
    "                loss = criterion(pred, y)\n",
    "\n",
    "            loss_record.append(loss.item())\n",
    "            \n",
    "        mean_valid_loss = sum(loss_record)/len(loss_record)\n",
    "        \n",
    "        scheduler.step(mean_valid_loss)\n",
    "        \n",
    "        if epoch % 100 == 0:\n",
    "          print(f'Epoch [{epoch+1}/{n_epochs}]: Train loss: {mean_train_loss:.4f}, Valid loss: {mean_valid_loss:.4f}')\n",
    "#         writer.add_scalar('Loss/valid', mean_valid_loss, step)\n",
    "\n",
    "        if mean_valid_loss < best_loss:\n",
    "            best_loss = mean_valid_loss\n",
    "            torch.save(model.state_dict(), config['save_path']) # Save your best model\n",
    "            print('Saving model with loss {:.3f}...'.format(best_loss))\n",
    "#             a = (best_loss)\n",
    "            early_stop_count = 0\n",
    "        else: \n",
    "            early_stop_count += 1\n",
    "\n",
    "        if early_stop_count >= config['early_stop']:\n",
    "            print('\\nModel is not improving, so we halt the training session.')\n",
    "            return mean_valid_loss , mean_train_loss,best_loss"
   ]
  },
  {
   "cell_type": "code",
   "execution_count": 22,
   "metadata": {},
   "outputs": [],
   "source": [
    "device = 'cuda' if torch.cuda.is_available() else 'cpu'\n",
    "config = {\n",
    "    'seed': 24,      # Your seed number, you can pick your lucky number. :)\n",
    "    'select_all': False,   # Whether to use all features.\n",
    "    'valid_ratio': 0.2,   # validation_size = train_size * valid_ratio\n",
    "    #'n_epochs': 5000,     # Number of epochs.  \n",
    "    'n_epochs': 4000,          \n",
    "    'batch_size': 256, \n",
    "    # 'learning_rate': 1e-5,\n",
    "    'learning_rate': 0.007,              \n",
    "    'early_stop': 800,    # If model has not improved for this many consecutive epochs, stop training.     \n",
    "    'save_path': './models/model.ckpt'  # Your model will be saved here.\n",
    "}\n"
   ]
  },
  {
   "cell_type": "code",
   "execution_count": 23,
   "metadata": {},
   "outputs": [
    {
     "name": "stdout",
     "output_type": "stream",
     "text": [
      "train_data size: (2408, 89) \n",
      "valid_data size: (601, 89) \n",
      "test_data size: (997, 88)\n",
      "number of features: 17\n"
     ]
    }
   ],
   "source": [
    "same_seed(config['seed'])\n",
    "train_data, test_data = pd.read_csv('./covid_train.csv').values, pd.read_csv('./covid_test.csv').values\n",
    "train_data, valid_data = train_valid_split(train_data, config['valid_ratio'], config['seed'])\n",
    "\n",
    "# Print out the data size.\n",
    "print(f\"\"\"train_data size: {train_data.shape} \n",
    "valid_data size: {valid_data.shape} \n",
    "test_data size: {test_data.shape}\"\"\")\n",
    "\n",
    "# Select features\n",
    "x_train, x_valid, x_test, y_train, y_valid = select_feat(train_data, valid_data, test_data, config['select_all'])\n",
    "\n",
    "# Print out the number of features.\n",
    "print(f'number of features: {x_train.shape[1]}')\n",
    "\n",
    "train_dataset, valid_dataset, test_dataset = COVID19Dataset(x_train, y_train), \\\n",
    "                                            COVID19Dataset(x_valid, y_valid), \\\n",
    "                                            COVID19Dataset(x_test)\n",
    "\n",
    "# Pytorch data loader loads pytorch dataset into batches.\n",
    "train_loader = DataLoader(train_dataset, batch_size=config['batch_size'], shuffle=True, pin_memory=True)\n",
    "valid_loader = DataLoader(valid_dataset, batch_size=config['batch_size'], shuffle=True, pin_memory=True)\n",
    "test_loader = DataLoader(test_dataset, batch_size=config['batch_size'], shuffle=False, pin_memory=True)"
   ]
  },
  {
   "cell_type": "code",
   "execution_count": 24,
   "metadata": {},
   "outputs": [
    {
     "name": "stderr",
     "output_type": "stream",
     "text": [
      "Epoch [1/4000]: 100%|██████████| 10/10 [00:00<00:00, 94.59it/s, loss=73.1]\n"
     ]
    },
    {
     "name": "stdout",
     "output_type": "stream",
     "text": [
      "Epoch [1/4000]: Train loss: 157.5667, Valid loss: 49.3653\n",
      "Saving model with loss 49.365...\n"
     ]
    },
    {
     "name": "stderr",
     "output_type": "stream",
     "text": [
      "Epoch [2/4000]: 100%|██████████| 10/10 [00:00<00:00, 105.54it/s, loss=23.4]\n"
     ]
    },
    {
     "name": "stdout",
     "output_type": "stream",
     "text": [
      "Saving model with loss 17.856...\n"
     ]
    },
    {
     "name": "stderr",
     "output_type": "stream",
     "text": [
      "Epoch [3/4000]: 100%|██████████| 10/10 [00:00<00:00, 110.18it/s, loss=10.8]\n"
     ]
    },
    {
     "name": "stdout",
     "output_type": "stream",
     "text": [
      "Saving model with loss 10.489...\n"
     ]
    },
    {
     "name": "stderr",
     "output_type": "stream",
     "text": [
      "Epoch [4/4000]: 100%|██████████| 10/10 [00:00<00:00, 107.81it/s, loss=8.52]\n"
     ]
    },
    {
     "name": "stdout",
     "output_type": "stream",
     "text": [
      "Saving model with loss 9.945...\n"
     ]
    },
    {
     "name": "stderr",
     "output_type": "stream",
     "text": [
      "Epoch [5/4000]: 100%|██████████| 10/10 [00:00<00:00, 108.72it/s, loss=10.5]\n"
     ]
    },
    {
     "name": "stdout",
     "output_type": "stream",
     "text": [
      "Saving model with loss 9.803...\n"
     ]
    },
    {
     "name": "stderr",
     "output_type": "stream",
     "text": [
      "Epoch [6/4000]: 100%|██████████| 10/10 [00:00<00:00, 108.99it/s, loss=10.2]\n"
     ]
    },
    {
     "name": "stdout",
     "output_type": "stream",
     "text": [
      "Saving model with loss 8.168...\n"
     ]
    },
    {
     "name": "stderr",
     "output_type": "stream",
     "text": [
      "Epoch [7/4000]: 100%|██████████| 10/10 [00:00<00:00, 85.70it/s, loss=6.71]\n"
     ]
    },
    {
     "name": "stdout",
     "output_type": "stream",
     "text": [
      "Saving model with loss 7.398...\n"
     ]
    },
    {
     "name": "stderr",
     "output_type": "stream",
     "text": [
      "Epoch [8/4000]: 100%|██████████| 10/10 [00:00<00:00, 116.59it/s, loss=6.53]\n"
     ]
    },
    {
     "name": "stdout",
     "output_type": "stream",
     "text": [
      "Saving model with loss 6.338...\n"
     ]
    },
    {
     "name": "stderr",
     "output_type": "stream",
     "text": [
      "Epoch [9/4000]: 100%|██████████| 10/10 [00:00<00:00, 113.98it/s, loss=6.15]\n"
     ]
    },
    {
     "name": "stdout",
     "output_type": "stream",
     "text": [
      "Saving model with loss 5.466...\n"
     ]
    },
    {
     "name": "stderr",
     "output_type": "stream",
     "text": [
      "Epoch [10/4000]: 100%|██████████| 10/10 [00:00<00:00, 113.94it/s, loss=5.1]\n"
     ]
    },
    {
     "name": "stdout",
     "output_type": "stream",
     "text": [
      "Saving model with loss 4.493...\n"
     ]
    },
    {
     "name": "stderr",
     "output_type": "stream",
     "text": [
      "Epoch [11/4000]: 100%|██████████| 10/10 [00:00<00:00, 113.38it/s, loss=3.51]\n"
     ]
    },
    {
     "name": "stdout",
     "output_type": "stream",
     "text": [
      "Saving model with loss 3.487...\n"
     ]
    },
    {
     "name": "stderr",
     "output_type": "stream",
     "text": [
      "Epoch [12/4000]: 100%|██████████| 10/10 [00:00<00:00, 106.67it/s, loss=2.38]\n"
     ]
    },
    {
     "name": "stdout",
     "output_type": "stream",
     "text": [
      "Saving model with loss 2.504...\n"
     ]
    },
    {
     "name": "stderr",
     "output_type": "stream",
     "text": [
      "Epoch [13/4000]: 100%|██████████| 10/10 [00:00<00:00, 103.37it/s, loss=1.92]\n"
     ]
    },
    {
     "name": "stdout",
     "output_type": "stream",
     "text": [
      "Saving model with loss 1.776...\n"
     ]
    },
    {
     "name": "stderr",
     "output_type": "stream",
     "text": [
      "Epoch [14/4000]: 100%|██████████| 10/10 [00:00<00:00, 106.66it/s, loss=1.47]\n"
     ]
    },
    {
     "name": "stdout",
     "output_type": "stream",
     "text": [
      "Saving model with loss 1.582...\n"
     ]
    },
    {
     "name": "stderr",
     "output_type": "stream",
     "text": [
      "Epoch [15/4000]: 100%|██████████| 10/10 [00:00<00:00, 75.96it/s, loss=1.61]\n"
     ]
    },
    {
     "name": "stdout",
     "output_type": "stream",
     "text": [
      "Saving model with loss 1.512...\n"
     ]
    },
    {
     "name": "stderr",
     "output_type": "stream",
     "text": [
      "Epoch [16/4000]: 100%|██████████| 10/10 [00:00<00:00, 97.65it/s, loss=1.37]\n"
     ]
    },
    {
     "name": "stdout",
     "output_type": "stream",
     "text": [
      "Saving model with loss 1.474...\n"
     ]
    },
    {
     "name": "stderr",
     "output_type": "stream",
     "text": [
      "Epoch [17/4000]: 100%|██████████| 10/10 [00:00<00:00, 111.39it/s, loss=1.34]\n"
     ]
    },
    {
     "name": "stdout",
     "output_type": "stream",
     "text": [
      "Saving model with loss 1.464...\n"
     ]
    },
    {
     "name": "stderr",
     "output_type": "stream",
     "text": [
      "Epoch [18/4000]: 100%|██████████| 10/10 [00:00<00:00, 116.45it/s, loss=1.24]\n"
     ]
    },
    {
     "name": "stdout",
     "output_type": "stream",
     "text": [
      "Saving model with loss 1.416...\n"
     ]
    },
    {
     "name": "stderr",
     "output_type": "stream",
     "text": [
      "Epoch [19/4000]: 100%|██████████| 10/10 [00:00<00:00, 112.66it/s, loss=1.35]\n",
      "Epoch [20/4000]: 100%|██████████| 10/10 [00:00<00:00, 113.99it/s, loss=1.53]\n"
     ]
    },
    {
     "name": "stdout",
     "output_type": "stream",
     "text": [
      "Saving model with loss 1.338...\n"
     ]
    },
    {
     "name": "stderr",
     "output_type": "stream",
     "text": [
      "Epoch [21/4000]: 100%|██████████| 10/10 [00:00<00:00, 116.57it/s, loss=1.15]\n",
      "Epoch [22/4000]: 100%|██████████| 10/10 [00:00<00:00, 113.94it/s, loss=1.18]\n"
     ]
    },
    {
     "name": "stdout",
     "output_type": "stream",
     "text": [
      "Saving model with loss 1.301...\n"
     ]
    },
    {
     "name": "stderr",
     "output_type": "stream",
     "text": [
      "Epoch [23/4000]: 100%|██████████| 10/10 [00:00<00:00, 100.61it/s, loss=1.61]\n",
      "Epoch [24/4000]: 100%|██████████| 10/10 [00:00<00:00, 105.54it/s, loss=1.29]\n",
      "Epoch [25/4000]: 100%|██████████| 10/10 [00:00<00:00, 97.35it/s, loss=1.06]\n"
     ]
    },
    {
     "name": "stdout",
     "output_type": "stream",
     "text": [
      "Saving model with loss 1.258...\n"
     ]
    },
    {
     "name": "stderr",
     "output_type": "stream",
     "text": [
      "Epoch [26/4000]: 100%|██████████| 10/10 [00:00<00:00, 113.99it/s, loss=1.28]\n",
      "Epoch [27/4000]: 100%|██████████| 10/10 [00:00<00:00, 111.57it/s, loss=0.971]\n",
      "Epoch [28/4000]: 100%|██████████| 10/10 [00:00<00:00, 113.94it/s, loss=1.18]\n",
      "Epoch [29/4000]: 100%|██████████| 10/10 [00:00<00:00, 115.25it/s, loss=1.29]\n",
      "Epoch [30/4000]: 100%|██████████| 10/10 [00:00<00:00, 117.96it/s, loss=1.11]\n",
      "Epoch [31/4000]: 100%|██████████| 10/10 [00:00<00:00, 108.96it/s, loss=1.43]\n",
      "Epoch [32/4000]: 100%|██████████| 10/10 [00:00<00:00, 88.73it/s, loss=1.54]\n"
     ]
    },
    {
     "name": "stdout",
     "output_type": "stream",
     "text": [
      "Saving model with loss 1.201...\n"
     ]
    },
    {
     "name": "stderr",
     "output_type": "stream",
     "text": [
      "Epoch [33/4000]: 100%|██████████| 10/10 [00:00<00:00, 101.28it/s, loss=0.999]\n"
     ]
    },
    {
     "name": "stdout",
     "output_type": "stream",
     "text": [
      "Saving model with loss 1.198...\n"
     ]
    },
    {
     "name": "stderr",
     "output_type": "stream",
     "text": [
      "Epoch [34/4000]: 100%|██████████| 10/10 [00:00<00:00, 93.71it/s, loss=1.13]\n",
      "Epoch [35/4000]: 100%|██████████| 10/10 [00:00<00:00, 108.99it/s, loss=1.07]\n"
     ]
    },
    {
     "name": "stdout",
     "output_type": "stream",
     "text": [
      "Saving model with loss 1.181...\n"
     ]
    },
    {
     "name": "stderr",
     "output_type": "stream",
     "text": [
      "Epoch [36/4000]: 100%|██████████| 10/10 [00:00<00:00, 110.94it/s, loss=1.6]\n",
      "Epoch [37/4000]: 100%|██████████| 10/10 [00:00<00:00, 103.37it/s, loss=1.48]\n",
      "Epoch [38/4000]: 100%|██████████| 10/10 [00:00<00:00, 110.19it/s, loss=1.57]\n"
     ]
    },
    {
     "name": "stdout",
     "output_type": "stream",
     "text": [
      "Saving model with loss 1.178...\n"
     ]
    },
    {
     "name": "stderr",
     "output_type": "stream",
     "text": [
      "Epoch [39/4000]: 100%|██████████| 10/10 [00:00<00:00, 107.09it/s, loss=0.964]\n",
      "Epoch [40/4000]: 100%|██████████| 10/10 [00:00<00:00, 113.94it/s, loss=1.37]\n"
     ]
    },
    {
     "name": "stdout",
     "output_type": "stream",
     "text": [
      "Saving model with loss 1.166...\n"
     ]
    },
    {
     "name": "stderr",
     "output_type": "stream",
     "text": [
      "Epoch [41/4000]: 100%|██████████| 10/10 [00:00<00:00, 116.52it/s, loss=0.851]\n"
     ]
    },
    {
     "name": "stdout",
     "output_type": "stream",
     "text": [
      "Saving model with loss 1.152...\n"
     ]
    },
    {
     "name": "stderr",
     "output_type": "stream",
     "text": [
      "Epoch [42/4000]: 100%|██████████| 10/10 [00:00<00:00, 55.41it/s, loss=1.24]\n",
      "Epoch [43/4000]: 100%|██████████| 10/10 [00:00<00:00, 93.71it/s, loss=1.26]\n",
      "Epoch [44/4000]: 100%|██████████| 10/10 [00:00<00:00, 102.31it/s, loss=1.16]\n",
      "Epoch [45/4000]: 100%|██████████| 10/10 [00:00<00:00, 143.24it/s, loss=1.04]\n",
      "Epoch [46/4000]: 100%|██████████| 10/10 [00:00<00:00, 147.45it/s, loss=1.5]\n",
      "Epoch [47/4000]: 100%|██████████| 10/10 [00:00<00:00, 149.65it/s, loss=1.8]\n",
      "Epoch [48/4000]: 100%|██████████| 10/10 [00:00<00:00, 125.33it/s, loss=1.54]\n"
     ]
    },
    {
     "name": "stdout",
     "output_type": "stream",
     "text": [
      "Saving model with loss 1.063...\n"
     ]
    },
    {
     "name": "stderr",
     "output_type": "stream",
     "text": [
      "Epoch [49/4000]: 100%|██████████| 10/10 [00:00<00:00, 149.65it/s, loss=1.27]\n",
      "Epoch [50/4000]: 100%|██████████| 10/10 [00:00<00:00, 128.55it/s, loss=1.26]\n",
      "Epoch [51/4000]: 100%|██████████| 10/10 [00:00<00:00, 72.96it/s, loss=1.16]\n",
      "Epoch [52/4000]: 100%|██████████| 10/10 [00:00<00:00, 106.67it/s, loss=1.07]\n",
      "Epoch [53/4000]: 100%|██████████| 10/10 [00:00<00:00, 145.32it/s, loss=1.02]\n"
     ]
    },
    {
     "name": "stdout",
     "output_type": "stream",
     "text": [
      "Saving model with loss 1.063...\n"
     ]
    },
    {
     "name": "stderr",
     "output_type": "stream",
     "text": [
      "Epoch [54/4000]: 100%|██████████| 10/10 [00:00<00:00, 143.24it/s, loss=0.912]\n",
      "Epoch [55/4000]: 100%|██████████| 10/10 [00:00<00:00, 137.35it/s, loss=1.43]\n",
      "Epoch [56/4000]: 100%|██████████| 10/10 [00:00<00:00, 147.45it/s, loss=1.09]\n",
      "Epoch [57/4000]: 100%|██████████| 10/10 [00:00<00:00, 147.45it/s, loss=0.883]\n",
      "Epoch [58/4000]: 100%|██████████| 10/10 [00:00<00:00, 128.55it/s, loss=0.984]\n",
      "Epoch [59/4000]: 100%|██████████| 10/10 [00:00<00:00, 145.32it/s, loss=0.928]\n",
      "Epoch [60/4000]: 100%|██████████| 10/10 [00:00<00:00, 137.35it/s, loss=1.01]\n",
      "Epoch [61/4000]: 100%|██████████| 10/10 [00:00<00:00, 135.49it/s, loss=1]\n"
     ]
    },
    {
     "name": "stdout",
     "output_type": "stream",
     "text": [
      "Saving model with loss 1.057...\n"
     ]
    },
    {
     "name": "stderr",
     "output_type": "stream",
     "text": [
      "Epoch [62/4000]: 100%|██████████| 10/10 [00:00<00:00, 139.26it/s, loss=1.34]\n",
      "Epoch [63/4000]: 100%|██████████| 10/10 [00:00<00:00, 139.26it/s, loss=1.23]\n",
      "Epoch [64/4000]: 100%|██████████| 10/10 [00:00<00:00, 135.49it/s, loss=1.09]\n",
      "Epoch [65/4000]: 100%|██████████| 10/10 [00:00<00:00, 135.50it/s, loss=1.09]\n",
      "Epoch [66/4000]: 100%|██████████| 10/10 [00:00<00:00, 133.69it/s, loss=1.06]\n",
      "Epoch [67/4000]: 100%|██████████| 10/10 [00:00<00:00, 144.32it/s, loss=0.937]\n",
      "Epoch [68/4000]: 100%|██████████| 10/10 [00:00<00:00, 164.37it/s, loss=1]\n"
     ]
    },
    {
     "name": "stdout",
     "output_type": "stream",
     "text": [
      "Saving model with loss 1.056...\n"
     ]
    },
    {
     "name": "stderr",
     "output_type": "stream",
     "text": [
      "Epoch [69/4000]: 100%|██████████| 10/10 [00:00<00:00, 154.26it/s, loss=0.684]\n"
     ]
    },
    {
     "name": "stdout",
     "output_type": "stream",
     "text": [
      "Saving model with loss 1.034...\n"
     ]
    },
    {
     "name": "stderr",
     "output_type": "stream",
     "text": [
      "Epoch [70/4000]: 100%|██████████| 10/10 [00:00<00:00, 154.26it/s, loss=1.11]\n",
      "Epoch [71/4000]: 100%|██████████| 10/10 [00:00<00:00, 156.67it/s, loss=1.01]\n"
     ]
    },
    {
     "name": "stdout",
     "output_type": "stream",
     "text": [
      "Saving model with loss 1.030...\n"
     ]
    },
    {
     "name": "stderr",
     "output_type": "stream",
     "text": [
      "Epoch [72/4000]: 100%|██████████| 10/10 [00:00<00:00, 152.02it/s, loss=1.32]\n"
     ]
    },
    {
     "name": "stdout",
     "output_type": "stream",
     "text": [
      "Saving model with loss 1.012...\n"
     ]
    },
    {
     "name": "stderr",
     "output_type": "stream",
     "text": [
      "Epoch [73/4000]: 100%|██████████| 10/10 [00:00<00:00, 147.35it/s, loss=1.02]\n"
     ]
    },
    {
     "name": "stdout",
     "output_type": "stream",
     "text": [
      "Saving model with loss 0.988...\n"
     ]
    },
    {
     "name": "stderr",
     "output_type": "stream",
     "text": [
      "Epoch [74/4000]: 100%|██████████| 10/10 [00:00<00:00, 135.57it/s, loss=0.974]\n",
      "Epoch [75/4000]: 100%|██████████| 10/10 [00:00<00:00, 149.65it/s, loss=1.42]\n",
      "Epoch [76/4000]: 100%|██████████| 10/10 [00:00<00:00, 149.66it/s, loss=1.15]\n",
      "Epoch [77/4000]: 100%|██████████| 10/10 [00:00<00:00, 145.36it/s, loss=1.13]\n",
      "Epoch [78/4000]: 100%|██████████| 10/10 [00:00<00:00, 131.93it/s, loss=1]\n",
      "Epoch [79/4000]: 100%|██████████| 10/10 [00:00<00:00, 117.96it/s, loss=1.2]\n",
      "Epoch [80/4000]: 100%|██████████| 10/10 [00:00<00:00, 120.80it/s, loss=1.15]\n",
      "Epoch [81/4000]: 100%|██████████| 10/10 [00:00<00:00, 97.08it/s, loss=0.907]\n"
     ]
    },
    {
     "name": "stdout",
     "output_type": "stream",
     "text": [
      "Saving model with loss 0.973...\n"
     ]
    },
    {
     "name": "stderr",
     "output_type": "stream",
     "text": [
      "Epoch [82/4000]: 100%|██████████| 10/10 [00:00<00:00, 104.45it/s, loss=0.968]\n",
      "Epoch [83/4000]: 100%|██████████| 10/10 [00:00<00:00, 133.69it/s, loss=1.03]\n",
      "Epoch [84/4000]: 100%|██████████| 10/10 [00:00<00:00, 139.14it/s, loss=1.1]\n",
      "Epoch [85/4000]: 100%|██████████| 10/10 [00:00<00:00, 156.76it/s, loss=0.879]\n",
      "Epoch [86/4000]: 100%|██████████| 10/10 [00:00<00:00, 161.72it/s, loss=1.18]\n",
      "Epoch [87/4000]: 100%|██████████| 10/10 [00:00<00:00, 154.94it/s, loss=1.35]\n",
      "Epoch [88/4000]: 100%|██████████| 10/10 [00:00<00:00, 153.69it/s, loss=0.798]\n"
     ]
    },
    {
     "name": "stdout",
     "output_type": "stream",
     "text": [
      "Saving model with loss 0.972...\n"
     ]
    },
    {
     "name": "stderr",
     "output_type": "stream",
     "text": [
      "Epoch [89/4000]: 100%|██████████| 10/10 [00:00<00:00, 156.74it/s, loss=1.24]\n",
      "Epoch [90/4000]: 100%|██████████| 10/10 [00:00<00:00, 147.45it/s, loss=0.912]\n",
      "Epoch [91/4000]: 100%|██████████| 10/10 [00:00<00:00, 141.22it/s, loss=1.17]\n",
      "Epoch [92/4000]: 100%|██████████| 10/10 [00:00<00:00, 143.24it/s, loss=0.886]\n",
      "Epoch [93/4000]: 100%|██████████| 10/10 [00:00<00:00, 139.26it/s, loss=0.929]\n",
      "Epoch [94/4000]: 100%|██████████| 10/10 [00:00<00:00, 145.32it/s, loss=1.1]\n",
      "Epoch [95/4000]: 100%|██████████| 10/10 [00:00<00:00, 155.00it/s, loss=1.1]\n"
     ]
    },
    {
     "name": "stdout",
     "output_type": "stream",
     "text": [
      "Saving model with loss 0.922...\n"
     ]
    },
    {
     "name": "stderr",
     "output_type": "stream",
     "text": [
      "Epoch [96/4000]: 100%|██████████| 10/10 [00:00<00:00, 143.71it/s, loss=1.01]\n",
      "Epoch [97/4000]: 100%|██████████| 10/10 [00:00<00:00, 159.15it/s, loss=1.01]\n",
      "Epoch [98/4000]: 100%|██████████| 10/10 [00:00<00:00, 159.05it/s, loss=0.92]\n",
      "Epoch [99/4000]: 100%|██████████| 10/10 [00:00<00:00, 158.15it/s, loss=0.942]\n",
      "Epoch [100/4000]: 100%|██████████| 10/10 [00:00<00:00, 152.84it/s, loss=1.36]\n",
      "Epoch [101/4000]: 100%|██████████| 10/10 [00:00<00:00, 153.98it/s, loss=0.782]\n"
     ]
    },
    {
     "name": "stdout",
     "output_type": "stream",
     "text": [
      "Epoch [101/4000]: Train loss: 0.9712, Valid loss: 1.3770\n"
     ]
    },
    {
     "name": "stderr",
     "output_type": "stream",
     "text": [
      "Epoch [102/4000]: 100%|██████████| 10/10 [00:00<00:00, 141.01it/s, loss=1.09]\n"
     ]
    },
    {
     "name": "stdout",
     "output_type": "stream",
     "text": [
      "Saving model with loss 0.910...\n"
     ]
    },
    {
     "name": "stderr",
     "output_type": "stream",
     "text": [
      "Epoch [103/4000]: 100%|██████████| 10/10 [00:00<00:00, 77.15it/s, loss=0.65]\n",
      "Epoch [104/4000]: 100%|██████████| 10/10 [00:00<00:00, 149.87it/s, loss=1.06]\n",
      "Epoch [105/4000]: 100%|██████████| 10/10 [00:00<00:00, 136.57it/s, loss=0.816]\n",
      "Epoch [106/4000]: 100%|██████████| 10/10 [00:00<00:00, 112.06it/s, loss=1.25]\n",
      "Epoch [107/4000]: 100%|██████████| 10/10 [00:00<00:00, 115.17it/s, loss=1.53]\n",
      "Epoch [108/4000]: 100%|██████████| 10/10 [00:00<00:00, 161.72it/s, loss=0.733]\n",
      "Epoch [109/4000]: 100%|██████████| 10/10 [00:00<00:00, 164.38it/s, loss=1.32]\n",
      "Epoch [110/4000]: 100%|██████████| 10/10 [00:00<00:00, 159.15it/s, loss=1.03]\n"
     ]
    },
    {
     "name": "stdout",
     "output_type": "stream",
     "text": [
      "Saving model with loss 0.902...\n"
     ]
    },
    {
     "name": "stderr",
     "output_type": "stream",
     "text": [
      "Epoch [111/4000]: 100%|██████████| 10/10 [00:00<00:00, 155.64it/s, loss=1.45]\n",
      "Epoch [112/4000]: 100%|██████████| 10/10 [00:00<00:00, 154.77it/s, loss=0.803]\n",
      "Epoch [113/4000]: 100%|██████████| 10/10 [00:00<00:00, 156.61it/s, loss=0.799]\n"
     ]
    },
    {
     "name": "stdout",
     "output_type": "stream",
     "text": [
      "Saving model with loss 0.890...\n"
     ]
    },
    {
     "name": "stderr",
     "output_type": "stream",
     "text": [
      "Epoch [114/4000]: 100%|██████████| 10/10 [00:00<00:00, 152.60it/s, loss=1.35]\n",
      "Epoch [115/4000]: 100%|██████████| 10/10 [00:00<00:00, 151.61it/s, loss=0.835]\n",
      "Epoch [116/4000]: 100%|██████████| 10/10 [00:00<00:00, 143.24it/s, loss=1.36]\n",
      "Epoch [117/4000]: 100%|██████████| 10/10 [00:00<00:00, 149.42it/s, loss=1.03]\n",
      "Epoch [118/4000]: 100%|██████████| 10/10 [00:00<00:00, 150.05it/s, loss=0.787]\n",
      "Epoch [119/4000]: 100%|██████████| 10/10 [00:00<00:00, 142.30it/s, loss=0.839]\n",
      "Epoch [120/4000]: 100%|██████████| 10/10 [00:00<00:00, 155.20it/s, loss=0.841]\n",
      "Epoch [121/4000]: 100%|██████████| 10/10 [00:00<00:00, 150.77it/s, loss=1.2]\n",
      "Epoch [122/4000]: 100%|██████████| 10/10 [00:00<00:00, 155.32it/s, loss=0.614]\n",
      "Epoch [123/4000]: 100%|██████████| 10/10 [00:00<00:00, 158.31it/s, loss=1.12]\n"
     ]
    },
    {
     "name": "stdout",
     "output_type": "stream",
     "text": [
      "Saving model with loss 0.876...\n"
     ]
    },
    {
     "name": "stderr",
     "output_type": "stream",
     "text": [
      "Epoch [124/4000]: 100%|██████████| 10/10 [00:00<00:00, 159.16it/s, loss=0.934]\n",
      "Epoch [125/4000]: 100%|██████████| 10/10 [00:00<00:00, 160.65it/s, loss=0.889]\n",
      "Epoch [126/4000]: 100%|██████████| 10/10 [00:00<00:00, 158.46it/s, loss=1.15]\n",
      "Epoch [127/4000]: 100%|██████████| 10/10 [00:00<00:00, 153.99it/s, loss=1.23]\n",
      "Epoch [128/4000]: 100%|██████████| 10/10 [00:00<00:00, 157.19it/s, loss=1.02]\n",
      "Epoch [129/4000]: 100%|██████████| 10/10 [00:00<00:00, 155.11it/s, loss=1.11]\n",
      "Epoch [130/4000]: 100%|██████████| 10/10 [00:00<00:00, 147.45it/s, loss=1.18]\n",
      "Epoch [131/4000]: 100%|██████████| 10/10 [00:00<00:00, 154.26it/s, loss=0.988]\n",
      "Epoch [132/4000]: 100%|██████████| 10/10 [00:00<00:00, 161.72it/s, loss=0.848]\n",
      "Epoch [133/4000]: 100%|██████████| 10/10 [00:00<00:00, 159.15it/s, loss=1.27]\n",
      "Epoch [134/4000]: 100%|██████████| 10/10 [00:00<00:00, 150.02it/s, loss=1.14]\n",
      "Epoch [135/4000]: 100%|██████████| 10/10 [00:00<00:00, 152.57it/s, loss=0.995]\n",
      "Epoch [136/4000]: 100%|██████████| 10/10 [00:00<00:00, 157.78it/s, loss=0.941]\n",
      "Epoch [137/4000]: 100%|██████████| 10/10 [00:00<00:00, 154.78it/s, loss=0.892]\n",
      "Epoch [138/4000]: 100%|██████████| 10/10 [00:00<00:00, 155.09it/s, loss=0.874]\n",
      "Epoch [139/4000]: 100%|██████████| 10/10 [00:00<00:00, 152.95it/s, loss=0.883]\n"
     ]
    },
    {
     "name": "stdout",
     "output_type": "stream",
     "text": [
      "Saving model with loss 0.864...\n"
     ]
    },
    {
     "name": "stderr",
     "output_type": "stream",
     "text": [
      "Epoch [140/4000]: 100%|██████████| 10/10 [00:00<00:00, 151.64it/s, loss=1.02]\n",
      "Epoch [141/4000]: 100%|██████████| 10/10 [00:00<00:00, 150.03it/s, loss=0.835]\n",
      "Epoch [142/4000]: 100%|██████████| 10/10 [00:00<00:00, 152.72it/s, loss=1.18]\n",
      "Epoch [143/4000]: 100%|██████████| 10/10 [00:00<00:00, 148.36it/s, loss=1.08]\n",
      "Epoch [144/4000]: 100%|██████████| 10/10 [00:00<00:00, 149.65it/s, loss=0.806]\n",
      "Epoch [145/4000]: 100%|██████████| 10/10 [00:00<00:00, 150.18it/s, loss=1.44]\n",
      "Epoch [146/4000]: 100%|██████████| 10/10 [00:00<00:00, 144.06it/s, loss=1.21]\n",
      "Epoch [147/4000]: 100%|██████████| 10/10 [00:00<00:00, 157.22it/s, loss=0.877]\n",
      "Epoch [148/4000]: 100%|██████████| 10/10 [00:00<00:00, 151.92it/s, loss=1.26]\n",
      "Epoch [149/4000]: 100%|██████████| 10/10 [00:00<00:00, 151.89it/s, loss=1.17]\n",
      "Epoch [150/4000]: 100%|██████████| 10/10 [00:00<00:00, 159.16it/s, loss=0.792]\n",
      "Epoch [151/4000]: 100%|██████████| 10/10 [00:00<00:00, 155.77it/s, loss=0.828]\n",
      "Epoch [152/4000]: 100%|██████████| 10/10 [00:00<00:00, 141.37it/s, loss=0.804]\n",
      "Epoch [153/4000]: 100%|██████████| 10/10 [00:00<00:00, 93.62it/s, loss=0.856]\n",
      "Epoch [154/4000]: 100%|██████████| 10/10 [00:00<00:00, 111.15it/s, loss=0.875]\n",
      "Epoch [155/4000]: 100%|██████████| 10/10 [00:00<00:00, 82.10it/s, loss=0.745]\n",
      "Epoch [156/4000]: 100%|██████████| 10/10 [00:00<00:00, 98.30it/s, loss=0.813]\n",
      "Epoch [157/4000]: 100%|██████████| 10/10 [00:00<00:00, 102.31it/s, loss=1.28]\n",
      "Epoch [158/4000]: 100%|██████████| 10/10 [00:00<00:00, 154.26it/s, loss=1.15]\n",
      "Epoch [159/4000]: 100%|██████████| 10/10 [00:00<00:00, 149.65it/s, loss=0.676]\n",
      "Epoch [160/4000]: 100%|██████████| 10/10 [00:00<00:00, 135.49it/s, loss=0.817]\n",
      "Epoch [161/4000]: 100%|██████████| 10/10 [00:00<00:00, 135.50it/s, loss=0.863]\n",
      "Epoch [162/4000]: 100%|██████████| 10/10 [00:00<00:00, 153.62it/s, loss=0.881]\n",
      "Epoch [163/4000]: 100%|██████████| 10/10 [00:00<00:00, 157.91it/s, loss=0.957]\n",
      "Epoch [164/4000]: 100%|██████████| 10/10 [00:00<00:00, 75.28it/s, loss=0.792]\n",
      "Epoch [165/4000]: 100%|██████████| 10/10 [00:00<00:00, 89.94it/s, loss=0.859]\n",
      "Epoch [166/4000]: 100%|██████████| 10/10 [00:00<00:00, 104.45it/s, loss=0.88]\n"
     ]
    },
    {
     "name": "stdout",
     "output_type": "stream",
     "text": [
      "Saving model with loss 0.863...\n"
     ]
    },
    {
     "name": "stderr",
     "output_type": "stream",
     "text": [
      "Epoch [167/4000]: 100%|██████████| 10/10 [00:00<00:00, 156.67it/s, loss=1.02]\n",
      "Epoch [168/4000]: 100%|██████████| 10/10 [00:00<00:00, 156.67it/s, loss=0.673]\n",
      "Epoch [169/4000]: 100%|██████████| 10/10 [00:00<00:00, 156.36it/s, loss=1.07]\n",
      "Epoch [170/4000]: 100%|██████████| 10/10 [00:00<00:00, 161.72it/s, loss=1.14]\n",
      "Epoch [171/4000]: 100%|██████████| 10/10 [00:00<00:00, 137.74it/s, loss=0.905]\n",
      "Epoch [172/4000]: 100%|██████████| 10/10 [00:00<00:00, 112.20it/s, loss=1.27]\n",
      "Epoch [173/4000]: 100%|██████████| 10/10 [00:00<00:00, 163.59it/s, loss=0.746]\n",
      "Epoch [174/4000]: 100%|██████████| 10/10 [00:00<00:00, 155.93it/s, loss=0.872]\n",
      "Epoch [175/4000]: 100%|██████████| 10/10 [00:00<00:00, 94.79it/s, loss=0.833]\n",
      "Epoch [176/4000]: 100%|██████████| 10/10 [00:00<00:00, 150.81it/s, loss=0.619]\n",
      "Epoch [177/4000]: 100%|██████████| 10/10 [00:00<00:00, 90.26it/s, loss=0.76]\n",
      "Epoch [178/4000]: 100%|██████████| 10/10 [00:00<00:00, 91.15it/s, loss=0.886]\n",
      "Epoch [179/4000]: 100%|██████████| 10/10 [00:00<00:00, 154.27it/s, loss=0.835]\n",
      "Epoch [180/4000]: 100%|██████████| 10/10 [00:00<00:00, 155.66it/s, loss=0.688]\n",
      "Epoch [181/4000]: 100%|██████████| 10/10 [00:00<00:00, 155.21it/s, loss=0.742]\n",
      "Epoch [182/4000]: 100%|██████████| 10/10 [00:00<00:00, 154.26it/s, loss=0.816]\n",
      "Epoch [183/4000]: 100%|██████████| 10/10 [00:00<00:00, 158.74it/s, loss=1]\n",
      "Epoch [184/4000]: 100%|██████████| 10/10 [00:00<00:00, 158.69it/s, loss=0.767]\n",
      "Epoch [185/4000]: 100%|██████████| 10/10 [00:00<00:00, 94.59it/s, loss=1.03]\n",
      "Epoch [186/4000]: 100%|██████████| 10/10 [00:00<00:00, 92.38it/s, loss=1.02]\n",
      "Epoch [187/4000]: 100%|██████████| 10/10 [00:00<00:00, 94.56it/s, loss=0.592]\n",
      "Epoch [188/4000]: 100%|██████████| 10/10 [00:00<00:00, 112.66it/s, loss=0.98]\n"
     ]
    },
    {
     "name": "stdout",
     "output_type": "stream",
     "text": [
      "Saving model with loss 0.861...\n"
     ]
    },
    {
     "name": "stderr",
     "output_type": "stream",
     "text": [
      "Epoch [189/4000]: 100%|██████████| 10/10 [00:00<00:00, 159.16it/s, loss=0.901]\n",
      "Epoch [190/4000]: 100%|██████████| 10/10 [00:00<00:00, 154.82it/s, loss=0.977]\n",
      "Epoch [191/4000]: 100%|██████████| 10/10 [00:00<00:00, 159.78it/s, loss=0.735]\n",
      "Epoch [192/4000]: 100%|██████████| 10/10 [00:00<00:00, 157.81it/s, loss=0.834]\n",
      "Epoch [193/4000]: 100%|██████████| 10/10 [00:00<00:00, 155.95it/s, loss=0.828]\n",
      "Epoch [194/4000]: 100%|██████████| 10/10 [00:00<00:00, 159.57it/s, loss=0.821]\n",
      "Epoch [195/4000]: 100%|██████████| 10/10 [00:00<00:00, 145.32it/s, loss=0.736]\n",
      "Epoch [196/4000]: 100%|██████████| 10/10 [00:00<00:00, 94.59it/s, loss=0.798]\n",
      "Epoch [197/4000]: 100%|██████████| 10/10 [00:00<00:00, 143.24it/s, loss=1.3]\n",
      "Epoch [198/4000]: 100%|██████████| 10/10 [00:00<00:00, 154.26it/s, loss=0.577]\n",
      "Epoch [199/4000]: 100%|██████████| 10/10 [00:00<00:00, 111.41it/s, loss=0.93]\n",
      "Epoch [200/4000]: 100%|██████████| 10/10 [00:00<00:00, 163.00it/s, loss=1.02]\n",
      "Epoch [201/4000]: 100%|██████████| 10/10 [00:00<00:00, 103.18it/s, loss=1]\n"
     ]
    },
    {
     "name": "stdout",
     "output_type": "stream",
     "text": [
      "Epoch [201/4000]: Train loss: 0.9842, Valid loss: 0.8644\n"
     ]
    },
    {
     "name": "stderr",
     "output_type": "stream",
     "text": [
      "Epoch [202/4000]: 100%|██████████| 10/10 [00:00<00:00, 131.75it/s, loss=0.746]\n",
      "Epoch [203/4000]: 100%|██████████| 10/10 [00:00<00:00, 88.08it/s, loss=0.924]\n",
      "Epoch [204/4000]: 100%|██████████| 10/10 [00:00<00:00, 157.58it/s, loss=0.856]\n",
      "Epoch [205/4000]: 100%|██████████| 10/10 [00:00<00:00, 157.70it/s, loss=0.869]\n",
      "Epoch [206/4000]: 100%|██████████| 10/10 [00:00<00:00, 160.38it/s, loss=0.92]\n"
     ]
    },
    {
     "name": "stdout",
     "output_type": "stream",
     "text": [
      "Saving model with loss 0.842...\n"
     ]
    },
    {
     "name": "stderr",
     "output_type": "stream",
     "text": [
      "Epoch [207/4000]: 100%|██████████| 10/10 [00:00<00:00, 159.15it/s, loss=0.927]\n",
      "Epoch [208/4000]: 100%|██████████| 10/10 [00:00<00:00, 162.19it/s, loss=0.768]\n",
      "Epoch [209/4000]: 100%|██████████| 10/10 [00:00<00:00, 159.99it/s, loss=0.776]\n",
      "Epoch [210/4000]: 100%|██████████| 10/10 [00:00<00:00, 155.62it/s, loss=0.833]\n",
      "Epoch [211/4000]: 100%|██████████| 10/10 [00:00<00:00, 156.67it/s, loss=1.17]\n",
      "Epoch [212/4000]: 100%|██████████| 10/10 [00:00<00:00, 153.62it/s, loss=0.637]\n",
      "Epoch [213/4000]: 100%|██████████| 10/10 [00:00<00:00, 153.60it/s, loss=0.844]\n",
      "Epoch [214/4000]: 100%|██████████| 10/10 [00:00<00:00, 154.72it/s, loss=0.954]\n",
      "Epoch [215/4000]: 100%|██████████| 10/10 [00:00<00:00, 159.16it/s, loss=0.866]\n",
      "Epoch [216/4000]: 100%|██████████| 10/10 [00:00<00:00, 151.78it/s, loss=0.805]\n",
      "Epoch [217/4000]: 100%|██████████| 10/10 [00:00<00:00, 156.67it/s, loss=1]\n",
      "Epoch [218/4000]: 100%|██████████| 10/10 [00:00<00:00, 159.15it/s, loss=0.712]\n",
      "Epoch [219/4000]: 100%|██████████| 10/10 [00:00<00:00, 157.59it/s, loss=0.949]\n",
      "Epoch [220/4000]: 100%|██████████| 10/10 [00:00<00:00, 152.31it/s, loss=0.993]\n",
      "Epoch [221/4000]: 100%|██████████| 10/10 [00:00<00:00, 139.26it/s, loss=0.983]\n",
      "Epoch [222/4000]: 100%|██████████| 10/10 [00:00<00:00, 145.31it/s, loss=0.609]\n",
      "Epoch [223/4000]: 100%|██████████| 10/10 [00:00<00:00, 139.26it/s, loss=1.09]\n",
      "Epoch [224/4000]: 100%|██████████| 10/10 [00:00<00:00, 135.50it/s, loss=1.16]\n",
      "Epoch [225/4000]: 100%|██████████| 10/10 [00:00<00:00, 77.29it/s, loss=0.993]\n",
      "Epoch [226/4000]: 100%|██████████| 10/10 [00:00<00:00, 155.82it/s, loss=0.793]\n",
      "Epoch [227/4000]: 100%|██████████| 10/10 [00:00<00:00, 156.44it/s, loss=1.3]\n",
      "Epoch [228/4000]: 100%|██████████| 10/10 [00:00<00:00, 152.75it/s, loss=0.652]\n",
      "Epoch [229/4000]: 100%|██████████| 10/10 [00:00<00:00, 156.84it/s, loss=1.07]\n",
      "Epoch [230/4000]: 100%|██████████| 10/10 [00:00<00:00, 155.35it/s, loss=0.902]\n",
      "Epoch [231/4000]: 100%|██████████| 10/10 [00:00<00:00, 147.46it/s, loss=0.853]\n",
      "Epoch [232/4000]: 100%|██████████| 10/10 [00:00<00:00, 130.22it/s, loss=1.06]\n",
      "Epoch [233/4000]: 100%|██████████| 10/10 [00:00<00:00, 133.69it/s, loss=0.992]\n",
      "Epoch [234/4000]: 100%|██████████| 10/10 [00:00<00:00, 137.35it/s, loss=0.889]\n",
      "Epoch [235/4000]: 100%|██████████| 10/10 [00:00<00:00, 137.35it/s, loss=1.26]\n",
      "Epoch [236/4000]: 100%|██████████| 10/10 [00:00<00:00, 135.50it/s, loss=0.746]\n",
      "Epoch [237/4000]: 100%|██████████| 10/10 [00:00<00:00, 137.36it/s, loss=1.59]\n",
      "Epoch [238/4000]: 100%|██████████| 10/10 [00:00<00:00, 135.50it/s, loss=0.807]\n",
      "Epoch [239/4000]: 100%|██████████| 10/10 [00:00<00:00, 139.26it/s, loss=0.944]\n",
      "Epoch [240/4000]: 100%|██████████| 10/10 [00:00<00:00, 135.50it/s, loss=0.994]\n",
      "Epoch [241/4000]: 100%|██████████| 10/10 [00:00<00:00, 145.32it/s, loss=1.02]\n",
      "Epoch [242/4000]: 100%|██████████| 10/10 [00:00<00:00, 143.24it/s, loss=0.921]\n",
      "Epoch [243/4000]: 100%|██████████| 10/10 [00:00<00:00, 143.24it/s, loss=0.915]\n",
      "Epoch [244/4000]: 100%|██████████| 10/10 [00:00<00:00, 131.93it/s, loss=1.01]\n",
      "Epoch [245/4000]: 100%|██████████| 10/10 [00:00<00:00, 143.24it/s, loss=0.907]\n",
      "Epoch [246/4000]: 100%|██████████| 10/10 [00:00<00:00, 137.35it/s, loss=0.888]\n",
      "Epoch [247/4000]: 100%|██████████| 10/10 [00:00<00:00, 141.23it/s, loss=1.32]\n",
      "Epoch [248/4000]: 100%|██████████| 10/10 [00:00<00:00, 137.35it/s, loss=1.04]\n",
      "Epoch [249/4000]: 100%|██████████| 10/10 [00:00<00:00, 143.24it/s, loss=0.981]\n",
      "Epoch [250/4000]: 100%|██████████| 10/10 [00:00<00:00, 141.22it/s, loss=1.19]\n",
      "Epoch [251/4000]: 100%|██████████| 10/10 [00:00<00:00, 141.22it/s, loss=0.824]\n",
      "Epoch [252/4000]: 100%|██████████| 10/10 [00:00<00:00, 139.26it/s, loss=1.19]\n",
      "Epoch [253/4000]: 100%|██████████| 10/10 [00:00<00:00, 141.22it/s, loss=0.922]\n",
      "Epoch [254/4000]: 100%|██████████| 10/10 [00:00<00:00, 139.26it/s, loss=1.68]\n",
      "Epoch [255/4000]: 100%|██████████| 10/10 [00:00<00:00, 135.50it/s, loss=0.684]\n",
      "Epoch [256/4000]: 100%|██████████| 10/10 [00:00<00:00, 137.35it/s, loss=1.06]\n",
      "Epoch [257/4000]: 100%|██████████| 10/10 [00:00<00:00, 128.55it/s, loss=0.95]\n",
      "Epoch [258/4000]: 100%|██████████| 10/10 [00:00<00:00, 141.22it/s, loss=1.64]\n",
      "Epoch [259/4000]: 100%|██████████| 10/10 [00:00<00:00, 145.32it/s, loss=2.2]\n",
      "Epoch [260/4000]: 100%|██████████| 10/10 [00:00<00:00, 154.26it/s, loss=1.55]\n",
      "Epoch [261/4000]: 100%|██████████| 10/10 [00:00<00:00, 119.38it/s, loss=1.03]\n",
      "Epoch [262/4000]: 100%|██████████| 10/10 [00:00<00:00, 122.28it/s, loss=1.39]\n",
      "Epoch [263/4000]: 100%|██████████| 10/10 [00:00<00:00, 159.16it/s, loss=0.702]\n",
      "Epoch [264/4000]: 100%|██████████| 10/10 [00:00<00:00, 119.37it/s, loss=1]\n",
      "Epoch [265/4000]: 100%|██████████| 10/10 [00:00<00:00, 132.62it/s, loss=0.655]\n",
      "Epoch [266/4000]: 100%|██████████| 10/10 [00:00<00:00, 154.87it/s, loss=1.05]\n",
      "Epoch [267/4000]: 100%|██████████| 10/10 [00:00<00:00, 154.46it/s, loss=0.834]\n",
      "Epoch [268/4000]: 100%|██████████| 10/10 [00:00<00:00, 123.78it/s, loss=0.821]\n",
      "Epoch [269/4000]: 100%|██████████| 10/10 [00:00<00:00, 117.96it/s, loss=0.788]\n",
      "Epoch [270/4000]: 100%|██████████| 10/10 [00:00<00:00, 154.54it/s, loss=1.2]\n"
     ]
    },
    {
     "name": "stdout",
     "output_type": "stream",
     "text": [
      "Saving model with loss 0.838...\n"
     ]
    },
    {
     "name": "stderr",
     "output_type": "stream",
     "text": [
      "Epoch [271/4000]: 100%|██████████| 10/10 [00:00<00:00, 157.34it/s, loss=0.857]\n",
      "Epoch [272/4000]: 100%|██████████| 10/10 [00:00<00:00, 151.96it/s, loss=1.3]\n",
      "Epoch [273/4000]: 100%|██████████| 10/10 [00:00<00:00, 119.36it/s, loss=1.08]\n",
      "Epoch [274/4000]: 100%|██████████| 10/10 [00:00<00:00, 137.30it/s, loss=0.815]\n",
      "Epoch [275/4000]: 100%|██████████| 10/10 [00:00<00:00, 161.72it/s, loss=0.94]\n",
      "Epoch [276/4000]: 100%|██████████| 10/10 [00:00<00:00, 161.78it/s, loss=1.13]\n",
      "Epoch [277/4000]: 100%|██████████| 10/10 [00:00<00:00, 153.84it/s, loss=0.706]\n",
      "Epoch [278/4000]: 100%|██████████| 10/10 [00:00<00:00, 151.15it/s, loss=0.763]\n",
      "Epoch [279/4000]: 100%|██████████| 10/10 [00:00<00:00, 131.86it/s, loss=1.04]\n",
      "Epoch [280/4000]: 100%|██████████| 10/10 [00:00<00:00, 113.94it/s, loss=0.828]\n",
      "Epoch [281/4000]: 100%|██████████| 10/10 [00:00<00:00, 161.72it/s, loss=0.849]\n",
      "Epoch [282/4000]: 100%|██████████| 10/10 [00:00<00:00, 159.16it/s, loss=0.972]\n",
      "Epoch [283/4000]: 100%|██████████| 10/10 [00:00<00:00, 164.37it/s, loss=0.752]\n",
      "Epoch [284/4000]: 100%|██████████| 10/10 [00:00<00:00, 156.59it/s, loss=0.927]\n",
      "Epoch [285/4000]: 100%|██████████| 10/10 [00:00<00:00, 128.55it/s, loss=0.96]\n",
      "Epoch [286/4000]: 100%|██████████| 10/10 [00:00<00:00, 65.97it/s, loss=1.37]\n",
      "Epoch [287/4000]: 100%|██████████| 10/10 [00:00<00:00, 131.93it/s, loss=1.1]\n",
      "Epoch [288/4000]: 100%|██████████| 10/10 [00:00<00:00, 139.26it/s, loss=0.703]\n",
      "Epoch [289/4000]: 100%|██████████| 10/10 [00:00<00:00, 141.22it/s, loss=1.42]\n",
      "Epoch [290/4000]: 100%|██████████| 10/10 [00:00<00:00, 137.35it/s, loss=1.21]\n",
      "Epoch [291/4000]: 100%|██████████| 10/10 [00:00<00:00, 154.26it/s, loss=1.3]\n",
      "Epoch [292/4000]: 100%|██████████| 10/10 [00:00<00:00, 151.59it/s, loss=0.876]\n",
      "Epoch [293/4000]: 100%|██████████| 10/10 [00:00<00:00, 142.25it/s, loss=1.44]\n",
      "Epoch [294/4000]: 100%|██████████| 10/10 [00:00<00:00, 111.41it/s, loss=1.19]\n",
      "Epoch [295/4000]: 100%|██████████| 10/10 [00:00<00:00, 137.35it/s, loss=1.16]\n",
      "Epoch [296/4000]: 100%|██████████| 10/10 [00:00<00:00, 143.24it/s, loss=0.921]\n",
      "Epoch [297/4000]: 100%|██████████| 10/10 [00:00<00:00, 143.16it/s, loss=0.833]\n",
      "Epoch [298/4000]: 100%|██████████| 10/10 [00:00<00:00, 161.63it/s, loss=1.04]\n",
      "Epoch [299/4000]: 100%|██████████| 10/10 [00:00<00:00, 159.24it/s, loss=1.11]\n",
      "Epoch [300/4000]: 100%|██████████| 10/10 [00:00<00:00, 156.65it/s, loss=0.834]\n",
      "Epoch [301/4000]: 100%|██████████| 10/10 [00:00<00:00, 159.21it/s, loss=1.16]\n"
     ]
    },
    {
     "name": "stdout",
     "output_type": "stream",
     "text": [
      "Epoch [301/4000]: Train loss: 0.9259, Valid loss: 0.8731\n"
     ]
    },
    {
     "name": "stderr",
     "output_type": "stream",
     "text": [
      "Epoch [302/4000]: 100%|██████████| 10/10 [00:00<00:00, 143.24it/s, loss=1.17]\n",
      "Epoch [303/4000]: 100%|██████████| 10/10 [00:00<00:00, 131.93it/s, loss=0.702]\n",
      "Epoch [304/4000]: 100%|██████████| 10/10 [00:00<00:00, 126.92it/s, loss=1.52]\n",
      "Epoch [305/4000]: 100%|██████████| 10/10 [00:00<00:00, 164.37it/s, loss=1.21]\n",
      "Epoch [306/4000]: 100%|██████████| 10/10 [00:00<00:00, 159.16it/s, loss=0.907]\n",
      "Epoch [307/4000]: 100%|██████████| 10/10 [00:00<00:00, 156.67it/s, loss=0.81]\n",
      "Epoch [308/4000]: 100%|██████████| 10/10 [00:00<00:00, 161.85it/s, loss=0.806]\n",
      "Epoch [309/4000]: 100%|██████████| 10/10 [00:00<00:00, 156.76it/s, loss=0.799]\n",
      "Epoch [310/4000]: 100%|██████████| 10/10 [00:00<00:00, 141.22it/s, loss=0.836]\n",
      "Epoch [311/4000]: 100%|██████████| 10/10 [00:00<00:00, 93.39it/s, loss=0.543]\n",
      "Epoch [312/4000]: 100%|██████████| 10/10 [00:00<00:00, 86.44it/s, loss=1.06]\n",
      "Epoch [313/4000]: 100%|██████████| 10/10 [00:00<00:00, 90.33it/s, loss=0.862]\n",
      "Epoch [314/4000]: 100%|██████████| 10/10 [00:00<00:00, 155.48it/s, loss=1.05]\n",
      "Epoch [315/4000]: 100%|██████████| 10/10 [00:00<00:00, 145.40it/s, loss=1.04]\n",
      "Epoch [316/4000]: 100%|██████████| 10/10 [00:00<00:00, 156.57it/s, loss=1.07]\n",
      "Epoch [317/4000]: 100%|██████████| 10/10 [00:00<00:00, 149.65it/s, loss=1.01]\n",
      "Epoch [318/4000]: 100%|██████████| 10/10 [00:00<00:00, 145.31it/s, loss=1.04]\n",
      "Epoch [319/4000]: 100%|██████████| 10/10 [00:00<00:00, 154.08it/s, loss=0.6]\n",
      "Epoch [320/4000]: 100%|██████████| 10/10 [00:00<00:00, 141.22it/s, loss=0.995]\n",
      "Epoch [321/4000]: 100%|██████████| 10/10 [00:00<00:00, 153.21it/s, loss=0.904]\n",
      "Epoch [322/4000]: 100%|██████████| 10/10 [00:00<00:00, 155.78it/s, loss=0.693]\n",
      "Epoch [323/4000]: 100%|██████████| 10/10 [00:00<00:00, 152.73it/s, loss=0.884]\n",
      "Epoch [324/4000]: 100%|██████████| 10/10 [00:00<00:00, 160.98it/s, loss=0.846]\n",
      "Epoch [325/4000]: 100%|██████████| 10/10 [00:00<00:00, 154.56it/s, loss=0.78]\n",
      "Epoch [326/4000]: 100%|██████████| 10/10 [00:00<00:00, 149.58it/s, loss=0.994]\n",
      "Epoch [327/4000]: 100%|██████████| 10/10 [00:00<00:00, 147.84it/s, loss=0.739]\n",
      "Epoch [328/4000]: 100%|██████████| 10/10 [00:00<00:00, 149.65it/s, loss=0.785]\n",
      "Epoch [329/4000]: 100%|██████████| 10/10 [00:00<00:00, 156.67it/s, loss=1.61]\n",
      "Epoch [330/4000]: 100%|██████████| 10/10 [00:00<00:00, 161.72it/s, loss=1.03]\n",
      "Epoch [331/4000]: 100%|██████████| 10/10 [00:00<00:00, 151.92it/s, loss=1.05]\n",
      "Epoch [332/4000]: 100%|██████████| 10/10 [00:00<00:00, 152.86it/s, loss=0.931]\n",
      "Epoch [333/4000]: 100%|██████████| 10/10 [00:00<00:00, 147.37it/s, loss=1.18]\n",
      "Epoch [334/4000]: 100%|██████████| 10/10 [00:00<00:00, 143.22it/s, loss=1.02]\n",
      "Epoch [335/4000]: 100%|██████████| 10/10 [00:00<00:00, 148.20it/s, loss=0.994]\n",
      "Epoch [336/4000]: 100%|██████████| 10/10 [00:00<00:00, 151.93it/s, loss=0.84]\n",
      "Epoch [337/4000]: 100%|██████████| 10/10 [00:00<00:00, 158.15it/s, loss=0.926]\n",
      "Epoch [338/4000]: 100%|██████████| 10/10 [00:00<00:00, 150.73it/s, loss=1.01]\n",
      "Epoch [339/4000]: 100%|██████████| 10/10 [00:00<00:00, 153.66it/s, loss=0.724]\n",
      "Epoch [340/4000]: 100%|██████████| 10/10 [00:00<00:00, 152.26it/s, loss=1.27]\n",
      "Epoch [341/4000]: 100%|██████████| 10/10 [00:00<00:00, 160.74it/s, loss=1.32]\n",
      "Epoch [342/4000]: 100%|██████████| 10/10 [00:00<00:00, 154.26it/s, loss=0.831]\n",
      "Epoch [343/4000]: 100%|██████████| 10/10 [00:00<00:00, 156.67it/s, loss=0.852]\n",
      "Epoch [344/4000]: 100%|██████████| 10/10 [00:00<00:00, 147.45it/s, loss=1.02]\n",
      "Epoch [345/4000]: 100%|██████████| 10/10 [00:00<00:00, 144.61it/s, loss=0.91]\n",
      "Epoch [346/4000]: 100%|██████████| 10/10 [00:00<00:00, 147.46it/s, loss=0.899]\n",
      "Epoch [347/4000]: 100%|██████████| 10/10 [00:00<00:00, 154.26it/s, loss=0.687]\n",
      "Epoch [348/4000]: 100%|██████████| 10/10 [00:00<00:00, 153.92it/s, loss=1.2]\n",
      "Epoch [349/4000]: 100%|██████████| 10/10 [00:00<00:00, 135.07it/s, loss=1.23]\n",
      "Epoch [350/4000]: 100%|██████████| 10/10 [00:00<00:00, 153.91it/s, loss=0.763]\n",
      "Epoch [351/4000]: 100%|██████████| 10/10 [00:00<00:00, 152.15it/s, loss=1.05]\n",
      "Epoch [352/4000]: 100%|██████████| 10/10 [00:00<00:00, 151.26it/s, loss=0.968]\n",
      "Epoch [353/4000]: 100%|██████████| 10/10 [00:00<00:00, 140.42it/s, loss=1.03]\n",
      "Epoch [354/4000]: 100%|██████████| 10/10 [00:00<00:00, 135.50it/s, loss=0.914]\n",
      "Epoch [355/4000]: 100%|██████████| 10/10 [00:00<00:00, 135.50it/s, loss=1.3]\n",
      "Epoch [356/4000]: 100%|██████████| 10/10 [00:00<00:00, 141.22it/s, loss=0.649]\n",
      "Epoch [357/4000]: 100%|██████████| 10/10 [00:00<00:00, 145.31it/s, loss=0.89]\n",
      "Epoch [358/4000]: 100%|██████████| 10/10 [00:00<00:00, 142.76it/s, loss=1.13]\n",
      "Epoch [359/4000]: 100%|██████████| 10/10 [00:00<00:00, 147.45it/s, loss=0.774]\n",
      "Epoch [360/4000]: 100%|██████████| 10/10 [00:00<00:00, 137.35it/s, loss=0.869]\n",
      "Epoch [361/4000]: 100%|██████████| 10/10 [00:00<00:00, 145.56it/s, loss=0.933]\n",
      "Epoch [362/4000]: 100%|██████████| 10/10 [00:00<00:00, 147.39it/s, loss=0.908]\n",
      "Epoch [363/4000]: 100%|██████████| 10/10 [00:00<00:00, 120.80it/s, loss=0.847]\n",
      "Epoch [364/4000]: 100%|██████████| 10/10 [00:00<00:00, 126.71it/s, loss=0.877]\n",
      "Epoch [365/4000]: 100%|██████████| 10/10 [00:00<00:00, 159.15it/s, loss=0.788]\n",
      "Epoch [366/4000]: 100%|██████████| 10/10 [00:00<00:00, 147.45it/s, loss=0.959]\n",
      "Epoch [367/4000]: 100%|██████████| 10/10 [00:00<00:00, 150.22it/s, loss=0.716]\n",
      "Epoch [368/4000]: 100%|██████████| 10/10 [00:00<00:00, 149.65it/s, loss=0.733]\n",
      "Epoch [369/4000]: 100%|██████████| 10/10 [00:00<00:00, 154.35it/s, loss=1.29]\n",
      "Epoch [370/4000]: 100%|██████████| 10/10 [00:00<00:00, 144.93it/s, loss=0.71]\n",
      "Epoch [371/4000]: 100%|██████████| 10/10 [00:00<00:00, 145.31it/s, loss=1.01]\n",
      "Epoch [372/4000]: 100%|██████████| 10/10 [00:00<00:00, 149.65it/s, loss=0.97]\n",
      "Epoch [373/4000]: 100%|██████████| 10/10 [00:00<00:00, 146.26it/s, loss=0.963]\n",
      "Epoch [374/4000]: 100%|██████████| 10/10 [00:00<00:00, 120.42it/s, loss=1.09]\n",
      "Epoch [375/4000]: 100%|██████████| 10/10 [00:00<00:00, 144.32it/s, loss=0.888]\n",
      "Epoch [376/4000]: 100%|██████████| 10/10 [00:00<00:00, 147.56it/s, loss=1.27]\n",
      "Epoch [377/4000]: 100%|██████████| 10/10 [00:00<00:00, 150.30it/s, loss=0.899]\n",
      "Epoch [378/4000]: 100%|██████████| 10/10 [00:00<00:00, 153.01it/s, loss=0.841]\n",
      "Epoch [379/4000]: 100%|██████████| 10/10 [00:00<00:00, 156.67it/s, loss=0.705]\n",
      "Epoch [380/4000]: 100%|██████████| 10/10 [00:00<00:00, 155.31it/s, loss=1.01]\n",
      "Epoch [381/4000]: 100%|██████████| 10/10 [00:00<00:00, 142.76it/s, loss=0.647]\n"
     ]
    },
    {
     "name": "stdout",
     "output_type": "stream",
     "text": [
      "Saving model with loss 0.836...\n"
     ]
    },
    {
     "name": "stderr",
     "output_type": "stream",
     "text": [
      "Epoch [382/4000]: 100%|██████████| 10/10 [00:00<00:00, 156.67it/s, loss=0.891]\n",
      "Epoch [383/4000]: 100%|██████████| 10/10 [00:00<00:00, 154.69it/s, loss=0.69]\n",
      "Epoch [384/4000]: 100%|██████████| 10/10 [00:00<00:00, 149.65it/s, loss=1.11]\n",
      "Epoch [385/4000]: 100%|██████████| 10/10 [00:00<00:00, 156.93it/s, loss=1.14]\n",
      "Epoch [386/4000]: 100%|██████████| 10/10 [00:00<00:00, 159.39it/s, loss=1.03]\n",
      "Epoch [387/4000]: 100%|██████████| 10/10 [00:00<00:00, 156.41it/s, loss=1.04]\n",
      "Epoch [388/4000]: 100%|██████████| 10/10 [00:00<00:00, 135.49it/s, loss=0.927]\n",
      "Epoch [389/4000]: 100%|██████████| 10/10 [00:00<00:00, 156.67it/s, loss=0.779]\n",
      "Epoch [390/4000]: 100%|██████████| 10/10 [00:00<00:00, 153.82it/s, loss=0.937]\n",
      "Epoch [391/4000]: 100%|██████████| 10/10 [00:00<00:00, 156.67it/s, loss=0.996]\n",
      "Epoch [392/4000]: 100%|██████████| 10/10 [00:00<00:00, 155.61it/s, loss=0.76]\n",
      "Epoch [393/4000]: 100%|██████████| 10/10 [00:00<00:00, 149.65it/s, loss=0.634]\n",
      "Epoch [394/4000]: 100%|██████████| 10/10 [00:00<00:00, 155.12it/s, loss=0.985]\n",
      "Epoch [395/4000]: 100%|██████████| 10/10 [00:00<00:00, 143.24it/s, loss=1.24]\n",
      "Epoch [396/4000]: 100%|██████████| 10/10 [00:00<00:00, 141.36it/s, loss=0.726]\n",
      "Epoch [397/4000]: 100%|██████████| 10/10 [00:00<00:00, 154.26it/s, loss=0.712]\n",
      "Epoch [398/4000]: 100%|██████████| 10/10 [00:00<00:00, 137.36it/s, loss=1.06]\n",
      "Epoch [399/4000]: 100%|██████████| 10/10 [00:00<00:00, 164.38it/s, loss=0.755]\n",
      "Epoch [400/4000]: 100%|██████████| 10/10 [00:00<00:00, 154.79it/s, loss=0.795]\n",
      "Epoch [401/4000]: 100%|██████████| 10/10 [00:00<00:00, 141.22it/s, loss=0.989]\n"
     ]
    },
    {
     "name": "stdout",
     "output_type": "stream",
     "text": [
      "Epoch [401/4000]: Train loss: 0.8974, Valid loss: 0.8531\n"
     ]
    },
    {
     "name": "stderr",
     "output_type": "stream",
     "text": [
      "Epoch [402/4000]: 100%|██████████| 10/10 [00:00<00:00, 109.59it/s, loss=0.888]\n",
      "Epoch [403/4000]: 100%|██████████| 10/10 [00:00<00:00, 154.36it/s, loss=1.08]\n",
      "Epoch [404/4000]: 100%|██████████| 10/10 [00:00<00:00, 106.62it/s, loss=1]\n",
      "Epoch [405/4000]: 100%|██████████| 10/10 [00:00<00:00, 101.27it/s, loss=0.982]\n",
      "Epoch [406/4000]: 100%|██████████| 10/10 [00:00<00:00, 97.77it/s, loss=1.02]\n",
      "Epoch [407/4000]: 100%|██████████| 10/10 [00:00<00:00, 98.30it/s, loss=0.885]\n",
      "Epoch [408/4000]: 100%|██████████| 10/10 [00:00<00:00, 119.37it/s, loss=1]\n",
      "Epoch [409/4000]: 100%|██████████| 10/10 [00:00<00:00, 84.97it/s, loss=0.812]\n",
      "Epoch [410/4000]: 100%|██████████| 10/10 [00:00<00:00, 154.26it/s, loss=0.844]\n",
      "Epoch [411/4000]: 100%|██████████| 10/10 [00:00<00:00, 160.79it/s, loss=0.868]\n",
      "Epoch [412/4000]: 100%|██████████| 10/10 [00:00<00:00, 154.31it/s, loss=0.767]\n",
      "Epoch [413/4000]: 100%|██████████| 10/10 [00:00<00:00, 151.92it/s, loss=0.777]\n",
      "Epoch [414/4000]: 100%|██████████| 10/10 [00:00<00:00, 155.38it/s, loss=1.28]\n",
      "Epoch [415/4000]: 100%|██████████| 10/10 [00:00<00:00, 156.19it/s, loss=0.842]\n",
      "Epoch [416/4000]: 100%|██████████| 10/10 [00:00<00:00, 153.88it/s, loss=0.906]\n",
      "Epoch [417/4000]: 100%|██████████| 10/10 [00:00<00:00, 149.84it/s, loss=0.563]\n",
      "Epoch [418/4000]: 100%|██████████| 10/10 [00:00<00:00, 151.68it/s, loss=0.882]\n",
      "Epoch [419/4000]: 100%|██████████| 10/10 [00:00<00:00, 154.45it/s, loss=1.59]\n",
      "Epoch [420/4000]: 100%|██████████| 10/10 [00:00<00:00, 135.50it/s, loss=1.24]\n",
      "Epoch [421/4000]: 100%|██████████| 10/10 [00:00<00:00, 131.93it/s, loss=1.3]\n",
      "Epoch [422/4000]: 100%|██████████| 10/10 [00:00<00:00, 133.69it/s, loss=1.11]\n",
      "Epoch [423/4000]: 100%|██████████| 10/10 [00:00<00:00, 125.34it/s, loss=0.841]\n",
      "Epoch [424/4000]: 100%|██████████| 10/10 [00:00<00:00, 149.75it/s, loss=1.1]\n",
      "Epoch [425/4000]: 100%|██████████| 10/10 [00:00<00:00, 155.30it/s, loss=0.783]\n",
      "Epoch [426/4000]: 100%|██████████| 10/10 [00:00<00:00, 149.65it/s, loss=1.19]\n",
      "Epoch [427/4000]: 100%|██████████| 10/10 [00:00<00:00, 137.35it/s, loss=1.18]\n",
      "Epoch [428/4000]: 100%|██████████| 10/10 [00:00<00:00, 139.70it/s, loss=1.33]\n",
      "Epoch [429/4000]: 100%|██████████| 10/10 [00:00<00:00, 133.69it/s, loss=0.695]\n",
      "Epoch [430/4000]: 100%|██████████| 10/10 [00:00<00:00, 131.93it/s, loss=0.921]\n",
      "Epoch [431/4000]: 100%|██████████| 10/10 [00:00<00:00, 139.26it/s, loss=1.04]\n",
      "Epoch [432/4000]: 100%|██████████| 10/10 [00:00<00:00, 133.70it/s, loss=0.83]\n",
      "Epoch [433/4000]: 100%|██████████| 10/10 [00:00<00:00, 123.79it/s, loss=1.38]\n",
      "Epoch [434/4000]: 100%|██████████| 10/10 [00:00<00:00, 143.24it/s, loss=0.989]\n",
      "Epoch [435/4000]: 100%|██████████| 10/10 [00:00<00:00, 137.35it/s, loss=1.23]\n",
      "Epoch [436/4000]: 100%|██████████| 10/10 [00:00<00:00, 141.22it/s, loss=0.617]\n",
      "Epoch [437/4000]: 100%|██████████| 10/10 [00:00<00:00, 141.22it/s, loss=1.06]\n",
      "Epoch [438/4000]: 100%|██████████| 10/10 [00:00<00:00, 125.33it/s, loss=1.09]\n",
      "Epoch [439/4000]: 100%|██████████| 10/10 [00:00<00:00, 133.69it/s, loss=0.803]\n",
      "Epoch [440/4000]: 100%|██████████| 10/10 [00:00<00:00, 131.93it/s, loss=0.742]\n",
      "Epoch [441/4000]: 100%|██████████| 10/10 [00:00<00:00, 120.80it/s, loss=1.46]\n",
      "Epoch [442/4000]: 100%|██████████| 10/10 [00:00<00:00, 119.37it/s, loss=1.38]\n",
      "Epoch [443/4000]: 100%|██████████| 10/10 [00:00<00:00, 113.94it/s, loss=0.83]\n"
     ]
    },
    {
     "name": "stdout",
     "output_type": "stream",
     "text": [
      "Saving model with loss 0.834...\n"
     ]
    },
    {
     "name": "stderr",
     "output_type": "stream",
     "text": [
      "Epoch [444/4000]: 100%|██████████| 10/10 [00:00<00:00, 135.49it/s, loss=0.792]\n",
      "Epoch [445/4000]: 100%|██████████| 10/10 [00:00<00:00, 131.93it/s, loss=1.05]\n"
     ]
    },
    {
     "name": "stdout",
     "output_type": "stream",
     "text": [
      "Saving model with loss 0.832...\n"
     ]
    },
    {
     "name": "stderr",
     "output_type": "stream",
     "text": [
      "Epoch [446/4000]: 100%|██████████| 10/10 [00:00<00:00, 103.37it/s, loss=1.05]\n",
      "Epoch [447/4000]: 100%|██████████| 10/10 [00:00<00:00, 113.94it/s, loss=1.05]\n",
      "Epoch [448/4000]: 100%|██████████| 10/10 [00:00<00:00, 130.22it/s, loss=1.04]\n",
      "Epoch [449/4000]: 100%|██████████| 10/10 [00:00<00:00, 135.50it/s, loss=0.937]\n",
      "Epoch [450/4000]: 100%|██████████| 10/10 [00:00<00:00, 139.26it/s, loss=0.792]\n",
      "Epoch [451/4000]: 100%|██████████| 10/10 [00:00<00:00, 154.26it/s, loss=1.2]\n",
      "Epoch [452/4000]: 100%|██████████| 10/10 [00:00<00:00, 137.35it/s, loss=0.778]\n",
      "Epoch [453/4000]: 100%|██████████| 10/10 [00:00<00:00, 135.50it/s, loss=0.858]\n",
      "Epoch [454/4000]: 100%|██████████| 10/10 [00:00<00:00, 140.14it/s, loss=0.99]\n",
      "Epoch [455/4000]: 100%|██████████| 10/10 [00:00<00:00, 142.77it/s, loss=0.75]\n",
      "Epoch [456/4000]: 100%|██████████| 10/10 [00:00<00:00, 149.84it/s, loss=1.13]\n",
      "Epoch [457/4000]: 100%|██████████| 10/10 [00:00<00:00, 143.25it/s, loss=1.05]\n",
      "Epoch [458/4000]: 100%|██████████| 10/10 [00:00<00:00, 154.74it/s, loss=0.901]\n",
      "Epoch [459/4000]: 100%|██████████| 10/10 [00:00<00:00, 156.57it/s, loss=0.778]\n",
      "Epoch [460/4000]: 100%|██████████| 10/10 [00:00<00:00, 154.35it/s, loss=0.867]\n",
      "Epoch [461/4000]: 100%|██████████| 10/10 [00:00<00:00, 151.92it/s, loss=0.808]\n",
      "Epoch [462/4000]: 100%|██████████| 10/10 [00:00<00:00, 133.98it/s, loss=1.2]\n",
      "Epoch [463/4000]: 100%|██████████| 10/10 [00:00<00:00, 149.04it/s, loss=1.07]\n",
      "Epoch [464/4000]: 100%|██████████| 10/10 [00:00<00:00, 150.39it/s, loss=0.9]\n",
      "Epoch [465/4000]: 100%|██████████| 10/10 [00:00<00:00, 150.57it/s, loss=0.948]\n",
      "Epoch [466/4000]: 100%|██████████| 10/10 [00:00<00:00, 149.66it/s, loss=0.953]\n",
      "Epoch [467/4000]: 100%|██████████| 10/10 [00:00<00:00, 152.81it/s, loss=0.899]\n",
      "Epoch [468/4000]: 100%|██████████| 10/10 [00:00<00:00, 153.93it/s, loss=0.867]\n",
      "Epoch [469/4000]: 100%|██████████| 10/10 [00:00<00:00, 143.24it/s, loss=0.88]\n",
      "Epoch [470/4000]: 100%|██████████| 10/10 [00:00<00:00, 79.57it/s, loss=0.758]\n",
      "Epoch [471/4000]: 100%|██████████| 10/10 [00:00<00:00, 154.32it/s, loss=0.928]\n",
      "Epoch [472/4000]: 100%|██████████| 10/10 [00:00<00:00, 159.17it/s, loss=1.74]\n",
      "Epoch [473/4000]: 100%|██████████| 10/10 [00:00<00:00, 156.66it/s, loss=1.31]\n",
      "Epoch [474/4000]: 100%|██████████| 10/10 [00:00<00:00, 158.26it/s, loss=1.02]\n",
      "Epoch [475/4000]: 100%|██████████| 10/10 [00:00<00:00, 156.45it/s, loss=1.38]\n",
      "Epoch [476/4000]: 100%|██████████| 10/10 [00:00<00:00, 150.25it/s, loss=1.01]\n",
      "Epoch [477/4000]: 100%|██████████| 10/10 [00:00<00:00, 151.52it/s, loss=0.77]\n",
      "Epoch [478/4000]: 100%|██████████| 10/10 [00:00<00:00, 156.49it/s, loss=0.688]\n",
      "Epoch [479/4000]: 100%|██████████| 10/10 [00:00<00:00, 159.10it/s, loss=1.23]\n",
      "Epoch [480/4000]: 100%|██████████| 10/10 [00:00<00:00, 152.35it/s, loss=0.832]\n",
      "Epoch [481/4000]: 100%|██████████| 10/10 [00:00<00:00, 135.03it/s, loss=1.38]\n",
      "Epoch [482/4000]: 100%|██████████| 10/10 [00:00<00:00, 161.55it/s, loss=0.862]\n",
      "Epoch [483/4000]: 100%|██████████| 10/10 [00:00<00:00, 159.16it/s, loss=0.766]\n",
      "Epoch [484/4000]: 100%|██████████| 10/10 [00:00<00:00, 159.28it/s, loss=0.911]\n",
      "Epoch [485/4000]: 100%|██████████| 10/10 [00:00<00:00, 137.35it/s, loss=0.999]\n",
      "Epoch [486/4000]: 100%|██████████| 10/10 [00:00<00:00, 135.50it/s, loss=1.17]\n",
      "Epoch [487/4000]: 100%|██████████| 10/10 [00:00<00:00, 137.35it/s, loss=0.624]\n",
      "Epoch [488/4000]: 100%|██████████| 10/10 [00:00<00:00, 131.93it/s, loss=0.699]\n",
      "Epoch [489/4000]: 100%|██████████| 10/10 [00:00<00:00, 140.88it/s, loss=0.76]\n",
      "Epoch [490/4000]: 100%|██████████| 10/10 [00:00<00:00, 156.67it/s, loss=1.03]\n",
      "Epoch [491/4000]: 100%|██████████| 10/10 [00:00<00:00, 158.04it/s, loss=1.22]\n",
      "Epoch [492/4000]: 100%|██████████| 10/10 [00:00<00:00, 154.16it/s, loss=1.24]\n",
      "Epoch [493/4000]: 100%|██████████| 10/10 [00:00<00:00, 155.39it/s, loss=0.718]\n",
      "Epoch [494/4000]: 100%|██████████| 10/10 [00:00<00:00, 131.01it/s, loss=0.719]\n",
      "Epoch [495/4000]: 100%|██████████| 10/10 [00:00<00:00, 154.24it/s, loss=0.663]\n",
      "Epoch [496/4000]: 100%|██████████| 10/10 [00:00<00:00, 159.22it/s, loss=1.01]\n",
      "Epoch [497/4000]: 100%|██████████| 10/10 [00:00<00:00, 159.15it/s, loss=0.94]\n",
      "Epoch [498/4000]: 100%|██████████| 10/10 [00:00<00:00, 155.48it/s, loss=1.36]\n",
      "Epoch [499/4000]: 100%|██████████| 10/10 [00:00<00:00, 154.18it/s, loss=0.734]\n",
      "Epoch [500/4000]: 100%|██████████| 10/10 [00:00<00:00, 158.97it/s, loss=0.928]\n",
      "Epoch [501/4000]: 100%|██████████| 10/10 [00:00<00:00, 145.23it/s, loss=0.741]\n"
     ]
    },
    {
     "name": "stdout",
     "output_type": "stream",
     "text": [
      "Epoch [501/4000]: Train loss: 0.8933, Valid loss: 0.9743\n"
     ]
    },
    {
     "name": "stderr",
     "output_type": "stream",
     "text": [
      "Epoch [502/4000]: 100%|██████████| 10/10 [00:00<00:00, 160.23it/s, loss=0.888]\n",
      "Epoch [503/4000]: 100%|██████████| 10/10 [00:00<00:00, 156.67it/s, loss=0.955]\n",
      "Epoch [504/4000]: 100%|██████████| 10/10 [00:00<00:00, 159.16it/s, loss=0.937]\n",
      "Epoch [505/4000]: 100%|██████████| 10/10 [00:00<00:00, 156.29it/s, loss=0.973]\n",
      "Epoch [506/4000]: 100%|██████████| 10/10 [00:00<00:00, 148.33it/s, loss=1.19]\n",
      "Epoch [507/4000]: 100%|██████████| 10/10 [00:00<00:00, 156.61it/s, loss=0.932]\n",
      "Epoch [508/4000]: 100%|██████████| 10/10 [00:00<00:00, 143.35it/s, loss=1.17]\n",
      "Epoch [509/4000]: 100%|██████████| 10/10 [00:00<00:00, 153.85it/s, loss=0.647]\n",
      "Epoch [510/4000]: 100%|██████████| 10/10 [00:00<00:00, 155.17it/s, loss=0.788]\n",
      "Epoch [511/4000]: 100%|██████████| 10/10 [00:00<00:00, 161.72it/s, loss=1.41]\n",
      "Epoch [512/4000]: 100%|██████████| 10/10 [00:00<00:00, 155.83it/s, loss=1.35]\n",
      "Epoch [513/4000]: 100%|██████████| 10/10 [00:00<00:00, 157.81it/s, loss=1]\n",
      "Epoch [514/4000]: 100%|██████████| 10/10 [00:00<00:00, 158.16it/s, loss=0.697]\n",
      "Epoch [515/4000]: 100%|██████████| 10/10 [00:00<00:00, 132.78it/s, loss=0.726]\n",
      "Epoch [516/4000]: 100%|██████████| 10/10 [00:00<00:00, 159.15it/s, loss=0.754]\n",
      "Epoch [517/4000]: 100%|██████████| 10/10 [00:00<00:00, 156.67it/s, loss=0.982]\n",
      "Epoch [518/4000]: 100%|██████████| 10/10 [00:00<00:00, 161.63it/s, loss=0.826]\n",
      "Epoch [519/4000]: 100%|██████████| 10/10 [00:00<00:00, 159.16it/s, loss=1.08]\n",
      "Epoch [520/4000]: 100%|██████████| 10/10 [00:00<00:00, 161.62it/s, loss=0.806]\n",
      "Epoch [521/4000]: 100%|██████████| 10/10 [00:00<00:00, 161.80it/s, loss=0.822]\n",
      "Epoch [522/4000]: 100%|██████████| 10/10 [00:00<00:00, 142.75it/s, loss=0.837]\n",
      "Epoch [523/4000]: 100%|██████████| 10/10 [00:00<00:00, 164.26it/s, loss=1]\n",
      "Epoch [524/4000]: 100%|██████████| 10/10 [00:00<00:00, 156.57it/s, loss=1.23]\n",
      "Epoch [525/4000]: 100%|██████████| 10/10 [00:00<00:00, 161.62it/s, loss=1.04]\n",
      "Epoch [526/4000]: 100%|██████████| 10/10 [00:00<00:00, 160.49it/s, loss=0.851]\n",
      "Epoch [527/4000]: 100%|██████████| 10/10 [00:00<00:00, 154.80it/s, loss=0.659]\n",
      "Epoch [528/4000]: 100%|██████████| 10/10 [00:00<00:00, 156.54it/s, loss=0.922]\n",
      "Epoch [529/4000]: 100%|██████████| 10/10 [00:00<00:00, 147.45it/s, loss=1.1]\n",
      "Epoch [530/4000]: 100%|██████████| 10/10 [00:00<00:00, 145.32it/s, loss=0.779]\n",
      "Epoch [531/4000]: 100%|██████████| 10/10 [00:00<00:00, 83.63it/s, loss=1.12]\n",
      "Epoch [532/4000]: 100%|██████████| 10/10 [00:00<00:00, 159.16it/s, loss=1.14]\n",
      "Epoch [533/4000]: 100%|██████████| 10/10 [00:00<00:00, 159.53it/s, loss=0.765]\n",
      "Epoch [534/4000]: 100%|██████████| 10/10 [00:00<00:00, 155.05it/s, loss=0.639]\n",
      "Epoch [535/4000]: 100%|██████████| 10/10 [00:00<00:00, 156.67it/s, loss=1.25]\n",
      "Epoch [536/4000]: 100%|██████████| 10/10 [00:00<00:00, 159.15it/s, loss=1.13]\n",
      "Epoch [537/4000]: 100%|██████████| 10/10 [00:00<00:00, 149.65it/s, loss=0.896]\n",
      "Epoch [538/4000]: 100%|██████████| 10/10 [00:00<00:00, 149.67it/s, loss=1.06]\n",
      "Epoch [539/4000]: 100%|██████████| 10/10 [00:00<00:00, 152.54it/s, loss=1.14]\n",
      "Epoch [540/4000]: 100%|██████████| 10/10 [00:00<00:00, 148.79it/s, loss=1.16]\n",
      "Epoch [541/4000]: 100%|██████████| 10/10 [00:00<00:00, 149.43it/s, loss=0.965]\n",
      "Epoch [542/4000]: 100%|██████████| 10/10 [00:00<00:00, 152.87it/s, loss=1.02]\n",
      "Epoch [543/4000]: 100%|██████████| 10/10 [00:00<00:00, 138.72it/s, loss=1.17]\n",
      "Epoch [544/4000]: 100%|██████████| 10/10 [00:00<00:00, 148.40it/s, loss=0.724]\n",
      "Epoch [545/4000]: 100%|██████████| 10/10 [00:00<00:00, 154.15it/s, loss=0.622]\n",
      "Epoch [546/4000]: 100%|██████████| 10/10 [00:00<00:00, 115.00it/s, loss=0.956]\n",
      "Epoch [547/4000]: 100%|██████████| 10/10 [00:00<00:00, 94.63it/s, loss=0.587]\n",
      "Epoch [548/4000]: 100%|██████████| 10/10 [00:00<00:00, 144.19it/s, loss=1.06]\n",
      "Epoch [549/4000]: 100%|██████████| 10/10 [00:00<00:00, 157.98it/s, loss=0.863]\n",
      "Epoch [550/4000]: 100%|██████████| 10/10 [00:00<00:00, 123.40it/s, loss=1.05]\n",
      "Epoch [551/4000]: 100%|██████████| 10/10 [00:00<00:00, 67.52it/s, loss=0.92]\n",
      "Epoch [552/4000]: 100%|██████████| 10/10 [00:00<00:00, 150.61it/s, loss=0.965]\n",
      "Epoch [553/4000]: 100%|██████████| 10/10 [00:00<00:00, 147.45it/s, loss=0.776]\n",
      "Epoch [554/4000]: 100%|██████████| 10/10 [00:00<00:00, 83.56it/s, loss=1.43]\n",
      "Epoch [555/4000]: 100%|██████████| 10/10 [00:00<00:00, 95.49it/s, loss=0.889]\n",
      "Epoch [556/4000]: 100%|██████████| 10/10 [00:00<00:00, 116.59it/s, loss=1.09]\n",
      "Epoch [557/4000]: 100%|██████████| 10/10 [00:00<00:00, 133.69it/s, loss=0.809]\n",
      "Epoch [558/4000]: 100%|██████████| 10/10 [00:00<00:00, 147.26it/s, loss=1.2]\n",
      "Epoch [559/4000]: 100%|██████████| 10/10 [00:00<00:00, 149.62it/s, loss=0.933]\n",
      "Epoch [560/4000]: 100%|██████████| 10/10 [00:00<00:00, 141.52it/s, loss=0.849]\n",
      "Epoch [561/4000]: 100%|██████████| 10/10 [00:00<00:00, 90.33it/s, loss=0.853]\n",
      "Epoch [562/4000]: 100%|██████████| 10/10 [00:00<00:00, 115.25it/s, loss=1.05]\n",
      "Epoch [563/4000]: 100%|██████████| 10/10 [00:00<00:00, 94.30it/s, loss=1.14]\n",
      "Epoch [564/4000]: 100%|██████████| 10/10 [00:00<00:00, 145.67it/s, loss=1.04]\n",
      "Epoch [565/4000]: 100%|██████████| 10/10 [00:00<00:00, 141.22it/s, loss=0.975]\n",
      "Epoch [566/4000]: 100%|██████████| 10/10 [00:00<00:00, 151.93it/s, loss=0.766]\n",
      "Epoch [567/4000]: 100%|██████████| 10/10 [00:00<00:00, 149.65it/s, loss=0.75]\n",
      "Epoch [568/4000]: 100%|██████████| 10/10 [00:00<00:00, 160.00it/s, loss=0.899]\n",
      "Epoch [569/4000]: 100%|██████████| 10/10 [00:00<00:00, 154.26it/s, loss=0.721]\n",
      "Epoch [570/4000]: 100%|██████████| 10/10 [00:00<00:00, 154.80it/s, loss=0.891]\n",
      "Epoch [571/4000]: 100%|██████████| 10/10 [00:00<00:00, 150.90it/s, loss=0.828]\n",
      "Epoch [572/4000]: 100%|██████████| 10/10 [00:00<00:00, 152.95it/s, loss=0.779]\n",
      "Epoch [573/4000]: 100%|██████████| 10/10 [00:00<00:00, 151.67it/s, loss=0.916]\n",
      "Epoch [574/4000]: 100%|██████████| 10/10 [00:00<00:00, 154.35it/s, loss=1.05]\n",
      "Epoch [575/4000]: 100%|██████████| 10/10 [00:00<00:00, 154.25it/s, loss=1.02]\n",
      "Epoch [576/4000]: 100%|██████████| 10/10 [00:00<00:00, 154.26it/s, loss=0.496]\n",
      "Epoch [577/4000]: 100%|██████████| 10/10 [00:00<00:00, 159.16it/s, loss=0.72]\n",
      "Epoch [578/4000]: 100%|██████████| 10/10 [00:00<00:00, 154.26it/s, loss=0.952]\n",
      "Epoch [579/4000]: 100%|██████████| 10/10 [00:00<00:00, 141.29it/s, loss=0.993]\n",
      "Epoch [580/4000]: 100%|██████████| 10/10 [00:00<00:00, 152.91it/s, loss=1.27]\n",
      "Epoch [581/4000]: 100%|██████████| 10/10 [00:00<00:00, 151.92it/s, loss=1.03]\n",
      "Epoch [582/4000]: 100%|██████████| 10/10 [00:00<00:00, 153.52it/s, loss=1.16]\n",
      "Epoch [583/4000]: 100%|██████████| 10/10 [00:00<00:00, 159.15it/s, loss=0.981]\n",
      "Epoch [584/4000]: 100%|██████████| 10/10 [00:00<00:00, 156.67it/s, loss=0.882]\n",
      "Epoch [585/4000]: 100%|██████████| 10/10 [00:00<00:00, 153.55it/s, loss=1.12]\n",
      "Epoch [586/4000]: 100%|██████████| 10/10 [00:00<00:00, 140.15it/s, loss=0.732]\n",
      "Epoch [587/4000]: 100%|██████████| 10/10 [00:00<00:00, 153.13it/s, loss=0.993]\n",
      "Epoch [588/4000]: 100%|██████████| 10/10 [00:00<00:00, 154.94it/s, loss=0.892]\n",
      "Epoch [589/4000]: 100%|██████████| 10/10 [00:00<00:00, 135.37it/s, loss=0.902]\n",
      "Epoch [590/4000]: 100%|██████████| 10/10 [00:00<00:00, 151.82it/s, loss=1.11]\n",
      "Epoch [591/4000]: 100%|██████████| 10/10 [00:00<00:00, 156.67it/s, loss=0.886]\n",
      "Epoch [592/4000]: 100%|██████████| 10/10 [00:00<00:00, 83.88it/s, loss=0.727]\n",
      "Epoch [593/4000]: 100%|██████████| 10/10 [00:00<00:00, 144.49it/s, loss=0.96]\n",
      "Epoch [594/4000]: 100%|██████████| 10/10 [00:00<00:00, 155.00it/s, loss=0.808]\n",
      "Epoch [595/4000]: 100%|██████████| 10/10 [00:00<00:00, 155.90it/s, loss=0.905]\n",
      "Epoch [596/4000]: 100%|██████████| 10/10 [00:00<00:00, 151.84it/s, loss=0.962]\n",
      "Epoch [597/4000]: 100%|██████████| 10/10 [00:00<00:00, 156.67it/s, loss=0.596]\n",
      "Epoch [598/4000]: 100%|██████████| 10/10 [00:00<00:00, 154.26it/s, loss=1.02]\n",
      "Epoch [599/4000]: 100%|██████████| 10/10 [00:00<00:00, 159.13it/s, loss=0.692]\n",
      "Epoch [600/4000]: 100%|██████████| 10/10 [00:00<00:00, 138.31it/s, loss=0.943]\n",
      "Epoch [601/4000]: 100%|██████████| 10/10 [00:00<00:00, 154.10it/s, loss=0.902]\n"
     ]
    },
    {
     "name": "stdout",
     "output_type": "stream",
     "text": [
      "Epoch [601/4000]: Train loss: 0.8994, Valid loss: 0.8793\n"
     ]
    },
    {
     "name": "stderr",
     "output_type": "stream",
     "text": [
      "Epoch [602/4000]: 100%|██████████| 10/10 [00:00<00:00, 158.48it/s, loss=1.15]\n",
      "Epoch [603/4000]: 100%|██████████| 10/10 [00:00<00:00, 159.25it/s, loss=0.553]\n",
      "Epoch [604/4000]: 100%|██████████| 10/10 [00:00<00:00, 156.66it/s, loss=1.4]\n",
      "Epoch [605/4000]: 100%|██████████| 10/10 [00:00<00:00, 155.23it/s, loss=0.915]\n",
      "Epoch [606/4000]: 100%|██████████| 10/10 [00:00<00:00, 154.17it/s, loss=0.888]\n"
     ]
    },
    {
     "name": "stdout",
     "output_type": "stream",
     "text": [
      "Saving model with loss 0.821...\n"
     ]
    },
    {
     "name": "stderr",
     "output_type": "stream",
     "text": [
      "Epoch [607/4000]: 100%|██████████| 10/10 [00:00<00:00, 112.20it/s, loss=1.06]\n",
      "Epoch [608/4000]: 100%|██████████| 10/10 [00:00<00:00, 117.96it/s, loss=1.05]\n",
      "Epoch [609/4000]: 100%|██████████| 10/10 [00:00<00:00, 100.27it/s, loss=0.753]\n",
      "Epoch [610/4000]: 100%|██████████| 10/10 [00:00<00:00, 109.94it/s, loss=0.87]\n",
      "Epoch [611/4000]: 100%|██████████| 10/10 [00:00<00:00, 102.32it/s, loss=1.02]\n",
      "Epoch [612/4000]: 100%|██████████| 10/10 [00:00<00:00, 116.59it/s, loss=0.811]\n",
      "Epoch [613/4000]: 100%|██████████| 10/10 [00:00<00:00, 111.46it/s, loss=0.834]\n",
      "Epoch [614/4000]: 100%|██████████| 10/10 [00:00<00:00, 90.33it/s, loss=1.2] \n",
      "Epoch [615/4000]: 100%|██████████| 10/10 [00:00<00:00, 108.99it/s, loss=1.08]\n",
      "Epoch [616/4000]: 100%|██████████| 10/10 [00:00<00:00, 93.71it/s, loss=0.833]\n",
      "Epoch [617/4000]: 100%|██████████| 10/10 [00:00<00:00, 89.52it/s, loss=1.32]\n",
      "Epoch [618/4000]: 100%|██████████| 10/10 [00:00<00:00, 88.73it/s, loss=0.995]\n",
      "Epoch [619/4000]: 100%|██████████| 10/10 [00:00<00:00, 93.71it/s, loss=0.762]\n",
      "Epoch [620/4000]: 100%|██████████| 10/10 [00:00<00:00, 77.13it/s, loss=0.734]\n",
      "Epoch [621/4000]: 100%|██████████| 10/10 [00:00<00:00, 87.95it/s, loss=1.19]\n",
      "Epoch [622/4000]: 100%|██████████| 10/10 [00:00<00:00, 75.96it/s, loss=0.795]\n",
      "Epoch [623/4000]: 100%|██████████| 10/10 [00:00<00:00, 85.70it/s, loss=0.818]\n",
      "Epoch [624/4000]: 100%|██████████| 10/10 [00:00<00:00, 87.19it/s, loss=0.89]\n",
      "Epoch [625/4000]: 100%|██████████| 10/10 [00:00<00:00, 87.19it/s, loss=1.16]\n",
      "Epoch [626/4000]: 100%|██████████| 10/10 [00:00<00:00, 76.54it/s, loss=1.23]\n",
      "Epoch [627/4000]: 100%|██████████| 10/10 [00:00<00:00, 51.68it/s, loss=1.12]\n",
      "Epoch [628/4000]: 100%|██████████| 10/10 [00:00<00:00, 91.15it/s, loss=0.973]\n",
      "Epoch [629/4000]: 100%|██████████| 10/10 [00:00<00:00, 103.37it/s, loss=0.685]\n",
      "Epoch [630/4000]: 100%|██████████| 10/10 [00:00<00:00, 102.32it/s, loss=1.34]\n",
      "Epoch [631/4000]: 100%|██████████| 10/10 [00:00<00:00, 105.55it/s, loss=0.73]\n",
      "Epoch [632/4000]: 100%|██████████| 10/10 [00:00<00:00, 103.37it/s, loss=1.48]\n",
      "Epoch [633/4000]: 100%|██████████| 10/10 [00:00<00:00, 101.28it/s, loss=1.22]\n",
      "Epoch [634/4000]: 100%|██████████| 10/10 [00:00<00:00, 101.28it/s, loss=1.04]\n",
      "Epoch [635/4000]: 100%|██████████| 10/10 [00:00<00:00, 96.41it/s, loss=1.11]\n",
      "Epoch [636/4000]: 100%|██████████| 10/10 [00:00<00:00, 97.35it/s, loss=0.962]\n",
      "Epoch [637/4000]: 100%|██████████| 10/10 [00:00<00:00, 101.28it/s, loss=0.824]\n",
      "Epoch [638/4000]: 100%|██████████| 10/10 [00:00<00:00, 99.28it/s, loss=0.978]\n",
      "Epoch [639/4000]: 100%|██████████| 10/10 [00:00<00:00, 98.30it/s, loss=0.772]\n",
      "Epoch [640/4000]: 100%|██████████| 10/10 [00:00<00:00, 111.41it/s, loss=1.2]\n",
      "Epoch [641/4000]: 100%|██████████| 10/10 [00:00<00:00, 112.66it/s, loss=1.35]\n",
      "Epoch [642/4000]: 100%|██████████| 10/10 [00:00<00:00, 113.98it/s, loss=0.847]\n",
      "Epoch [643/4000]: 100%|██████████| 10/10 [00:00<00:00, 120.01it/s, loss=0.846]\n",
      "Epoch [644/4000]: 100%|██████████| 10/10 [00:00<00:00, 116.59it/s, loss=0.922]\n",
      "Epoch [645/4000]: 100%|██████████| 10/10 [00:00<00:00, 118.01it/s, loss=0.99]\n",
      "Epoch [646/4000]: 100%|██████████| 10/10 [00:00<00:00, 124.10it/s, loss=0.653]\n",
      "Epoch [647/4000]: 100%|██████████| 10/10 [00:00<00:00, 122.32it/s, loss=0.724]\n",
      "Epoch [648/4000]: 100%|██████████| 10/10 [00:00<00:00, 122.33it/s, loss=1.08]\n",
      "Epoch [649/4000]: 100%|██████████| 10/10 [00:00<00:00, 115.72it/s, loss=1.13]\n",
      "Epoch [650/4000]: 100%|██████████| 10/10 [00:00<00:00, 119.45it/s, loss=0.587]\n",
      "Epoch [651/4000]: 100%|██████████| 10/10 [00:00<00:00, 123.28it/s, loss=0.76]\n",
      "Epoch [652/4000]: 100%|██████████| 10/10 [00:00<00:00, 125.39it/s, loss=0.989]\n",
      "Epoch [653/4000]: 100%|██████████| 10/10 [00:00<00:00, 69.50it/s, loss=1.11]\n",
      "Epoch [654/4000]: 100%|██████████| 10/10 [00:00<00:00, 129.30it/s, loss=0.809]\n",
      "Epoch [655/4000]: 100%|██████████| 10/10 [00:00<00:00, 123.79it/s, loss=0.748]\n",
      "Epoch [656/4000]: 100%|██████████| 10/10 [00:00<00:00, 116.16it/s, loss=0.793]\n",
      "Epoch [657/4000]: 100%|██████████| 10/10 [00:00<00:00, 115.68it/s, loss=1.03]\n",
      "Epoch [658/4000]: 100%|██████████| 10/10 [00:00<00:00, 112.29it/s, loss=1.25]\n",
      "Epoch [659/4000]: 100%|██████████| 10/10 [00:00<00:00, 118.51it/s, loss=1.2]\n",
      "Epoch [660/4000]: 100%|██████████| 10/10 [00:00<00:00, 110.19it/s, loss=0.984]\n",
      "Epoch [661/4000]: 100%|██████████| 10/10 [00:00<00:00, 111.28it/s, loss=0.972]\n",
      "Epoch [662/4000]: 100%|██████████| 10/10 [00:00<00:00, 80.86it/s, loss=0.779]\n",
      "Epoch [663/4000]: 100%|██████████| 10/10 [00:00<00:00, 91.99it/s, loss=0.786]\n",
      "Epoch [664/4000]: 100%|██████████| 10/10 [00:00<00:00, 91.15it/s, loss=0.605]\n",
      "Epoch [665/4000]: 100%|██████████| 10/10 [00:00<00:00, 102.32it/s, loss=0.83]\n",
      "Epoch [666/4000]: 100%|██████████| 10/10 [00:00<00:00, 101.28it/s, loss=0.959]\n",
      "Epoch [667/4000]: 100%|██████████| 10/10 [00:00<00:00, 110.14it/s, loss=1.26]\n",
      "Epoch [668/4000]: 100%|██████████| 10/10 [00:00<00:00, 107.82it/s, loss=1.01]\n",
      "Epoch [669/4000]: 100%|██████████| 10/10 [00:00<00:00, 111.46it/s, loss=1.24]\n",
      "Epoch [670/4000]: 100%|██████████| 10/10 [00:00<00:00, 114.95it/s, loss=1.18]\n",
      "Epoch [671/4000]: 100%|██████████| 10/10 [00:00<00:00, 105.81it/s, loss=0.76]\n",
      "Epoch [672/4000]: 100%|██████████| 10/10 [00:00<00:00, 115.28it/s, loss=1.11]\n",
      "Epoch [673/4000]: 100%|██████████| 10/10 [00:00<00:00, 117.02it/s, loss=1.2]\n",
      "Epoch [674/4000]: 100%|██████████| 10/10 [00:00<00:00, 110.99it/s, loss=0.819]\n",
      "Epoch [675/4000]: 100%|██████████| 10/10 [00:00<00:00, 113.94it/s, loss=1.05]\n",
      "Epoch [676/4000]: 100%|██████████| 10/10 [00:00<00:00, 114.97it/s, loss=1.06]\n",
      "Epoch [677/4000]: 100%|██████████| 10/10 [00:00<00:00, 110.18it/s, loss=0.845]\n",
      "Epoch [678/4000]: 100%|██████████| 10/10 [00:00<00:00, 110.14it/s, loss=0.863]\n",
      "Epoch [679/4000]: 100%|██████████| 10/10 [00:00<00:00, 117.96it/s, loss=0.916]\n",
      "Epoch [680/4000]: 100%|██████████| 10/10 [00:00<00:00, 117.96it/s, loss=0.881]\n",
      "Epoch [681/4000]: 100%|██████████| 10/10 [00:00<00:00, 116.64it/s, loss=0.827]\n",
      "Epoch [682/4000]: 100%|██████████| 10/10 [00:00<00:00, 112.70it/s, loss=0.939]\n",
      "Epoch [683/4000]: 100%|██████████| 10/10 [00:00<00:00, 110.93it/s, loss=0.963]\n"
     ]
    },
    {
     "name": "stdout",
     "output_type": "stream",
     "text": [
      "Saving model with loss 0.810...\n"
     ]
    },
    {
     "name": "stderr",
     "output_type": "stream",
     "text": [
      "Epoch [684/4000]: 100%|██████████| 10/10 [00:00<00:00, 122.28it/s, loss=1.21]\n",
      "Epoch [685/4000]: 100%|██████████| 10/10 [00:00<00:00, 123.44it/s, loss=0.992]\n",
      "Epoch [686/4000]: 100%|██████████| 10/10 [00:00<00:00, 122.28it/s, loss=0.831]\n",
      "Epoch [687/4000]: 100%|██████████| 10/10 [00:00<00:00, 122.28it/s, loss=1.03]\n",
      "Epoch [688/4000]: 100%|██████████| 10/10 [00:00<00:00, 122.28it/s, loss=0.797]\n",
      "Epoch [689/4000]: 100%|██████████| 10/10 [00:00<00:00, 119.42it/s, loss=0.824]\n",
      "Epoch [690/4000]: 100%|██████████| 10/10 [00:00<00:00, 115.94it/s, loss=0.827]\n",
      "Epoch [691/4000]: 100%|██████████| 10/10 [00:00<00:00, 122.23it/s, loss=0.877]\n",
      "Epoch [692/4000]: 100%|██████████| 10/10 [00:00<00:00, 128.55it/s, loss=0.816]\n",
      "Epoch [693/4000]: 100%|██████████| 10/10 [00:00<00:00, 120.47it/s, loss=1.27]\n",
      "Epoch [694/4000]: 100%|██████████| 10/10 [00:00<00:00, 110.05it/s, loss=1.08]\n",
      "Epoch [695/4000]: 100%|██████████| 10/10 [00:00<00:00, 122.77it/s, loss=0.771]\n",
      "Epoch [696/4000]: 100%|██████████| 10/10 [00:00<00:00, 125.33it/s, loss=1.08]\n",
      "Epoch [697/4000]: 100%|██████████| 10/10 [00:00<00:00, 128.39it/s, loss=1.09]\n",
      "Epoch [698/4000]: 100%|██████████| 10/10 [00:00<00:00, 126.87it/s, loss=1.07]\n",
      "Epoch [699/4000]: 100%|██████████| 10/10 [00:00<00:00, 128.55it/s, loss=0.955]\n",
      "Epoch [700/4000]: 100%|██████████| 10/10 [00:00<00:00, 120.53it/s, loss=0.97]\n",
      "Epoch [701/4000]: 100%|██████████| 10/10 [00:00<00:00, 127.91it/s, loss=0.774]\n"
     ]
    },
    {
     "name": "stdout",
     "output_type": "stream",
     "text": [
      "Epoch [701/4000]: Train loss: 0.9742, Valid loss: 1.0372\n"
     ]
    },
    {
     "name": "stderr",
     "output_type": "stream",
     "text": [
      "Epoch [702/4000]: 100%|██████████| 10/10 [00:00<00:00, 123.79it/s, loss=1.1]\n",
      "Epoch [703/4000]: 100%|██████████| 10/10 [00:00<00:00, 123.87it/s, loss=0.683]\n",
      "Epoch [704/4000]: 100%|██████████| 10/10 [00:00<00:00, 125.34it/s, loss=0.479]\n",
      "Epoch [705/4000]: 100%|██████████| 10/10 [00:00<00:00, 126.88it/s, loss=1.13]\n",
      "Epoch [706/4000]: 100%|██████████| 10/10 [00:00<00:00, 123.69it/s, loss=1.98]\n",
      "Epoch [707/4000]: 100%|██████████| 10/10 [00:00<00:00, 126.85it/s, loss=1.19]\n",
      "Epoch [708/4000]: 100%|██████████| 10/10 [00:00<00:00, 127.90it/s, loss=0.789]\n",
      "Epoch [709/4000]: 100%|██████████| 10/10 [00:00<00:00, 125.33it/s, loss=0.973]\n",
      "Epoch [710/4000]: 100%|██████████| 10/10 [00:00<00:00, 130.22it/s, loss=0.954]\n",
      "Epoch [711/4000]: 100%|██████████| 10/10 [00:00<00:00, 127.28it/s, loss=0.737]\n",
      "Epoch [712/4000]: 100%|██████████| 10/10 [00:00<00:00, 128.49it/s, loss=0.799]\n",
      "Epoch [713/4000]: 100%|██████████| 10/10 [00:00<00:00, 125.33it/s, loss=0.694]\n",
      "Epoch [714/4000]: 100%|██████████| 10/10 [00:00<00:00, 130.22it/s, loss=0.691]\n",
      "Epoch [715/4000]: 100%|██████████| 10/10 [00:00<00:00, 133.04it/s, loss=1.19]\n",
      "Epoch [716/4000]: 100%|██████████| 10/10 [00:00<00:00, 131.99it/s, loss=1.03]\n",
      "Epoch [717/4000]: 100%|██████████| 10/10 [00:00<00:00, 125.07it/s, loss=0.884]\n",
      "Epoch [718/4000]: 100%|██████████| 10/10 [00:00<00:00, 120.80it/s, loss=0.799]\n",
      "Epoch [719/4000]: 100%|██████████| 10/10 [00:00<00:00, 108.99it/s, loss=1.1]\n",
      "Epoch [720/4000]: 100%|██████████| 10/10 [00:00<00:00, 96.41it/s, loss=1.29]\n",
      "Epoch [721/4000]: 100%|██████████| 10/10 [00:00<00:00, 107.82it/s, loss=0.958]\n",
      "Epoch [722/4000]: 100%|██████████| 10/10 [00:00<00:00, 104.45it/s, loss=1.04]\n",
      "Epoch [723/4000]: 100%|██████████| 10/10 [00:00<00:00, 106.67it/s, loss=0.647]\n",
      "Epoch [724/4000]: 100%|██████████| 10/10 [00:00<00:00, 113.94it/s, loss=0.766]\n",
      "Epoch [725/4000]: 100%|██████████| 10/10 [00:00<00:00, 119.37it/s, loss=0.955]\n"
     ]
    },
    {
     "name": "stdout",
     "output_type": "stream",
     "text": [
      "Saving model with loss 0.781...\n"
     ]
    },
    {
     "name": "stderr",
     "output_type": "stream",
     "text": [
      "Epoch [726/4000]: 100%|██████████| 10/10 [00:00<00:00, 122.19it/s, loss=0.919]\n",
      "Epoch [727/4000]: 100%|██████████| 10/10 [00:00<00:00, 125.33it/s, loss=1.02]\n",
      "Epoch [728/4000]: 100%|██████████| 10/10 [00:00<00:00, 124.31it/s, loss=1.2]\n",
      "Epoch [729/4000]: 100%|██████████| 10/10 [00:00<00:00, 119.37it/s, loss=1.16]\n",
      "Epoch [730/4000]: 100%|██████████| 10/10 [00:00<00:00, 113.94it/s, loss=0.979]\n",
      "Epoch [731/4000]: 100%|██████████| 10/10 [00:00<00:00, 126.92it/s, loss=0.681]\n",
      "Epoch [732/4000]: 100%|██████████| 10/10 [00:00<00:00, 131.32it/s, loss=0.899]\n",
      "Epoch [733/4000]: 100%|██████████| 10/10 [00:00<00:00, 119.07it/s, loss=0.738]\n",
      "Epoch [734/4000]: 100%|██████████| 10/10 [00:00<00:00, 122.28it/s, loss=0.896]\n",
      "Epoch [735/4000]: 100%|██████████| 10/10 [00:00<00:00, 123.41it/s, loss=1.35]\n",
      "Epoch [736/4000]: 100%|██████████| 10/10 [00:00<00:00, 121.66it/s, loss=1.28]\n",
      "Epoch [737/4000]: 100%|██████████| 10/10 [00:00<00:00, 127.06it/s, loss=1.07]\n",
      "Epoch [738/4000]: 100%|██████████| 10/10 [00:00<00:00, 120.27it/s, loss=1.07]\n",
      "Epoch [739/4000]: 100%|██████████| 10/10 [00:00<00:00, 122.35it/s, loss=0.952]\n",
      "Epoch [740/4000]: 100%|██████████| 10/10 [00:00<00:00, 124.45it/s, loss=1.1]\n",
      "Epoch [741/4000]: 100%|██████████| 10/10 [00:00<00:00, 115.24it/s, loss=0.745]\n",
      "Epoch [742/4000]: 100%|██████████| 10/10 [00:00<00:00, 124.00it/s, loss=1.21]\n",
      "Epoch [743/4000]: 100%|██████████| 10/10 [00:00<00:00, 120.80it/s, loss=1.16]\n",
      "Epoch [744/4000]: 100%|██████████| 10/10 [00:00<00:00, 116.09it/s, loss=1.16]\n",
      "Epoch [745/4000]: 100%|██████████| 10/10 [00:00<00:00, 121.23it/s, loss=0.903]\n",
      "Epoch [746/4000]: 100%|██████████| 10/10 [00:00<00:00, 112.66it/s, loss=0.785]\n",
      "Epoch [747/4000]: 100%|██████████| 10/10 [00:00<00:00, 119.45it/s, loss=1.11]\n",
      "Epoch [748/4000]: 100%|██████████| 10/10 [00:00<00:00, 127.55it/s, loss=0.79]\n",
      "Epoch [749/4000]: 100%|██████████| 10/10 [00:00<00:00, 121.51it/s, loss=0.772]\n",
      "Epoch [750/4000]: 100%|██████████| 10/10 [00:00<00:00, 130.15it/s, loss=0.664]\n",
      "Epoch [751/4000]: 100%|██████████| 10/10 [00:00<00:00, 128.61it/s, loss=0.861]\n",
      "Epoch [752/4000]: 100%|██████████| 10/10 [00:00<00:00, 127.10it/s, loss=1.23]\n",
      "Epoch [753/4000]: 100%|██████████| 10/10 [00:00<00:00, 126.96it/s, loss=1.24]\n",
      "Epoch [754/4000]: 100%|██████████| 10/10 [00:00<00:00, 130.84it/s, loss=0.848]\n",
      "Epoch [755/4000]: 100%|██████████| 10/10 [00:00<00:00, 133.63it/s, loss=0.793]\n",
      "Epoch [756/4000]: 100%|██████████| 10/10 [00:00<00:00, 129.46it/s, loss=1.03]\n",
      "Epoch [757/4000]: 100%|██████████| 10/10 [00:00<00:00, 86.22it/s, loss=0.605]\n",
      "Epoch [758/4000]: 100%|██████████| 10/10 [00:00<00:00, 101.87it/s, loss=0.779]\n",
      "Epoch [759/4000]: 100%|██████████| 10/10 [00:00<00:00, 74.75it/s, loss=0.952]\n",
      "Epoch [760/4000]: 100%|██████████| 10/10 [00:00<00:00, 93.89it/s, loss=0.774]\n",
      "Epoch [761/4000]: 100%|██████████| 10/10 [00:00<00:00, 111.41it/s, loss=0.779]\n",
      "Epoch [762/4000]: 100%|██████████| 10/10 [00:00<00:00, 112.66it/s, loss=0.794]\n",
      "Epoch [763/4000]: 100%|██████████| 10/10 [00:00<00:00, 104.44it/s, loss=0.751]\n",
      "Epoch [764/4000]: 100%|██████████| 10/10 [00:00<00:00, 111.41it/s, loss=1.51]\n",
      "Epoch [765/4000]: 100%|██████████| 10/10 [00:00<00:00, 101.28it/s, loss=0.835]\n",
      "Epoch [766/4000]: 100%|██████████| 10/10 [00:00<00:00, 117.91it/s, loss=0.683]\n",
      "Epoch [767/4000]: 100%|██████████| 10/10 [00:00<00:00, 109.05it/s, loss=0.797]\n",
      "Epoch [768/4000]: 100%|██████████| 10/10 [00:00<00:00, 115.41it/s, loss=1.09]\n",
      "Epoch [769/4000]: 100%|██████████| 10/10 [00:00<00:00, 121.71it/s, loss=0.688]\n",
      "Epoch [770/4000]: 100%|██████████| 10/10 [00:00<00:00, 94.59it/s, loss=0.574]\n",
      "Epoch [771/4000]: 100%|██████████| 10/10 [00:00<00:00, 108.99it/s, loss=0.992]\n",
      "Epoch [772/4000]: 100%|██████████| 10/10 [00:00<00:00, 108.99it/s, loss=0.93]\n",
      "Epoch [773/4000]: 100%|██████████| 10/10 [00:00<00:00, 95.49it/s, loss=1.08]\n",
      "Epoch [774/4000]: 100%|██████████| 10/10 [00:00<00:00, 88.73it/s, loss=0.962]\n",
      "Epoch [775/4000]: 100%|██████████| 10/10 [00:00<00:00, 72.66it/s, loss=1.02]\n",
      "Epoch [776/4000]: 100%|██████████| 10/10 [00:00<00:00, 40.43it/s, loss=0.991]\n",
      "Epoch [777/4000]: 100%|██████████| 10/10 [00:00<00:00, 72.13it/s, loss=0.719]\n",
      "Epoch [778/4000]: 100%|██████████| 10/10 [00:00<00:00, 83.56it/s, loss=1.17]\n",
      "Epoch [779/4000]: 100%|██████████| 10/10 [00:00<00:00, 88.73it/s, loss=1.05]\n",
      "Epoch [780/4000]: 100%|██████████| 10/10 [00:00<00:00, 49.39it/s, loss=0.811]\n",
      "Epoch [781/4000]: 100%|██████████| 10/10 [00:00<00:00, 74.27it/s, loss=0.994]\n",
      "Epoch [782/4000]: 100%|██████████| 10/10 [00:00<00:00, 82.18it/s, loss=0.882]\n",
      "Epoch [783/4000]: 100%|██████████| 10/10 [00:00<00:00, 70.61it/s, loss=0.912]\n",
      "Epoch [784/4000]: 100%|██████████| 10/10 [00:00<00:00, 75.96it/s, loss=1.14]\n",
      "Epoch [785/4000]: 100%|██████████| 10/10 [00:00<00:00, 102.32it/s, loss=0.84]\n",
      "Epoch [786/4000]: 100%|██████████| 10/10 [00:00<00:00, 76.54it/s, loss=0.877]\n",
      "Epoch [787/4000]: 100%|██████████| 10/10 [00:00<00:00, 87.19it/s, loss=1.06]\n",
      "Epoch [788/4000]: 100%|██████████| 10/10 [00:00<00:00, 88.73it/s, loss=0.812]\n",
      "Epoch [789/4000]: 100%|██████████| 10/10 [00:00<00:00, 92.84it/s, loss=0.793]\n",
      "Epoch [790/4000]: 100%|██████████| 10/10 [00:00<00:00, 91.99it/s, loss=1.03]\n",
      "Epoch [791/4000]: 100%|██████████| 10/10 [00:00<00:00, 95.49it/s, loss=1.31]\n",
      "Epoch [792/4000]: 100%|██████████| 10/10 [00:00<00:00, 103.37it/s, loss=0.705]\n",
      "Epoch [793/4000]: 100%|██████████| 10/10 [00:00<00:00, 109.02it/s, loss=0.991]\n",
      "Epoch [794/4000]: 100%|██████████| 10/10 [00:00<00:00, 108.99it/s, loss=0.917]\n",
      "Epoch [795/4000]: 100%|██████████| 10/10 [00:00<00:00, 114.58it/s, loss=0.906]\n",
      "Epoch [796/4000]: 100%|██████████| 10/10 [00:00<00:00, 117.96it/s, loss=1.24]\n",
      "Epoch [797/4000]: 100%|██████████| 10/10 [00:00<00:00, 121.49it/s, loss=0.795]\n",
      "Epoch [798/4000]: 100%|██████████| 10/10 [00:00<00:00, 117.95it/s, loss=0.595]\n",
      "Epoch [799/4000]: 100%|██████████| 10/10 [00:00<00:00, 121.95it/s, loss=0.748]\n",
      "Epoch [800/4000]: 100%|██████████| 10/10 [00:00<00:00, 126.29it/s, loss=1.11]\n",
      "Epoch [801/4000]: 100%|██████████| 10/10 [00:00<00:00, 112.71it/s, loss=1.04]\n"
     ]
    },
    {
     "name": "stdout",
     "output_type": "stream",
     "text": [
      "Epoch [801/4000]: Train loss: 1.0466, Valid loss: 1.0344\n"
     ]
    },
    {
     "name": "stderr",
     "output_type": "stream",
     "text": [
      "Epoch [802/4000]: 100%|██████████| 10/10 [00:00<00:00, 119.86it/s, loss=1.33]\n",
      "Epoch [803/4000]: 100%|██████████| 10/10 [00:00<00:00, 128.55it/s, loss=1.03]\n",
      "Epoch [804/4000]: 100%|██████████| 10/10 [00:00<00:00, 123.79it/s, loss=1.01]\n",
      "Epoch [805/4000]: 100%|██████████| 10/10 [00:00<00:00, 128.55it/s, loss=0.947]\n",
      "Epoch [806/4000]: 100%|██████████| 10/10 [00:00<00:00, 131.93it/s, loss=0.908]\n",
      "Epoch [807/4000]: 100%|██████████| 10/10 [00:00<00:00, 131.77it/s, loss=0.667]\n",
      "Epoch [808/4000]: 100%|██████████| 10/10 [00:00<00:00, 136.70it/s, loss=0.962]\n",
      "Epoch [809/4000]: 100%|██████████| 10/10 [00:00<00:00, 133.69it/s, loss=1.09]\n",
      "Epoch [810/4000]: 100%|██████████| 10/10 [00:00<00:00, 123.79it/s, loss=0.98]\n",
      "Epoch [811/4000]: 100%|██████████| 10/10 [00:00<00:00, 130.22it/s, loss=0.986]\n",
      "Epoch [812/4000]: 100%|██████████| 10/10 [00:00<00:00, 125.04it/s, loss=1.17]\n",
      "Epoch [813/4000]: 100%|██████████| 10/10 [00:00<00:00, 128.55it/s, loss=0.78]\n",
      "Epoch [814/4000]: 100%|██████████| 10/10 [00:00<00:00, 127.41it/s, loss=0.716]\n",
      "Epoch [815/4000]: 100%|██████████| 10/10 [00:00<00:00, 131.93it/s, loss=0.761]\n",
      "Epoch [816/4000]: 100%|██████████| 10/10 [00:00<00:00, 125.25it/s, loss=0.841]\n",
      "Epoch [817/4000]: 100%|██████████| 10/10 [00:00<00:00, 125.82it/s, loss=0.83]\n",
      "Epoch [818/4000]: 100%|██████████| 10/10 [00:00<00:00, 130.22it/s, loss=0.879]\n",
      "Epoch [819/4000]: 100%|██████████| 10/10 [00:00<00:00, 130.22it/s, loss=1.41]\n",
      "Epoch [820/4000]: 100%|██████████| 10/10 [00:00<00:00, 135.50it/s, loss=1.03]\n",
      "Epoch [821/4000]: 100%|██████████| 10/10 [00:00<00:00, 128.57it/s, loss=0.805]\n",
      "Epoch [822/4000]: 100%|██████████| 10/10 [00:00<00:00, 125.61it/s, loss=0.937]\n",
      "Epoch [823/4000]: 100%|██████████| 10/10 [00:00<00:00, 113.94it/s, loss=0.999]\n",
      "Epoch [824/4000]: 100%|██████████| 10/10 [00:00<00:00, 115.25it/s, loss=0.756]\n",
      "Epoch [825/4000]: 100%|██████████| 10/10 [00:00<00:00, 112.66it/s, loss=1.14]\n",
      "Epoch [826/4000]: 100%|██████████| 10/10 [00:00<00:00, 103.37it/s, loss=0.89]\n",
      "Epoch [827/4000]: 100%|██████████| 10/10 [00:00<00:00, 77.73it/s, loss=0.583]\n",
      "Epoch [828/4000]: 100%|██████████| 10/10 [00:00<00:00, 81.52it/s, loss=1.32]\n",
      "Epoch [829/4000]: 100%|██████████| 10/10 [00:00<00:00, 107.82it/s, loss=0.975]\n",
      "Epoch [830/4000]: 100%|██████████| 10/10 [00:00<00:00, 113.34it/s, loss=0.695]\n",
      "Epoch [831/4000]: 100%|██████████| 10/10 [00:00<00:00, 77.79it/s, loss=0.857]\n",
      "Epoch [832/4000]: 100%|██████████| 10/10 [00:00<00:00, 107.81it/s, loss=0.86]\n",
      "Epoch [833/4000]: 100%|██████████| 10/10 [00:00<00:00, 105.54it/s, loss=1.06]\n",
      "Epoch [834/4000]: 100%|██████████| 10/10 [00:00<00:00, 77.13it/s, loss=0.783]\n",
      "Epoch [835/4000]: 100%|██████████| 10/10 [00:00<00:00, 113.94it/s, loss=0.955]\n",
      "Epoch [836/4000]: 100%|██████████| 10/10 [00:00<00:00, 118.44it/s, loss=0.907]\n",
      "Epoch [837/4000]: 100%|██████████| 10/10 [00:00<00:00, 71.67it/s, loss=0.994]\n",
      "Epoch [838/4000]: 100%|██████████| 10/10 [00:00<00:00, 135.56it/s, loss=1]\n",
      "Epoch [839/4000]: 100%|██████████| 10/10 [00:00<00:00, 129.43it/s, loss=1.08]\n",
      "Epoch [840/4000]: 100%|██████████| 10/10 [00:00<00:00, 130.35it/s, loss=1.22]\n",
      "Epoch [841/4000]: 100%|██████████| 10/10 [00:00<00:00, 130.92it/s, loss=0.809]\n",
      "Epoch [842/4000]: 100%|██████████| 10/10 [00:00<00:00, 130.22it/s, loss=0.653]\n",
      "Epoch [843/4000]: 100%|██████████| 10/10 [00:00<00:00, 120.18it/s, loss=0.819]\n",
      "Epoch [844/4000]: 100%|██████████| 10/10 [00:00<00:00, 117.26it/s, loss=0.996]\n",
      "Epoch [845/4000]: 100%|██████████| 10/10 [00:00<00:00, 89.31it/s, loss=0.804]\n",
      "Epoch [846/4000]: 100%|██████████| 10/10 [00:00<00:00, 84.97it/s, loss=1.67]\n",
      "Epoch [847/4000]: 100%|██████████| 10/10 [00:00<00:00, 123.78it/s, loss=0.875]\n",
      "Epoch [848/4000]: 100%|██████████| 10/10 [00:00<00:00, 123.79it/s, loss=1.14]\n",
      "Epoch [849/4000]: 100%|██████████| 10/10 [00:00<00:00, 117.96it/s, loss=0.622]\n",
      "Epoch [850/4000]: 100%|██████████| 10/10 [00:00<00:00, 111.34it/s, loss=0.764]\n",
      "Epoch [851/4000]: 100%|██████████| 10/10 [00:00<00:00, 116.01it/s, loss=0.974]\n",
      "Epoch [852/4000]: 100%|██████████| 10/10 [00:00<00:00, 108.99it/s, loss=1.28]\n",
      "Epoch [853/4000]: 100%|██████████| 10/10 [00:00<00:00, 113.94it/s, loss=0.979]\n",
      "Epoch [854/4000]: 100%|██████████| 10/10 [00:00<00:00, 126.92it/s, loss=0.762]\n",
      "Epoch [855/4000]: 100%|██████████| 10/10 [00:00<00:00, 121.77it/s, loss=0.997]\n",
      "Epoch [856/4000]: 100%|██████████| 10/10 [00:00<00:00, 94.59it/s, loss=1.07]\n",
      "Epoch [857/4000]: 100%|██████████| 10/10 [00:00<00:00, 77.13it/s, loss=0.938]\n",
      "Epoch [858/4000]: 100%|██████████| 10/10 [00:00<00:00, 117.96it/s, loss=0.764]\n",
      "Epoch [859/4000]: 100%|██████████| 10/10 [00:00<00:00, 113.94it/s, loss=1.01]\n",
      "Epoch [860/4000]: 100%|██████████| 10/10 [00:00<00:00, 86.44it/s, loss=0.77]\n",
      "Epoch [861/4000]: 100%|██████████| 10/10 [00:00<00:00, 83.39it/s, loss=0.836]\n",
      "Epoch [862/4000]: 100%|██████████| 10/10 [00:00<00:00, 88.82it/s, loss=0.843]\n",
      "Epoch [863/4000]: 100%|██████████| 10/10 [00:00<00:00, 79.29it/s, loss=0.912]\n",
      "Epoch [864/4000]: 100%|██████████| 10/10 [00:00<00:00, 118.85it/s, loss=0.921]\n",
      "Epoch [865/4000]: 100%|██████████| 10/10 [00:00<00:00, 110.71it/s, loss=0.81]\n",
      "Epoch [866/4000]: 100%|██████████| 10/10 [00:00<00:00, 122.89it/s, loss=1.06]\n",
      "Epoch [867/4000]: 100%|██████████| 10/10 [00:00<00:00, 123.79it/s, loss=0.775]\n",
      "Epoch [868/4000]: 100%|██████████| 10/10 [00:00<00:00, 123.46it/s, loss=1.03]\n",
      "Epoch [869/4000]: 100%|██████████| 10/10 [00:00<00:00, 124.29it/s, loss=0.813]\n",
      "Epoch [870/4000]: 100%|██████████| 10/10 [00:00<00:00, 123.79it/s, loss=0.845]\n",
      "Epoch [871/4000]: 100%|██████████| 10/10 [00:00<00:00, 112.68it/s, loss=0.77]\n",
      "Epoch [872/4000]: 100%|██████████| 10/10 [00:00<00:00, 125.01it/s, loss=0.677]\n",
      "Epoch [873/4000]: 100%|██████████| 10/10 [00:00<00:00, 120.72it/s, loss=0.817]\n",
      "Epoch [874/4000]: 100%|██████████| 10/10 [00:00<00:00, 120.81it/s, loss=1.09]\n",
      "Epoch [875/4000]: 100%|██████████| 10/10 [00:00<00:00, 93.71it/s, loss=1.29]\n",
      "Epoch [876/4000]: 100%|██████████| 10/10 [00:00<00:00, 73.21it/s, loss=1.25]\n",
      "Epoch [877/4000]: 100%|██████████| 10/10 [00:00<00:00, 107.82it/s, loss=0.802]\n",
      "Epoch [878/4000]: 100%|██████████| 10/10 [00:00<00:00, 101.28it/s, loss=0.786]\n",
      "Epoch [879/4000]: 100%|██████████| 10/10 [00:00<00:00, 99.74it/s, loss=0.917]\n",
      "Epoch [880/4000]: 100%|██████████| 10/10 [00:00<00:00, 113.83it/s, loss=0.832]\n",
      "Epoch [881/4000]: 100%|██████████| 10/10 [00:00<00:00, 100.27it/s, loss=0.773]\n",
      "Epoch [882/4000]: 100%|██████████| 10/10 [00:00<00:00, 109.64it/s, loss=0.657]\n",
      "Epoch [883/4000]: 100%|██████████| 10/10 [00:00<00:00, 117.96it/s, loss=0.797]\n",
      "Epoch [884/4000]: 100%|██████████| 10/10 [00:00<00:00, 112.66it/s, loss=0.8]\n",
      "Epoch [885/4000]: 100%|██████████| 10/10 [00:00<00:00, 112.10it/s, loss=0.912]\n",
      "Epoch [886/4000]: 100%|██████████| 10/10 [00:00<00:00, 110.05it/s, loss=0.866]\n",
      "Epoch [887/4000]: 100%|██████████| 10/10 [00:00<00:00, 117.96it/s, loss=0.596]\n",
      "Epoch [888/4000]: 100%|██████████| 10/10 [00:00<00:00, 117.96it/s, loss=1.04]\n",
      "Epoch [889/4000]: 100%|██████████| 10/10 [00:00<00:00, 119.90it/s, loss=0.569]\n",
      "Epoch [890/4000]: 100%|██████████| 10/10 [00:00<00:00, 124.82it/s, loss=0.855]\n",
      "Epoch [891/4000]: 100%|██████████| 10/10 [00:00<00:00, 115.73it/s, loss=0.918]\n",
      "Epoch [892/4000]: 100%|██████████| 10/10 [00:00<00:00, 127.65it/s, loss=0.895]\n",
      "Epoch [893/4000]: 100%|██████████| 10/10 [00:00<00:00, 129.28it/s, loss=0.819]\n",
      "Epoch [894/4000]: 100%|██████████| 10/10 [00:00<00:00, 126.92it/s, loss=1.26]\n",
      "Epoch [895/4000]: 100%|██████████| 10/10 [00:00<00:00, 109.79it/s, loss=1.11]\n",
      "Epoch [896/4000]: 100%|██████████| 10/10 [00:00<00:00, 122.79it/s, loss=1.58]\n",
      "Epoch [897/4000]: 100%|██████████| 10/10 [00:00<00:00, 130.20it/s, loss=0.715]\n",
      "Epoch [898/4000]: 100%|██████████| 10/10 [00:00<00:00, 71.70it/s, loss=0.93]\n",
      "Epoch [899/4000]: 100%|██████████| 10/10 [00:00<00:00, 119.72it/s, loss=1.02]\n",
      "Epoch [900/4000]: 100%|██████████| 10/10 [00:00<00:00, 110.23it/s, loss=0.907]\n",
      "Epoch [901/4000]: 100%|██████████| 10/10 [00:00<00:00, 128.97it/s, loss=0.926]\n"
     ]
    },
    {
     "name": "stdout",
     "output_type": "stream",
     "text": [
      "Epoch [901/4000]: Train loss: 0.9649, Valid loss: 0.8900\n"
     ]
    },
    {
     "name": "stderr",
     "output_type": "stream",
     "text": [
      "Epoch [902/4000]: 100%|██████████| 10/10 [00:00<00:00, 126.92it/s, loss=0.909]\n",
      "Epoch [903/4000]: 100%|██████████| 10/10 [00:00<00:00, 128.00it/s, loss=0.669]\n",
      "Epoch [904/4000]: 100%|██████████| 10/10 [00:00<00:00, 123.79it/s, loss=0.757]\n",
      "Epoch [905/4000]: 100%|██████████| 10/10 [00:00<00:00, 133.62it/s, loss=0.711]\n",
      "Epoch [906/4000]: 100%|██████████| 10/10 [00:00<00:00, 120.24it/s, loss=1.03]\n",
      "Epoch [907/4000]: 100%|██████████| 10/10 [00:00<00:00, 134.42it/s, loss=0.645]\n",
      "Epoch [908/4000]: 100%|██████████| 10/10 [00:00<00:00, 128.54it/s, loss=0.788]\n",
      "Epoch [909/4000]: 100%|██████████| 10/10 [00:00<00:00, 134.31it/s, loss=1.05]\n",
      "Epoch [910/4000]: 100%|██████████| 10/10 [00:00<00:00, 130.49it/s, loss=0.997]\n",
      "Epoch [911/4000]: 100%|██████████| 10/10 [00:00<00:00, 130.95it/s, loss=0.816]\n",
      "Epoch [912/4000]: 100%|██████████| 10/10 [00:00<00:00, 126.91it/s, loss=0.788]\n",
      "Epoch [913/4000]: 100%|██████████| 10/10 [00:00<00:00, 106.90it/s, loss=1.1]\n",
      "Epoch [914/4000]: 100%|██████████| 10/10 [00:00<00:00, 132.51it/s, loss=0.881]\n",
      "Epoch [915/4000]: 100%|██████████| 10/10 [00:00<00:00, 135.55it/s, loss=0.847]\n",
      "Epoch [916/4000]: 100%|██████████| 10/10 [00:00<00:00, 130.26it/s, loss=0.985]\n",
      "Epoch [917/4000]: 100%|██████████| 10/10 [00:00<00:00, 130.73it/s, loss=1.13]\n",
      "Epoch [918/4000]: 100%|██████████| 10/10 [00:00<00:00, 122.28it/s, loss=0.873]\n",
      "Epoch [919/4000]: 100%|██████████| 10/10 [00:00<00:00, 110.54it/s, loss=1.26]\n",
      "Epoch [920/4000]: 100%|██████████| 10/10 [00:00<00:00, 112.66it/s, loss=0.865]\n",
      "Epoch [921/4000]: 100%|██████████| 10/10 [00:00<00:00, 106.67it/s, loss=0.972]\n",
      "Epoch [922/4000]: 100%|██████████| 10/10 [00:00<00:00, 106.67it/s, loss=0.96]\n",
      "Epoch [923/4000]: 100%|██████████| 10/10 [00:00<00:00, 111.41it/s, loss=0.834]\n",
      "Epoch [924/4000]: 100%|██████████| 10/10 [00:00<00:00, 103.37it/s, loss=0.909]\n",
      "Epoch [925/4000]: 100%|██████████| 10/10 [00:00<00:00, 103.37it/s, loss=1.38]\n",
      "Epoch [926/4000]: 100%|██████████| 10/10 [00:00<00:00, 104.45it/s, loss=0.89]\n",
      "Epoch [927/4000]: 100%|██████████| 10/10 [00:00<00:00, 98.30it/s, loss=1.03]\n",
      "Epoch [928/4000]: 100%|██████████| 10/10 [00:00<00:00, 94.59it/s, loss=0.977]\n",
      "Epoch [929/4000]: 100%|██████████| 10/10 [00:00<00:00, 102.32it/s, loss=0.894]\n",
      "Epoch [930/4000]: 100%|██████████| 10/10 [00:00<00:00, 77.13it/s, loss=0.862]\n",
      "Epoch [931/4000]: 100%|██████████| 10/10 [00:00<00:00, 74.83it/s, loss=0.739]\n",
      "Epoch [932/4000]: 100%|██████████| 10/10 [00:00<00:00, 84.97it/s, loss=0.708]\n",
      "Epoch [933/4000]: 100%|██████████| 10/10 [00:00<00:00, 75.96it/s, loss=1.22]\n",
      "Epoch [934/4000]: 100%|██████████| 10/10 [00:00<00:00, 73.19it/s, loss=0.96]\n",
      "Epoch [935/4000]: 100%|██████████| 10/10 [00:00<00:00, 62.28it/s, loss=1.01]\n",
      "Epoch [936/4000]: 100%|██████████| 10/10 [00:00<00:00, 69.15it/s, loss=0.73]\n",
      "Epoch [937/4000]: 100%|██████████| 10/10 [00:00<00:00, 78.33it/s, loss=0.863]\n",
      "Epoch [938/4000]: 100%|██████████| 10/10 [00:00<00:00, 97.35it/s, loss=1]\n",
      "Epoch [939/4000]: 100%|██████████| 10/10 [00:00<00:00, 95.49it/s, loss=0.909]\n",
      "Epoch [940/4000]: 100%|██████████| 10/10 [00:00<00:00, 100.37it/s, loss=0.918]\n",
      "Epoch [941/4000]: 100%|██████████| 10/10 [00:00<00:00, 100.27it/s, loss=0.871]\n",
      "Epoch [942/4000]: 100%|██████████| 10/10 [00:00<00:00, 83.56it/s, loss=0.86]\n",
      "Epoch [943/4000]: 100%|██████████| 10/10 [00:00<00:00, 72.13it/s, loss=0.64]\n",
      "Epoch [944/4000]: 100%|██████████| 10/10 [00:00<00:00, 82.19it/s, loss=0.984]\n",
      "Epoch [945/4000]: 100%|██████████| 10/10 [00:00<00:00, 103.17it/s, loss=1.15]\n",
      "Epoch [946/4000]: 100%|██████████| 10/10 [00:00<00:00, 98.30it/s, loss=0.845]\n",
      "Epoch [947/4000]: 100%|██████████| 10/10 [00:00<00:00, 117.96it/s, loss=1.09]\n",
      "Epoch [948/4000]: 100%|██████████| 10/10 [00:00<00:00, 96.41it/s, loss=1.2]\n",
      "Epoch [949/4000]: 100%|██████████| 10/10 [00:00<00:00, 123.79it/s, loss=0.988]\n",
      "Epoch [950/4000]: 100%|██████████| 10/10 [00:00<00:00, 128.55it/s, loss=1.2]\n",
      "Epoch [951/4000]: 100%|██████████| 10/10 [00:00<00:00, 74.27it/s, loss=0.696]\n",
      "Epoch [952/4000]: 100%|██████████| 10/10 [00:00<00:00, 72.15it/s, loss=0.997]\n",
      "Epoch [953/4000]: 100%|██████████| 10/10 [00:00<00:00, 89.48it/s, loss=0.63]\n",
      "Epoch [954/4000]: 100%|██████████| 10/10 [00:00<00:00, 80.86it/s, loss=0.743]\n",
      "Epoch [955/4000]: 100%|██████████| 10/10 [00:00<00:00, 110.19it/s, loss=0.733]\n",
      "Epoch [956/4000]: 100%|██████████| 10/10 [00:00<00:00, 118.79it/s, loss=0.803]\n",
      "Epoch [957/4000]: 100%|██████████| 10/10 [00:00<00:00, 97.38it/s, loss=0.791]\n",
      "Epoch [958/4000]: 100%|██████████| 10/10 [00:00<00:00, 106.67it/s, loss=0.634]\n",
      "Epoch [959/4000]: 100%|██████████| 10/10 [00:00<00:00, 69.15it/s, loss=0.825]\n",
      "Epoch [960/4000]: 100%|██████████| 10/10 [00:00<00:00, 110.19it/s, loss=0.792]\n",
      "Epoch [961/4000]: 100%|██████████| 10/10 [00:00<00:00, 65.53it/s, loss=0.926]\n",
      "Epoch [962/4000]: 100%|██████████| 10/10 [00:00<00:00, 84.97it/s, loss=0.896]\n",
      "Epoch [963/4000]: 100%|██████████| 10/10 [00:00<00:00, 87.95it/s, loss=0.824]\n",
      "Epoch [964/4000]: 100%|██████████| 10/10 [00:00<00:00, 68.21it/s, loss=0.897]\n",
      "Epoch [965/4000]: 100%|██████████| 10/10 [00:00<00:00, 71.62it/s, loss=0.914]\n",
      "Epoch [966/4000]: 100%|██████████| 10/10 [00:00<00:00, 91.15it/s, loss=1.3]\n",
      "Epoch [967/4000]: 100%|██████████| 10/10 [00:00<00:00, 62.67it/s, loss=1.11]\n",
      "Epoch [968/4000]: 100%|██████████| 10/10 [00:00<00:00, 82.87it/s, loss=1.01]\n",
      "Epoch [969/4000]: 100%|██████████| 10/10 [00:00<00:00, 85.70it/s, loss=1.24]\n",
      "Epoch [970/4000]: 100%|██████████| 10/10 [00:00<00:00, 85.70it/s, loss=0.784]\n",
      "Epoch [971/4000]: 100%|██████████| 10/10 [00:00<00:00, 77.13it/s, loss=1.01]\n",
      "Epoch [972/4000]: 100%|██████████| 10/10 [00:00<00:00, 88.73it/s, loss=0.779]\n",
      "Epoch [973/4000]: 100%|██████████| 10/10 [00:00<00:00, 60.04it/s, loss=0.847]\n",
      "Epoch [974/4000]: 100%|██████████| 10/10 [00:00<00:00, 61.14it/s, loss=0.928]\n",
      "Epoch [975/4000]: 100%|██████████| 10/10 [00:00<00:00, 61.14it/s, loss=1.16]\n",
      "Epoch [976/4000]: 100%|██████████| 10/10 [00:00<00:00, 56.33it/s, loss=0.856]\n",
      "Epoch [977/4000]: 100%|██████████| 10/10 [00:00<00:00, 93.13it/s, loss=1.01]\n",
      "Epoch [978/4000]: 100%|██████████| 10/10 [00:00<00:00, 110.18it/s, loss=0.627]\n",
      "Epoch [979/4000]: 100%|██████████| 10/10 [00:00<00:00, 72.66it/s, loss=1.32]\n",
      "Epoch [980/4000]: 100%|██████████| 10/10 [00:00<00:00, 68.21it/s, loss=0.754]\n",
      "Epoch [981/4000]: 100%|██████████| 10/10 [00:00<00:00, 100.27it/s, loss=1.19]\n",
      "Epoch [982/4000]: 100%|██████████| 10/10 [00:00<00:00, 61.14it/s, loss=0.88]\n",
      "Epoch [983/4000]: 100%|██████████| 10/10 [00:00<00:00, 73.19it/s, loss=1.03]\n",
      "Epoch [984/4000]: 100%|██████████| 10/10 [00:00<00:00, 87.95it/s, loss=1.36]\n",
      "Epoch [985/4000]: 100%|██████████| 10/10 [00:00<00:00, 75.39it/s, loss=0.814]\n",
      "Epoch [986/4000]: 100%|██████████| 10/10 [00:00<00:00, 80.21it/s, loss=0.796]\n",
      "Epoch [987/4000]: 100%|██████████| 10/10 [00:00<00:00, 77.73it/s, loss=0.968]\n",
      "Epoch [988/4000]: 100%|██████████| 10/10 [00:00<00:00, 107.95it/s, loss=0.715]\n",
      "Epoch [989/4000]: 100%|██████████| 10/10 [00:00<00:00, 113.99it/s, loss=1.04]\n",
      "Epoch [990/4000]: 100%|██████████| 10/10 [00:00<00:00, 112.38it/s, loss=0.665]\n",
      "Epoch [991/4000]: 100%|██████████| 10/10 [00:00<00:00, 123.72it/s, loss=1.13]\n",
      "Epoch [992/4000]: 100%|██████████| 10/10 [00:00<00:00, 119.22it/s, loss=0.837]\n",
      "Epoch [993/4000]: 100%|██████████| 10/10 [00:00<00:00, 122.28it/s, loss=1.03]\n",
      "Epoch [994/4000]: 100%|██████████| 10/10 [00:00<00:00, 130.26it/s, loss=0.609]\n",
      "Epoch [995/4000]: 100%|██████████| 10/10 [00:00<00:00, 115.96it/s, loss=0.911]\n",
      "Epoch [996/4000]: 100%|██████████| 10/10 [00:00<00:00, 87.25it/s, loss=1.15]\n",
      "Epoch [997/4000]: 100%|██████████| 10/10 [00:00<00:00, 113.99it/s, loss=1.21]\n",
      "Epoch [998/4000]: 100%|██████████| 10/10 [00:00<00:00, 116.66it/s, loss=0.84]\n",
      "Epoch [999/4000]: 100%|██████████| 10/10 [00:00<00:00, 112.73it/s, loss=1.02]\n",
      "Epoch [1000/4000]: 100%|██████████| 10/10 [00:00<00:00, 125.46it/s, loss=0.978]\n",
      "Epoch [1001/4000]: 100%|██████████| 10/10 [00:00<00:00, 133.57it/s, loss=0.927]\n"
     ]
    },
    {
     "name": "stdout",
     "output_type": "stream",
     "text": [
      "Epoch [1001/4000]: Train loss: 0.9420, Valid loss: 1.0049\n"
     ]
    },
    {
     "name": "stderr",
     "output_type": "stream",
     "text": [
      "Epoch [1002/4000]: 100%|██████████| 10/10 [00:00<00:00, 122.28it/s, loss=1.22]\n",
      "Epoch [1003/4000]: 100%|██████████| 10/10 [00:00<00:00, 81.87it/s, loss=0.836]\n",
      "Epoch [1004/4000]: 100%|██████████| 10/10 [00:00<00:00, 120.80it/s, loss=1.14]\n",
      "Epoch [1005/4000]: 100%|██████████| 10/10 [00:00<00:00, 126.92it/s, loss=0.89]\n",
      "Epoch [1006/4000]: 100%|██████████| 10/10 [00:00<00:00, 117.68it/s, loss=0.969]\n",
      "Epoch [1007/4000]: 100%|██████████| 10/10 [00:00<00:00, 120.50it/s, loss=0.61]\n",
      "Epoch [1008/4000]: 100%|██████████| 10/10 [00:00<00:00, 122.28it/s, loss=0.727]\n",
      "Epoch [1009/4000]: 100%|██████████| 10/10 [00:00<00:00, 105.34it/s, loss=1.23]\n",
      "Epoch [1010/4000]: 100%|██████████| 10/10 [00:00<00:00, 84.32it/s, loss=0.824]\n",
      "Epoch [1011/4000]: 100%|██████████| 10/10 [00:00<00:00, 94.64it/s, loss=0.983]\n",
      "Epoch [1012/4000]: 100%|██████████| 10/10 [00:00<00:00, 89.55it/s, loss=0.746]\n",
      "Epoch [1013/4000]: 100%|██████████| 10/10 [00:00<00:00, 100.31it/s, loss=1.29]\n",
      "Epoch [1014/4000]: 100%|██████████| 10/10 [00:00<00:00, 101.28it/s, loss=0.849]\n",
      "Epoch [1015/4000]: 100%|██████████| 10/10 [00:00<00:00, 128.55it/s, loss=0.721]\n",
      "Epoch [1016/4000]: 100%|██████████| 10/10 [00:00<00:00, 125.34it/s, loss=0.759]\n",
      "Epoch [1017/4000]: 100%|██████████| 10/10 [00:00<00:00, 89.17it/s, loss=0.784]\n",
      "Epoch [1018/4000]: 100%|██████████| 10/10 [00:00<00:00, 81.54it/s, loss=0.711]\n",
      "Epoch [1019/4000]: 100%|██████████| 10/10 [00:00<00:00, 93.71it/s, loss=0.903]\n",
      "Epoch [1020/4000]: 100%|██████████| 10/10 [00:00<00:00, 102.31it/s, loss=1.13]\n",
      "Epoch [1021/4000]: 100%|██████████| 10/10 [00:00<00:00, 103.41it/s, loss=1.09]\n",
      "Epoch [1022/4000]: 100%|██████████| 10/10 [00:00<00:00, 103.71it/s, loss=1.15]\n",
      "Epoch [1023/4000]: 100%|██████████| 10/10 [00:00<00:00, 115.25it/s, loss=1.47]\n",
      "Epoch [1024/4000]: 100%|██████████| 10/10 [00:00<00:00, 96.41it/s, loss=1.68]\n",
      "Epoch [1025/4000]: 100%|██████████| 10/10 [00:00<00:00, 75.69it/s, loss=1.24]\n",
      "Epoch [1026/4000]: 100%|██████████| 10/10 [00:00<00:00, 88.14it/s, loss=1.26]\n",
      "Epoch [1027/4000]: 100%|██████████| 10/10 [00:00<00:00, 117.96it/s, loss=0.792]\n",
      "Epoch [1028/4000]: 100%|██████████| 10/10 [00:00<00:00, 116.59it/s, loss=0.75]\n",
      "Epoch [1029/4000]: 100%|██████████| 10/10 [00:00<00:00, 131.93it/s, loss=1.06]\n",
      "Epoch [1030/4000]: 100%|██████████| 10/10 [00:00<00:00, 133.69it/s, loss=0.762]\n",
      "Epoch [1031/4000]: 100%|██████████| 10/10 [00:00<00:00, 131.93it/s, loss=0.838]\n",
      "Epoch [1032/4000]: 100%|██████████| 10/10 [00:00<00:00, 135.08it/s, loss=0.734]\n",
      "Epoch [1033/4000]: 100%|██████████| 10/10 [00:00<00:00, 125.38it/s, loss=0.942]\n",
      "Epoch [1034/4000]: 100%|██████████| 10/10 [00:00<00:00, 123.72it/s, loss=0.908]\n",
      "Epoch [1035/4000]: 100%|██████████| 10/10 [00:00<00:00, 125.33it/s, loss=0.743]\n",
      "Epoch [1036/4000]: 100%|██████████| 10/10 [00:00<00:00, 128.55it/s, loss=0.769]\n",
      "Epoch [1037/4000]: 100%|██████████| 10/10 [00:00<00:00, 125.34it/s, loss=0.682]\n",
      "Epoch [1038/4000]: 100%|██████████| 10/10 [00:00<00:00, 122.25it/s, loss=1.31]\n",
      "Epoch [1039/4000]: 100%|██████████| 10/10 [00:00<00:00, 124.83it/s, loss=1.01]\n",
      "Epoch [1040/4000]: 100%|██████████| 10/10 [00:00<00:00, 119.36it/s, loss=0.939]\n",
      "Epoch [1041/4000]: 100%|██████████| 10/10 [00:00<00:00, 131.87it/s, loss=1.04]\n",
      "Epoch [1042/4000]: 100%|██████████| 10/10 [00:00<00:00, 129.29it/s, loss=0.818]\n",
      "Epoch [1043/4000]: 100%|██████████| 10/10 [00:00<00:00, 121.35it/s, loss=1.26]\n",
      "Epoch [1044/4000]: 100%|██████████| 10/10 [00:00<00:00, 128.54it/s, loss=0.809]\n",
      "Epoch [1045/4000]: 100%|██████████| 10/10 [00:00<00:00, 130.53it/s, loss=0.904]\n",
      "Epoch [1046/4000]: 100%|██████████| 10/10 [00:00<00:00, 130.22it/s, loss=0.665]\n",
      "Epoch [1047/4000]: 100%|██████████| 10/10 [00:00<00:00, 123.79it/s, loss=0.986]\n",
      "Epoch [1048/4000]: 100%|██████████| 10/10 [00:00<00:00, 132.46it/s, loss=0.874]\n",
      "Epoch [1049/4000]: 100%|██████████| 10/10 [00:00<00:00, 125.39it/s, loss=1.11]\n",
      "Epoch [1050/4000]: 100%|██████████| 10/10 [00:00<00:00, 135.57it/s, loss=0.934]\n",
      "Epoch [1051/4000]: 100%|██████████| 10/10 [00:00<00:00, 123.81it/s, loss=1.18]\n",
      "Epoch [1052/4000]: 100%|██████████| 10/10 [00:00<00:00, 110.18it/s, loss=0.932]\n",
      "Epoch [1053/4000]: 100%|██████████| 10/10 [00:00<00:00, 108.99it/s, loss=0.69]\n",
      "Epoch [1054/4000]: 100%|██████████| 10/10 [00:00<00:00, 111.41it/s, loss=1.05]\n",
      "Epoch [1055/4000]: 100%|██████████| 10/10 [00:00<00:00, 102.31it/s, loss=0.508]\n",
      "Epoch [1056/4000]: 100%|██████████| 10/10 [00:00<00:00, 111.41it/s, loss=0.657]\n",
      "Epoch [1057/4000]: 100%|██████████| 10/10 [00:00<00:00, 105.54it/s, loss=1.04]\n",
      "Epoch [1058/4000]: 100%|██████████| 10/10 [00:00<00:00, 110.19it/s, loss=0.86]\n",
      "Epoch [1059/4000]: 100%|██████████| 10/10 [00:00<00:00, 104.45it/s, loss=0.77]\n",
      "Epoch [1060/4000]: 100%|██████████| 10/10 [00:00<00:00, 103.36it/s, loss=0.737]\n",
      "Epoch [1061/4000]: 100%|██████████| 10/10 [00:00<00:00, 104.45it/s, loss=0.851]\n",
      "Epoch [1062/4000]: 100%|██████████| 10/10 [00:00<00:00, 102.31it/s, loss=0.848]\n",
      "Epoch [1063/4000]: 100%|██████████| 10/10 [00:00<00:00, 105.54it/s, loss=0.853]\n",
      "Epoch [1064/4000]: 100%|██████████| 10/10 [00:00<00:00, 112.66it/s, loss=0.764]\n",
      "Epoch [1065/4000]: 100%|██████████| 10/10 [00:00<00:00, 107.81it/s, loss=0.928]\n",
      "Epoch [1066/4000]: 100%|██████████| 10/10 [00:00<00:00, 107.82it/s, loss=0.734]\n",
      "Epoch [1067/4000]: 100%|██████████| 10/10 [00:00<00:00, 93.71it/s, loss=0.888]\n",
      "Epoch [1068/4000]: 100%|██████████| 10/10 [00:00<00:00, 107.81it/s, loss=0.553]\n",
      "Epoch [1069/4000]: 100%|██████████| 10/10 [00:00<00:00, 110.18it/s, loss=0.748]\n",
      "Epoch [1070/4000]: 100%|██████████| 10/10 [00:00<00:00, 115.25it/s, loss=0.664]\n",
      "Epoch [1071/4000]: 100%|██████████| 10/10 [00:00<00:00, 107.81it/s, loss=0.897]\n",
      "Epoch [1072/4000]: 100%|██████████| 10/10 [00:00<00:00, 95.49it/s, loss=0.842]\n",
      "Epoch [1073/4000]: 100%|██████████| 10/10 [00:00<00:00, 94.59it/s, loss=0.955]\n",
      "Epoch [1074/4000]: 100%|██████████| 10/10 [00:00<00:00, 94.59it/s, loss=0.622]\n",
      "Epoch [1075/4000]: 100%|██████████| 10/10 [00:00<00:00, 85.70it/s, loss=1.12]\n",
      "Epoch [1076/4000]: 100%|██████████| 10/10 [00:00<00:00, 105.55it/s, loss=1.25]\n",
      "Epoch [1077/4000]: 100%|██████████| 10/10 [00:00<00:00, 117.96it/s, loss=0.881]\n",
      "Epoch [1078/4000]: 100%|██████████| 10/10 [00:00<00:00, 110.97it/s, loss=0.886]\n",
      "Epoch [1079/4000]: 100%|██████████| 10/10 [00:00<00:00, 101.28it/s, loss=0.763]\n",
      "Epoch [1080/4000]: 100%|██████████| 10/10 [00:00<00:00, 113.90it/s, loss=1.26]\n",
      "Epoch [1081/4000]: 100%|██████████| 10/10 [00:00<00:00, 117.96it/s, loss=0.778]\n",
      "Epoch [1082/4000]: 100%|██████████| 10/10 [00:00<00:00, 69.23it/s, loss=0.812]\n",
      "Epoch [1083/4000]: 100%|██████████| 10/10 [00:00<00:00, 125.34it/s, loss=0.774]\n",
      "Epoch [1084/4000]: 100%|██████████| 10/10 [00:00<00:00, 127.12it/s, loss=1.36]\n",
      "Epoch [1085/4000]: 100%|██████████| 10/10 [00:00<00:00, 135.28it/s, loss=0.815]\n",
      "Epoch [1086/4000]: 100%|██████████| 10/10 [00:00<00:00, 123.22it/s, loss=0.871]\n",
      "Epoch [1087/4000]: 100%|██████████| 10/10 [00:00<00:00, 128.60it/s, loss=0.792]\n",
      "Epoch [1088/4000]: 100%|██████████| 10/10 [00:00<00:00, 122.28it/s, loss=0.64]\n",
      "Epoch [1089/4000]: 100%|██████████| 10/10 [00:00<00:00, 121.02it/s, loss=0.736]\n",
      "Epoch [1090/4000]: 100%|██████████| 10/10 [00:00<00:00, 118.30it/s, loss=0.956]\n",
      "Epoch [1091/4000]: 100%|██████████| 10/10 [00:00<00:00, 132.47it/s, loss=0.887]\n",
      "Epoch [1092/4000]: 100%|██████████| 10/10 [00:00<00:00, 125.33it/s, loss=1.06]\n",
      "Epoch [1093/4000]: 100%|██████████| 10/10 [00:00<00:00, 121.16it/s, loss=0.779]\n",
      "Epoch [1094/4000]: 100%|██████████| 10/10 [00:00<00:00, 130.95it/s, loss=0.896]\n",
      "Epoch [1095/4000]: 100%|██████████| 10/10 [00:00<00:00, 131.99it/s, loss=1.18]\n",
      "Epoch [1096/4000]: 100%|██████████| 10/10 [00:00<00:00, 128.49it/s, loss=1.08]\n",
      "Epoch [1097/4000]: 100%|██████████| 10/10 [00:00<00:00, 130.15it/s, loss=1.34]\n",
      "Epoch [1098/4000]: 100%|██████████| 10/10 [00:00<00:00, 128.46it/s, loss=0.886]\n",
      "Epoch [1099/4000]: 100%|██████████| 10/10 [00:00<00:00, 125.91it/s, loss=0.447]\n",
      "Epoch [1100/4000]: 100%|██████████| 10/10 [00:00<00:00, 127.64it/s, loss=0.861]\n",
      "Epoch [1101/4000]: 100%|██████████| 10/10 [00:00<00:00, 124.63it/s, loss=0.622]\n"
     ]
    },
    {
     "name": "stdout",
     "output_type": "stream",
     "text": [
      "Epoch [1101/4000]: Train loss: 0.9362, Valid loss: 0.9298\n"
     ]
    },
    {
     "name": "stderr",
     "output_type": "stream",
     "text": [
      "Epoch [1102/4000]: 100%|██████████| 10/10 [00:00<00:00, 130.58it/s, loss=0.999]\n",
      "Epoch [1103/4000]: 100%|██████████| 10/10 [00:00<00:00, 135.21it/s, loss=0.709]\n",
      "Epoch [1104/4000]: 100%|██████████| 10/10 [00:00<00:00, 131.93it/s, loss=0.917]\n",
      "Epoch [1105/4000]: 100%|██████████| 10/10 [00:00<00:00, 126.25it/s, loss=1.72]\n",
      "Epoch [1106/4000]: 100%|██████████| 10/10 [00:00<00:00, 135.50it/s, loss=0.766]\n",
      "Epoch [1107/4000]: 100%|██████████| 10/10 [00:00<00:00, 136.51it/s, loss=0.883]\n",
      "Epoch [1108/4000]: 100%|██████████| 10/10 [00:00<00:00, 135.49it/s, loss=0.696]\n",
      "Epoch [1109/4000]: 100%|██████████| 10/10 [00:00<00:00, 117.61it/s, loss=0.89]\n",
      "Epoch [1110/4000]: 100%|██████████| 10/10 [00:00<00:00, 123.78it/s, loss=1.1]\n",
      "Epoch [1111/4000]: 100%|██████████| 10/10 [00:00<00:00, 109.17it/s, loss=0.922]\n",
      "Epoch [1112/4000]: 100%|██████████| 10/10 [00:00<00:00, 118.14it/s, loss=1.26]\n",
      "Epoch [1113/4000]: 100%|██████████| 10/10 [00:00<00:00, 137.23it/s, loss=0.856]\n",
      "Epoch [1114/4000]: 100%|██████████| 10/10 [00:00<00:00, 131.93it/s, loss=0.852]\n",
      "Epoch [1115/4000]: 100%|██████████| 10/10 [00:00<00:00, 123.78it/s, loss=0.93]\n",
      "Epoch [1116/4000]: 100%|██████████| 10/10 [00:00<00:00, 101.20it/s, loss=0.94]\n",
      "Epoch [1117/4000]: 100%|██████████| 10/10 [00:00<00:00, 89.53it/s, loss=0.871]\n",
      "Epoch [1118/4000]: 100%|██████████| 10/10 [00:00<00:00, 132.27it/s, loss=1.17]\n",
      "Epoch [1119/4000]: 100%|██████████| 10/10 [00:00<00:00, 131.36it/s, loss=0.831]\n",
      "Epoch [1120/4000]: 100%|██████████| 10/10 [00:00<00:00, 120.81it/s, loss=1.03]\n",
      "Epoch [1121/4000]: 100%|██████████| 10/10 [00:00<00:00, 130.56it/s, loss=0.835]\n",
      "Epoch [1122/4000]: 100%|██████████| 10/10 [00:00<00:00, 123.78it/s, loss=0.887]\n",
      "Epoch [1123/4000]: 100%|██████████| 10/10 [00:00<00:00, 127.31it/s, loss=1.14]\n",
      "Epoch [1124/4000]: 100%|██████████| 10/10 [00:00<00:00, 128.31it/s, loss=0.961]\n",
      "Epoch [1125/4000]: 100%|██████████| 10/10 [00:00<00:00, 117.96it/s, loss=0.993]\n",
      "Epoch [1126/4000]: 100%|██████████| 10/10 [00:00<00:00, 111.31it/s, loss=0.707]\n",
      "Epoch [1127/4000]: 100%|██████████| 10/10 [00:00<00:00, 115.25it/s, loss=1.14]\n",
      "Epoch [1128/4000]: 100%|██████████| 10/10 [00:00<00:00, 87.95it/s, loss=0.957]\n",
      "Epoch [1129/4000]: 100%|██████████| 10/10 [00:00<00:00, 125.33it/s, loss=0.989]\n",
      "Epoch [1130/4000]: 100%|██████████| 10/10 [00:00<00:00, 95.49it/s, loss=0.956]\n",
      "Epoch [1131/4000]: 100%|██████████| 10/10 [00:00<00:00, 89.53it/s, loss=1.02]\n",
      "Epoch [1132/4000]: 100%|██████████| 10/10 [00:00<00:00, 63.46it/s, loss=0.715]\n",
      "Epoch [1133/4000]: 100%|██████████| 10/10 [00:00<00:00, 113.94it/s, loss=0.672]\n",
      "Epoch [1134/4000]: 100%|██████████| 10/10 [00:00<00:00, 123.79it/s, loss=0.857]\n",
      "Epoch [1135/4000]: 100%|██████████| 10/10 [00:00<00:00, 123.34it/s, loss=0.952]\n",
      "Epoch [1136/4000]: 100%|██████████| 10/10 [00:00<00:00, 126.92it/s, loss=1.1]\n",
      "Epoch [1137/4000]: 100%|██████████| 10/10 [00:00<00:00, 130.36it/s, loss=1.17]\n",
      "Epoch [1138/4000]: 100%|██████████| 10/10 [00:00<00:00, 130.22it/s, loss=1.08]\n",
      "Epoch [1139/4000]: 100%|██████████| 10/10 [00:00<00:00, 133.09it/s, loss=1.18]\n",
      "Epoch [1140/4000]: 100%|██████████| 10/10 [00:00<00:00, 136.30it/s, loss=0.719]\n",
      "Epoch [1141/4000]: 100%|██████████| 10/10 [00:00<00:00, 137.35it/s, loss=1]\n",
      "Epoch [1142/4000]: 100%|██████████| 10/10 [00:00<00:00, 137.41it/s, loss=1.06]\n",
      "Epoch [1143/4000]: 100%|██████████| 10/10 [00:00<00:00, 74.83it/s, loss=0.915]\n",
      "Epoch [1144/4000]: 100%|██████████| 10/10 [00:00<00:00, 108.87it/s, loss=0.835]\n",
      "Epoch [1145/4000]: 100%|██████████| 10/10 [00:00<00:00, 115.25it/s, loss=0.996]\n",
      "Epoch [1146/4000]: 100%|██████████| 10/10 [00:00<00:00, 95.49it/s, loss=0.613]\n",
      "Epoch [1147/4000]: 100%|██████████| 10/10 [00:00<00:00, 126.17it/s, loss=0.979]\n",
      "Epoch [1148/4000]: 100%|██████████| 10/10 [00:00<00:00, 89.13it/s, loss=1.09]\n",
      "Epoch [1149/4000]: 100%|██████████| 10/10 [00:00<00:00, 129.22it/s, loss=0.946]\n",
      "Epoch [1150/4000]: 100%|██████████| 10/10 [00:00<00:00, 133.69it/s, loss=0.701]\n",
      "Epoch [1151/4000]: 100%|██████████| 10/10 [00:00<00:00, 136.75it/s, loss=0.64]\n",
      "Epoch [1152/4000]: 100%|██████████| 10/10 [00:00<00:00, 133.50it/s, loss=0.926]\n",
      "Epoch [1153/4000]: 100%|██████████| 10/10 [00:00<00:00, 137.29it/s, loss=1.1]\n",
      "Epoch [1154/4000]: 100%|██████████| 10/10 [00:00<00:00, 139.24it/s, loss=0.776]\n",
      "Epoch [1155/4000]: 100%|██████████| 10/10 [00:00<00:00, 139.20it/s, loss=0.843]\n",
      "Epoch [1156/4000]: 100%|██████████| 10/10 [00:00<00:00, 135.43it/s, loss=0.607]\n",
      "Epoch [1157/4000]: 100%|██████████| 10/10 [00:00<00:00, 135.73it/s, loss=0.849]\n",
      "Epoch [1158/4000]: 100%|██████████| 10/10 [00:00<00:00, 137.24it/s, loss=0.733]\n",
      "Epoch [1159/4000]: 100%|██████████| 10/10 [00:00<00:00, 135.80it/s, loss=0.992]\n",
      "Epoch [1160/4000]: 100%|██████████| 10/10 [00:00<00:00, 137.35it/s, loss=1.03]\n",
      "Epoch [1161/4000]: 100%|██████████| 10/10 [00:00<00:00, 121.12it/s, loss=0.938]\n",
      "Epoch [1162/4000]: 100%|██████████| 10/10 [00:00<00:00, 126.98it/s, loss=1.1]\n",
      "Epoch [1163/4000]: 100%|██████████| 10/10 [00:00<00:00, 108.98it/s, loss=1.06]\n",
      "Epoch [1164/4000]: 100%|██████████| 10/10 [00:00<00:00, 113.99it/s, loss=0.909]\n",
      "Epoch [1165/4000]: 100%|██████████| 10/10 [00:00<00:00, 75.98it/s, loss=1.18]\n",
      "Epoch [1166/4000]: 100%|██████████| 10/10 [00:00<00:00, 105.55it/s, loss=0.868]\n",
      "Epoch [1167/4000]: 100%|██████████| 10/10 [00:00<00:00, 90.36it/s, loss=1.11]\n",
      "Epoch [1168/4000]: 100%|██████████| 10/10 [00:00<00:00, 122.28it/s, loss=0.9]\n",
      "Epoch [1169/4000]: 100%|██████████| 10/10 [00:00<00:00, 135.56it/s, loss=0.85]\n",
      "Epoch [1170/4000]: 100%|██████████| 10/10 [00:00<00:00, 133.67it/s, loss=0.63]\n",
      "Epoch [1171/4000]: 100%|██████████| 10/10 [00:00<00:00, 131.93it/s, loss=0.807]\n",
      "Epoch [1172/4000]: 100%|██████████| 10/10 [00:00<00:00, 128.61it/s, loss=0.831]\n",
      "Epoch [1173/4000]: 100%|██████████| 10/10 [00:00<00:00, 122.33it/s, loss=0.874]\n",
      "Epoch [1174/4000]: 100%|██████████| 10/10 [00:00<00:00, 126.92it/s, loss=0.723]\n",
      "Epoch [1175/4000]: 100%|██████████| 10/10 [00:00<00:00, 126.92it/s, loss=1]\n",
      "Epoch [1176/4000]: 100%|██████████| 10/10 [00:00<00:00, 137.31it/s, loss=0.68]\n",
      "Epoch [1177/4000]: 100%|██████████| 10/10 [00:00<00:00, 136.90it/s, loss=0.931]\n",
      "Epoch [1178/4000]: 100%|██████████| 10/10 [00:00<00:00, 140.22it/s, loss=1.09]\n",
      "Epoch [1179/4000]: 100%|██████████| 10/10 [00:00<00:00, 85.70it/s, loss=1.1] \n",
      "Epoch [1180/4000]: 100%|██████████| 10/10 [00:00<00:00, 117.91it/s, loss=0.54]\n",
      "Epoch [1181/4000]: 100%|██████████| 10/10 [00:00<00:00, 100.27it/s, loss=1.25]\n",
      "Epoch [1182/4000]: 100%|██████████| 10/10 [00:00<00:00, 119.42it/s, loss=0.914]\n",
      "Epoch [1183/4000]: 100%|██████████| 10/10 [00:00<00:00, 137.35it/s, loss=1.43]\n",
      "Epoch [1184/4000]: 100%|██████████| 10/10 [00:00<00:00, 135.49it/s, loss=1.12]\n",
      "Epoch [1185/4000]: 100%|██████████| 10/10 [00:00<00:00, 131.90it/s, loss=0.887]\n",
      "Epoch [1186/4000]: 100%|██████████| 10/10 [00:00<00:00, 116.59it/s, loss=0.774]\n",
      "Epoch [1187/4000]: 100%|██████████| 10/10 [00:00<00:00, 112.61it/s, loss=1.01]\n",
      "Epoch [1188/4000]: 100%|██████████| 10/10 [00:00<00:00, 112.66it/s, loss=1.12]\n",
      "Epoch [1189/4000]: 100%|██████████| 10/10 [00:00<00:00, 87.19it/s, loss=0.749]\n",
      "Epoch [1190/4000]: 100%|██████████| 10/10 [00:00<00:00, 82.86it/s, loss=0.944]\n",
      "Epoch [1191/4000]: 100%|██████████| 10/10 [00:00<00:00, 119.32it/s, loss=0.796]\n",
      "Epoch [1192/4000]: 100%|██████████| 10/10 [00:00<00:00, 129.29it/s, loss=0.716]\n",
      "Epoch [1193/4000]: 100%|██████████| 10/10 [00:00<00:00, 125.34it/s, loss=0.895]\n",
      "Epoch [1194/4000]: 100%|██████████| 10/10 [00:00<00:00, 125.73it/s, loss=0.832]\n",
      "Epoch [1195/4000]: 100%|██████████| 10/10 [00:00<00:00, 108.99it/s, loss=1.58]\n",
      "Epoch [1196/4000]: 100%|██████████| 10/10 [00:00<00:00, 89.52it/s, loss=0.866]\n",
      "Epoch [1197/4000]: 100%|██████████| 10/10 [00:00<00:00, 126.92it/s, loss=1.1]\n",
      "Epoch [1198/4000]: 100%|██████████| 10/10 [00:00<00:00, 131.87it/s, loss=1.06]\n",
      "Epoch [1199/4000]: 100%|██████████| 10/10 [00:00<00:00, 130.27it/s, loss=0.709]\n",
      "Epoch [1200/4000]: 100%|██████████| 10/10 [00:00<00:00, 137.17it/s, loss=1.24]\n",
      "Epoch [1201/4000]: 100%|██████████| 10/10 [00:00<00:00, 128.55it/s, loss=0.888]\n"
     ]
    },
    {
     "name": "stdout",
     "output_type": "stream",
     "text": [
      "Epoch [1201/4000]: Train loss: 0.8991, Valid loss: 0.8926\n"
     ]
    },
    {
     "name": "stderr",
     "output_type": "stream",
     "text": [
      "Epoch [1202/4000]: 100%|██████████| 10/10 [00:00<00:00, 119.42it/s, loss=0.794]\n",
      "Epoch [1203/4000]: 100%|██████████| 10/10 [00:00<00:00, 107.82it/s, loss=0.816]\n",
      "Epoch [1204/4000]: 100%|██████████| 10/10 [00:00<00:00, 53.62it/s, loss=1]   \n",
      "Epoch [1205/4000]: 100%|██████████| 10/10 [00:00<00:00, 70.61it/s, loss=0.828]\n",
      "Epoch [1206/4000]: 100%|██████████| 10/10 [00:00<00:00, 100.84it/s, loss=1.02]\n",
      "Epoch [1207/4000]: 100%|██████████| 10/10 [00:00<00:00, 128.61it/s, loss=0.93]\n",
      "Epoch [1208/4000]: 100%|██████████| 10/10 [00:00<00:00, 133.69it/s, loss=0.935]\n",
      "Epoch [1209/4000]: 100%|██████████| 10/10 [00:00<00:00, 130.56it/s, loss=0.899]\n",
      "Epoch [1210/4000]: 100%|██████████| 10/10 [00:00<00:00, 130.22it/s, loss=0.985]\n",
      "Epoch [1211/4000]: 100%|██████████| 10/10 [00:00<00:00, 108.98it/s, loss=0.962]\n",
      "Epoch [1212/4000]: 100%|██████████| 10/10 [00:00<00:00, 117.96it/s, loss=0.865]\n",
      "Epoch [1213/4000]: 100%|██████████| 10/10 [00:00<00:00, 122.28it/s, loss=1]\n",
      "Epoch [1214/4000]: 100%|██████████| 10/10 [00:00<00:00, 111.41it/s, loss=0.924]\n",
      "Epoch [1215/4000]: 100%|██████████| 10/10 [00:00<00:00, 117.96it/s, loss=0.962]\n",
      "Epoch [1216/4000]: 100%|██████████| 10/10 [00:00<00:00, 123.78it/s, loss=0.892]\n",
      "Epoch [1217/4000]: 100%|██████████| 10/10 [00:00<00:00, 112.66it/s, loss=0.76]\n",
      "Epoch [1218/4000]: 100%|██████████| 10/10 [00:00<00:00, 114.23it/s, loss=1.13]\n",
      "Epoch [1219/4000]: 100%|██████████| 10/10 [00:00<00:00, 113.94it/s, loss=1.1]\n",
      "Epoch [1220/4000]: 100%|██████████| 10/10 [00:00<00:00, 107.81it/s, loss=1.46]\n",
      "Epoch [1221/4000]: 100%|██████████| 10/10 [00:00<00:00, 113.94it/s, loss=0.897]\n",
      "Epoch [1222/4000]: 100%|██████████| 10/10 [00:00<00:00, 104.45it/s, loss=1.14]\n",
      "Epoch [1223/4000]: 100%|██████████| 10/10 [00:00<00:00, 110.18it/s, loss=1.16]\n",
      "Epoch [1224/4000]: 100%|██████████| 10/10 [00:00<00:00, 102.31it/s, loss=1.49]\n",
      "Epoch [1225/4000]: 100%|██████████| 10/10 [00:00<00:00, 108.99it/s, loss=1.04]\n",
      "Epoch [1226/4000]: 100%|██████████| 10/10 [00:00<00:00, 100.27it/s, loss=1.35]\n",
      "Epoch [1227/4000]: 100%|██████████| 10/10 [00:00<00:00, 108.99it/s, loss=1.01]\n",
      "Epoch [1228/4000]: 100%|██████████| 10/10 [00:00<00:00, 105.54it/s, loss=0.719]\n",
      "Epoch [1229/4000]: 100%|██████████| 10/10 [00:00<00:00, 116.59it/s, loss=0.623]\n",
      "Epoch [1230/4000]: 100%|██████████| 10/10 [00:00<00:00, 111.41it/s, loss=0.741]\n",
      "Epoch [1231/4000]: 100%|██████████| 10/10 [00:00<00:00, 116.59it/s, loss=0.845]\n",
      "Epoch [1232/4000]: 100%|██████████| 10/10 [00:00<00:00, 113.94it/s, loss=0.841]\n",
      "Epoch [1233/4000]: 100%|██████████| 10/10 [00:00<00:00, 112.66it/s, loss=1.21]\n",
      "Epoch [1234/4000]: 100%|██████████| 10/10 [00:00<00:00, 115.25it/s, loss=0.652]\n",
      "Epoch [1235/4000]: 100%|██████████| 10/10 [00:00<00:00, 120.81it/s, loss=1.07]\n",
      "Epoch [1236/4000]: 100%|██████████| 10/10 [00:00<00:00, 108.98it/s, loss=0.779]\n",
      "Epoch [1237/4000]: 100%|██████████| 10/10 [00:00<00:00, 113.94it/s, loss=0.958]\n",
      "Epoch [1238/4000]: 100%|██████████| 10/10 [00:00<00:00, 123.84it/s, loss=0.899]\n",
      "Epoch [1239/4000]: 100%|██████████| 10/10 [00:00<00:00, 112.66it/s, loss=0.755]\n",
      "Epoch [1240/4000]: 100%|██████████| 10/10 [00:00<00:00, 89.53it/s, loss=0.904]\n",
      "Epoch [1241/4000]: 100%|██████████| 10/10 [00:00<00:00, 112.66it/s, loss=1.15]\n",
      "Epoch [1242/4000]: 100%|██████████| 10/10 [00:00<00:00, 98.30it/s, loss=0.799]\n",
      "Epoch [1243/4000]: 100%|██████████| 10/10 [00:00<00:00, 117.25it/s, loss=0.905]\n",
      "Epoch [1244/4000]: 100%|██████████| 10/10 [00:00<00:00, 129.36it/s, loss=0.927]\n",
      "Epoch [1245/4000]: 100%|██████████| 10/10 [00:00<00:00, 118.45it/s, loss=0.918]\n",
      "Epoch [1246/4000]: 100%|██████████| 10/10 [00:00<00:00, 123.29it/s, loss=0.756]\n",
      "Epoch [1247/4000]: 100%|██████████| 10/10 [00:00<00:00, 131.87it/s, loss=0.866]\n",
      "Epoch [1248/4000]: 100%|██████████| 10/10 [00:00<00:00, 134.20it/s, loss=1.15]\n",
      "Epoch [1249/4000]: 100%|██████████| 10/10 [00:00<00:00, 124.16it/s, loss=0.725]\n",
      "Epoch [1250/4000]: 100%|██████████| 10/10 [00:00<00:00, 91.15it/s, loss=1.04]\n",
      "Epoch [1251/4000]: 100%|██████████| 10/10 [00:00<00:00, 95.56it/s, loss=0.784]\n",
      "Epoch [1252/4000]: 100%|██████████| 10/10 [00:00<00:00, 131.41it/s, loss=1.21]\n",
      "Epoch [1253/4000]: 100%|██████████| 10/10 [00:00<00:00, 132.62it/s, loss=1.28]\n",
      "Epoch [1254/4000]: 100%|██████████| 10/10 [00:00<00:00, 131.89it/s, loss=0.798]\n",
      "Epoch [1255/4000]: 100%|██████████| 10/10 [00:00<00:00, 135.71it/s, loss=0.678]\n",
      "Epoch [1256/4000]: 100%|██████████| 10/10 [00:00<00:00, 138.09it/s, loss=0.773]\n",
      "Epoch [1257/4000]: 100%|██████████| 10/10 [00:00<00:00, 135.60it/s, loss=1.17]\n",
      "Epoch [1258/4000]: 100%|██████████| 10/10 [00:00<00:00, 139.66it/s, loss=0.981]\n",
      "Epoch [1259/4000]: 100%|██████████| 10/10 [00:00<00:00, 137.67it/s, loss=0.782]\n",
      "Epoch [1260/4000]: 100%|██████████| 10/10 [00:00<00:00, 104.48it/s, loss=1.11]\n",
      "Epoch [1261/4000]: 100%|██████████| 10/10 [00:00<00:00, 82.87it/s, loss=0.834]\n",
      "Epoch [1262/4000]: 100%|██████████| 10/10 [00:00<00:00, 122.28it/s, loss=1.28]\n",
      "Epoch [1263/4000]: 100%|██████████| 10/10 [00:00<00:00, 132.38it/s, loss=0.793]\n",
      "Epoch [1264/4000]: 100%|██████████| 10/10 [00:00<00:00, 131.93it/s, loss=1.05]\n",
      "Epoch [1265/4000]: 100%|██████████| 10/10 [00:00<00:00, 74.85it/s, loss=0.679]\n",
      "Epoch [1266/4000]: 100%|██████████| 10/10 [00:00<00:00, 106.67it/s, loss=0.765]\n",
      "Epoch [1267/4000]: 100%|██████████| 10/10 [00:00<00:00, 91.00it/s, loss=0.977]\n",
      "Epoch [1268/4000]: 100%|██████████| 10/10 [00:00<00:00, 88.73it/s, loss=0.928]\n",
      "Epoch [1269/4000]: 100%|██████████| 10/10 [00:00<00:00, 133.63it/s, loss=1.02]\n",
      "Epoch [1270/4000]: 100%|██████████| 10/10 [00:00<00:00, 139.25it/s, loss=1.22]\n",
      "Epoch [1271/4000]: 100%|██████████| 10/10 [00:00<00:00, 78.33it/s, loss=0.832]\n",
      "Epoch [1272/4000]: 100%|██████████| 10/10 [00:00<00:00, 128.27it/s, loss=0.868]\n",
      "Epoch [1273/4000]: 100%|██████████| 10/10 [00:00<00:00, 126.17it/s, loss=0.825]\n",
      "Epoch [1274/4000]: 100%|██████████| 10/10 [00:00<00:00, 136.10it/s, loss=0.902]\n",
      "Epoch [1275/4000]: 100%|██████████| 10/10 [00:00<00:00, 137.38it/s, loss=0.838]\n",
      "Epoch [1276/4000]: 100%|██████████| 10/10 [00:00<00:00, 137.35it/s, loss=0.896]\n",
      "Epoch [1277/4000]: 100%|██████████| 10/10 [00:00<00:00, 137.43it/s, loss=1.07]\n",
      "Epoch [1278/4000]: 100%|██████████| 10/10 [00:00<00:00, 141.22it/s, loss=0.895]\n",
      "Epoch [1279/4000]: 100%|██████████| 10/10 [00:00<00:00, 104.49it/s, loss=0.965]\n",
      "Epoch [1280/4000]: 100%|██████████| 10/10 [00:00<00:00, 91.99it/s, loss=0.67]\n",
      "Epoch [1281/4000]: 100%|██████████| 10/10 [00:00<00:00, 136.96it/s, loss=1.22]\n",
      "Epoch [1282/4000]: 100%|██████████| 10/10 [00:00<00:00, 133.47it/s, loss=0.654]\n",
      "Epoch [1283/4000]: 100%|██████████| 10/10 [00:00<00:00, 135.50it/s, loss=0.875]\n",
      "Epoch [1284/4000]: 100%|██████████| 10/10 [00:00<00:00, 135.50it/s, loss=1.03]\n",
      "Epoch [1285/4000]: 100%|██████████| 10/10 [00:00<00:00, 92.84it/s, loss=1.45]\n",
      "Epoch [1286/4000]: 100%|██████████| 10/10 [00:00<00:00, 85.70it/s, loss=0.711]\n",
      "Epoch [1287/4000]: 100%|██████████| 10/10 [00:00<00:00, 124.18it/s, loss=0.615]\n",
      "Epoch [1288/4000]: 100%|██████████| 10/10 [00:00<00:00, 95.49it/s, loss=0.622]\n",
      "Epoch [1289/4000]: 100%|██████████| 10/10 [00:00<00:00, 92.84it/s, loss=0.804]\n",
      "Epoch [1290/4000]: 100%|██████████| 10/10 [00:00<00:00, 123.47it/s, loss=0.643]\n",
      "Epoch [1291/4000]: 100%|██████████| 10/10 [00:00<00:00, 101.28it/s, loss=0.506]\n",
      "Epoch [1292/4000]: 100%|██████████| 10/10 [00:00<00:00, 132.00it/s, loss=1.02]\n",
      "Epoch [1293/4000]: 100%|██████████| 10/10 [00:00<00:00, 137.35it/s, loss=0.634]\n",
      "Epoch [1294/4000]: 100%|██████████| 10/10 [00:00<00:00, 80.83it/s, loss=0.735]\n",
      "Epoch [1295/4000]: 100%|██████████| 10/10 [00:00<00:00, 68.68it/s, loss=0.765]\n",
      "Epoch [1296/4000]: 100%|██████████| 10/10 [00:00<00:00, 120.80it/s, loss=0.765]\n",
      "Epoch [1297/4000]: 100%|██████████| 10/10 [00:00<00:00, 105.54it/s, loss=0.865]\n",
      "Epoch [1298/4000]: 100%|██████████| 10/10 [00:00<00:00, 111.41it/s, loss=1.13]\n",
      "Epoch [1299/4000]: 100%|██████████| 10/10 [00:00<00:00, 110.19it/s, loss=0.597]\n",
      "Epoch [1300/4000]: 100%|██████████| 10/10 [00:00<00:00, 89.00it/s, loss=1.05]\n",
      "Epoch [1301/4000]: 100%|██████████| 10/10 [00:00<00:00, 107.81it/s, loss=1.18]\n"
     ]
    },
    {
     "name": "stdout",
     "output_type": "stream",
     "text": [
      "Epoch [1301/4000]: Train loss: 0.9362, Valid loss: 0.9191\n"
     ]
    },
    {
     "name": "stderr",
     "output_type": "stream",
     "text": [
      "Epoch [1302/4000]: 100%|██████████| 10/10 [00:00<00:00, 129.04it/s, loss=1.07]\n",
      "Epoch [1303/4000]: 100%|██████████| 10/10 [00:00<00:00, 129.65it/s, loss=0.975]\n",
      "Epoch [1304/4000]: 100%|██████████| 10/10 [00:00<00:00, 131.93it/s, loss=0.918]\n",
      "Epoch [1305/4000]: 100%|██████████| 10/10 [00:00<00:00, 119.36it/s, loss=1.17]\n",
      "Epoch [1306/4000]: 100%|██████████| 10/10 [00:00<00:00, 93.68it/s, loss=0.771]\n",
      "Epoch [1307/4000]: 100%|██████████| 10/10 [00:00<00:00, 88.47it/s, loss=0.852]\n",
      "Epoch [1308/4000]: 100%|██████████| 10/10 [00:00<00:00, 130.49it/s, loss=1.03]\n",
      "Epoch [1309/4000]: 100%|██████████| 10/10 [00:00<00:00, 128.55it/s, loss=1.22]\n",
      "Epoch [1310/4000]: 100%|██████████| 10/10 [00:00<00:00, 132.85it/s, loss=1]\n",
      "Epoch [1311/4000]: 100%|██████████| 10/10 [00:00<00:00, 127.37it/s, loss=0.9]\n",
      "Epoch [1312/4000]: 100%|██████████| 10/10 [00:00<00:00, 119.19it/s, loss=1.46]\n",
      "Epoch [1313/4000]: 100%|██████████| 10/10 [00:00<00:00, 121.26it/s, loss=1.06]\n",
      "Epoch [1314/4000]: 100%|██████████| 10/10 [00:00<00:00, 119.36it/s, loss=0.863]\n",
      "Epoch [1315/4000]: 100%|██████████| 10/10 [00:00<00:00, 139.25it/s, loss=0.933]\n",
      "Epoch [1316/4000]: 100%|██████████| 10/10 [00:00<00:00, 111.70it/s, loss=0.77]\n",
      "Epoch [1317/4000]: 100%|██████████| 10/10 [00:00<00:00, 101.32it/s, loss=0.917]\n",
      "Epoch [1318/4000]: 100%|██████████| 10/10 [00:00<00:00, 97.35it/s, loss=0.881]\n",
      "Epoch [1319/4000]: 100%|██████████| 10/10 [00:00<00:00, 102.32it/s, loss=0.852]\n",
      "Epoch [1320/4000]: 100%|██████████| 10/10 [00:00<00:00, 115.25it/s, loss=0.705]\n",
      "Epoch [1321/4000]: 100%|██████████| 10/10 [00:00<00:00, 91.15it/s, loss=0.982]\n",
      "Epoch [1322/4000]: 100%|██████████| 10/10 [00:00<00:00, 92.84it/s, loss=0.682]\n",
      "Epoch [1323/4000]: 100%|██████████| 10/10 [00:00<00:00, 112.66it/s, loss=1.06]\n",
      "Epoch [1324/4000]: 100%|██████████| 10/10 [00:00<00:00, 123.79it/s, loss=0.869]\n",
      "Epoch [1325/4000]: 100%|██████████| 10/10 [00:00<00:00, 128.55it/s, loss=0.976]\n"
     ]
    },
    {
     "name": "stdout",
     "output_type": "stream",
     "text": [
      "\n",
      "Model is not improving, so we halt the training session.\n"
     ]
    },
    {
     "data": {
      "text/plain": [
       "(0.8498845100402832, 0.893162339925766, 0.780752052863439)"
      ]
     },
     "execution_count": 24,
     "metadata": {},
     "output_type": "execute_result"
    }
   ],
   "source": [
    "model = My_Model(input_dim=x_train.shape[1]).to(device) # put your model and data on the same computation device.\n",
    "trainer(train_loader, valid_loader, model, config, device)"
   ]
  },
  {
   "cell_type": "code",
   "execution_count": 26,
   "metadata": {
    "scrolled": false
   },
   "outputs": [
    {
     "data": {
      "text/plain": [
       "Reusing TensorBoard on port 6006 (pid 11888), started 2 days, 22:03:54 ago. (Use '!kill 11888' to kill it.)"
      ]
     },
     "metadata": {},
     "output_type": "display_data"
    },
    {
     "data": {
      "text/html": [
       "\n",
       "      <iframe id=\"tensorboard-frame-360c9168040bfb9d\" width=\"100%\" height=\"800\" frameborder=\"0\">\n",
       "      </iframe>\n",
       "      <script>\n",
       "        (function() {\n",
       "          const frame = document.getElementById(\"tensorboard-frame-360c9168040bfb9d\");\n",
       "          const url = new URL(\"/\", window.location);\n",
       "          const port = 6006;\n",
       "          if (port) {\n",
       "            url.port = port;\n",
       "          }\n",
       "          frame.src = url;\n",
       "        })();\n",
       "      </script>\n",
       "    "
      ],
      "text/plain": [
       "<IPython.core.display.HTML object>"
      ]
     },
     "metadata": {},
     "output_type": "display_data"
    }
   ],
   "source": [
    "%reload_ext tensorboard\n",
    "%tensorboard --logdir=./runs/"
   ]
  },
  {
   "cell_type": "code",
   "execution_count": 17,
   "metadata": {},
   "outputs": [
    {
     "name": "stderr",
     "output_type": "stream",
     "text": [
      "100%|██████████| 4/4 [00:00<00:00, 294.14it/s]\n"
     ]
    }
   ],
   "source": [
    "def save_pred(preds, file):\n",
    "    ''' Save predictions to specified file '''\n",
    "    with open(file, 'w') as fp:\n",
    "        writer = csv.writer(fp)\n",
    "        writer.writerow(['id', 'tested_positive'])\n",
    "        for i, p in enumerate(preds):\n",
    "            writer.writerow([i, p])\n",
    "\n",
    "model = My_Model(input_dim=x_train.shape[1]).to(device)\n",
    "model.load_state_dict(torch.load(config['save_path']))\n",
    "preds = predict(test_loader, model, device) \n",
    "save_pred(preds, 'pred.csv')"
   ]
  },
  {
   "cell_type": "code",
   "execution_count": null,
   "metadata": {},
   "outputs": [],
   "source": []
  }
 ],
 "metadata": {
  "kernelspec": {
   "display_name": "Python 3 (ipykernel)",
   "language": "python",
   "name": "python3"
  },
  "language_info": {
   "codemirror_mode": {
    "name": "ipython",
    "version": 3
   },
   "file_extension": ".py",
   "mimetype": "text/x-python",
   "name": "python",
   "nbconvert_exporter": "python",
   "pygments_lexer": "ipython3",
   "version": "3.9.13"
  },
  "vscode": {
   "interpreter": {
    "hash": "955d79676b7c5356605fe4cfb5b72e2d48daaac11361c00ae19b3ccb2ddee46b"
   }
  }
 },
 "nbformat": 4,
 "nbformat_minor": 2
}
