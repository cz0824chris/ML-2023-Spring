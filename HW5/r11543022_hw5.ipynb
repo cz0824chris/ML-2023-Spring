{
 "cells": [
  {
   "cell_type": "markdown",
   "metadata": {
    "id": "AFEKWoh3p1Mv"
   },
   "source": [
    "# Homework Description\n",
    "- English to Chinese (Traditional) Translation\n",
    "  - Input: an English sentence         (e.g.\t\ttom is a student .)\n",
    "  - Output: the Chinese translation  (e.g. \t\t湯姆 是 個 學生 。)\n",
    "\n",
    "- TODO\n",
    "    - Train a simple RNN seq2seq to acheive translation\n",
    "    - Switch to transformer model to boost performance\n",
    "    - Apply Back-translation to furthur boost performance"
   ]
  },
  {
   "cell_type": "code",
   "execution_count": 1,
   "metadata": {
    "id": "3Vf1Q79XPQ3D"
   },
   "outputs": [
    {
     "name": "stdout",
     "output_type": "stream",
     "text": [
      "Thu Apr 13 10:52:56 2023       \r\n",
      "+-----------------------------------------------------------------------------+\r\n",
      "| NVIDIA-SMI 515.43.04    Driver Version: 515.43.04    CUDA Version: 11.7     |\r\n",
      "|-------------------------------+----------------------+----------------------+\r\n",
      "| GPU  Name        Persistence-M| Bus-Id        Disp.A | Volatile Uncorr. ECC |\r\n",
      "| Fan  Temp  Perf  Pwr:Usage/Cap|         Memory-Usage | GPU-Util  Compute M. |\r\n",
      "|                               |                      |               MIG M. |\r\n",
      "|===============================+======================+======================|\r\n",
      "|   0  NVIDIA GeForce ...  Off  | 00000000:01:00.0 Off |                  N/A |\r\n",
      "| 40%   43C    P8    13W / 260W |      1MiB / 11264MiB |      0%      Default |\r\n",
      "|                               |                      |                  N/A |\r\n",
      "+-------------------------------+----------------------+----------------------+\r\n",
      "                                                                               \r\n",
      "+-----------------------------------------------------------------------------+\r\n",
      "| Processes:                                                                  |\r\n",
      "|  GPU   GI   CI        PID   Type   Process name                  GPU Memory |\r\n",
      "|        ID   ID                                                   Usage      |\r\n",
      "|=============================================================================|\r\n",
      "|  No running processes found                                                 |\r\n",
      "+-----------------------------------------------------------------------------+\r\n"
     ]
    }
   ],
   "source": [
    "!nvidia-smi"
   ]
  },
  {
   "cell_type": "markdown",
   "metadata": {
    "id": "59neB_Sxp5Ub"
   },
   "source": [
    "# Download and import required packages"
   ]
  },
  {
   "cell_type": "code",
   "execution_count": 2,
   "metadata": {
    "id": "rRlFbfFRpZYT"
   },
   "outputs": [
    {
     "name": "stdout",
     "output_type": "stream",
     "text": [
      "Requirement already satisfied: torch>=1.6.0 in /home/ph/anaconda3/envs/pytorch/lib/python3.9/site-packages (2.0.0)\n",
      "Requirement already satisfied: editdistance in /home/ph/anaconda3/envs/pytorch/lib/python3.9/site-packages (0.6.2)\n",
      "Requirement already satisfied: matplotlib in /home/ph/anaconda3/envs/pytorch/lib/python3.9/site-packages (3.7.1)\n",
      "Requirement already satisfied: sacrebleu in /home/ph/anaconda3/envs/pytorch/lib/python3.9/site-packages (2.3.1)\n",
      "Requirement already satisfied: sacremoses in /home/ph/anaconda3/envs/pytorch/lib/python3.9/site-packages (0.0.53)\n",
      "Requirement already satisfied: sentencepiece in /home/ph/anaconda3/envs/pytorch/lib/python3.9/site-packages (0.1.97)\n",
      "Requirement already satisfied: tqdm in /home/ph/anaconda3/envs/pytorch/lib/python3.9/site-packages (4.65.0)\n",
      "Requirement already satisfied: wandb in /home/ph/anaconda3/envs/pytorch/lib/python3.9/site-packages (0.14.1)\n",
      "Requirement already satisfied: filelock in /home/ph/anaconda3/envs/pytorch/lib/python3.9/site-packages (from torch>=1.6.0) (3.9.0)\n",
      "Requirement already satisfied: typing-extensions in /home/ph/anaconda3/envs/pytorch/lib/python3.9/site-packages (from torch>=1.6.0) (4.4.0)\n",
      "Requirement already satisfied: sympy in /home/ph/anaconda3/envs/pytorch/lib/python3.9/site-packages (from torch>=1.6.0) (1.11.1)\n",
      "Requirement already satisfied: networkx in /home/ph/anaconda3/envs/pytorch/lib/python3.9/site-packages (from torch>=1.6.0) (2.8.4)\n",
      "Requirement already satisfied: jinja2 in /home/ph/anaconda3/envs/pytorch/lib/python3.9/site-packages (from torch>=1.6.0) (3.1.2)\n",
      "Requirement already satisfied: kiwisolver>=1.0.1 in /home/ph/anaconda3/envs/pytorch/lib/python3.9/site-packages (from matplotlib) (1.4.4)\n",
      "Requirement already satisfied: pyparsing>=2.3.1 in /home/ph/anaconda3/envs/pytorch/lib/python3.9/site-packages (from matplotlib) (3.0.9)\n",
      "Requirement already satisfied: importlib-resources>=3.2.0 in /home/ph/anaconda3/envs/pytorch/lib/python3.9/site-packages (from matplotlib) (5.12.0)\n",
      "Requirement already satisfied: pillow>=6.2.0 in /home/ph/anaconda3/envs/pytorch/lib/python3.9/site-packages (from matplotlib) (9.4.0)\n",
      "Requirement already satisfied: numpy>=1.20 in /home/ph/anaconda3/envs/pytorch/lib/python3.9/site-packages (from matplotlib) (1.23.5)\n",
      "Requirement already satisfied: fonttools>=4.22.0 in /home/ph/anaconda3/envs/pytorch/lib/python3.9/site-packages (from matplotlib) (4.39.0)\n",
      "Requirement already satisfied: cycler>=0.10 in /home/ph/anaconda3/envs/pytorch/lib/python3.9/site-packages (from matplotlib) (0.11.0)\n",
      "Requirement already satisfied: python-dateutil>=2.7 in /home/ph/anaconda3/envs/pytorch/lib/python3.9/site-packages (from matplotlib) (2.8.2)\n",
      "Requirement already satisfied: packaging>=20.0 in /home/ph/anaconda3/envs/pytorch/lib/python3.9/site-packages (from matplotlib) (22.0)\n",
      "Requirement already satisfied: contourpy>=1.0.1 in /home/ph/anaconda3/envs/pytorch/lib/python3.9/site-packages (from matplotlib) (1.0.7)\n",
      "Requirement already satisfied: regex in /home/ph/anaconda3/envs/pytorch/lib/python3.9/site-packages (from sacrebleu) (2023.3.23)\n",
      "Requirement already satisfied: lxml in /home/ph/anaconda3/envs/pytorch/lib/python3.9/site-packages (from sacrebleu) (4.9.1)\n",
      "Requirement already satisfied: tabulate>=0.8.9 in /home/ph/anaconda3/envs/pytorch/lib/python3.9/site-packages (from sacrebleu) (0.9.0)\n",
      "Requirement already satisfied: colorama in /home/ph/anaconda3/envs/pytorch/lib/python3.9/site-packages (from sacrebleu) (0.4.6)\n",
      "Requirement already satisfied: portalocker in /home/ph/anaconda3/envs/pytorch/lib/python3.9/site-packages (from sacrebleu) (2.7.0)\n",
      "Requirement already satisfied: six in /home/ph/anaconda3/envs/pytorch/lib/python3.9/site-packages (from sacremoses) (1.16.0)\n",
      "Requirement already satisfied: click in /home/ph/anaconda3/envs/pytorch/lib/python3.9/site-packages (from sacremoses) (8.1.3)\n",
      "Requirement already satisfied: joblib in /home/ph/anaconda3/envs/pytorch/lib/python3.9/site-packages (from sacremoses) (1.2.0)\n",
      "Requirement already satisfied: pathtools in /home/ph/anaconda3/envs/pytorch/lib/python3.9/site-packages (from wandb) (0.1.2)\n",
      "Requirement already satisfied: requests<3,>=2.0.0 in /home/ph/anaconda3/envs/pytorch/lib/python3.9/site-packages (from wandb) (2.28.1)\n",
      "Requirement already satisfied: setproctitle in /home/ph/anaconda3/envs/pytorch/lib/python3.9/site-packages (from wandb) (1.3.2)\n",
      "Requirement already satisfied: appdirs>=1.4.3 in /home/ph/anaconda3/envs/pytorch/lib/python3.9/site-packages (from wandb) (1.4.4)\n",
      "Requirement already satisfied: protobuf!=4.21.0,<5,>=3.15.0 in /home/ph/anaconda3/envs/pytorch/lib/python3.9/site-packages (from wandb) (4.22.1)\n",
      "Requirement already satisfied: setuptools in /home/ph/anaconda3/envs/pytorch/lib/python3.9/site-packages (from wandb) (65.6.3)\n",
      "Requirement already satisfied: sentry-sdk>=1.0.0 in /home/ph/anaconda3/envs/pytorch/lib/python3.9/site-packages (from wandb) (1.19.1)\n",
      "Requirement already satisfied: GitPython!=3.1.29,>=1.0.0 in /home/ph/anaconda3/envs/pytorch/lib/python3.9/site-packages (from wandb) (3.1.31)\n",
      "Requirement already satisfied: PyYAML in /home/ph/anaconda3/envs/pytorch/lib/python3.9/site-packages (from wandb) (6.0)\n",
      "Requirement already satisfied: psutil>=5.0.0 in /home/ph/anaconda3/envs/pytorch/lib/python3.9/site-packages (from wandb) (5.9.0)\n",
      "Requirement already satisfied: docker-pycreds>=0.4.0 in /home/ph/anaconda3/envs/pytorch/lib/python3.9/site-packages (from wandb) (0.4.0)\n",
      "Requirement already satisfied: gitdb<5,>=4.0.1 in /home/ph/anaconda3/envs/pytorch/lib/python3.9/site-packages (from GitPython!=3.1.29,>=1.0.0->wandb) (4.0.10)\n",
      "Requirement already satisfied: zipp>=3.1.0 in /home/ph/anaconda3/envs/pytorch/lib/python3.9/site-packages (from importlib-resources>=3.2.0->matplotlib) (3.11.0)\n",
      "Requirement already satisfied: charset-normalizer<3,>=2 in /home/ph/anaconda3/envs/pytorch/lib/python3.9/site-packages (from requests<3,>=2.0.0->wandb) (2.0.4)\n",
      "Requirement already satisfied: idna<4,>=2.5 in /home/ph/anaconda3/envs/pytorch/lib/python3.9/site-packages (from requests<3,>=2.0.0->wandb) (3.4)\n",
      "Requirement already satisfied: certifi>=2017.4.17 in /home/ph/anaconda3/envs/pytorch/lib/python3.9/site-packages (from requests<3,>=2.0.0->wandb) (2022.12.7)\n",
      "Requirement already satisfied: urllib3<1.27,>=1.21.1 in /home/ph/anaconda3/envs/pytorch/lib/python3.9/site-packages (from requests<3,>=2.0.0->wandb) (1.26.14)\n",
      "Requirement already satisfied: MarkupSafe>=2.0 in /home/ph/anaconda3/envs/pytorch/lib/python3.9/site-packages (from jinja2->torch>=1.6.0) (2.1.1)\n",
      "Requirement already satisfied: mpmath>=0.19 in /home/ph/anaconda3/envs/pytorch/lib/python3.9/site-packages (from sympy->torch>=1.6.0) (1.2.1)\n",
      "Requirement already satisfied: smmap<6,>=3.0.1 in /home/ph/anaconda3/envs/pytorch/lib/python3.9/site-packages (from gitdb<5,>=4.0.1->GitPython!=3.1.29,>=1.0.0->wandb) (5.0.0)\n",
      "Requirement already satisfied: jupyter in /home/ph/anaconda3/envs/pytorch/lib/python3.9/site-packages (1.0.0)\n",
      "Requirement already satisfied: ipywidgets in /home/ph/anaconda3/envs/pytorch/lib/python3.9/site-packages (8.0.6)\n",
      "Requirement already satisfied: nbconvert in /home/ph/anaconda3/envs/pytorch/lib/python3.9/site-packages (from jupyter) (6.5.4)\n",
      "Requirement already satisfied: notebook in /home/ph/anaconda3/envs/pytorch/lib/python3.9/site-packages (from jupyter) (6.5.2)\n",
      "Requirement already satisfied: jupyter-console in /home/ph/anaconda3/envs/pytorch/lib/python3.9/site-packages (from jupyter) (6.6.2)\n",
      "Requirement already satisfied: qtconsole in /home/ph/anaconda3/envs/pytorch/lib/python3.9/site-packages (from jupyter) (5.4.0)\n",
      "Requirement already satisfied: ipykernel in /home/ph/anaconda3/envs/pytorch/lib/python3.9/site-packages (from jupyter) (6.19.2)\n",
      "Requirement already satisfied: widgetsnbextension~=4.0.7 in /home/ph/anaconda3/envs/pytorch/lib/python3.9/site-packages (from ipywidgets) (4.0.7)\n",
      "Requirement already satisfied: jupyterlab-widgets~=3.0.7 in /home/ph/anaconda3/envs/pytorch/lib/python3.9/site-packages (from ipywidgets) (3.0.7)\n",
      "Requirement already satisfied: traitlets>=4.3.1 in /home/ph/anaconda3/envs/pytorch/lib/python3.9/site-packages (from ipywidgets) (5.7.1)\n",
      "Requirement already satisfied: ipython>=6.1.0 in /home/ph/anaconda3/envs/pytorch/lib/python3.9/site-packages (from ipywidgets) (8.10.0)\n"
     ]
    },
    {
     "name": "stdout",
     "output_type": "stream",
     "text": [
      "Requirement already satisfied: debugpy>=1.0 in /home/ph/anaconda3/envs/pytorch/lib/python3.9/site-packages (from ipykernel->jupyter) (1.5.1)\n",
      "Requirement already satisfied: tornado>=6.1 in /home/ph/anaconda3/envs/pytorch/lib/python3.9/site-packages (from ipykernel->jupyter) (6.2)\n",
      "Requirement already satisfied: matplotlib-inline>=0.1 in /home/ph/anaconda3/envs/pytorch/lib/python3.9/site-packages (from ipykernel->jupyter) (0.1.6)\n",
      "Requirement already satisfied: packaging in /home/ph/anaconda3/envs/pytorch/lib/python3.9/site-packages (from ipykernel->jupyter) (22.0)\n",
      "Requirement already satisfied: pyzmq>=17 in /home/ph/anaconda3/envs/pytorch/lib/python3.9/site-packages (from ipykernel->jupyter) (23.2.0)\n",
      "Requirement already satisfied: comm>=0.1.1 in /home/ph/anaconda3/envs/pytorch/lib/python3.9/site-packages (from ipykernel->jupyter) (0.1.2)\n",
      "Requirement already satisfied: psutil in /home/ph/anaconda3/envs/pytorch/lib/python3.9/site-packages (from ipykernel->jupyter) (5.9.0)\n",
      "Requirement already satisfied: jupyter-client>=6.1.12 in /home/ph/anaconda3/envs/pytorch/lib/python3.9/site-packages (from ipykernel->jupyter) (7.4.9)\n",
      "Requirement already satisfied: nest-asyncio in /home/ph/anaconda3/envs/pytorch/lib/python3.9/site-packages (from ipykernel->jupyter) (1.5.6)\n",
      "Requirement already satisfied: pexpect>4.3 in /home/ph/anaconda3/envs/pytorch/lib/python3.9/site-packages (from ipython>=6.1.0->ipywidgets) (4.8.0)\n",
      "Requirement already satisfied: pickleshare in /home/ph/anaconda3/envs/pytorch/lib/python3.9/site-packages (from ipython>=6.1.0->ipywidgets) (0.7.5)\n",
      "Requirement already satisfied: stack-data in /home/ph/anaconda3/envs/pytorch/lib/python3.9/site-packages (from ipython>=6.1.0->ipywidgets) (0.2.0)\n",
      "Requirement already satisfied: decorator in /home/ph/anaconda3/envs/pytorch/lib/python3.9/site-packages (from ipython>=6.1.0->ipywidgets) (5.1.1)\n",
      "Requirement already satisfied: prompt-toolkit<3.1.0,>=3.0.30 in /home/ph/anaconda3/envs/pytorch/lib/python3.9/site-packages (from ipython>=6.1.0->ipywidgets) (3.0.36)\n",
      "Requirement already satisfied: jedi>=0.16 in /home/ph/anaconda3/envs/pytorch/lib/python3.9/site-packages (from ipython>=6.1.0->ipywidgets) (0.18.1)\n",
      "Requirement already satisfied: pygments>=2.4.0 in /home/ph/anaconda3/envs/pytorch/lib/python3.9/site-packages (from ipython>=6.1.0->ipywidgets) (2.11.2)\n",
      "Requirement already satisfied: backcall in /home/ph/anaconda3/envs/pytorch/lib/python3.9/site-packages (from ipython>=6.1.0->ipywidgets) (0.2.0)\n",
      "Requirement already satisfied: jupyter-core!=5.0.*,>=4.12 in /home/ph/anaconda3/envs/pytorch/lib/python3.9/site-packages (from jupyter-console->jupyter) (5.2.0)\n",
      "Requirement already satisfied: jupyterlab-pygments in /home/ph/anaconda3/envs/pytorch/lib/python3.9/site-packages (from nbconvert->jupyter) (0.1.2)\n",
      "Requirement already satisfied: entrypoints>=0.2.2 in /home/ph/anaconda3/envs/pytorch/lib/python3.9/site-packages (from nbconvert->jupyter) (0.4)\n",
      "Requirement already satisfied: MarkupSafe>=2.0 in /home/ph/anaconda3/envs/pytorch/lib/python3.9/site-packages (from nbconvert->jupyter) (2.1.1)\n",
      "Requirement already satisfied: defusedxml in /home/ph/anaconda3/envs/pytorch/lib/python3.9/site-packages (from nbconvert->jupyter) (0.7.1)\n",
      "Requirement already satisfied: pandocfilters>=1.4.1 in /home/ph/anaconda3/envs/pytorch/lib/python3.9/site-packages (from nbconvert->jupyter) (1.5.0)\n",
      "Requirement already satisfied: bleach in /home/ph/anaconda3/envs/pytorch/lib/python3.9/site-packages (from nbconvert->jupyter) (4.1.0)\n",
      "Requirement already satisfied: mistune<2,>=0.8.1 in /home/ph/anaconda3/envs/pytorch/lib/python3.9/site-packages (from nbconvert->jupyter) (0.8.4)\n",
      "Requirement already satisfied: lxml in /home/ph/anaconda3/envs/pytorch/lib/python3.9/site-packages (from nbconvert->jupyter) (4.9.1)\n",
      "Requirement already satisfied: beautifulsoup4 in /home/ph/anaconda3/envs/pytorch/lib/python3.9/site-packages (from nbconvert->jupyter) (4.11.1)\n",
      "Requirement already satisfied: jinja2>=3.0 in /home/ph/anaconda3/envs/pytorch/lib/python3.9/site-packages (from nbconvert->jupyter) (3.1.2)\n",
      "Requirement already satisfied: nbformat>=5.1 in /home/ph/anaconda3/envs/pytorch/lib/python3.9/site-packages (from nbconvert->jupyter) (5.7.0)\n",
      "Requirement already satisfied: nbclient>=0.5.0 in /home/ph/anaconda3/envs/pytorch/lib/python3.9/site-packages (from nbconvert->jupyter) (0.5.13)\n",
      "Requirement already satisfied: tinycss2 in /home/ph/anaconda3/envs/pytorch/lib/python3.9/site-packages (from nbconvert->jupyter) (1.2.1)\n",
      "Requirement already satisfied: argon2-cffi in /home/ph/anaconda3/envs/pytorch/lib/python3.9/site-packages (from notebook->jupyter) (21.3.0)\n",
      "Requirement already satisfied: Send2Trash>=1.8.0 in /home/ph/anaconda3/envs/pytorch/lib/python3.9/site-packages (from notebook->jupyter) (1.8.0)\n",
      "Requirement already satisfied: ipython-genutils in /home/ph/anaconda3/envs/pytorch/lib/python3.9/site-packages (from notebook->jupyter) (0.2.0)\n",
      "Requirement already satisfied: terminado>=0.8.3 in /home/ph/anaconda3/envs/pytorch/lib/python3.9/site-packages (from notebook->jupyter) (0.17.1)\n",
      "Requirement already satisfied: prometheus-client in /home/ph/anaconda3/envs/pytorch/lib/python3.9/site-packages (from notebook->jupyter) (0.14.1)\n",
      "Requirement already satisfied: nbclassic>=0.4.7 in /home/ph/anaconda3/envs/pytorch/lib/python3.9/site-packages (from notebook->jupyter) (0.5.2)\n",
      "Requirement already satisfied: qtpy>=2.0.1 in /home/ph/anaconda3/envs/pytorch/lib/python3.9/site-packages (from qtconsole->jupyter) (2.2.0)\n",
      "Requirement already satisfied: parso<0.9.0,>=0.8.0 in /home/ph/anaconda3/envs/pytorch/lib/python3.9/site-packages (from jedi>=0.16->ipython>=6.1.0->ipywidgets) (0.8.3)\n",
      "Requirement already satisfied: python-dateutil>=2.8.2 in /home/ph/anaconda3/envs/pytorch/lib/python3.9/site-packages (from jupyter-client>=6.1.12->ipykernel->jupyter) (2.8.2)\n",
      "Requirement already satisfied: platformdirs>=2.5 in /home/ph/anaconda3/envs/pytorch/lib/python3.9/site-packages (from jupyter-core!=5.0.*,>=4.12->jupyter-console->jupyter) (2.5.2)\n",
      "Requirement already satisfied: notebook-shim>=0.1.0 in /home/ph/anaconda3/envs/pytorch/lib/python3.9/site-packages (from nbclassic>=0.4.7->notebook->jupyter) (0.2.2)\n",
      "Requirement already satisfied: jupyter-server>=1.8 in /home/ph/anaconda3/envs/pytorch/lib/python3.9/site-packages (from nbclassic>=0.4.7->notebook->jupyter) (1.23.4)\n",
      "Requirement already satisfied: jsonschema>=2.6 in /home/ph/anaconda3/envs/pytorch/lib/python3.9/site-packages (from nbformat>=5.1->nbconvert->jupyter) (4.17.3)\n",
      "Requirement already satisfied: fastjsonschema in /home/ph/anaconda3/envs/pytorch/lib/python3.9/site-packages (from nbformat>=5.1->nbconvert->jupyter) (2.16.2)\n",
      "Requirement already satisfied: ptyprocess>=0.5 in /home/ph/anaconda3/envs/pytorch/lib/python3.9/site-packages (from pexpect>4.3->ipython>=6.1.0->ipywidgets) (0.7.0)\n",
      "Requirement already satisfied: wcwidth in /home/ph/anaconda3/envs/pytorch/lib/python3.9/site-packages (from prompt-toolkit<3.1.0,>=3.0.30->ipython>=6.1.0->ipywidgets) (0.2.5)\n",
      "Requirement already satisfied: argon2-cffi-bindings in /home/ph/anaconda3/envs/pytorch/lib/python3.9/site-packages (from argon2-cffi->notebook->jupyter) (21.2.0)\n",
      "Requirement already satisfied: soupsieve>1.2 in /home/ph/anaconda3/envs/pytorch/lib/python3.9/site-packages (from beautifulsoup4->nbconvert->jupyter) (2.3.2.post1)\n",
      "Requirement already satisfied: six>=1.9.0 in /home/ph/anaconda3/envs/pytorch/lib/python3.9/site-packages (from bleach->nbconvert->jupyter) (1.16.0)\n",
      "Requirement already satisfied: webencodings in /home/ph/anaconda3/envs/pytorch/lib/python3.9/site-packages (from bleach->nbconvert->jupyter) (0.5.1)\n",
      "Requirement already satisfied: pure-eval in /home/ph/anaconda3/envs/pytorch/lib/python3.9/site-packages (from stack-data->ipython>=6.1.0->ipywidgets) (0.2.2)\n",
      "Requirement already satisfied: executing in /home/ph/anaconda3/envs/pytorch/lib/python3.9/site-packages (from stack-data->ipython>=6.1.0->ipywidgets) (0.8.3)\n",
      "Requirement already satisfied: asttokens in /home/ph/anaconda3/envs/pytorch/lib/python3.9/site-packages (from stack-data->ipython>=6.1.0->ipywidgets) (2.0.5)\n",
      "Requirement already satisfied: attrs>=17.4.0 in /home/ph/anaconda3/envs/pytorch/lib/python3.9/site-packages (from jsonschema>=2.6->nbformat>=5.1->nbconvert->jupyter) (22.1.0)\n",
      "Requirement already satisfied: pyrsistent!=0.17.0,!=0.17.1,!=0.17.2,>=0.14.0 in /home/ph/anaconda3/envs/pytorch/lib/python3.9/site-packages (from jsonschema>=2.6->nbformat>=5.1->nbconvert->jupyter) (0.18.0)\n",
      "Requirement already satisfied: websocket-client in /home/ph/anaconda3/envs/pytorch/lib/python3.9/site-packages (from jupyter-server>=1.8->nbclassic>=0.4.7->notebook->jupyter) (0.58.0)\n",
      "Requirement already satisfied: anyio<4,>=3.1.0 in /home/ph/anaconda3/envs/pytorch/lib/python3.9/site-packages (from jupyter-server>=1.8->nbclassic>=0.4.7->notebook->jupyter) (3.5.0)\n"
     ]
    },
    {
     "name": "stdout",
     "output_type": "stream",
     "text": [
      "Requirement already satisfied: cffi>=1.0.1 in /home/ph/anaconda3/envs/pytorch/lib/python3.9/site-packages (from argon2-cffi-bindings->argon2-cffi->notebook->jupyter) (1.15.1)\n",
      "Requirement already satisfied: idna>=2.8 in /home/ph/anaconda3/envs/pytorch/lib/python3.9/site-packages (from anyio<4,>=3.1.0->jupyter-server>=1.8->nbclassic>=0.4.7->notebook->jupyter) (3.4)\n",
      "Requirement already satisfied: sniffio>=1.1 in /home/ph/anaconda3/envs/pytorch/lib/python3.9/site-packages (from anyio<4,>=3.1.0->jupyter-server>=1.8->nbclassic>=0.4.7->notebook->jupyter) (1.2.0)\n",
      "Requirement already satisfied: pycparser in /home/ph/anaconda3/envs/pytorch/lib/python3.9/site-packages (from cffi>=1.0.1->argon2-cffi-bindings->argon2-cffi->notebook->jupyter) (2.21)\n"
     ]
    }
   ],
   "source": [
    "!pip install 'torch>=1.6.0' editdistance matplotlib sacrebleu sacremoses sentencepiece tqdm wandb\n",
    "!pip install --upgrade jupyter ipywidgets"
   ]
  },
  {
   "cell_type": "code",
   "execution_count": 3,
   "metadata": {
    "id": "fSksMTdmp-Wt"
   },
   "outputs": [
    {
     "name": "stdout",
     "output_type": "stream",
     "text": [
      "fatal: destination path 'fairseq' already exists and is not an empty directory.\n",
      "HEAD is now at 9a1c4970 Make Hydra logging work with DDP (#1568)\n",
      "Processing ./fairseq\n",
      "  Installing build dependencies ... \u001b[?25ldone\n",
      "\u001b[?25h  Getting requirements to build wheel ... \u001b[?25ldone\n",
      "\u001b[?25h  Installing backend dependencies ... \u001b[?25ldone\n",
      "\u001b[?25h  Preparing metadata (pyproject.toml) ... \u001b[?25ldone\n",
      "\u001b[?25hRequirement already satisfied: cython in /home/ph/anaconda3/envs/pytorch/lib/python3.9/site-packages (from fairseq==1.0.0a0+9a1c497) (0.29.34)\n",
      "Requirement already satisfied: sacrebleu>=1.4.12 in /home/ph/anaconda3/envs/pytorch/lib/python3.9/site-packages (from fairseq==1.0.0a0+9a1c497) (2.3.1)\n",
      "Requirement already satisfied: omegaconf<2.1 in /home/ph/anaconda3/envs/pytorch/lib/python3.9/site-packages (from fairseq==1.0.0a0+9a1c497) (2.0.6)\n",
      "Requirement already satisfied: regex in /home/ph/anaconda3/envs/pytorch/lib/python3.9/site-packages (from fairseq==1.0.0a0+9a1c497) (2023.3.23)\n",
      "Requirement already satisfied: tqdm in /home/ph/anaconda3/envs/pytorch/lib/python3.9/site-packages (from fairseq==1.0.0a0+9a1c497) (4.65.0)\n",
      "Requirement already satisfied: torch in /home/ph/anaconda3/envs/pytorch/lib/python3.9/site-packages (from fairseq==1.0.0a0+9a1c497) (2.0.0)\n",
      "Requirement already satisfied: cffi in /home/ph/anaconda3/envs/pytorch/lib/python3.9/site-packages (from fairseq==1.0.0a0+9a1c497) (1.15.1)\n",
      "Requirement already satisfied: hydra-core<1.1 in /home/ph/anaconda3/envs/pytorch/lib/python3.9/site-packages (from fairseq==1.0.0a0+9a1c497) (1.0.7)\n",
      "Requirement already satisfied: numpy in /home/ph/anaconda3/envs/pytorch/lib/python3.9/site-packages (from fairseq==1.0.0a0+9a1c497) (1.23.5)\n",
      "Requirement already satisfied: antlr4-python3-runtime==4.8 in /home/ph/anaconda3/envs/pytorch/lib/python3.9/site-packages (from hydra-core<1.1->fairseq==1.0.0a0+9a1c497) (4.8)\n",
      "Requirement already satisfied: typing-extensions in /home/ph/anaconda3/envs/pytorch/lib/python3.9/site-packages (from omegaconf<2.1->fairseq==1.0.0a0+9a1c497) (4.4.0)\n",
      "Requirement already satisfied: PyYAML>=5.1.* in /home/ph/anaconda3/envs/pytorch/lib/python3.9/site-packages (from omegaconf<2.1->fairseq==1.0.0a0+9a1c497) (6.0)\n",
      "Requirement already satisfied: portalocker in /home/ph/anaconda3/envs/pytorch/lib/python3.9/site-packages (from sacrebleu>=1.4.12->fairseq==1.0.0a0+9a1c497) (2.7.0)\n",
      "Requirement already satisfied: tabulate>=0.8.9 in /home/ph/anaconda3/envs/pytorch/lib/python3.9/site-packages (from sacrebleu>=1.4.12->fairseq==1.0.0a0+9a1c497) (0.9.0)\n",
      "Requirement already satisfied: colorama in /home/ph/anaconda3/envs/pytorch/lib/python3.9/site-packages (from sacrebleu>=1.4.12->fairseq==1.0.0a0+9a1c497) (0.4.6)\n",
      "Requirement already satisfied: lxml in /home/ph/anaconda3/envs/pytorch/lib/python3.9/site-packages (from sacrebleu>=1.4.12->fairseq==1.0.0a0+9a1c497) (4.9.1)\n",
      "Requirement already satisfied: pycparser in /home/ph/anaconda3/envs/pytorch/lib/python3.9/site-packages (from cffi->fairseq==1.0.0a0+9a1c497) (2.21)\n",
      "Requirement already satisfied: filelock in /home/ph/anaconda3/envs/pytorch/lib/python3.9/site-packages (from torch->fairseq==1.0.0a0+9a1c497) (3.9.0)\n",
      "Requirement already satisfied: sympy in /home/ph/anaconda3/envs/pytorch/lib/python3.9/site-packages (from torch->fairseq==1.0.0a0+9a1c497) (1.11.1)\n",
      "Requirement already satisfied: networkx in /home/ph/anaconda3/envs/pytorch/lib/python3.9/site-packages (from torch->fairseq==1.0.0a0+9a1c497) (2.8.4)\n",
      "Requirement already satisfied: jinja2 in /home/ph/anaconda3/envs/pytorch/lib/python3.9/site-packages (from torch->fairseq==1.0.0a0+9a1c497) (3.1.2)\n",
      "Requirement already satisfied: MarkupSafe>=2.0 in /home/ph/anaconda3/envs/pytorch/lib/python3.9/site-packages (from jinja2->torch->fairseq==1.0.0a0+9a1c497) (2.1.1)\n",
      "Requirement already satisfied: mpmath>=0.19 in /home/ph/anaconda3/envs/pytorch/lib/python3.9/site-packages (from sympy->torch->fairseq==1.0.0a0+9a1c497) (1.2.1)\n",
      "Building wheels for collected packages: fairseq\n",
      "  Building wheel for fairseq (pyproject.toml) ... \u001b[?25ldone\n",
      "\u001b[?25h  Created wheel for fairseq: filename=fairseq-1.0.0a0+9a1c497-cp39-cp39-linux_x86_64.whl size=1317914 sha256=1ec48969d3ebfb67183f96e2f98071d7c4e399c2c92d65632e55425e4fec3d66\n",
      "  Stored in directory: /tmp/pip-ephem-wheel-cache-t21_90n8/wheels/09/b3/10/961762b3b6850ef366163da4472c4fcae79f714a259e84ccee\n",
      "Successfully built fairseq\n",
      "Installing collected packages: fairseq\n",
      "  Attempting uninstall: fairseq\n",
      "    Found existing installation: fairseq 1.0.0a0+9a1c497\n",
      "    Uninstalling fairseq-1.0.0a0+9a1c497:\n",
      "      Successfully uninstalled fairseq-1.0.0a0+9a1c497\n",
      "Successfully installed fairseq-1.0.0a0+9a1c497\n"
     ]
    }
   ],
   "source": [
    "!git clone https://github.com/pytorch/fairseq.git\n",
    "!cd fairseq && git checkout 9a1c497\n",
    "!pip install --upgrade ./fairseq/"
   ]
  },
  {
   "cell_type": "code",
   "execution_count": 4,
   "metadata": {
    "id": "uRLTiuIuqGNc"
   },
   "outputs": [],
   "source": [
    "import sys\n",
    "import pdb\n",
    "import pprint\n",
    "import logging\n",
    "import os\n",
    "import random\n",
    "\n",
    "import torch\n",
    "import torch.nn as nn\n",
    "import torch.nn.functional as F\n",
    "from torch.utils import data\n",
    "import numpy as np\n",
    "import tqdm.auto as tqdm\n",
    "from pathlib import Path\n",
    "from argparse import Namespace\n",
    "from fairseq import utils\n",
    "\n",
    "import matplotlib.pyplot as plt"
   ]
  },
  {
   "cell_type": "markdown",
   "metadata": {
    "id": "0n07Za1XqJzA"
   },
   "source": [
    "# Fix random seed"
   ]
  },
  {
   "cell_type": "code",
   "execution_count": 5,
   "metadata": {
    "id": "xllxxyWxqI7s"
   },
   "outputs": [],
   "source": [
    "seed = 24\n",
    "random.seed(seed)\n",
    "torch.manual_seed(seed)\n",
    "if torch.cuda.is_available():\n",
    "    torch.cuda.manual_seed(seed)\n",
    "    torch.cuda.manual_seed_all(seed)  \n",
    "np.random.seed(seed)  \n",
    "torch.backends.cudnn.benchmark = False\n",
    "torch.backends.cudnn.deterministic = True"
   ]
  },
  {
   "cell_type": "markdown",
   "metadata": {
    "id": "N5ORDJ-2qdYw"
   },
   "source": [
    "# Dataset\n",
    "\n",
    "## En-Zh Bilingual Parallel Corpus\n",
    "* TED2020\n",
    "    - Raw: 400,726 (sentences)   \n",
    "    - Processed: 394,052 (sentences)\n",
    "    \n",
    "\n",
    "## Testdata\n",
    "- Size: 4,000 (sentences)\n",
    "- **Chinese translation is undisclosed. The provided (.zh) file is psuedo translation, each line is a '。'**"
   ]
  },
  {
   "cell_type": "markdown",
   "metadata": {
    "id": "GQw2mY4Dqkzd"
   },
   "source": [
    "## Dataset Download"
   ]
  },
  {
   "cell_type": "code",
   "execution_count": 6,
   "metadata": {
    "id": "SXT42xQtqijD",
    "scrolled": true
   },
   "outputs": [
    {
     "name": "stdout",
     "output_type": "stream",
     "text": [
      "raw.en\n",
      "raw.zh\n",
      "test.en\n",
      "test.zh\n"
     ]
    }
   ],
   "source": [
    "data_dir = './DATA/rawdata'\n",
    "dataset_name = 'ted2020'\n",
    "urls = (\n",
    "    \"https://github.com/figisiwirf/ml2023-hw5-dataset/releases/download/v1.0.1/ml2023.hw5.data.tgz\",\n",
    "    \"https://github.com/figisiwirf/ml2023-hw5-dataset/releases/download/v1.0.1/ml2023.hw5.test.tgz\"\n",
    ")\n",
    "file_names = (\n",
    "    'ted2020.tgz', # train & dev\n",
    "    'test.tgz', # test\n",
    ")\n",
    "prefix = Path(data_dir).absolute() / dataset_name\n",
    "\n",
    "prefix.mkdir(parents=True, exist_ok=True)\n",
    "for u, f in zip(urls, file_names):\n",
    "    path = prefix/f\n",
    "    if not path.exists():\n",
    "        !wget {u} -O {path}\n",
    "    if path.suffix == \".tgz\":\n",
    "        !tar -xvf {path} -C {prefix}\n",
    "    elif path.suffix == \".zip\":\n",
    "        !unzip -o {path} -d {prefix}\n",
    "!mv {prefix/'raw.en'} {prefix/'train_dev.raw.en'}\n",
    "!mv {prefix/'raw.zh'} {prefix/'train_dev.raw.zh'}\n",
    "!mv {prefix/'test.en'} {prefix/'test.raw.en'}\n",
    "!mv {prefix/'test.zh'} {prefix/'test.raw.zh'}"
   ]
  },
  {
   "cell_type": "markdown",
   "metadata": {
    "id": "YLkJwNiFrIwZ"
   },
   "source": [
    "## Language"
   ]
  },
  {
   "cell_type": "code",
   "execution_count": 7,
   "metadata": {
    "id": "_uJYkCncrKJb"
   },
   "outputs": [],
   "source": [
    "src_lang = 'en'\n",
    "tgt_lang = 'zh'\n",
    "\n",
    "data_prefix = f'{prefix}/train_dev.raw'\n",
    "test_prefix = f'{prefix}/test.raw'"
   ]
  },
  {
   "cell_type": "code",
   "execution_count": 8,
   "metadata": {
    "id": "0t2CPt1brOT3"
   },
   "outputs": [
    {
     "name": "stdout",
     "output_type": "stream",
     "text": [
      "Thank you so much, Chris.\n",
      "And it's truly a great honor to have the opportunity to come to this stage twice; I'm extremely grateful.\n",
      "I have been blown away by this conference, and I want to thank all of you for the many nice comments about what I had to say the other night.\n",
      "And I say that sincerely, partly because I need that.\n",
      "Put yourselves in my position.\n",
      "非常謝謝你，克里斯。能有這個機會第二度踏上這個演講台\n",
      "真是一大榮幸。我非常感激。\n",
      "這個研討會給我留下了極為深刻的印象，我想感謝大家 對我之前演講的好評。\n",
      "我是由衷的想這麼說，有部份原因是因為 —— 我真的有需要!\n",
      "請你們設身處地為我想一想！\n"
     ]
    }
   ],
   "source": [
    "!head {data_prefix+'.'+src_lang} -n 5\n",
    "!head {data_prefix+'.'+tgt_lang} -n 5"
   ]
  },
  {
   "cell_type": "markdown",
   "metadata": {
    "id": "pRoE9UK7r1gY"
   },
   "source": [
    "## Preprocess files"
   ]
  },
  {
   "cell_type": "code",
   "execution_count": 9,
   "metadata": {
    "id": "3tzFwtnFrle3"
   },
   "outputs": [],
   "source": [
    "import re\n",
    "\n",
    "def strQ2B(ustring):\n",
    "    \"\"\"Full width -> half width\"\"\"\n",
    "    # reference:https://ithelp.ithome.com.tw/articles/10233122\n",
    "    ss = []\n",
    "    for s in ustring:\n",
    "        rstring = \"\"\n",
    "        for uchar in s:\n",
    "            inside_code = ord(uchar)\n",
    "            if inside_code == 12288:  # Full width space: direct conversion\n",
    "                inside_code = 32\n",
    "            elif (inside_code >= 65281 and inside_code <= 65374):  # Full width chars (except space) conversion\n",
    "                inside_code -= 65248\n",
    "            rstring += chr(inside_code)\n",
    "        ss.append(rstring)\n",
    "    return ''.join(ss)\n",
    "                \n",
    "def clean_s(s, lang):\n",
    "    if lang == 'en':\n",
    "        s = re.sub(r\"\\([^()]*\\)\", \"\", s) # remove ([text])\n",
    "        s = s.replace('-', '') # remove '-'\n",
    "        s = re.sub('([.,;!?()\\\"])', r' \\1 ', s) # keep punctuation\n",
    "    elif lang == 'zh':\n",
    "        s = strQ2B(s) # Q2B\n",
    "        s = re.sub(r\"\\([^()]*\\)\", \"\", s) # remove ([text])\n",
    "        s = s.replace(' ', '')\n",
    "        s = s.replace('—', '')\n",
    "        s = s.replace('“', '\"')\n",
    "        s = s.replace('”', '\"')\n",
    "        s = s.replace('_', '')\n",
    "        s = re.sub('([。,;!?()\\\"~「」])', r' \\1 ', s) # keep punctuation\n",
    "    s = ' '.join(s.strip().split())\n",
    "    return s\n",
    "\n",
    "def len_s(s, lang):\n",
    "    if lang == 'zh':\n",
    "        return len(s)\n",
    "    return len(s.split())\n",
    "\n",
    "def clean_corpus(prefix, l1, l2, ratio=9, max_len=1000, min_len=1):\n",
    "    if Path(f'{prefix}.clean.{l1}').exists() and Path(f'{prefix}.clean.{l2}').exists():\n",
    "        print(f'{prefix}.clean.{l1} & {l2} exists. skipping clean.')\n",
    "        return\n",
    "    with open(f'{prefix}.{l1}', 'r') as l1_in_f:\n",
    "        with open(f'{prefix}.{l2}', 'r') as l2_in_f:\n",
    "            with open(f'{prefix}.clean.{l1}', 'w') as l1_out_f:\n",
    "                with open(f'{prefix}.clean.{l2}', 'w') as l2_out_f:\n",
    "                    for s1 in l1_in_f:\n",
    "                        s1 = s1.strip()\n",
    "                        s2 = l2_in_f.readline().strip()\n",
    "                        s1 = clean_s(s1, l1)\n",
    "                        s2 = clean_s(s2, l2)\n",
    "                        s1_len = len_s(s1, l1)\n",
    "                        s2_len = len_s(s2, l2)\n",
    "                        if min_len > 0: # remove short sentence\n",
    "                            if s1_len < min_len or s2_len < min_len:\n",
    "                                continue\n",
    "                        if max_len > 0: # remove long sentence\n",
    "                            if s1_len > max_len or s2_len > max_len:\n",
    "                                continue\n",
    "                        if ratio > 0: # remove by ratio of length\n",
    "                            if s1_len/s2_len > ratio or s2_len/s1_len > ratio:\n",
    "                                continue\n",
    "                        print(s1, file=l1_out_f)\n",
    "                        print(s2, file=l2_out_f)"
   ]
  },
  {
   "cell_type": "code",
   "execution_count": 10,
   "metadata": {
    "id": "h_i8b1PRr9Nf"
   },
   "outputs": [
    {
     "name": "stdout",
     "output_type": "stream",
     "text": [
      "/home/ph/ML_2023/HW5test/DATA/rawdata/ted2020/train_dev.raw.clean.en & zh exists. skipping clean.\n",
      "/home/ph/ML_2023/HW5test/DATA/rawdata/ted2020/test.raw.clean.en & zh exists. skipping clean.\n"
     ]
    }
   ],
   "source": [
    "clean_corpus(data_prefix, src_lang, tgt_lang)\n",
    "clean_corpus(test_prefix, src_lang, tgt_lang, ratio=-1, min_len=-1, max_len=-1)"
   ]
  },
  {
   "cell_type": "code",
   "execution_count": 11,
   "metadata": {
    "id": "gjT3XCy9r_rj"
   },
   "outputs": [
    {
     "name": "stdout",
     "output_type": "stream",
     "text": [
      "Thank you so much , Chris .\n",
      "And it's truly a great honor to have the opportunity to come to this stage twice ; I'm extremely grateful .\n",
      "I have been blown away by this conference , and I want to thank all of you for the many nice comments about what I had to say the other night .\n",
      "And I say that sincerely , partly because I need that .\n",
      "Put yourselves in my position .\n",
      "非常謝謝你 , 克里斯 。 能有這個機會第二度踏上這個演講台\n",
      "真是一大榮幸 。 我非常感激 。\n",
      "這個研討會給我留下了極為深刻的印象 , 我想感謝大家對我之前演講的好評 。\n",
      "我是由衷的想這麼說 , 有部份原因是因為我真的有需要 !\n",
      "請你們設身處地為我想一想 !\n"
     ]
    }
   ],
   "source": [
    "!head {data_prefix+'.clean.'+src_lang} -n 5\n",
    "!head {data_prefix+'.clean.'+tgt_lang} -n 5"
   ]
  },
  {
   "cell_type": "markdown",
   "metadata": {
    "id": "nKb4u67-sT_Z"
   },
   "source": [
    "## Split into train/valid"
   ]
  },
  {
   "cell_type": "code",
   "execution_count": 12,
   "metadata": {
    "id": "AuFKeDz3sGHL"
   },
   "outputs": [],
   "source": [
    "valid_ratio = 0.01 # 3000~4000 would suffice\n",
    "train_ratio = 1 - valid_ratio"
   ]
  },
  {
   "cell_type": "code",
   "execution_count": 13,
   "metadata": {
    "id": "QR2NVldqsXyY"
   },
   "outputs": [
    {
     "name": "stdout",
     "output_type": "stream",
     "text": [
      "train/valid splits exists. skipping split.\n"
     ]
    }
   ],
   "source": [
    "if (prefix/f'train.clean.{src_lang}').exists() \\\n",
    "and (prefix/f'train.clean.{tgt_lang}').exists() \\\n",
    "and (prefix/f'valid.clean.{src_lang}').exists() \\\n",
    "and (prefix/f'valid.clean.{tgt_lang}').exists():\n",
    "    print(f'train/valid splits exists. skipping split.')\n",
    "else:\n",
    "    line_num = sum(1 for line in open(f'{data_prefix}.clean.{src_lang}'))\n",
    "    labels = list(range(line_num))\n",
    "    random.shuffle(labels)\n",
    "    for lang in [src_lang, tgt_lang]:\n",
    "        train_f = open(os.path.join(data_dir, dataset_name, f'train.clean.{lang}'), 'w')\n",
    "        valid_f = open(os.path.join(data_dir, dataset_name, f'valid.clean.{lang}'), 'w')\n",
    "        count = 0\n",
    "        for line in open(f'{data_prefix}.clean.{lang}', 'r'):\n",
    "            if labels[count]/line_num < train_ratio:\n",
    "                train_f.write(line)\n",
    "            else:\n",
    "                valid_f.write(line)\n",
    "            count += 1\n",
    "        train_f.close()\n",
    "        valid_f.close()"
   ]
  },
  {
   "cell_type": "markdown",
   "metadata": {
    "id": "n1rwQysTsdJq"
   },
   "source": [
    "## Subword Units \n",
    "Out of vocabulary (OOV) has been a major problem in machine translation. This can be alleviated by using subword units.\n",
    "- We will use the [sentencepiece](#kudo-richardson-2018-sentencepiece) package\n",
    "- select 'unigram' or 'byte-pair encoding (BPE)' algorithm"
   ]
  },
  {
   "cell_type": "code",
   "execution_count": 14,
   "metadata": {
    "id": "Ecwllsa7sZRA"
   },
   "outputs": [
    {
     "name": "stdout",
     "output_type": "stream",
     "text": [
      "/home/ph/ML_2023/HW5test/DATA/rawdata/ted2020/spm8000.model exists. skipping spm_train.\n"
     ]
    }
   ],
   "source": [
    "import sentencepiece as spm\n",
    "vocab_size = 8000\n",
    "if (prefix/f'spm{vocab_size}.model').exists():\n",
    "    print(f'{prefix}/spm{vocab_size}.model exists. skipping spm_train.')\n",
    "else:\n",
    "    spm.SentencePieceTrainer.train(\n",
    "        input=','.join([f'{prefix}/train.clean.{src_lang}',\n",
    "                        f'{prefix}/valid.clean.{src_lang}',\n",
    "                        f'{prefix}/train.clean.{tgt_lang}',\n",
    "                        f'{prefix}/valid.clean.{tgt_lang}']),\n",
    "        model_prefix=prefix/f'spm{vocab_size}',\n",
    "        vocab_size=vocab_size,\n",
    "        character_coverage=1,\n",
    "        model_type='unigram', # 'bpe' works as well\n",
    "        input_sentence_size=1e6,\n",
    "        shuffle_input_sentence=True,\n",
    "        normalization_rule_name='nmt_nfkc_cf',\n",
    "    )"
   ]
  },
  {
   "cell_type": "code",
   "execution_count": 15,
   "metadata": {
    "id": "lQPRNldqse_V"
   },
   "outputs": [
    {
     "name": "stdout",
     "output_type": "stream",
     "text": [
      "/home/ph/ML_2023/HW5test/DATA/rawdata/ted2020/train.en exists. skipping spm_encode.\n",
      "/home/ph/ML_2023/HW5test/DATA/rawdata/ted2020/train.zh exists. skipping spm_encode.\n",
      "/home/ph/ML_2023/HW5test/DATA/rawdata/ted2020/valid.en exists. skipping spm_encode.\n",
      "/home/ph/ML_2023/HW5test/DATA/rawdata/ted2020/valid.zh exists. skipping spm_encode.\n"
     ]
    }
   ],
   "source": [
    "spm_model = spm.SentencePieceProcessor(model_file=str(prefix/f'spm{vocab_size}.model'))\n",
    "in_tag = {\n",
    "    'train': 'train.clean',\n",
    "    'valid': 'valid.clean',\n",
    "    'test': 'test.raw.clean',\n",
    "}\n",
    "for split in ['train', 'valid', 'test']:\n",
    "    for lang in [src_lang, tgt_lang]:\n",
    "        out_path = prefix/f'{split}.{lang}'\n",
    "        if out_path.exists():\n",
    "            print(f\"{out_path} exists. skipping spm_encode.\")\n",
    "        else:\n",
    "            with open(prefix/f'{split}.{lang}', 'w') as out_f:\n",
    "                with open(prefix/f'{in_tag[split]}.{lang}', 'r') as in_f:\n",
    "                    for line in in_f:\n",
    "                        line = line.strip()\n",
    "                        tok = spm_model.encode(line, out_type=str)\n",
    "                        print(' '.join(tok), file=out_f)"
   ]
  },
  {
   "cell_type": "code",
   "execution_count": 16,
   "metadata": {
    "id": "4j6lXHjAsjXa"
   },
   "outputs": [
    {
     "name": "stdout",
     "output_type": "stream",
     "text": [
      "▁thank ▁you ▁so ▁much ▁, ▁chris ▁.\n",
      "▁and ▁it ' s ▁tr u ly ▁a ▁great ▁ho n or ▁to ▁have ▁the ▁ op port un ity ▁to ▁come ▁to ▁this ▁st age ▁ t wi ce ▁; ▁i ' m ▁ex t re me ly ▁gr ate ful ▁.\n",
      "▁i ▁have ▁been ▁ bl own ▁away ▁by ▁this ▁con fer ence ▁, ▁and ▁i ▁want ▁to ▁thank ▁all ▁of ▁you ▁for ▁the ▁many ▁ ni ce ▁ com ment s ▁about ▁what ▁i ▁had ▁to ▁say ▁the ▁other ▁night ▁.\n",
      "▁and ▁i ▁say ▁that ▁since re ly ▁, ▁part ly ▁because ▁i ▁need ▁that ▁.\n",
      "▁put ▁your s el ve s ▁in ▁my ▁po s ition ▁.\n",
      "▁ 非常 謝 謝 你 ▁, ▁ 克 里 斯 ▁。 ▁ 能 有 這個 機會 第二 度 踏 上 這個 演講 台\n",
      "▁ 真 是 一 大 榮 幸 ▁。 ▁我 非常 感 激 ▁。\n",
      "▁這個 研 討 會 給我 留 下 了 極 為 深 刻 的 印 象 ▁, ▁我想 感 謝 大家 對我 之前 演講 的 好 評 ▁。\n",
      "▁我 是由 衷 的 想 這麼 說 ▁, ▁有 部份 原因 是因為 我 真的 有 需要 ▁!\n",
      "▁ 請 你們 設 身 處 地 為 我想 一 想 ▁!\n"
     ]
    }
   ],
   "source": [
    "!head {data_dir+'/'+dataset_name+'/train.'+src_lang} -n 5\n",
    "!head {data_dir+'/'+dataset_name+'/train.'+tgt_lang} -n 5"
   ]
  },
  {
   "cell_type": "markdown",
   "metadata": {
    "id": "59si_C0Wsms7"
   },
   "source": [
    "## Binarize the data with fairseq\n",
    "Prepare the files in pairs for both the source and target languages. \\\\\n",
    "In case a pair is unavailable, generate a pseudo pair to facilitate binarization."
   ]
  },
  {
   "cell_type": "code",
   "execution_count": 17,
   "metadata": {
    "id": "w-cHVLSpsknh"
   },
   "outputs": [
    {
     "name": "stdout",
     "output_type": "stream",
     "text": [
      "DATA/data-bin/ted2020 exists, will not overwrite!\n"
     ]
    }
   ],
   "source": [
    "binpath = Path('./DATA/data-bin', dataset_name)\n",
    "if binpath.exists():\n",
    "    print(binpath, \"exists, will not overwrite!\")\n",
    "else:\n",
    "    !python -m fairseq_cli.preprocess \\\n",
    "        --source-lang {src_lang}\\\n",
    "        --target-lang {tgt_lang}\\\n",
    "        --trainpref {prefix/'train'}\\\n",
    "        --validpref {prefix/'valid'}\\\n",
    "        --testpref {prefix/'test'}\\\n",
    "        --destdir {binpath}\\\n",
    "        --joined-dictionary\\\n",
    "        --workers 2"
   ]
  },
  {
   "cell_type": "markdown",
   "metadata": {
    "id": "szMuH1SWLPWA"
   },
   "source": [
    "# Configuration for experiments"
   ]
  },
  {
   "cell_type": "code",
   "execution_count": 18,
   "metadata": {
    "id": "5Luz3_tVLUxs"
   },
   "outputs": [],
   "source": [
    "config = Namespace(\n",
    "    datadir = \"./DATA/data-bin/ted2020\",\n",
    "    savedir = \"./checkpoints/rnn\",\n",
    "    source_lang = \"zh\",\n",
    "    target_lang = \"en\",\n",
    "    \n",
    "    # cpu threads when fetching & processing data.\n",
    "    num_workers=0,  #2\n",
    "    # batch size in terms of tokens. gradient accumulation increases the effective batchsize.\n",
    "    max_tokens=8192,\n",
    "    accum_steps=2,\n",
    "    \n",
    "    # the lr s calculated from Noam lr scheduler. you can tune the maximum lr by this factor.\n",
    "    lr_factor=2.,\n",
    "    lr_warmup=4000,\n",
    "    \n",
    "    # clipping gradient norm helps alleviate gradient exploding\n",
    "    clip_norm=1.0,\n",
    "    \n",
    "    # maximum epochs for training\n",
    "    max_epoch=30,\n",
    "    start_epoch=1,\n",
    "    \n",
    "    # beam size for beam search\n",
    "    beam=5, \n",
    "    # generate sequences of maximum length ax + b, where x is the source length\n",
    "    max_len_a=1.2, \n",
    "    max_len_b=10, \n",
    "    # when decoding, post process sentence by removing sentencepiece symbols and jieba tokenization.\n",
    "    post_process = \"sentencepiece\",\n",
    "    \n",
    "    # checkpoints\n",
    "    keep_last_epochs=5,\n",
    "    resume=None, # if resume from checkpoint name (under config.savedir)\n",
    "    \n",
    "    # logging\n",
    "    use_wandb=False,\n",
    ")"
   ]
  },
  {
   "cell_type": "markdown",
   "metadata": {
    "id": "cjrJFvyQLg86"
   },
   "source": [
    "# Logging\n",
    "- logging package logs ordinary messages\n",
    "- wandb logs the loss, bleu, etc. in the training process"
   ]
  },
  {
   "cell_type": "code",
   "execution_count": 19,
   "metadata": {
    "id": "-ZiMyDWALbDk"
   },
   "outputs": [],
   "source": [
    "logging.basicConfig(\n",
    "    format=\"%(asctime)s | %(levelname)s | %(name)s | %(message)s\",\n",
    "    datefmt=\"%Y-%m-%d %H:%M:%S\",\n",
    "    level=\"INFO\", # \"DEBUG\" \"WARNING\" \"ERROR\"\n",
    "    stream=sys.stdout,\n",
    ")\n",
    "proj = \"hw5.seq2seq\"\n",
    "logger = logging.getLogger(proj)\n",
    "if config.use_wandb:\n",
    "    import wandb\n",
    "    wandb.init(project=proj, name=Path(config.savedir).stem, config=config)"
   ]
  },
  {
   "cell_type": "markdown",
   "metadata": {
    "id": "BNoSkK45Lmqc"
   },
   "source": [
    "# CUDA Environments"
   ]
  },
  {
   "cell_type": "code",
   "execution_count": 20,
   "metadata": {
    "id": "oqrsbmcoLqMl"
   },
   "outputs": [
    {
     "name": "stdout",
     "output_type": "stream",
     "text": [
      "2023-04-13 10:53:51 | INFO | fairseq.utils | ***********************CUDA enviroments for all 1 workers***********************\n",
      "2023-04-13 10:53:51 | INFO | fairseq.utils | rank   0: capabilities =  7.5  ; total memory = 10.758 GB ; name = NVIDIA GeForce RTX 2080 Ti              \n",
      "2023-04-13 10:53:51 | INFO | fairseq.utils | ***********************CUDA enviroments for all 1 workers***********************\n"
     ]
    }
   ],
   "source": [
    "cuda_env = utils.CudaEnvironment()\n",
    "utils.CudaEnvironment.pretty_print_cuda_env_list([cuda_env])\n",
    "device = torch.device('cuda:0' if torch.cuda.is_available() else 'cpu')"
   ]
  },
  {
   "cell_type": "markdown",
   "metadata": {
    "id": "TbJuBIHLLt2D"
   },
   "source": [
    "# Dataloading"
   ]
  },
  {
   "cell_type": "markdown",
   "metadata": {
    "id": "oOpG4EBRLwe_"
   },
   "source": [
    "## We borrow the TranslationTask from fairseq\n",
    "* used to load the binarized data created above\n",
    "* well-implemented data iterator (dataloader)\n",
    "* built-in task.source_dictionary and task.target_dictionary are also handy\n",
    "* well-implemented beach search decoder"
   ]
  },
  {
   "cell_type": "code",
   "execution_count": 21,
   "metadata": {
    "id": "3gSEy1uFLvVs"
   },
   "outputs": [
    {
     "name": "stdout",
     "output_type": "stream",
     "text": [
      "2023-04-13 10:53:53 | INFO | fairseq.tasks.translation | [zh] dictionary: 7992 types\n",
      "2023-04-13 10:53:53 | INFO | fairseq.tasks.translation | [en] dictionary: 7992 types\n"
     ]
    }
   ],
   "source": [
    "from fairseq.tasks.translation import TranslationConfig, TranslationTask\n",
    "\n",
    "## setup task\n",
    "task_cfg = TranslationConfig(\n",
    "    data=config.datadir,\n",
    "    source_lang=config.source_lang,\n",
    "    target_lang=config.target_lang,\n",
    "    train_subset=\"train\",\n",
    "    required_seq_len_multiple=8,\n",
    "    dataset_impl=\"mmap\",\n",
    "    upsample_primary=1,\n",
    ")\n",
    "task = TranslationTask.setup_task(task_cfg)"
   ]
  },
  {
   "cell_type": "code",
   "execution_count": 22,
   "metadata": {
    "id": "mR7Bhov7L4IU"
   },
   "outputs": [
    {
     "name": "stdout",
     "output_type": "stream",
     "text": [
      "2023-04-13 10:53:54 | INFO | hw5.seq2seq | loading data for epoch 1\n",
      "2023-04-13 10:53:54 | INFO | fairseq.data.data_utils | loaded 390,112 examples from: ./DATA/data-bin/ted2020/train.en-zh.zh\n",
      "2023-04-13 10:53:54 | INFO | fairseq.data.data_utils | loaded 390,112 examples from: ./DATA/data-bin/ted2020/train.en-zh.en\n",
      "2023-04-13 10:53:54 | INFO | fairseq.tasks.translation | ./DATA/data-bin/ted2020 train zh-en 390112 examples\n",
      "2023-04-13 10:53:54 | INFO | fairseq.data.data_utils | loaded 3,940 examples from: ./DATA/data-bin/ted2020/valid.en-zh.zh\n",
      "2023-04-13 10:53:54 | INFO | fairseq.data.data_utils | loaded 3,940 examples from: ./DATA/data-bin/ted2020/valid.en-zh.en\n",
      "2023-04-13 10:53:54 | INFO | fairseq.tasks.translation | ./DATA/data-bin/ted2020 valid zh-en 3940 examples\n"
     ]
    }
   ],
   "source": [
    "logger.info(\"loading data for epoch 1\")\n",
    "task.load_dataset(split=\"train\", epoch=1, combine=True) # combine if you have back-translation data.\n",
    "task.load_dataset(split=\"valid\", epoch=1)"
   ]
  },
  {
   "cell_type": "code",
   "execution_count": 23,
   "metadata": {
    "id": "P0BCEm_9L6ig"
   },
   "outputs": [
    {
     "name": "stdout",
     "output_type": "stream",
     "text": [
      "{'id': 1,\n",
      " 'source': tensor([1561,  659,  405,   10,    5,   65, 1898,   29,  760,  624,  398,  388,\n",
      "         405,   10,    2]),\n",
      " 'target': tensor([ 361,  913,  615,   13,  269,  275,   39, 1418, 1428,  666,    6,   26,\n",
      "        1561,  659,  117,   67,   22,  105,  351,  849,    5,  835,   90,   47,\n",
      "        1561,  624,    7,    5,  388,  117,   67,   22,  105,    7,    2])}\n",
      "'Source: 31度 。 上個月是39.5度 。'\n",
      "('Target: historical average for januarys is 31 degrees ; last month was 39 . '\n",
      " '5 degrees .')\n"
     ]
    }
   ],
   "source": [
    "sample = task.dataset(\"valid\")[1]\n",
    "pprint.pprint(sample)\n",
    "pprint.pprint(\n",
    "    \"Source: \" + \\\n",
    "    task.source_dictionary.string(\n",
    "        sample['source'],\n",
    "        config.post_process,\n",
    "    )\n",
    ")\n",
    "pprint.pprint(\n",
    "    \"Target: \" + \\\n",
    "    task.target_dictionary.string(\n",
    "        sample['target'],\n",
    "        config.post_process,\n",
    "    )\n",
    ")"
   ]
  },
  {
   "cell_type": "markdown",
   "metadata": {
    "id": "UcfCVa2FMBSE"
   },
   "source": [
    "# Dataset iterator"
   ]
  },
  {
   "cell_type": "markdown",
   "metadata": {
    "id": "yBvc-B_6MKZM"
   },
   "source": [
    "* Controls every batch to contain no more than N tokens, which optimizes GPU memory efficiency\n",
    "* Shuffles the training set for every epoch\n",
    "* Ignore sentences exceeding maximum length\n",
    "* Pad all sentences in a batch to the same length, which enables parallel computing by GPU\n",
    "* Add eos and shift one token\n",
    "    - teacher forcing: to train the model to predict the next token based on prefix, we feed the right shifted target sequence as the decoder input.\n",
    "    - generally, prepending bos to the target would do the job (as shown below)\n",
    "![seq2seq](https://i.imgur.com/0zeDyuI.png)\n",
    "    - in fairseq however, this is done by moving the eos token to the begining. Empirically, this has the same effect. For instance:\n",
    "    ```\n",
    "    # output target (target) and Decoder input (prev_output_tokens): \n",
    "                   eos = 2\n",
    "                target = 419,  711,  238,  888,  792,   60,  968,    8,    2\n",
    "    prev_output_tokens = 2,  419,  711,  238,  888,  792,   60,  968,    8\n",
    "    ```\n",
    "\n"
   ]
  },
  {
   "cell_type": "code",
   "execution_count": 24,
   "metadata": {
    "id": "OWFJFmCnMDXW"
   },
   "outputs": [
    {
     "name": "stdout",
     "output_type": "stream",
     "text": [
      "2023-04-13 10:53:56 | WARNING | fairseq.tasks.fairseq_task | 2,505 samples have invalid sizes and will be skipped, max_positions=(20, 20), first few sample ids=[625, 1623, 3296, 2873, 20, 2601, 3060, 3618, 836, 3369]\n"
     ]
    },
    {
     "data": {
      "text/plain": [
       "{'id': tensor([3771]),\n",
       " 'nsentences': 1,\n",
       " 'ntokens': 13,\n",
       " 'net_input': {'src_tokens': tensor([[   5,  706, 1124, 2229,    9, 1849,  926,    2]]),\n",
       "  'src_lengths': tensor([8]),\n",
       "  'prev_output_tokens': tensor([[  2,  44,  14,  22,  82, 117, 427,  67, 184, 256,  71,   6,   7,   1,\n",
       "             1,   1]])},\n",
       " 'target': tensor([[ 44,  14,  22,  82, 117, 427,  67, 184, 256,  71,   6,   7,   2,   1,\n",
       "            1,   1]])}"
      ]
     },
     "execution_count": 24,
     "metadata": {},
     "output_type": "execute_result"
    }
   ],
   "source": [
    "def load_data_iterator(task, split, epoch=1, max_tokens=4000, num_workers=0, cached=True):\n",
    "    batch_iterator = task.get_batch_iterator(\n",
    "        dataset=task.dataset(split),\n",
    "        max_tokens=max_tokens,\n",
    "        max_sentences=None,\n",
    "        max_positions=utils.resolve_max_positions(\n",
    "            task.max_positions(),\n",
    "            max_tokens,\n",
    "        ),\n",
    "        ignore_invalid_inputs=True,\n",
    "        seed=seed,\n",
    "        num_workers=num_workers,\n",
    "        epoch=epoch,\n",
    "        disable_iterator_cache=not cached,\n",
    "        # Set this to False to speed up. However, if set to False, changing max_tokens beyond \n",
    "        # first call of this method has no effect. \n",
    "    )\n",
    "    return batch_iterator\n",
    "\n",
    "demo_epoch_obj = load_data_iterator(task, \"valid\", epoch=1, max_tokens=20, num_workers=0, cached=False)\n",
    "demo_iter = demo_epoch_obj.next_epoch_itr(shuffle=True)\n",
    "\n",
    "\n",
    "sample = next(demo_iter)\n",
    "sample"
   ]
  },
  {
   "cell_type": "markdown",
   "metadata": {
    "id": "p86K-0g7Me4M"
   },
   "source": [
    "* each batch is a python dict, with string key and Tensor value. Contents are described below:\n",
    "```python\n",
    "batch = {\n",
    "    \"id\": id, # id for each example \n",
    "    \"nsentences\": len(samples), # batch size (sentences)\n",
    "    \"ntokens\": ntokens, # batch size (tokens)\n",
    "    \"net_input\": {\n",
    "        \"src_tokens\": src_tokens, # sequence in source language\n",
    "        \"src_lengths\": src_lengths, # sequence length of each example before padding\n",
    "        \"prev_output_tokens\": prev_output_tokens, # right shifted target, as mentioned above.\n",
    "    },\n",
    "    \"target\": target, # target sequence\n",
    "}\n",
    "```"
   ]
  },
  {
   "cell_type": "markdown",
   "metadata": {
    "id": "9EyDBE5ZMkFZ"
   },
   "source": [
    "# Model Architecture\n",
    "* We again inherit fairseq's encoder, decoder and model, so that in the testing phase we can directly leverage fairseq's beam search decoder."
   ]
  },
  {
   "cell_type": "code",
   "execution_count": 25,
   "metadata": {
    "id": "Hzh74qLIMfW_"
   },
   "outputs": [],
   "source": [
    "from fairseq.models import (\n",
    "    FairseqEncoder, \n",
    "    FairseqIncrementalDecoder,\n",
    "    FairseqEncoderDecoderModel\n",
    ")"
   ]
  },
  {
   "cell_type": "markdown",
   "metadata": {
    "id": "OI46v1z7MotH"
   },
   "source": [
    "# Encoder"
   ]
  },
  {
   "cell_type": "markdown",
   "metadata": {
    "id": "Wn0wSeLLMrbc"
   },
   "source": [
    "- The Encoder is a RNN or Transformer Encoder. The following description is for RNN. For every input token, Encoder will generate a output vector and a hidden states vector, and the hidden states vector is passed on to the next step. In other words, the Encoder sequentially reads in the input sequence, and outputs a single vector at each timestep, then finally outputs the final hidden states, or content vector, at the last timestep.\n",
    "- Parameters:\n",
    "  - *args*\n",
    "      - encoder_embed_dim: the dimension of embeddings, this compresses the one-hot vector into fixed dimensions, which achieves dimension reduction\n",
    "      - encoder_ffn_embed_dim is the dimension of hidden states and output vectors\n",
    "      - encoder_layers is the number of layers for Encoder RNN\n",
    "      - dropout determines the probability of a neuron's activation being set to 0, in order to prevent overfitting. Generally this is applied in training, and removed in testing.\n",
    "  - *dictionary*: the dictionary provided by fairseq. it's used to obtain the padding index, and in turn the encoder padding mask. \n",
    "  - *embed_tokens*: an instance of token embeddings (nn.Embedding)\n",
    "\n",
    "- Inputs: \n",
    "    - *src_tokens*: integer sequence representing english e.g. 1, 28, 29, 205, 2 \n",
    "- Outputs: \n",
    "    - *outputs*: the output of RNN at each timestep, can be furthur processed by Attention\n",
    "    - *final_hiddens*: the hidden states of each timestep, will be passed to decoder for decoding\n",
    "    - *encoder_padding_mask*: this tells the decoder which position to ignore\n"
   ]
  },
  {
   "cell_type": "code",
   "execution_count": 26,
   "metadata": {
    "id": "WcX3W4iGMq-S"
   },
   "outputs": [],
   "source": [
    "# class RNNEncoder(FairseqEncoder):\n",
    "#     def __init__(self, args, dictionary, embed_tokens):\n",
    "#         super().__init__(dictionary)\n",
    "#         self.embed_tokens = embed_tokens\n",
    "        \n",
    "#         self.embed_dim = args.encoder_embed_dim\n",
    "#         self.hidden_dim = args.encoder_ffn_embed_dim\n",
    "#         self.num_layers = args.encoder_layers\n",
    "        \n",
    "#         self.dropout_in_module = nn.Dropout(args.dropout)\n",
    "#         self.rnn = nn.GRU(\n",
    "#             self.embed_dim, \n",
    "#             self.hidden_dim, \n",
    "#             self.num_layers, \n",
    "#             dropout=args.dropout, \n",
    "#             batch_first=False, \n",
    "#             bidirectional=True\n",
    "#         )\n",
    "#         self.dropout_out_module = nn.Dropout(args.dropout)\n",
    "        \n",
    "#         self.padding_idx = dictionary.pad()\n",
    "        \n",
    "#     def combine_bidir(self, outs, bsz: int):\n",
    "#         out = outs.view(self.num_layers, 2, bsz, -1).transpose(1, 2).contiguous()\n",
    "#         return out.view(self.num_layers, bsz, -1)\n",
    "\n",
    "#     def forward(self, src_tokens, **unused):\n",
    "#         bsz, seqlen = src_tokens.size()\n",
    "        \n",
    "#         # get embeddings\n",
    "#         x = self.embed_tokens(src_tokens)\n",
    "#         x = self.dropout_in_module(x)\n",
    "\n",
    "#         # B x T x C -> T x B x C\n",
    "#         x = x.transpose(0, 1)\n",
    "        \n",
    "#         # pass thru bidirectional RNN\n",
    "#         h0 = x.new_zeros(2 * self.num_layers, bsz, self.hidden_dim)\n",
    "#         x, final_hiddens = self.rnn(x, h0)\n",
    "#         outputs = self.dropout_out_module(x)\n",
    "#         # outputs = [sequence len, batch size, hid dim * directions]\n",
    "#         # hidden =  [num_layers * directions, batch size  , hid dim]\n",
    "        \n",
    "#         # Since Encoder is bidirectional, we need to concatenate the hidden states of two directions\n",
    "#         final_hiddens = self.combine_bidir(final_hiddens, bsz)\n",
    "#         # hidden =  [num_layers x batch x num_directions*hidden]\n",
    "        \n",
    "#         encoder_padding_mask = src_tokens.eq(self.padding_idx).t()\n",
    "#         return tuple(\n",
    "#             (\n",
    "#                 outputs,  # seq_len x batch x hidden\n",
    "#                 final_hiddens,  # num_layers x batch x num_directions*hidden\n",
    "#                 encoder_padding_mask,  # seq_len x batch\n",
    "#             )\n",
    "#         )\n",
    "    \n",
    "#     def reorder_encoder_out(self, encoder_out, new_order):\n",
    "#         # This is used by fairseq's beam search. How and why is not particularly important here.\n",
    "#         return tuple(\n",
    "#             (\n",
    "#                 encoder_out[0].index_select(1, new_order),\n",
    "#                 encoder_out[1].index_select(1, new_order),\n",
    "#                 encoder_out[2].index_select(1, new_order),\n",
    "#             )\n",
    "#         )"
   ]
  },
  {
   "cell_type": "markdown",
   "metadata": {
    "id": "6ZlE_1JnMv56"
   },
   "source": [
    "## Attention"
   ]
  },
  {
   "cell_type": "markdown",
   "metadata": {
    "id": "ZSFSKt_ZMzgh"
   },
   "source": [
    "- When the input sequence is long, \"content vector\" alone cannot accurately represent the whole sequence, attention mechanism can provide the Decoder more information.\n",
    "- According to the **Decoder embeddings** of the current timestep, match the **Encoder outputs** with decoder embeddings to determine correlation, and then sum the Encoder outputs weighted by the correlation as the input to **Decoder** RNN.\n",
    "- Common attention implementations use neural network / dot product as the correlation between **query** (decoder embeddings) and **key** (Encoder outputs), followed by **softmax**  to obtain a distribution, and finally **values** (Encoder outputs) is **weighted sum**-ed by said distribution.\n",
    "\n",
    "- Parameters:\n",
    "  - *input_embed_dim*: dimensionality of key, should be that of the vector in decoder to attend others\n",
    "  - *source_embed_dim*: dimensionality of query, should be that of the vector to be attended to (encoder outputs)\n",
    "  - *output_embed_dim*: dimensionality of value, should be that of the vector after attention, expected by the next layer\n",
    "\n",
    "- Inputs: \n",
    "    - *inputs*: is the key, the vector to attend to others\n",
    "    - *encoder_outputs*:  is the query/value, the vector to be attended to\n",
    "    - *encoder_padding_mask*: this tells the decoder which position to ignore\n",
    "- Outputs: \n",
    "    - *output*: the context vector after attention\n",
    "    - *attention score*: the attention distribution\n"
   ]
  },
  {
   "cell_type": "code",
   "execution_count": 27,
   "metadata": {
    "id": "1Atf_YuCMyyF"
   },
   "outputs": [],
   "source": [
    "# class AttentionLayer(nn.Module):\n",
    "#     def __init__(self, input_embed_dim, source_embed_dim, output_embed_dim, bias=False):\n",
    "#         super().__init__()\n",
    "\n",
    "#         self.input_proj = nn.Linear(input_embed_dim, source_embed_dim, bias=bias)\n",
    "#         self.output_proj = nn.Linear(\n",
    "#             input_embed_dim + source_embed_dim, output_embed_dim, bias=bias\n",
    "#         )\n",
    "\n",
    "#     def forward(self, inputs, encoder_outputs, encoder_padding_mask):\n",
    "#         # inputs: T, B, dim\n",
    "#         # encoder_outputs: S x B x dim\n",
    "#         # padding mask:  S x B\n",
    "        \n",
    "#         # convert all to batch first\n",
    "#         inputs = inputs.transpose(1,0) # B, T, dim\n",
    "#         encoder_outputs = encoder_outputs.transpose(1,0) # B, S, dim\n",
    "#         encoder_padding_mask = encoder_padding_mask.transpose(1,0) # B, S\n",
    "        \n",
    "#         # project to the dimensionality of encoder_outputs\n",
    "#         x = self.input_proj(inputs)\n",
    "\n",
    "#         # compute attention\n",
    "#         # (B, T, dim) x (B, dim, S) = (B, T, S)\n",
    "#         attn_scores = torch.bmm(x, encoder_outputs.transpose(1,2))\n",
    "\n",
    "#         # cancel the attention at positions corresponding to padding\n",
    "#         if encoder_padding_mask is not None:\n",
    "#             # leveraging broadcast  B, S -> (B, 1, S)\n",
    "#             encoder_padding_mask = encoder_padding_mask.unsqueeze(1)\n",
    "#             attn_scores = (\n",
    "#                 attn_scores.float()\n",
    "#                 .masked_fill_(encoder_padding_mask, float(\"-inf\"))\n",
    "#                 .type_as(attn_scores)\n",
    "#             )  # FP16 support: cast to float and back\n",
    "\n",
    "#         # softmax on the dimension corresponding to source sequence\n",
    "#         attn_scores = F.softmax(attn_scores, dim=-1)\n",
    "\n",
    "#         # shape (B, T, S) x (B, S, dim) = (B, T, dim) weighted sum\n",
    "#         x = torch.bmm(attn_scores, encoder_outputs)\n",
    "\n",
    "#         # (B, T, dim)\n",
    "#         x = torch.cat((x, inputs), dim=-1)\n",
    "#         x = torch.tanh(self.output_proj(x)) # concat + linear + tanh\n",
    "        \n",
    "#         # restore shape (B, T, dim) -> (T, B, dim)\n",
    "#         return x.transpose(1,0), attn_scores"
   ]
  },
  {
   "cell_type": "markdown",
   "metadata": {
    "id": "doSCOA2gM7fK"
   },
   "source": [
    "# Decoder"
   ]
  },
  {
   "cell_type": "markdown",
   "metadata": {
    "id": "2M8Vod2gNABR"
   },
   "source": [
    "* The hidden states of **Decoder** will be initialized by the final hidden states of **Encoder** (the content vector)\n",
    "* At the same time, **Decoder** will change its hidden states based on the input of the current timestep (the outputs of previous timesteps), and generates an output\n",
    "* Attention improves the performance\n",
    "* The seq2seq steps are implemented in decoder, so that later the Seq2Seq class can accept RNN and Transformer, without furthur modification.\n",
    "- Parameters:\n",
    "  - *args*\n",
    "      - decoder_embed_dim: is the dimensionality of the decoder embeddings, similar to encoder_embed_dim，\n",
    "      - decoder_ffn_embed_dim: is the dimensionality of the decoder RNN hidden states, similar to encoder_ffn_embed_dim\n",
    "      - decoder_layers: number of layers of RNN decoder\n",
    "      - share_decoder_input_output_embed: usually, the projection matrix of the decoder will share weights with the decoder input embeddings\n",
    "  - *dictionary*: the dictionary provided by fairseq\n",
    "  - *embed_tokens*: an instance of token embeddings (nn.Embedding)\n",
    "- Inputs: \n",
    "    - *prev_output_tokens*: integer sequence representing the right-shifted target e.g. 1, 28, 29, 205, 2 \n",
    "    - *encoder_out*: encoder's output.\n",
    "    - *incremental_state*: in order to speed up decoding during test time, we will save the hidden state of each timestep. see forward() for details.\n",
    "- Outputs: \n",
    "    - *outputs*: the logits (before softmax) output of decoder for each timesteps\n",
    "    - *extra*: unsused"
   ]
  },
  {
   "cell_type": "code",
   "execution_count": 28,
   "metadata": {
    "id": "QfvgqHYDM6Lp"
   },
   "outputs": [],
   "source": [
    "# class RNNDecoder(FairseqIncrementalDecoder):\n",
    "#     def __init__(self, args, dictionary, embed_tokens):\n",
    "#         super().__init__(dictionary)\n",
    "#         self.embed_tokens = embed_tokens\n",
    "        \n",
    "#         assert args.decoder_layers == args.encoder_layers, f\"\"\"seq2seq rnn requires that encoder \n",
    "#         and decoder have same layers of rnn. got: {args.encoder_layers, args.decoder_layers}\"\"\"\n",
    "#         assert args.decoder_ffn_embed_dim == args.encoder_ffn_embed_dim*2, f\"\"\"seq2seq-rnn requires \n",
    "#         that decoder hidden to be 2*encoder hidden dim. got: {args.decoder_ffn_embed_dim, args.encoder_ffn_embed_dim*2}\"\"\"\n",
    "        \n",
    "#         self.embed_dim = args.decoder_embed_dim\n",
    "#         self.hidden_dim = args.decoder_ffn_embed_dim\n",
    "#         self.num_layers = args.decoder_layers\n",
    "        \n",
    "        \n",
    "#         self.dropout_in_module = nn.Dropout(args.dropout)\n",
    "#         self.rnn = nn.GRU(\n",
    "#             self.embed_dim, \n",
    "#             self.hidden_dim, \n",
    "#             self.num_layers, \n",
    "#             dropout=args.dropout, \n",
    "#             batch_first=False, \n",
    "#             bidirectional=False\n",
    "#         )\n",
    "#         self.attention = AttentionLayer(\n",
    "#             self.embed_dim, self.hidden_dim, self.embed_dim, bias=False\n",
    "#         ) \n",
    "#         # self.attention = None\n",
    "#         self.dropout_out_module = nn.Dropout(args.dropout)\n",
    "        \n",
    "#         if self.hidden_dim != self.embed_dim:\n",
    "#             self.project_out_dim = nn.Linear(self.hidden_dim, self.embed_dim)\n",
    "#         else:\n",
    "#             self.project_out_dim = None\n",
    "        \n",
    "#         if args.share_decoder_input_output_embed:\n",
    "#             self.output_projection = nn.Linear(\n",
    "#                 self.embed_tokens.weight.shape[1],\n",
    "#                 self.embed_tokens.weight.shape[0],\n",
    "#                 bias=False,\n",
    "#             )\n",
    "#             self.output_projection.weight = self.embed_tokens.weight\n",
    "#         else:\n",
    "#             self.output_projection = nn.Linear(\n",
    "#                 self.output_embed_dim, len(dictionary), bias=False\n",
    "#             )\n",
    "#             nn.init.normal_(\n",
    "#                 self.output_projection.weight, mean=0, std=self.output_embed_dim ** -0.5\n",
    "#             )\n",
    "        \n",
    "#     def forward(self, prev_output_tokens, encoder_out, incremental_state=None, **unused):\n",
    "#         # extract the outputs from encoder\n",
    "#         encoder_outputs, encoder_hiddens, encoder_padding_mask = encoder_out\n",
    "#         # outputs:          seq_len x batch x num_directions*hidden\n",
    "#         # encoder_hiddens:  num_layers x batch x num_directions*encoder_hidden\n",
    "#         # padding_mask:     seq_len x batch\n",
    "        \n",
    "#         if incremental_state is not None and len(incremental_state) > 0:\n",
    "#             # if the information from last timestep is retained, we can continue from there instead of starting from bos\n",
    "#             prev_output_tokens = prev_output_tokens[:, -1:]\n",
    "#             cache_state = self.get_incremental_state(incremental_state, \"cached_state\")\n",
    "#             prev_hiddens = cache_state[\"prev_hiddens\"]\n",
    "#         else:\n",
    "#             # incremental state does not exist, either this is training time, or the first timestep of test time\n",
    "#             # prepare for seq2seq: pass the encoder_hidden to the decoder hidden states\n",
    "#             prev_hiddens = encoder_hiddens\n",
    "        \n",
    "#         bsz, seqlen = prev_output_tokens.size()\n",
    "        \n",
    "#         # embed tokens\n",
    "#         x = self.embed_tokens(prev_output_tokens)\n",
    "#         x = self.dropout_in_module(x)\n",
    "\n",
    "#         # B x T x C -> T x B x C\n",
    "#         x = x.transpose(0, 1)\n",
    "                \n",
    "#         # decoder-to-encoder attention\n",
    "#         if self.attention is not None:\n",
    "#             x, attn = self.attention(x, encoder_outputs, encoder_padding_mask)\n",
    "                        \n",
    "#         # pass thru unidirectional RNN\n",
    "#         x, final_hiddens = self.rnn(x, prev_hiddens)\n",
    "#         # outputs = [sequence len, batch size, hid dim]\n",
    "#         # hidden =  [num_layers * directions, batch size  , hid dim]\n",
    "#         x = self.dropout_out_module(x)\n",
    "                \n",
    "#         # project to embedding size (if hidden differs from embed size, and share_embedding is True, \n",
    "#         # we need to do an extra projection)\n",
    "#         if self.project_out_dim != None:\n",
    "#             x = self.project_out_dim(x)\n",
    "        \n",
    "#         # project to vocab size\n",
    "#         x = self.output_projection(x)\n",
    "        \n",
    "#         # T x B x C -> B x T x C\n",
    "#         x = x.transpose(1, 0)\n",
    "        \n",
    "#         # if incremental, record the hidden states of current timestep, which will be restored in the next timestep\n",
    "#         cache_state = {\n",
    "#             \"prev_hiddens\": final_hiddens,\n",
    "#         }\n",
    "#         self.set_incremental_state(incremental_state, \"cached_state\", cache_state)\n",
    "        \n",
    "#         return x, None\n",
    "    \n",
    "#     def reorder_incremental_state(\n",
    "#         self,\n",
    "#         incremental_state,\n",
    "#         new_order,\n",
    "#     ):\n",
    "#         # This is used by fairseq's beam search. How and why is not particularly important here.\n",
    "#         cache_state = self.get_incremental_state(incremental_state, \"cached_state\")\n",
    "#         prev_hiddens = cache_state[\"prev_hiddens\"]\n",
    "#         prev_hiddens = [p.index_select(0, new_order) for p in prev_hiddens]\n",
    "#         cache_state = {\n",
    "#             \"prev_hiddens\": torch.stack(prev_hiddens),\n",
    "#         }\n",
    "#         self.set_incremental_state(incremental_state, \"cached_state\", cache_state)\n",
    "#         return"
   ]
  },
  {
   "cell_type": "markdown",
   "metadata": {
    "id": "UDAPmxjRNEEL"
   },
   "source": [
    "## Seq2Seq\n",
    "- Composed of **Encoder** and **Decoder**\n",
    "- Recieves inputs and pass to **Encoder** \n",
    "- Pass the outputs from **Encoder** to **Decoder**\n",
    "- **Decoder** will decode according to outputs of previous timesteps as well as **Encoder** outputs  \n",
    "- Once done decoding, return the **Decoder** outputs"
   ]
  },
  {
   "cell_type": "code",
   "execution_count": 29,
   "metadata": {
    "id": "oRwKdLa0NEU6"
   },
   "outputs": [],
   "source": [
    "class Seq2Seq(FairseqEncoderDecoderModel):\n",
    "    def __init__(self, args, encoder, decoder):\n",
    "        super().__init__(encoder, decoder)\n",
    "        self.args = args\n",
    "    \n",
    "    def forward(\n",
    "        self,\n",
    "        src_tokens,\n",
    "        src_lengths,\n",
    "        prev_output_tokens,\n",
    "        return_all_hiddens: bool = True,\n",
    "    ):\n",
    "        \"\"\"\n",
    "        Run the forward pass for an encoder-decoder model.\n",
    "        \"\"\"\n",
    "        encoder_out = self.encoder(\n",
    "            src_tokens, src_lengths=src_lengths, return_all_hiddens=return_all_hiddens\n",
    "        )\n",
    "        logits, extra = self.decoder(\n",
    "            prev_output_tokens,\n",
    "            encoder_out=encoder_out,\n",
    "            src_lengths=src_lengths,\n",
    "            return_all_hiddens=return_all_hiddens,\n",
    "        )\n",
    "        return logits, extra"
   ]
  },
  {
   "cell_type": "markdown",
   "metadata": {
    "id": "zu3C2JfqNHzk"
   },
   "source": [
    "# Model Initialization"
   ]
  },
  {
   "cell_type": "code",
   "execution_count": 30,
   "metadata": {
    "id": "nyI9FOx-NJ2m"
   },
   "outputs": [],
   "source": [
    "# # HINT: transformer architecture\n",
    "from fairseq.models.transformer import (\n",
    "    TransformerEncoder, \n",
    "    TransformerDecoder,\n",
    ")\n",
    "\n",
    "def build_model(args, task):\n",
    "    \"\"\" build a model instance based on hyperparameters \"\"\"\n",
    "    src_dict, tgt_dict = task.source_dictionary, task.target_dictionary\n",
    "\n",
    "    # token embeddings\n",
    "    encoder_embed_tokens = nn.Embedding(len(src_dict), args.encoder_embed_dim, src_dict.pad())\n",
    "    decoder_embed_tokens = nn.Embedding(len(tgt_dict), args.decoder_embed_dim, tgt_dict.pad())\n",
    "    \n",
    "    # encoder decoder\n",
    "    # HINT: TODO: switch to TransformerEncoder & TransformerDecoder\n",
    "#     encoder = RNNEncoder(args, src_dict, encoder_embed_tokens)\n",
    "#     decoder = RNNDecoder(args, tgt_dict, decoder_embed_tokens)\n",
    "    encoder = TransformerEncoder(args, src_dict, encoder_embed_tokens)\n",
    "    decoder = TransformerDecoder(args, tgt_dict, decoder_embed_tokens)\n",
    "\n",
    "    # sequence to sequence model\n",
    "    model = Seq2Seq(args, encoder, decoder)\n",
    "    \n",
    "    # initialization for seq2seq model is important, requires extra handling\n",
    "    def init_params(module):\n",
    "        from fairseq.modules import MultiheadAttention\n",
    "        if isinstance(module, nn.Linear):\n",
    "            module.weight.data.normal_(mean=0.0, std=0.02)\n",
    "            if module.bias is not None:\n",
    "                module.bias.data.zero_()\n",
    "        if isinstance(module, nn.Embedding):\n",
    "            module.weight.data.normal_(mean=0.0, std=0.02)\n",
    "            if module.padding_idx is not None:\n",
    "                module.weight.data[module.padding_idx].zero_()\n",
    "        if isinstance(module, MultiheadAttention):\n",
    "            module.q_proj.weight.data.normal_(mean=0.0, std=0.02)\n",
    "            module.k_proj.weight.data.normal_(mean=0.0, std=0.02)\n",
    "            module.v_proj.weight.data.normal_(mean=0.0, std=0.02)\n",
    "        if isinstance(module, nn.RNNBase):\n",
    "            for name, param in module.named_parameters():\n",
    "                if \"weight\" in name or \"bias\" in name:\n",
    "                    param.data.uniform_(-0.1, 0.1)\n",
    "            \n",
    "    # weight initialization\n",
    "    model.apply(init_params)\n",
    "    return model"
   ]
  },
  {
   "cell_type": "markdown",
   "metadata": {
    "id": "ce5n4eS7NQNy"
   },
   "source": [
    "## Architecture Related Configuration\n",
    "\n",
    "For strong baseline, please refer to the hyperparameters for *transformer-base* in Table 3 in [Attention is all you need](#vaswani2017)"
   ]
  },
  {
   "cell_type": "code",
   "execution_count": 31,
   "metadata": {
    "id": "Cyn30VoGNT6N"
   },
   "outputs": [],
   "source": [
    "arch_args = Namespace(\n",
    "    encoder_embed_dim=512,\n",
    "    encoder_ffn_embed_dim=1024,\n",
    "    encoder_layers=8,\n",
    "    decoder_embed_dim=512,\n",
    "    decoder_ffn_embed_dim=1024,\n",
    "    decoder_layers=8,\n",
    "    share_decoder_input_output_embed=True,\n",
    "    dropout=0.3,\n",
    ")\n",
    "\n",
    "# HINT: these patches on parameters for Transformer\n",
    "def add_transformer_args(args):\n",
    "    args.encoder_attention_heads=8\n",
    "    args.encoder_normalize_before=True\n",
    "    \n",
    "    args.decoder_attention_heads=8\n",
    "    args.decoder_normalize_before=True\n",
    "    \n",
    "    args.activation_fn=\"relu\"\n",
    "    args.max_source_positions=1024\n",
    "    args.max_target_positions=1024\n",
    "    \n",
    "    # patches on default parameters for Transformer (those not set above)\n",
    "    from fairseq.models.transformer import base_architecture\n",
    "    base_architecture(arch_args)\n",
    "\n",
    "add_transformer_args(arch_args)"
   ]
  },
  {
   "cell_type": "code",
   "execution_count": 32,
   "metadata": {
    "id": "Nbb76QLCNZZZ"
   },
   "outputs": [],
   "source": [
    "if config.use_wandb:\n",
    "    wandb.config.update(vars(arch_args))"
   ]
  },
  {
   "cell_type": "code",
   "execution_count": 33,
   "metadata": {
    "id": "7ZWfxsCDNatH"
   },
   "outputs": [
    {
     "name": "stdout",
     "output_type": "stream",
     "text": [
      "2023-04-13 10:54:02 | INFO | hw5.seq2seq | Seq2Seq(\n",
      "  (encoder): TransformerEncoder(\n",
      "    (dropout_module): FairseqDropout()\n",
      "    (embed_tokens): Embedding(7992, 512, padding_idx=1)\n",
      "    (embed_positions): SinusoidalPositionalEmbedding()\n",
      "    (layers): ModuleList(\n",
      "      (0-7): 8 x TransformerEncoderLayer(\n",
      "        (self_attn): MultiheadAttention(\n",
      "          (dropout_module): FairseqDropout()\n",
      "          (k_proj): Linear(in_features=512, out_features=512, bias=True)\n",
      "          (v_proj): Linear(in_features=512, out_features=512, bias=True)\n",
      "          (q_proj): Linear(in_features=512, out_features=512, bias=True)\n",
      "          (out_proj): Linear(in_features=512, out_features=512, bias=True)\n",
      "        )\n",
      "        (self_attn_layer_norm): LayerNorm((512,), eps=1e-05, elementwise_affine=True)\n",
      "        (dropout_module): FairseqDropout()\n",
      "        (activation_dropout_module): FairseqDropout()\n",
      "        (fc1): Linear(in_features=512, out_features=1024, bias=True)\n",
      "        (fc2): Linear(in_features=1024, out_features=512, bias=True)\n",
      "        (final_layer_norm): LayerNorm((512,), eps=1e-05, elementwise_affine=True)\n",
      "      )\n",
      "    )\n",
      "    (layer_norm): LayerNorm((512,), eps=1e-05, elementwise_affine=True)\n",
      "  )\n",
      "  (decoder): TransformerDecoder(\n",
      "    (dropout_module): FairseqDropout()\n",
      "    (embed_tokens): Embedding(7992, 512, padding_idx=1)\n",
      "    (embed_positions): SinusoidalPositionalEmbedding()\n",
      "    (layers): ModuleList(\n",
      "      (0-7): 8 x TransformerDecoderLayer(\n",
      "        (dropout_module): FairseqDropout()\n",
      "        (self_attn): MultiheadAttention(\n",
      "          (dropout_module): FairseqDropout()\n",
      "          (k_proj): Linear(in_features=512, out_features=512, bias=True)\n",
      "          (v_proj): Linear(in_features=512, out_features=512, bias=True)\n",
      "          (q_proj): Linear(in_features=512, out_features=512, bias=True)\n",
      "          (out_proj): Linear(in_features=512, out_features=512, bias=True)\n",
      "        )\n",
      "        (activation_dropout_module): FairseqDropout()\n",
      "        (self_attn_layer_norm): LayerNorm((512,), eps=1e-05, elementwise_affine=True)\n",
      "        (encoder_attn): MultiheadAttention(\n",
      "          (dropout_module): FairseqDropout()\n",
      "          (k_proj): Linear(in_features=512, out_features=512, bias=True)\n",
      "          (v_proj): Linear(in_features=512, out_features=512, bias=True)\n",
      "          (q_proj): Linear(in_features=512, out_features=512, bias=True)\n",
      "          (out_proj): Linear(in_features=512, out_features=512, bias=True)\n",
      "        )\n",
      "        (encoder_attn_layer_norm): LayerNorm((512,), eps=1e-05, elementwise_affine=True)\n",
      "        (fc1): Linear(in_features=512, out_features=1024, bias=True)\n",
      "        (fc2): Linear(in_features=1024, out_features=512, bias=True)\n",
      "        (final_layer_norm): LayerNorm((512,), eps=1e-05, elementwise_affine=True)\n",
      "      )\n",
      "    )\n",
      "    (layer_norm): LayerNorm((512,), eps=1e-05, elementwise_affine=True)\n",
      "    (output_projection): Linear(in_features=512, out_features=7992, bias=False)\n",
      "  )\n",
      ")\n"
     ]
    }
   ],
   "source": [
    "model = build_model(arch_args, task)\n",
    "logger.info(model)"
   ]
  },
  {
   "cell_type": "markdown",
   "metadata": {
    "id": "aHll7GRNNdqc"
   },
   "source": [
    "# Optimization"
   ]
  },
  {
   "cell_type": "markdown",
   "metadata": {
    "id": "rUB9f1WCNgMH"
   },
   "source": [
    "## Loss: Label Smoothing Regularization\n",
    "* let the model learn to generate less concentrated distribution, and prevent over-confidence\n",
    "* sometimes the ground truth may not be the only answer. thus, when calculating loss, we reserve some probability for incorrect labels\n",
    "* avoids overfitting\n",
    "\n",
    "code [source](https://fairseq.readthedocs.io/en/latest/_modules/fairseq/criterions/label_smoothed_cross_entropy.html)"
   ]
  },
  {
   "cell_type": "code",
   "execution_count": 34,
   "metadata": {
    "id": "IgspdJn0NdYF"
   },
   "outputs": [],
   "source": [
    "class LabelSmoothedCrossEntropyCriterion(nn.Module):\n",
    "    def __init__(self, smoothing, ignore_index=None, reduce=True):\n",
    "        super().__init__()\n",
    "        self.smoothing = smoothing\n",
    "        self.ignore_index = ignore_index\n",
    "        self.reduce = reduce\n",
    "    \n",
    "    def forward(self, lprobs, target):\n",
    "        if target.dim() == lprobs.dim() - 1:\n",
    "            target = target.unsqueeze(-1)\n",
    "        # nll: Negative log likelihood，the cross-entropy when target is one-hot. following line is same as F.nll_loss\n",
    "        nll_loss = -lprobs.gather(dim=-1, index=target)\n",
    "        #  reserve some probability for other labels. thus when calculating cross-entropy, \n",
    "        # equivalent to summing the log probs of all labels\n",
    "        smooth_loss = -lprobs.sum(dim=-1, keepdim=True)\n",
    "        if self.ignore_index is not None:\n",
    "            pad_mask = target.eq(self.ignore_index)\n",
    "            nll_loss.masked_fill_(pad_mask, 0.0)\n",
    "            smooth_loss.masked_fill_(pad_mask, 0.0)\n",
    "        else:\n",
    "            nll_loss = nll_loss.squeeze(-1)\n",
    "            smooth_loss = smooth_loss.squeeze(-1)\n",
    "        if self.reduce:\n",
    "            nll_loss = nll_loss.sum()\n",
    "            smooth_loss = smooth_loss.sum()\n",
    "        # when calculating cross-entropy, add the loss of other labels\n",
    "        eps_i = self.smoothing / lprobs.size(-1)\n",
    "        loss = (1.0 - self.smoothing) * nll_loss + eps_i * smooth_loss\n",
    "        return loss\n",
    "\n",
    "# generally, 0.1 is good enough\n",
    "criterion = LabelSmoothedCrossEntropyCriterion(\n",
    "    smoothing=0.1,\n",
    "    ignore_index=task.target_dictionary.pad(),\n",
    ")"
   ]
  },
  {
   "cell_type": "markdown",
   "metadata": {
    "id": "aRalDto2NkJJ"
   },
   "source": [
    "## Optimizer: Adam + lr scheduling\n",
    "Inverse square root scheduling is important to the stability when training Transformer. It's later used on RNN as well.\n",
    "Update the learning rate according to the following equation. Linearly increase the first stage, then decay proportionally to the inverse square root of timestep.\n",
    "$$lrate = d_{\\text{model}}^{-0.5}\\cdot\\min({step\\_num}^{-0.5},{step\\_num}\\cdot{warmup\\_steps}^{-1.5})$$"
   ]
  },
  {
   "cell_type": "code",
   "execution_count": 35,
   "metadata": {
    "id": "sS7tQj1ROBYm"
   },
   "outputs": [],
   "source": [
    "def get_rate(d_model, step_num, warmup_step):\n",
    "    # TODO: Change lr from constant to the equation shown above\n",
    "    lr = 0.001\n",
    "    return lr"
   ]
  },
  {
   "cell_type": "code",
   "execution_count": 36,
   "metadata": {
    "id": "J8hoAjHPNkh3"
   },
   "outputs": [],
   "source": [
    "class NoamOpt:\n",
    "    \"Optim wrapper that implements rate.\"\n",
    "    def __init__(self, model_size, factor, warmup, optimizer):\n",
    "        self.optimizer = optimizer\n",
    "        self._step = 0\n",
    "        self.warmup = warmup\n",
    "        self.factor = factor\n",
    "        self.model_size = model_size\n",
    "        self._rate = 0\n",
    "    \n",
    "    @property\n",
    "    def param_groups(self):\n",
    "        return self.optimizer.param_groups\n",
    "        \n",
    "    def multiply_grads(self, c):\n",
    "        \"\"\"Multiplies grads by a constant *c*.\"\"\"                \n",
    "        for group in self.param_groups:\n",
    "            for p in group['params']:\n",
    "                if p.grad is not None:\n",
    "                    p.grad.data.mul_(c)\n",
    "        \n",
    "    def step(self):\n",
    "        \"Update parameters and rate\"\n",
    "        self._step += 1\n",
    "        rate = self.rate()\n",
    "        for p in self.param_groups:\n",
    "            p['lr'] = rate\n",
    "        self._rate = rate\n",
    "        self.optimizer.step()\n",
    "        \n",
    "    def rate(self, step = None):\n",
    "        \"Implement `lrate` above\"\n",
    "        if step is None:\n",
    "            step = self._step\n",
    "        return 0 if not step else self.factor * \\\n",
    "            (self.model_size ** (-0.5) *\n",
    "            min(step ** (-0.5), step * self.warmup ** (-1.5)))"
   ]
  },
  {
   "cell_type": "markdown",
   "metadata": {
    "id": "VFJlkOMONsc6"
   },
   "source": [
    "## Scheduling Visualized"
   ]
  },
  {
   "cell_type": "code",
   "execution_count": 37,
   "metadata": {
    "id": "A135fwPCNrQs"
   },
   "outputs": [
    {
     "data": {
      "image/png": "[encoded data removed]",
      "text/plain": [
       "<Figure size 640x480 with 1 Axes>"
      ]
     },
     "metadata": {},
     "output_type": "display_data"
    }
   ],
   "source": [
    "optimizer = NoamOpt(\n",
    "    model_size=arch_args.encoder_embed_dim, \n",
    "    factor=config.lr_factor, \n",
    "    warmup=config.lr_warmup, \n",
    "    optimizer=torch.optim.AdamW(model.parameters(), lr=0, betas=(0.9, 0.98), eps=1e-9, weight_decay=0.0001))\n",
    "plt.plot(np.arange(1, 100000), [optimizer.rate(i) for i in range(1, 100000)])\n",
    "plt.legend([f\"{optimizer.model_size}:{optimizer.warmup}\"])\n",
    "None"
   ]
  },
  {
   "cell_type": "markdown",
   "metadata": {
    "id": "TOR0g-cVO5ZO"
   },
   "source": [
    "# Training Procedure"
   ]
  },
  {
   "cell_type": "markdown",
   "metadata": {
    "id": "f-0ZjbK3O8Iv"
   },
   "source": [
    "## Training"
   ]
  },
  {
   "cell_type": "code",
   "execution_count": 38,
   "metadata": {
    "id": "foal3xM1O404"
   },
   "outputs": [],
   "source": [
    "from fairseq.data import iterators\n",
    "from torch.cuda.amp import GradScaler, autocast\n",
    "aa = []\n",
    "def train_one_epoch(epoch_itr, model, task, criterion, optimizer, accum_steps=1):\n",
    "    itr = epoch_itr.next_epoch_itr(shuffle=True)\n",
    "    itr = iterators.GroupedIterator(itr, accum_steps) # gradient accumulation: update every accum_steps samples\n",
    "    \n",
    "    stats = {\"loss\": []}\n",
    "    scaler = GradScaler() # automatic mixed precision (amp) \n",
    "    \n",
    "    model.train()\n",
    "    progress = tqdm.tqdm(itr, desc=f\"train epoch {epoch_itr.epoch}\", leave=False)\n",
    "    for samples in progress:\n",
    "        model.zero_grad()\n",
    "        accum_loss = 0\n",
    "        sample_size = 0\n",
    "        # gradient accumulation: update every accum_steps samples\n",
    "        for i, sample in enumerate(samples):\n",
    "            if i == 1:\n",
    "                # emptying the CUDA cache after the first step can reduce the chance of OOM\n",
    "                torch.cuda.empty_cache()\n",
    "\n",
    "            sample = utils.move_to_cuda(sample, device=device)\n",
    "            target = sample[\"target\"]\n",
    "            sample_size_i = sample[\"ntokens\"]\n",
    "            sample_size += sample_size_i\n",
    "            \n",
    "            # mixed precision training\n",
    "            with autocast():\n",
    "                net_output = model.forward(**sample[\"net_input\"])\n",
    "                lprobs = F.log_softmax(net_output[0], -1)            \n",
    "                loss = criterion(lprobs.view(-1, lprobs.size(-1)), target.view(-1))\n",
    "                \n",
    "                # logging\n",
    "                accum_loss += loss.item()\n",
    "                # back-prop\n",
    "                scaler.scale(loss).backward()                \n",
    "        \n",
    "        scaler.unscale_(optimizer)\n",
    "        optimizer.multiply_grads(1 / (sample_size or 1.0)) # (sample_size or 1.0) handles the case of a zero gradient\n",
    "        gnorm = nn.utils.clip_grad_norm_(model.parameters(), config.clip_norm) # grad norm clipping prevents gradient exploding\n",
    "        \n",
    "        aa.append(gnorm.cpu().item())\n",
    "        \n",
    "        scaler.step(optimizer)\n",
    "        scaler.update()\n",
    "        \n",
    "        # logging\n",
    "        loss_print = accum_loss/sample_size\n",
    "        stats[\"loss\"].append(loss_print)\n",
    "        progress.set_postfix(loss=loss_print)\n",
    "        if config.use_wandb:\n",
    "            wandb.log({\n",
    "                \"train/loss\": loss_print,\n",
    "                \"train/grad_norm\": gnorm.item(),\n",
    "                \"train/lr\": optimizer.rate(),\n",
    "                \"train/sample_size\": sample_size,\n",
    "            })\n",
    "        \n",
    "    loss_print = np.mean(stats[\"loss\"])\n",
    "    logger.info(f\"training loss: {loss_print:.4f}\")\n",
    "    return stats"
   ]
  },
  {
   "cell_type": "markdown",
   "metadata": {
    "id": "Gt1lX3DRO_yU"
   },
   "source": [
    "## Validation & Inference\n",
    "To prevent overfitting, validation is required every epoch to validate the performance on unseen data.\n",
    "- the procedure is essensially same as training, with the addition of inference step\n",
    "- after validation we can save the model weights\n",
    "\n",
    "Validation loss alone cannot describe the actual performance of the model\n",
    "- Directly produce translation hypotheses based on current model, then calculate BLEU with the reference translation\n",
    "- We can also manually examine the hypotheses' quality\n",
    "- We use fairseq's sequence generator for beam search to generate translation hypotheses"
   ]
  },
  {
   "cell_type": "code",
   "execution_count": 39,
   "metadata": {
    "id": "2og80HYQPAKq"
   },
   "outputs": [],
   "source": [
    "# fairseq's beam search generator\n",
    "# given model and input seqeunce, produce translation hypotheses by beam search\n",
    "sequence_generator = task.build_generator([model], config)\n",
    "\n",
    "def decode(toks, dictionary):\n",
    "    # convert from Tensor to human readable sentence\n",
    "    s = dictionary.string(\n",
    "        toks.int().cpu(),\n",
    "        config.post_process,\n",
    "    )\n",
    "    return s if s else \"<unk>\"\n",
    "\n",
    "def inference_step(sample, model):\n",
    "    gen_out = sequence_generator.generate([model], sample)\n",
    "    srcs = []\n",
    "    hyps = []\n",
    "    refs = []\n",
    "    for i in range(len(gen_out)):\n",
    "        # for each sample, collect the input, hypothesis and reference, later be used to calculate BLEU\n",
    "        srcs.append(decode(\n",
    "            utils.strip_pad(sample[\"net_input\"][\"src_tokens\"][i], task.source_dictionary.pad()), \n",
    "            task.source_dictionary,\n",
    "        ))\n",
    "        hyps.append(decode(\n",
    "            gen_out[i][0][\"tokens\"], # 0 indicates using the top hypothesis in beam\n",
    "            task.target_dictionary,\n",
    "        ))\n",
    "        refs.append(decode(\n",
    "            utils.strip_pad(sample[\"target\"][i], task.target_dictionary.pad()), \n",
    "            task.target_dictionary,\n",
    "        ))\n",
    "    return srcs, hyps, refs"
   ]
  },
  {
   "cell_type": "code",
   "execution_count": 40,
   "metadata": {
    "id": "y1o7LeDkPDsd"
   },
   "outputs": [],
   "source": [
    "import shutil\n",
    "import sacrebleu\n",
    "\n",
    "def validate(model, task, criterion, log_to_wandb=True):\n",
    "    logger.info('begin validation')\n",
    "    itr = load_data_iterator(task, \"valid\", 1, config.max_tokens, config.num_workers).next_epoch_itr(shuffle=False)\n",
    "    \n",
    "    stats = {\"loss\":[], \"bleu\": 0, \"srcs\":[], \"hyps\":[], \"refs\":[]}\n",
    "    srcs = []\n",
    "    hyps = []\n",
    "    refs = []\n",
    "    \n",
    "    model.eval()\n",
    "    progress = tqdm.tqdm(itr, desc=f\"validation\", leave=False)\n",
    "    with torch.no_grad():\n",
    "        for i, sample in enumerate(progress):\n",
    "            # validation loss\n",
    "            sample = utils.move_to_cuda(sample, device=device)\n",
    "            net_output = model.forward(**sample[\"net_input\"])\n",
    "\n",
    "            lprobs = F.log_softmax(net_output[0], -1)\n",
    "            target = sample[\"target\"]\n",
    "            sample_size = sample[\"ntokens\"]\n",
    "            loss = criterion(lprobs.view(-1, lprobs.size(-1)), target.view(-1)) / sample_size\n",
    "            progress.set_postfix(valid_loss=loss.item())\n",
    "            stats[\"loss\"].append(loss)\n",
    "            \n",
    "            # do inference\n",
    "            s, h, r = inference_step(sample, model)\n",
    "            srcs.extend(s)\n",
    "            hyps.extend(h)\n",
    "            refs.extend(r)\n",
    "            \n",
    "    tok = 'zh' if task.cfg.target_lang == 'zh' else '13a'\n",
    "    stats[\"loss\"] = torch.stack(stats[\"loss\"]).mean().item()\n",
    "    stats[\"bleu\"] = sacrebleu.corpus_bleu(hyps, [refs], tokenize=tok) # 計算BLEU score\n",
    "    stats[\"srcs\"] = srcs\n",
    "    stats[\"hyps\"] = hyps\n",
    "    stats[\"refs\"] = refs\n",
    "    \n",
    "    if config.use_wandb and log_to_wandb:\n",
    "        wandb.log({\n",
    "            \"valid/loss\": stats[\"loss\"],\n",
    "            \"valid/bleu\": stats[\"bleu\"].score,\n",
    "        }, commit=False)\n",
    "    \n",
    "    showid = np.random.randint(len(hyps))\n",
    "    logger.info(\"example source: \" + srcs[showid])\n",
    "    logger.info(\"example hypothesis: \" + hyps[showid])\n",
    "    logger.info(\"example reference: \" + refs[showid])\n",
    "    \n",
    "    # show bleu results\n",
    "    logger.info(f\"validation loss:\\t{stats['loss']:.4f}\")\n",
    "    logger.info(stats[\"bleu\"].format())\n",
    "    return stats"
   ]
  },
  {
   "cell_type": "markdown",
   "metadata": {
    "id": "1sRF6nd4PGEE"
   },
   "source": [
    "# Save and Load Model Weights\n"
   ]
  },
  {
   "cell_type": "code",
   "execution_count": 41,
   "metadata": {
    "id": "edBuLlkuPGr9"
   },
   "outputs": [],
   "source": [
    "def validate_and_save(model, task, criterion, optimizer, epoch, save=True):   \n",
    "    stats = validate(model, task, criterion)\n",
    "    bleu = stats['bleu']\n",
    "    loss = stats['loss']\n",
    "    if save:\n",
    "        # save epoch checkpoints\n",
    "        savedir = Path(config.savedir).absolute()\n",
    "        savedir.mkdir(parents=True, exist_ok=True)\n",
    "        \n",
    "        check = {\n",
    "            \"model\": model.state_dict(),\n",
    "            \"stats\": {\"bleu\": bleu.score, \"loss\": loss},\n",
    "            \"optim\": {\"step\": optimizer._step}\n",
    "        }\n",
    "        torch.save(check, savedir/f\"checkpoint{epoch}.pt\")\n",
    "        shutil.copy(savedir/f\"checkpoint{epoch}.pt\", savedir/f\"checkpoint_last.pt\")\n",
    "        logger.info(f\"saved epoch checkpoint: {savedir}/checkpoint{epoch}.pt\")\n",
    "    \n",
    "        # save epoch samples\n",
    "        with open(savedir/f\"samples{epoch}.{config.source_lang}-{config.target_lang}.txt\", \"w\") as f:\n",
    "            for s, h in zip(stats[\"srcs\"], stats[\"hyps\"]):\n",
    "                f.write(f\"{s}\\t{h}\\n\")\n",
    "\n",
    "        # get best valid bleu    \n",
    "        if getattr(validate_and_save, \"best_bleu\", 0) < bleu.score:\n",
    "            validate_and_save.best_bleu = bleu.score\n",
    "            torch.save(check, savedir/f\"checkpoint_best.pt\")\n",
    "            \n",
    "        del_file = savedir / f\"checkpoint{epoch - config.keep_last_epochs}.pt\"\n",
    "        if del_file.exists():\n",
    "            del_file.unlink()\n",
    "    \n",
    "    return stats\n",
    "\n",
    "def try_load_checkpoint(model, optimizer=None, name=None):\n",
    "    name = name if name else \"checkpoint_last.pt\"\n",
    "    checkpath = Path(config.savedir)/name\n",
    "    if checkpath.exists():\n",
    "        check = torch.load(checkpath)\n",
    "        model.load_state_dict(check[\"model\"])\n",
    "        stats = check[\"stats\"]\n",
    "        step = \"unknown\"\n",
    "        if optimizer != None:\n",
    "            optimizer._step = step = check[\"optim\"][\"step\"]\n",
    "        logger.info(f\"loaded checkpoint {checkpath}: step={step} loss={stats['loss']} bleu={stats['bleu']}\")\n",
    "    else:\n",
    "        logger.info(f\"no checkpoints found at {checkpath}!\")"
   ]
  },
  {
   "cell_type": "markdown",
   "metadata": {
    "id": "KyIFpibfPJ5u"
   },
   "source": [
    "# Main\n",
    "## Training loop"
   ]
  },
  {
   "cell_type": "code",
   "execution_count": 42,
   "metadata": {
    "id": "hu7RZbCUPKQr"
   },
   "outputs": [],
   "source": [
    "model = model.to(device=device)\n",
    "criterion = criterion.to(device=device)"
   ]
  },
  {
   "cell_type": "code",
   "execution_count": 43,
   "metadata": {
    "id": "5xxlJxU2PeAo"
   },
   "outputs": [
    {
     "name": "stdout",
     "output_type": "stream",
     "text": [
      "2023-04-13 10:54:12 | INFO | hw5.seq2seq | task: TranslationTask\n",
      "2023-04-13 10:54:12 | INFO | hw5.seq2seq | encoder: TransformerEncoder\n",
      "2023-04-13 10:54:12 | INFO | hw5.seq2seq | decoder: TransformerDecoder\n",
      "2023-04-13 10:54:12 | INFO | hw5.seq2seq | criterion: LabelSmoothedCrossEntropyCriterion\n",
      "2023-04-13 10:54:12 | INFO | hw5.seq2seq | optimizer: NoamOpt\n",
      "2023-04-13 10:54:12 | INFO | hw5.seq2seq | num. model params: 50,243,584 (num. trained: 50,243,584)\n",
      "2023-04-13 10:54:12 | INFO | hw5.seq2seq | max tokens per batch = 8192, accumulate steps = 2\n"
     ]
    }
   ],
   "source": [
    "logger.info(\"task: {}\".format(task.__class__.__name__))\n",
    "logger.info(\"encoder: {}\".format(model.encoder.__class__.__name__))\n",
    "logger.info(\"decoder: {}\".format(model.decoder.__class__.__name__))\n",
    "logger.info(\"criterion: {}\".format(criterion.__class__.__name__))\n",
    "logger.info(\"optimizer: {}\".format(optimizer.__class__.__name__))\n",
    "logger.info(\n",
    "    \"num. model params: {:,} (num. trained: {:,})\".format(\n",
    "        sum(p.numel() for p in model.parameters()),\n",
    "        sum(p.numel() for p in model.parameters() if p.requires_grad),\n",
    "    )\n",
    ")\n",
    "logger.info(f\"max tokens per batch = {config.max_tokens}, accumulate steps = {config.accum_steps}\")"
   ]
  },
  {
   "cell_type": "code",
   "execution_count": 44,
   "metadata": {
    "id": "MSPRqpQUPfaX"
   },
   "outputs": [
    {
     "data": {
      "application/vnd.jupyter.widget-view+json": {
       "model_id": "",
       "version_major": 2,
       "version_minor": 0
      },
      "text/plain": [
       "train epoch 1:   0%|          | 0/799 [00:00<?, ?it/s]"
      ]
     },
     "metadata": {},
     "output_type": "display_data"
    },
    {
     "name": "stderr",
     "output_type": "stream",
     "text": [
      "/home/ph/anaconda3/envs/pytorch/lib/python3.9/site-packages/torch/nn/functional.py:4999: UserWarning: Support for mismatched key_padding_mask and attn_mask is deprecated. Use same type for both instead.\n",
      "  warnings.warn(\n"
     ]
    },
    {
     "name": "stdout",
     "output_type": "stream",
     "text": [
      "2023-04-13 11:01:38 | INFO | hw5.seq2seq | training loss: 5.8669\n",
      "2023-04-13 11:01:38 | INFO | hw5.seq2seq | begin validation\n",
      "2023-04-13 11:01:38 | WARNING | fairseq.tasks.fairseq_task | 1 samples have invalid sizes and will be skipped, max_positions=(1024, 1024), first few sample ids=[3294]\n"
     ]
    },
    {
     "data": {
      "application/vnd.jupyter.widget-view+json": {
       "model_id": "",
       "version_major": 2,
       "version_minor": 0
      },
      "text/plain": [
       "validation:   0%|          | 0/27 [00:00<?, ?it/s]"
      ]
     },
     "metadata": {},
     "output_type": "display_data"
    },
    {
     "name": "stdout",
     "output_type": "stream",
     "text": [
      "2023-04-13 11:02:24 | WARNING | sacrebleu | That's 100 lines that end in a tokenized period ('.')\n",
      "2023-04-13 11:02:24 | WARNING | sacrebleu | It looks like you forgot to detokenize your test data, which may hurt your score.\n",
      "2023-04-13 11:02:24 | WARNING | sacrebleu | If you insist your data is detokenized, or don't care, you can suppress this message with the `force` parameter.\n",
      "2023-04-13 11:02:24 | INFO | hw5.seq2seq | example source: 所以我建了一個飛機模型 。\n",
      "2023-04-13 11:02:24 | INFO | hw5.seq2seq | example hypothesis: so i've been a new new new news .\n",
      "2023-04-13 11:02:24 | INFO | hw5.seq2seq | example reference: so i built model airplanes .\n",
      "2023-04-13 11:02:24 | INFO | hw5.seq2seq | validation loss:\t4.5679\n",
      "2023-04-13 11:02:24 | INFO | hw5.seq2seq | BLEU = 2.40 24.6/4.5/1.1/0.3 (BP = 1.000 ratio = 1.165 hyp_len = 89378 ref_len = 76732)\n",
      "2023-04-13 11:02:25 | INFO | hw5.seq2seq | saved epoch checkpoint: /home/ph/ML_2023/HW5test/checkpoints/rnn/checkpoint1.pt\n",
      "2023-04-13 11:02:26 | INFO | hw5.seq2seq | end of epoch 1\n"
     ]
    },
    {
     "data": {
      "application/vnd.jupyter.widget-view+json": {
       "model_id": "",
       "version_major": 2,
       "version_minor": 0
      },
      "text/plain": [
       "train epoch 2:   0%|          | 0/799 [00:00<?, ?it/s]"
      ]
     },
     "metadata": {},
     "output_type": "display_data"
    },
    {
     "name": "stdout",
     "output_type": "stream",
     "text": [
      "2023-04-13 11:10:35 | INFO | hw5.seq2seq | training loss: 4.1742\n",
      "2023-04-13 11:10:35 | INFO | hw5.seq2seq | begin validation\n"
     ]
    },
    {
     "data": {
      "application/vnd.jupyter.widget-view+json": {
       "model_id": "",
       "version_major": 2,
       "version_minor": 0
      },
      "text/plain": [
       "validation:   0%|          | 0/27 [00:00<?, ?it/s]"
      ]
     },
     "metadata": {},
     "output_type": "display_data"
    },
    {
     "name": "stdout",
     "output_type": "stream",
     "text": [
      "2023-04-13 11:11:16 | WARNING | sacrebleu | That's 100 lines that end in a tokenized period ('.')\n",
      "2023-04-13 11:11:16 | WARNING | sacrebleu | It looks like you forgot to detokenize your test data, which may hurt your score.\n",
      "2023-04-13 11:11:16 | WARNING | sacrebleu | If you insist your data is detokenized, or don't care, you can suppress this message with the `force` parameter.\n",
      "2023-04-13 11:11:16 | INFO | hw5.seq2seq | example source: 每天都有女孩的生命平白浪費 。\n",
      "2023-04-13 11:11:16 | INFO | hw5.seq2seq | example hypothesis: and every day , the white white life is whatten .\n",
      "2023-04-13 11:11:16 | INFO | hw5.seq2seq | example reference: every day , girls' lives are being wasted away .\n",
      "2023-04-13 11:11:16 | INFO | hw5.seq2seq | validation loss:\t3.6226\n",
      "2023-04-13 11:11:16 | INFO | hw5.seq2seq | BLEU = 8.40 39.9/13.0/5.2/2.2 (BP = 0.963 ratio = 0.963 hyp_len = 73926 ref_len = 76732)\n",
      "2023-04-13 11:11:17 | INFO | hw5.seq2seq | saved epoch checkpoint: /home/ph/ML_2023/HW5test/checkpoints/rnn/checkpoint2.pt\n",
      "2023-04-13 11:11:19 | INFO | hw5.seq2seq | end of epoch 2\n"
     ]
    },
    {
     "data": {
      "application/vnd.jupyter.widget-view+json": {
       "model_id": "",
       "version_major": 2,
       "version_minor": 0
      },
      "text/plain": [
       "train epoch 3:   0%|          | 0/799 [00:00<?, ?it/s]"
      ]
     },
     "metadata": {},
     "output_type": "display_data"
    },
    {
     "name": "stdout",
     "output_type": "stream",
     "text": [
      "2023-04-13 11:19:35 | INFO | hw5.seq2seq | training loss: 3.5591\n",
      "2023-04-13 11:19:35 | INFO | hw5.seq2seq | begin validation\n"
     ]
    },
    {
     "data": {
      "application/vnd.jupyter.widget-view+json": {
       "model_id": "",
       "version_major": 2,
       "version_minor": 0
      },
      "text/plain": [
       "validation:   0%|          | 0/27 [00:00<?, ?it/s]"
      ]
     },
     "metadata": {},
     "output_type": "display_data"
    },
    {
     "name": "stdout",
     "output_type": "stream",
     "text": [
      "2023-04-13 11:20:18 | WARNING | sacrebleu | That's 100 lines that end in a tokenized period ('.')\n",
      "2023-04-13 11:20:18 | WARNING | sacrebleu | It looks like you forgot to detokenize your test data, which may hurt your score.\n",
      "2023-04-13 11:20:18 | WARNING | sacrebleu | If you insist your data is detokenized, or don't care, you can suppress this message with the `force` parameter.\n",
      "2023-04-13 11:20:18 | INFO | hw5.seq2seq | example source: 為什麼不用你自己的方式 , 盡你所能 , 放手一搏去處理那個問題 ?\n",
      "2023-04-13 11:20:18 | INFO | hw5.seq2seq | example hypothesis: why don't you use your own way to do what you can do with your hands to deal with that question ?\n",
      "2023-04-13 11:20:18 | INFO | hw5.seq2seq | example reference: why not just go ahead and tackle the problem as best as you can , in your own way ?\n",
      "2023-04-13 11:20:18 | INFO | hw5.seq2seq | validation loss:\t3.2518\n",
      "2023-04-13 11:20:18 | INFO | hw5.seq2seq | BLEU = 11.45 43.8/16.6/7.5/3.5 (BP = 0.976 ratio = 0.976 hyp_len = 74881 ref_len = 76732)\n",
      "2023-04-13 11:20:20 | INFO | hw5.seq2seq | saved epoch checkpoint: /home/ph/ML_2023/HW5test/checkpoints/rnn/checkpoint3.pt\n",
      "2023-04-13 11:20:21 | INFO | hw5.seq2seq | end of epoch 3\n"
     ]
    },
    {
     "data": {
      "application/vnd.jupyter.widget-view+json": {
       "model_id": "",
       "version_major": 2,
       "version_minor": 0
      },
      "text/plain": [
       "train epoch 4:   0%|          | 0/799 [00:00<?, ?it/s]"
      ]
     },
     "metadata": {},
     "output_type": "display_data"
    },
    {
     "name": "stdout",
     "output_type": "stream",
     "text": [
      "2023-04-13 11:28:37 | INFO | hw5.seq2seq | training loss: 3.2751\n",
      "2023-04-13 11:28:37 | INFO | hw5.seq2seq | begin validation\n"
     ]
    },
    {
     "data": {
      "application/vnd.jupyter.widget-view+json": {
       "model_id": "",
       "version_major": 2,
       "version_minor": 0
      },
      "text/plain": [
       "validation:   0%|          | 0/27 [00:00<?, ?it/s]"
      ]
     },
     "metadata": {},
     "output_type": "display_data"
    },
    {
     "name": "stdout",
     "output_type": "stream",
     "text": [
      "2023-04-13 11:29:17 | WARNING | sacrebleu | That's 100 lines that end in a tokenized period ('.')\n",
      "2023-04-13 11:29:17 | WARNING | sacrebleu | It looks like you forgot to detokenize your test data, which may hurt your score.\n",
      "2023-04-13 11:29:17 | WARNING | sacrebleu | If you insist your data is detokenized, or don't care, you can suppress this message with the `force` parameter.\n",
      "2023-04-13 11:29:17 | INFO | hw5.seq2seq | example source: 這牽扯到兩個問題 。\n",
      "2023-04-13 11:29:17 | INFO | hw5.seq2seq | example hypothesis: it's related to two questions .\n",
      "2023-04-13 11:29:17 | INFO | hw5.seq2seq | example reference: i mean , there are two issues involved here .\n",
      "2023-04-13 11:29:17 | INFO | hw5.seq2seq | validation loss:\t3.0673\n",
      "2023-04-13 11:29:17 | INFO | hw5.seq2seq | BLEU = 13.22 49.7/20.6/10.0/5.1 (BP = 0.871 ratio = 0.879 hyp_len = 67424 ref_len = 76732)\n",
      "2023-04-13 11:29:18 | INFO | hw5.seq2seq | saved epoch checkpoint: /home/ph/ML_2023/HW5test/checkpoints/rnn/checkpoint4.pt\n",
      "2023-04-13 11:29:20 | INFO | hw5.seq2seq | end of epoch 4\n"
     ]
    },
    {
     "data": {
      "application/vnd.jupyter.widget-view+json": {
       "model_id": "",
       "version_major": 2,
       "version_minor": 0
      },
      "text/plain": [
       "train epoch 5:   0%|          | 0/799 [00:00<?, ?it/s]"
      ]
     },
     "metadata": {},
     "output_type": "display_data"
    },
    {
     "name": "stdout",
     "output_type": "stream",
     "text": [
      "2023-04-13 11:37:33 | INFO | hw5.seq2seq | training loss: 3.1280\n",
      "2023-04-13 11:37:33 | INFO | hw5.seq2seq | begin validation\n"
     ]
    },
    {
     "data": {
      "application/vnd.jupyter.widget-view+json": {
       "model_id": "",
       "version_major": 2,
       "version_minor": 0
      },
      "text/plain": [
       "validation:   0%|          | 0/27 [00:00<?, ?it/s]"
      ]
     },
     "metadata": {},
     "output_type": "display_data"
    },
    {
     "name": "stdout",
     "output_type": "stream",
     "text": [
      "2023-04-13 11:38:11 | WARNING | sacrebleu | That's 100 lines that end in a tokenized period ('.')\n",
      "2023-04-13 11:38:11 | WARNING | sacrebleu | It looks like you forgot to detokenize your test data, which may hurt your score.\n",
      "2023-04-13 11:38:11 | WARNING | sacrebleu | If you insist your data is detokenized, or don't care, you can suppress this message with the `force` parameter.\n",
      "2023-04-13 11:38:11 | INFO | hw5.seq2seq | example source: 他在任內表現得極為出色 , 霍華德在2000年辭職 , 但星巴克因迅速地過度擴張 , 造成股價下跌 。\n",
      "2023-04-13 11:38:11 | INFO | hw5.seq2seq | example hypothesis: he performs extremely possibly colorful , choard quits in 2000 , but the starbuck expands the rapidly , causes the price .\n",
      "2023-04-13 11:38:11 | INFO | hw5.seq2seq | example reference: now , after a great run as ceo , howard stepped down in 2000 , and starbucks quickly overextended itself and stock prices fell .\n",
      "2023-04-13 11:38:11 | INFO | hw5.seq2seq | validation loss:\t2.9829\n",
      "2023-04-13 11:38:11 | INFO | hw5.seq2seq | BLEU = 14.23 51.6/22.0/11.1/5.6 (BP = 0.872 ratio = 0.880 hyp_len = 67521 ref_len = 76732)\n",
      "2023-04-13 11:38:13 | INFO | hw5.seq2seq | saved epoch checkpoint: /home/ph/ML_2023/HW5test/checkpoints/rnn/checkpoint5.pt\n",
      "2023-04-13 11:38:14 | INFO | hw5.seq2seq | end of epoch 5\n"
     ]
    },
    {
     "data": {
      "application/vnd.jupyter.widget-view+json": {
       "model_id": "",
       "version_major": 2,
       "version_minor": 0
      },
      "text/plain": [
       "train epoch 6:   0%|          | 0/799 [00:00<?, ?it/s]"
      ]
     },
     "metadata": {},
     "output_type": "display_data"
    },
    {
     "name": "stdout",
     "output_type": "stream",
     "text": [
      "2023-04-13 11:46:31 | INFO | hw5.seq2seq | training loss: 3.0129\n",
      "2023-04-13 11:46:31 | INFO | hw5.seq2seq | begin validation\n"
     ]
    },
    {
     "data": {
      "application/vnd.jupyter.widget-view+json": {
       "model_id": "",
       "version_major": 2,
       "version_minor": 0
      },
      "text/plain": [
       "validation:   0%|          | 0/27 [00:00<?, ?it/s]"
      ]
     },
     "metadata": {},
     "output_type": "display_data"
    },
    {
     "name": "stdout",
     "output_type": "stream",
     "text": [
      "2023-04-13 11:47:09 | WARNING | sacrebleu | That's 100 lines that end in a tokenized period ('.')\n",
      "2023-04-13 11:47:09 | WARNING | sacrebleu | It looks like you forgot to detokenize your test data, which may hurt your score.\n",
      "2023-04-13 11:47:09 | WARNING | sacrebleu | If you insist your data is detokenized, or don't care, you can suppress this message with the `force` parameter.\n",
      "2023-04-13 11:47:09 | INFO | hw5.seq2seq | example source: 但只要能至少站起來試著往前走很可能就能一步步克服逆境\n",
      "2023-04-13 11:47:09 | INFO | hw5.seq2seq | example hypothesis: but just standing up at least , trying to go forward , it's possible to overcome adversity .\n",
      "2023-04-13 11:47:09 | INFO | hw5.seq2seq | example reference: but if you at least , like , stand up and try to move forward , you are very likely to make it through your struggle , step by step .\n",
      "2023-04-13 11:47:09 | INFO | hw5.seq2seq | validation loss:\t2.8779\n",
      "2023-04-13 11:47:09 | INFO | hw5.seq2seq | BLEU = 16.04 53.4/24.1/12.7/6.8 (BP = 0.879 ratio = 0.885 hyp_len = 67937 ref_len = 76732)\n",
      "2023-04-13 11:47:11 | INFO | hw5.seq2seq | saved epoch checkpoint: /home/ph/ML_2023/HW5test/checkpoints/rnn/checkpoint6.pt\n",
      "2023-04-13 11:47:12 | INFO | hw5.seq2seq | end of epoch 6\n"
     ]
    },
    {
     "data": {
      "application/vnd.jupyter.widget-view+json": {
       "model_id": "",
       "version_major": 2,
       "version_minor": 0
      },
      "text/plain": [
       "train epoch 7:   0%|          | 0/799 [00:00<?, ?it/s]"
      ]
     },
     "metadata": {},
     "output_type": "display_data"
    },
    {
     "name": "stdout",
     "output_type": "stream",
     "text": [
      "2023-04-13 11:55:26 | INFO | hw5.seq2seq | training loss: 2.8921\n",
      "2023-04-13 11:55:26 | INFO | hw5.seq2seq | begin validation\n"
     ]
    },
    {
     "data": {
      "application/vnd.jupyter.widget-view+json": {
       "model_id": "",
       "version_major": 2,
       "version_minor": 0
      },
      "text/plain": [
       "validation:   0%|          | 0/27 [00:00<?, ?it/s]"
      ]
     },
     "metadata": {},
     "output_type": "display_data"
    },
    {
     "name": "stdout",
     "output_type": "stream",
     "text": [
      "2023-04-13 11:56:05 | WARNING | sacrebleu | That's 100 lines that end in a tokenized period ('.')\n",
      "2023-04-13 11:56:05 | WARNING | sacrebleu | It looks like you forgot to detokenize your test data, which may hurt your score.\n",
      "2023-04-13 11:56:05 | WARNING | sacrebleu | If you insist your data is detokenized, or don't care, you can suppress this message with the `force` parameter.\n",
      "2023-04-13 11:56:05 | INFO | hw5.seq2seq | example source: 我等下會讓各位看其中一項模擬 。\n",
      "2023-04-13 11:56:05 | INFO | hw5.seq2seq | example hypothesis: i'll show you one of the simulations .\n",
      "2023-04-13 11:56:05 | INFO | hw5.seq2seq | example reference: i'm about to show you one of those simulations .\n",
      "2023-04-13 11:56:05 | INFO | hw5.seq2seq | validation loss:\t2.8041\n",
      "2023-04-13 11:56:05 | INFO | hw5.seq2seq | BLEU = 17.16 53.9/24.9/13.3/7.4 (BP = 0.899 ratio = 0.904 hyp_len = 69351 ref_len = 76732)\n",
      "2023-04-13 11:56:06 | INFO | hw5.seq2seq | saved epoch checkpoint: /home/ph/ML_2023/HW5test/checkpoints/rnn/checkpoint7.pt\n",
      "2023-04-13 11:56:08 | INFO | hw5.seq2seq | end of epoch 7\n"
     ]
    },
    {
     "data": {
      "application/vnd.jupyter.widget-view+json": {
       "model_id": "",
       "version_major": 2,
       "version_minor": 0
      },
      "text/plain": [
       "train epoch 8:   0%|          | 0/799 [00:00<?, ?it/s]"
      ]
     },
     "metadata": {},
     "output_type": "display_data"
    },
    {
     "name": "stdout",
     "output_type": "stream",
     "text": [
      "2023-04-13 12:04:22 | INFO | hw5.seq2seq | training loss: 2.8055\n",
      "2023-04-13 12:04:22 | INFO | hw5.seq2seq | begin validation\n"
     ]
    },
    {
     "data": {
      "application/vnd.jupyter.widget-view+json": {
       "model_id": "",
       "version_major": 2,
       "version_minor": 0
      },
      "text/plain": [
       "validation:   0%|          | 0/27 [00:00<?, ?it/s]"
      ]
     },
     "metadata": {},
     "output_type": "display_data"
    },
    {
     "name": "stdout",
     "output_type": "stream",
     "text": [
      "2023-04-13 12:05:02 | WARNING | sacrebleu | That's 100 lines that end in a tokenized period ('.')\n",
      "2023-04-13 12:05:02 | WARNING | sacrebleu | It looks like you forgot to detokenize your test data, which may hurt your score.\n",
      "2023-04-13 12:05:02 | WARNING | sacrebleu | If you insist your data is detokenized, or don't care, you can suppress this message with the `force` parameter.\n",
      "2023-04-13 12:05:02 | INFO | hw5.seq2seq | example source: 我的年資尚未長到可適用家庭與醫療假法 , 所以無薪假沒我的份 。\n",
      "2023-04-13 12:05:02 | INFO | hw5.seq2seq | example hypothesis: my financial funding hasn't been available for families and medical fakes , so there's no salaries .\n",
      "2023-04-13 12:05:02 | INFO | hw5.seq2seq | example reference: i had not been there long enough to qualify for fmla , so i wasn't eligible for unpaid leave .\n",
      "2023-04-13 12:05:02 | INFO | hw5.seq2seq | validation loss:\t2.7439\n",
      "2023-04-13 12:05:02 | INFO | hw5.seq2seq | BLEU = 17.63 53.6/25.0/13.5/7.6 (BP = 0.917 ratio = 0.921 hyp_len = 70639 ref_len = 76732)\n",
      "2023-04-13 12:05:03 | INFO | hw5.seq2seq | saved epoch checkpoint: /home/ph/ML_2023/HW5test/checkpoints/rnn/checkpoint8.pt\n",
      "2023-04-13 12:05:05 | INFO | hw5.seq2seq | end of epoch 8\n"
     ]
    },
    {
     "data": {
      "application/vnd.jupyter.widget-view+json": {
       "model_id": "",
       "version_major": 2,
       "version_minor": 0
      },
      "text/plain": [
       "train epoch 9:   0%|          | 0/799 [00:00<?, ?it/s]"
      ]
     },
     "metadata": {},
     "output_type": "display_data"
    },
    {
     "name": "stdout",
     "output_type": "stream",
     "text": [
      "2023-04-13 12:13:17 | INFO | hw5.seq2seq | training loss: 2.7417\n",
      "2023-04-13 12:13:17 | INFO | hw5.seq2seq | begin validation\n"
     ]
    },
    {
     "data": {
      "application/vnd.jupyter.widget-view+json": {
       "model_id": "",
       "version_major": 2,
       "version_minor": 0
      },
      "text/plain": [
       "validation:   0%|          | 0/27 [00:00<?, ?it/s]"
      ]
     },
     "metadata": {},
     "output_type": "display_data"
    },
    {
     "name": "stdout",
     "output_type": "stream",
     "text": [
      "2023-04-13 12:13:55 | WARNING | sacrebleu | That's 100 lines that end in a tokenized period ('.')\n",
      "2023-04-13 12:13:55 | WARNING | sacrebleu | It looks like you forgot to detokenize your test data, which may hurt your score.\n",
      "2023-04-13 12:13:55 | WARNING | sacrebleu | If you insist your data is detokenized, or don't care, you can suppress this message with the `force` parameter.\n",
      "2023-04-13 12:13:55 | INFO | hw5.seq2seq | example source: google也類似 。\n",
      "2023-04-13 12:13:55 | INFO | hw5.seq2seq | example hypothesis: google is similar .\n",
      "2023-04-13 12:13:55 | INFO | hw5.seq2seq | example reference: it's similar for google , too .\n",
      "2023-04-13 12:13:55 | INFO | hw5.seq2seq | validation loss:\t2.7039\n",
      "2023-04-13 12:13:55 | INFO | hw5.seq2seq | BLEU = 18.52 55.3/26.4/14.5/8.3 (BP = 0.903 ratio = 0.908 hyp_len = 69642 ref_len = 76732)\n",
      "2023-04-13 12:13:56 | INFO | hw5.seq2seq | saved epoch checkpoint: /home/ph/ML_2023/HW5test/checkpoints/rnn/checkpoint9.pt\n",
      "2023-04-13 12:13:58 | INFO | hw5.seq2seq | end of epoch 9\n"
     ]
    },
    {
     "data": {
      "application/vnd.jupyter.widget-view+json": {
       "model_id": "",
       "version_major": 2,
       "version_minor": 0
      },
      "text/plain": [
       "train epoch 10:   0%|          | 0/799 [00:00<?, ?it/s]"
      ]
     },
     "metadata": {},
     "output_type": "display_data"
    },
    {
     "name": "stdout",
     "output_type": "stream",
     "text": [
      "2023-04-13 12:21:49 | INFO | hw5.seq2seq | training loss: 2.6917\n",
      "2023-04-13 12:21:49 | INFO | hw5.seq2seq | begin validation\n"
     ]
    },
    {
     "data": {
      "application/vnd.jupyter.widget-view+json": {
       "model_id": "",
       "version_major": 2,
       "version_minor": 0
      },
      "text/plain": [
       "validation:   0%|          | 0/27 [00:00<?, ?it/s]"
      ]
     },
     "metadata": {},
     "output_type": "display_data"
    },
    {
     "name": "stdout",
     "output_type": "stream",
     "text": [
      "2023-04-13 12:22:26 | WARNING | sacrebleu | That's 100 lines that end in a tokenized period ('.')\n",
      "2023-04-13 12:22:26 | WARNING | sacrebleu | It looks like you forgot to detokenize your test data, which may hurt your score.\n",
      "2023-04-13 12:22:26 | WARNING | sacrebleu | If you insist your data is detokenized, or don't care, you can suppress this message with the `force` parameter.\n",
      "2023-04-13 12:22:26 | INFO | hw5.seq2seq | example source: 對於所有非航海的人士而言 , 結垢就是藻類、藤壺和其他海洋材料之類的東西粘在船和潛艇的側面 。\n",
      "2023-04-13 12:22:26 | INFO | hw5.seq2seq | example hypothesis: for all nonvoyager sailors , scaling is algae , leapot and other marine materials sticking on the side of the boat and the submersible .\n",
      "2023-04-13 12:22:26 | INFO | hw5.seq2seq | example reference: now , for all you nonseafaring folk , fouling is when things like algae and barnacles and other marine materials get stuck to the sides of ships and submarines .\n",
      "2023-04-13 12:22:26 | INFO | hw5.seq2seq | validation loss:\t2.6746\n",
      "2023-04-13 12:22:26 | INFO | hw5.seq2seq | BLEU = 18.67 56.0/26.8/14.8/8.5 (BP = 0.896 ratio = 0.901 hyp_len = 69150 ref_len = 76732)\n",
      "2023-04-13 12:22:27 | INFO | hw5.seq2seq | saved epoch checkpoint: /home/ph/ML_2023/HW5test/checkpoints/rnn/checkpoint10.pt\n",
      "2023-04-13 12:22:28 | INFO | hw5.seq2seq | end of epoch 10\n"
     ]
    },
    {
     "data": {
      "application/vnd.jupyter.widget-view+json": {
       "model_id": "",
       "version_major": 2,
       "version_minor": 0
      },
      "text/plain": [
       "train epoch 11:   0%|          | 0/799 [00:00<?, ?it/s]"
      ]
     },
     "metadata": {},
     "output_type": "display_data"
    },
    {
     "name": "stdout",
     "output_type": "stream",
     "text": [
      "2023-04-13 12:30:22 | INFO | hw5.seq2seq | training loss: 2.6475\n",
      "2023-04-13 12:30:22 | INFO | hw5.seq2seq | begin validation\n"
     ]
    },
    {
     "data": {
      "application/vnd.jupyter.widget-view+json": {
       "model_id": "",
       "version_major": 2,
       "version_minor": 0
      },
      "text/plain": [
       "validation:   0%|          | 0/27 [00:00<?, ?it/s]"
      ]
     },
     "metadata": {},
     "output_type": "display_data"
    },
    {
     "name": "stdout",
     "output_type": "stream",
     "text": [
      "2023-04-13 12:30:59 | WARNING | sacrebleu | That's 100 lines that end in a tokenized period ('.')\n",
      "2023-04-13 12:30:59 | WARNING | sacrebleu | It looks like you forgot to detokenize your test data, which may hurt your score.\n",
      "2023-04-13 12:30:59 | WARNING | sacrebleu | If you insist your data is detokenized, or don't care, you can suppress this message with the `force` parameter.\n",
      "2023-04-13 12:30:59 | INFO | hw5.seq2seq | example source: 請看手指抓取動作 , 拇指往上 , 接下來是手腕\n",
      "2023-04-13 12:30:59 | INFO | hw5.seq2seq | example hypothesis: look at your finger , grab your finger , your thumb up , your wrist .\n",
      "2023-04-13 12:30:59 | INFO | hw5.seq2seq | example reference: watch the fingers grab . the thumb comes up . wrist .\n",
      "2023-04-13 12:30:59 | INFO | hw5.seq2seq | validation loss:\t2.6514\n",
      "2023-04-13 12:30:59 | INFO | hw5.seq2seq | BLEU = 19.17 55.8/27.1/15.1/8.8 (BP = 0.906 ratio = 0.910 hyp_len = 69805 ref_len = 76732)\n",
      "2023-04-13 12:31:00 | INFO | hw5.seq2seq | saved epoch checkpoint: /home/ph/ML_2023/HW5test/checkpoints/rnn/checkpoint11.pt\n",
      "2023-04-13 12:31:02 | INFO | hw5.seq2seq | end of epoch 11\n"
     ]
    },
    {
     "data": {
      "application/vnd.jupyter.widget-view+json": {
       "model_id": "",
       "version_major": 2,
       "version_minor": 0
      },
      "text/plain": [
       "train epoch 12:   0%|          | 0/799 [00:00<?, ?it/s]"
      ]
     },
     "metadata": {},
     "output_type": "display_data"
    },
    {
     "name": "stdout",
     "output_type": "stream",
     "text": [
      "2023-04-13 12:39:01 | INFO | hw5.seq2seq | training loss: 2.6121\n",
      "2023-04-13 12:39:01 | INFO | hw5.seq2seq | begin validation\n"
     ]
    },
    {
     "data": {
      "application/vnd.jupyter.widget-view+json": {
       "model_id": "",
       "version_major": 2,
       "version_minor": 0
      },
      "text/plain": [
       "validation:   0%|          | 0/27 [00:00<?, ?it/s]"
      ]
     },
     "metadata": {},
     "output_type": "display_data"
    },
    {
     "name": "stdout",
     "output_type": "stream",
     "text": [
      "2023-04-13 12:39:38 | WARNING | sacrebleu | That's 100 lines that end in a tokenized period ('.')\n",
      "2023-04-13 12:39:38 | WARNING | sacrebleu | It looks like you forgot to detokenize your test data, which may hurt your score.\n",
      "2023-04-13 12:39:38 | WARNING | sacrebleu | If you insist your data is detokenized, or don't care, you can suppress this message with the `force` parameter.\n",
      "2023-04-13 12:39:38 | INFO | hw5.seq2seq | example source: 外交工具箱實際上有很多我們可以使用的各種不同的工具來強化我們彼此間的溝通\n",
      "2023-04-13 12:39:38 | INFO | hw5.seq2seq | example hypothesis: there are actually many different tools that we can use to strengthen our communications .\n",
      "2023-04-13 12:39:38 | INFO | hw5.seq2seq | example reference: the diplomatic toolbox is actually full of different tools we can use to strengthen our communication .\n",
      "2023-04-13 12:39:38 | INFO | hw5.seq2seq | validation loss:\t2.6355\n",
      "2023-04-13 12:39:38 | INFO | hw5.seq2seq | BLEU = 19.58 57.0/28.2/15.9/9.4 (BP = 0.885 ratio = 0.891 hyp_len = 68345 ref_len = 76732)\n",
      "2023-04-13 12:39:39 | INFO | hw5.seq2seq | saved epoch checkpoint: /home/ph/ML_2023/HW5test/checkpoints/rnn/checkpoint12.pt\n",
      "2023-04-13 12:39:41 | INFO | hw5.seq2seq | end of epoch 12\n"
     ]
    },
    {
     "data": {
      "application/vnd.jupyter.widget-view+json": {
       "model_id": "",
       "version_major": 2,
       "version_minor": 0
      },
      "text/plain": [
       "train epoch 13:   0%|          | 0/799 [00:00<?, ?it/s]"
      ]
     },
     "metadata": {},
     "output_type": "display_data"
    },
    {
     "name": "stdout",
     "output_type": "stream",
     "text": [
      "2023-04-13 12:47:40 | INFO | hw5.seq2seq | training loss: 2.5804\n",
      "2023-04-13 12:47:40 | INFO | hw5.seq2seq | begin validation\n"
     ]
    },
    {
     "data": {
      "application/vnd.jupyter.widget-view+json": {
       "model_id": "",
       "version_major": 2,
       "version_minor": 0
      },
      "text/plain": [
       "validation:   0%|          | 0/27 [00:00<?, ?it/s]"
      ]
     },
     "metadata": {},
     "output_type": "display_data"
    },
    {
     "name": "stdout",
     "output_type": "stream",
     "text": [
      "2023-04-13 12:48:17 | WARNING | sacrebleu | That's 100 lines that end in a tokenized period ('.')\n",
      "2023-04-13 12:48:17 | WARNING | sacrebleu | It looks like you forgot to detokenize your test data, which may hurt your score.\n",
      "2023-04-13 12:48:17 | WARNING | sacrebleu | If you insist your data is detokenized, or don't care, you can suppress this message with the `force` parameter.\n",
      "2023-04-13 12:48:17 | INFO | hw5.seq2seq | example source: 所以 , 當我跟偉大的音樂家拉赫曼合作的時候我常告訴他: 「 不要跟隨著劇本已經說了的部份\n",
      "2023-04-13 12:48:17 | INFO | hw5.seq2seq | example hypothesis: so when i was working with the great musician rahman , i used to say , \" don't follow the script .\n",
      "2023-04-13 12:48:17 | INFO | hw5.seq2seq | example reference: so when i work with rahman who's a great musician , i often tell him , \" don't follow what the script already says .\n",
      "2023-04-13 12:48:17 | INFO | hw5.seq2seq | validation loss:\t2.6232\n",
      "2023-04-13 12:48:17 | INFO | hw5.seq2seq | BLEU = 19.81 56.3/27.7/15.7/9.2 (BP = 0.908 ratio = 0.912 hyp_len = 69997 ref_len = 76732)\n",
      "2023-04-13 12:48:18 | INFO | hw5.seq2seq | saved epoch checkpoint: /home/ph/ML_2023/HW5test/checkpoints/rnn/checkpoint13.pt\n",
      "2023-04-13 12:48:19 | INFO | hw5.seq2seq | end of epoch 13\n"
     ]
    },
    {
     "data": {
      "application/vnd.jupyter.widget-view+json": {
       "model_id": "",
       "version_major": 2,
       "version_minor": 0
      },
      "text/plain": [
       "train epoch 14:   0%|          | 0/799 [00:00<?, ?it/s]"
      ]
     },
     "metadata": {},
     "output_type": "display_data"
    },
    {
     "name": "stdout",
     "output_type": "stream",
     "text": [
      "2023-04-13 12:56:15 | INFO | hw5.seq2seq | training loss: 2.5544\n",
      "2023-04-13 12:56:15 | INFO | hw5.seq2seq | begin validation\n"
     ]
    },
    {
     "data": {
      "application/vnd.jupyter.widget-view+json": {
       "model_id": "",
       "version_major": 2,
       "version_minor": 0
      },
      "text/plain": [
       "validation:   0%|          | 0/27 [00:00<?, ?it/s]"
      ]
     },
     "metadata": {},
     "output_type": "display_data"
    },
    {
     "name": "stdout",
     "output_type": "stream",
     "text": [
      "2023-04-13 12:56:52 | WARNING | sacrebleu | That's 100 lines that end in a tokenized period ('.')\n",
      "2023-04-13 12:56:52 | WARNING | sacrebleu | It looks like you forgot to detokenize your test data, which may hurt your score.\n",
      "2023-04-13 12:56:52 | WARNING | sacrebleu | If you insist your data is detokenized, or don't care, you can suppress this message with the `force` parameter.\n",
      "2023-04-13 12:56:52 | INFO | hw5.seq2seq | example source: 這篇文章是在寫一個設計來在實驗室裡創造浪漫愛情的心理研究 , 還有我自己進行這項研究的經驗 , 就在去年夏天的某個晚上 。\n",
      "2023-04-13 12:56:52 | INFO | hw5.seq2seq | example hypothesis: this article was writing a design to create romantic love research in the lab and my own experience of doing this research one night last summer .\n",
      "2023-04-13 12:56:52 | INFO | hw5.seq2seq | example reference: and the article is about a psychological study designed to create romantic love in the laboratory , and my own experience trying the study myself one night last summer .\n",
      "2023-04-13 12:56:52 | INFO | hw5.seq2seq | validation loss:\t2.6133\n",
      "2023-04-13 12:56:52 | INFO | hw5.seq2seq | BLEU = 19.55 57.6/28.5/16.1/9.4 (BP = 0.875 ratio = 0.883 hyp_len = 67719 ref_len = 76732)\n",
      "2023-04-13 12:56:53 | INFO | hw5.seq2seq | saved epoch checkpoint: /home/ph/ML_2023/HW5test/checkpoints/rnn/checkpoint14.pt\n",
      "2023-04-13 12:56:53 | INFO | hw5.seq2seq | end of epoch 14\n"
     ]
    },
    {
     "data": {
      "application/vnd.jupyter.widget-view+json": {
       "model_id": "",
       "version_major": 2,
       "version_minor": 0
      },
      "text/plain": [
       "train epoch 15:   0%|          | 0/799 [00:00<?, ?it/s]"
      ]
     },
     "metadata": {},
     "output_type": "display_data"
    },
    {
     "name": "stdout",
     "output_type": "stream",
     "text": [
      "2023-04-13 13:04:48 | INFO | hw5.seq2seq | training loss: 2.5286\n",
      "2023-04-13 13:04:48 | INFO | hw5.seq2seq | begin validation\n"
     ]
    },
    {
     "data": {
      "application/vnd.jupyter.widget-view+json": {
       "model_id": "",
       "version_major": 2,
       "version_minor": 0
      },
      "text/plain": [
       "validation:   0%|          | 0/27 [00:00<?, ?it/s]"
      ]
     },
     "metadata": {},
     "output_type": "display_data"
    },
    {
     "name": "stdout",
     "output_type": "stream",
     "text": [
      "2023-04-13 13:05:25 | WARNING | sacrebleu | That's 100 lines that end in a tokenized period ('.')\n",
      "2023-04-13 13:05:25 | WARNING | sacrebleu | It looks like you forgot to detokenize your test data, which may hurt your score.\n",
      "2023-04-13 13:05:25 | WARNING | sacrebleu | If you insist your data is detokenized, or don't care, you can suppress this message with the `force` parameter.\n",
      "2023-04-13 13:05:25 | INFO | hw5.seq2seq | example source: 他靠向我 , 低聲說: 「 你不懂嗎 ?\n",
      "2023-04-13 13:05:25 | INFO | hw5.seq2seq | example hypothesis: and he said to me , \" you don't know ?\n",
      "2023-04-13 13:05:25 | INFO | hw5.seq2seq | example reference: he leaned in and he whispered , \" don't you see ?\n",
      "2023-04-13 13:05:25 | INFO | hw5.seq2seq | validation loss:\t2.5988\n",
      "2023-04-13 13:05:25 | INFO | hw5.seq2seq | BLEU = 20.52 56.6/28.3/16.1/9.5 (BP = 0.924 ratio = 0.927 hyp_len = 71128 ref_len = 76732)\n",
      "2023-04-13 13:05:28 | INFO | hw5.seq2seq | saved epoch checkpoint: /home/ph/ML_2023/HW5test/checkpoints/rnn/checkpoint15.pt\n",
      "2023-04-13 13:05:29 | INFO | hw5.seq2seq | end of epoch 15\n"
     ]
    },
    {
     "data": {
      "application/vnd.jupyter.widget-view+json": {
       "model_id": "",
       "version_major": 2,
       "version_minor": 0
      },
      "text/plain": [
       "train epoch 16:   0%|          | 0/799 [00:00<?, ?it/s]"
      ]
     },
     "metadata": {},
     "output_type": "display_data"
    },
    {
     "name": "stdout",
     "output_type": "stream",
     "text": [
      "2023-04-13 13:13:29 | INFO | hw5.seq2seq | training loss: 2.5074\n",
      "2023-04-13 13:13:29 | INFO | hw5.seq2seq | begin validation\n"
     ]
    },
    {
     "data": {
      "application/vnd.jupyter.widget-view+json": {
       "model_id": "",
       "version_major": 2,
       "version_minor": 0
      },
      "text/plain": [
       "validation:   0%|          | 0/27 [00:00<?, ?it/s]"
      ]
     },
     "metadata": {},
     "output_type": "display_data"
    },
    {
     "name": "stdout",
     "output_type": "stream",
     "text": [
      "2023-04-13 13:14:06 | WARNING | sacrebleu | That's 100 lines that end in a tokenized period ('.')\n",
      "2023-04-13 13:14:06 | WARNING | sacrebleu | It looks like you forgot to detokenize your test data, which may hurt your score.\n",
      "2023-04-13 13:14:06 | WARNING | sacrebleu | If you insist your data is detokenized, or don't care, you can suppress this message with the `force` parameter.\n",
      "2023-04-13 13:14:06 | INFO | hw5.seq2seq | example source: 座駕駛艙只要按下按鈕 , 機翼就會拉開來 。\n",
      "2023-04-13 13:14:06 | INFO | hw5.seq2seq | example hypothesis: the pilot just presses the button , and the wing pulls off .\n",
      "2023-04-13 13:14:06 | INFO | hw5.seq2seq | example reference: you just push a few buttons in the cockpit , and the wings come out .\n",
      "2023-04-13 13:14:06 | INFO | hw5.seq2seq | validation loss:\t2.5995\n",
      "2023-04-13 13:14:06 | INFO | hw5.seq2seq | BLEU = 20.14 58.0/29.1/16.6/9.8 (BP = 0.881 ratio = 0.887 hyp_len = 68070 ref_len = 76732)\n",
      "2023-04-13 13:14:07 | INFO | hw5.seq2seq | saved epoch checkpoint: /home/ph/ML_2023/HW5test/checkpoints/rnn/checkpoint16.pt\n",
      "2023-04-13 13:14:08 | INFO | hw5.seq2seq | end of epoch 16\n"
     ]
    },
    {
     "data": {
      "application/vnd.jupyter.widget-view+json": {
       "model_id": "",
       "version_major": 2,
       "version_minor": 0
      },
      "text/plain": [
       "train epoch 17:   0%|          | 0/799 [00:00<?, ?it/s]"
      ]
     },
     "metadata": {},
     "output_type": "display_data"
    },
    {
     "name": "stdout",
     "output_type": "stream",
     "text": [
      "2023-04-13 13:22:07 | INFO | hw5.seq2seq | training loss: 2.4893\n",
      "2023-04-13 13:22:07 | INFO | hw5.seq2seq | begin validation\n"
     ]
    },
    {
     "data": {
      "application/vnd.jupyter.widget-view+json": {
       "model_id": "",
       "version_major": 2,
       "version_minor": 0
      },
      "text/plain": [
       "validation:   0%|          | 0/27 [00:00<?, ?it/s]"
      ]
     },
     "metadata": {},
     "output_type": "display_data"
    },
    {
     "name": "stdout",
     "output_type": "stream",
     "text": [
      "2023-04-13 13:22:44 | WARNING | sacrebleu | That's 100 lines that end in a tokenized period ('.')\n",
      "2023-04-13 13:22:44 | WARNING | sacrebleu | It looks like you forgot to detokenize your test data, which may hurt your score.\n",
      "2023-04-13 13:22:44 | WARNING | sacrebleu | If you insist your data is detokenized, or don't care, you can suppress this message with the `force` parameter.\n",
      "2023-04-13 13:22:44 | INFO | hw5.seq2seq | example source: 我們男人就是這樣談話的 , 對吧 ?\n",
      "2023-04-13 13:22:44 | INFO | hw5.seq2seq | example hypothesis: that's how we men talk , right ?\n",
      "2023-04-13 13:22:44 | INFO | hw5.seq2seq | example reference: that's the way we talk , right guys ?\n",
      "2023-04-13 13:22:44 | INFO | hw5.seq2seq | validation loss:\t2.5859\n",
      "2023-04-13 13:22:44 | INFO | hw5.seq2seq | BLEU = 20.36 57.9/29.0/16.6/9.8 (BP = 0.890 ratio = 0.896 hyp_len = 68716 ref_len = 76732)\n",
      "2023-04-13 13:22:45 | INFO | hw5.seq2seq | saved epoch checkpoint: /home/ph/ML_2023/HW5test/checkpoints/rnn/checkpoint17.pt\n",
      "2023-04-13 13:22:45 | INFO | hw5.seq2seq | end of epoch 17\n"
     ]
    },
    {
     "data": {
      "application/vnd.jupyter.widget-view+json": {
       "model_id": "",
       "version_major": 2,
       "version_minor": 0
      },
      "text/plain": [
       "train epoch 18:   0%|          | 0/799 [00:00<?, ?it/s]"
      ]
     },
     "metadata": {},
     "output_type": "display_data"
    },
    {
     "name": "stdout",
     "output_type": "stream",
     "text": [
      "2023-04-13 13:30:42 | INFO | hw5.seq2seq | training loss: 2.4696\n",
      "2023-04-13 13:30:42 | INFO | hw5.seq2seq | begin validation\n"
     ]
    },
    {
     "data": {
      "application/vnd.jupyter.widget-view+json": {
       "model_id": "",
       "version_major": 2,
       "version_minor": 0
      },
      "text/plain": [
       "validation:   0%|          | 0/27 [00:00<?, ?it/s]"
      ]
     },
     "metadata": {},
     "output_type": "display_data"
    },
    {
     "name": "stdout",
     "output_type": "stream",
     "text": [
      "2023-04-13 13:31:20 | WARNING | sacrebleu | That's 100 lines that end in a tokenized period ('.')\n",
      "2023-04-13 13:31:20 | WARNING | sacrebleu | It looks like you forgot to detokenize your test data, which may hurt your score.\n",
      "2023-04-13 13:31:20 | WARNING | sacrebleu | If you insist your data is detokenized, or don't care, you can suppress this message with the `force` parameter.\n",
      "2023-04-13 13:31:20 | INFO | hw5.seq2seq | example source: 我將告訴你在自動駕駛系統與駕駛輔助系統之間 , 有三個不同點 。\n",
      "2023-04-13 13:31:20 | INFO | hw5.seq2seq | example hypothesis: i'm going to tell you that there are three differences between a selfdriving car system and a driver assistance system .\n",
      "2023-04-13 13:31:20 | INFO | hw5.seq2seq | example reference: and so i'm going to talk to you about three different ways that selfdriving systems are different than driver assistance systems .\n",
      "2023-04-13 13:31:20 | INFO | hw5.seq2seq | validation loss:\t2.5803\n",
      "2023-04-13 13:31:20 | INFO | hw5.seq2seq | BLEU = 20.42 56.3/28.0/15.9/9.3 (BP = 0.929 ratio = 0.932 hyp_len = 71491 ref_len = 76732)\n",
      "2023-04-13 13:31:22 | INFO | hw5.seq2seq | saved epoch checkpoint: /home/ph/ML_2023/HW5test/checkpoints/rnn/checkpoint18.pt\n",
      "2023-04-13 13:31:22 | INFO | hw5.seq2seq | end of epoch 18\n"
     ]
    },
    {
     "data": {
      "application/vnd.jupyter.widget-view+json": {
       "model_id": "",
       "version_major": 2,
       "version_minor": 0
      },
      "text/plain": [
       "train epoch 19:   0%|          | 0/799 [00:00<?, ?it/s]"
      ]
     },
     "metadata": {},
     "output_type": "display_data"
    },
    {
     "name": "stdout",
     "output_type": "stream",
     "text": [
      "2023-04-13 13:39:21 | INFO | hw5.seq2seq | training loss: 2.4539\n",
      "2023-04-13 13:39:21 | INFO | hw5.seq2seq | begin validation\n"
     ]
    },
    {
     "data": {
      "application/vnd.jupyter.widget-view+json": {
       "model_id": "",
       "version_major": 2,
       "version_minor": 0
      },
      "text/plain": [
       "validation:   0%|          | 0/27 [00:00<?, ?it/s]"
      ]
     },
     "metadata": {},
     "output_type": "display_data"
    },
    {
     "name": "stdout",
     "output_type": "stream",
     "text": [
      "2023-04-13 13:39:59 | WARNING | sacrebleu | That's 100 lines that end in a tokenized period ('.')\n",
      "2023-04-13 13:39:59 | WARNING | sacrebleu | It looks like you forgot to detokenize your test data, which may hurt your score.\n",
      "2023-04-13 13:39:59 | WARNING | sacrebleu | If you insist your data is detokenized, or don't care, you can suppress this message with the `force` parameter.\n",
      "2023-04-13 13:39:59 | INFO | hw5.seq2seq | example source: 終於 , 在最近幾年-正確來說是2002年中期 , 我們讓m400飛了起來 , 這是一台四人座的飛天車 。\n",
      "2023-04-13 13:39:59 | INFO | hw5.seq2seq | example hypothesis: and finally , in the last couple of years , in the middle of 2002 , we flew m400 , which is a fouryear skycar .\n",
      "2023-04-13 13:39:59 | INFO | hw5.seq2seq | example reference: finally , in the early part of or actually the middle of 2002 , we flew the 400 m400 , which was the fourpassenger vehicle .\n",
      "2023-04-13 13:39:59 | INFO | hw5.seq2seq | validation loss:\t2.5704\n",
      "2023-04-13 13:39:59 | INFO | hw5.seq2seq | BLEU = 20.70 56.2/28.0/15.9/9.4 (BP = 0.940 ratio = 0.942 hyp_len = 72269 ref_len = 76732)\n",
      "2023-04-13 13:40:00 | INFO | hw5.seq2seq | saved epoch checkpoint: /home/ph/ML_2023/HW5test/checkpoints/rnn/checkpoint19.pt\n",
      "2023-04-13 13:40:02 | INFO | hw5.seq2seq | end of epoch 19\n"
     ]
    },
    {
     "data": {
      "application/vnd.jupyter.widget-view+json": {
       "model_id": "",
       "version_major": 2,
       "version_minor": 0
      },
      "text/plain": [
       "train epoch 20:   0%|          | 0/799 [00:00<?, ?it/s]"
      ]
     },
     "metadata": {},
     "output_type": "display_data"
    },
    {
     "name": "stdout",
     "output_type": "stream",
     "text": [
      "2023-04-13 13:47:57 | INFO | hw5.seq2seq | training loss: 2.4382\n",
      "2023-04-13 13:47:57 | INFO | hw5.seq2seq | begin validation\n"
     ]
    },
    {
     "data": {
      "application/vnd.jupyter.widget-view+json": {
       "model_id": "",
       "version_major": 2,
       "version_minor": 0
      },
      "text/plain": [
       "validation:   0%|          | 0/27 [00:00<?, ?it/s]"
      ]
     },
     "metadata": {},
     "output_type": "display_data"
    },
    {
     "name": "stdout",
     "output_type": "stream",
     "text": [
      "2023-04-13 13:48:34 | WARNING | sacrebleu | That's 100 lines that end in a tokenized period ('.')\n",
      "2023-04-13 13:48:34 | WARNING | sacrebleu | It looks like you forgot to detokenize your test data, which may hurt your score.\n",
      "2023-04-13 13:48:34 | WARNING | sacrebleu | If you insist your data is detokenized, or don't care, you can suppress this message with the `force` parameter.\n",
      "2023-04-13 13:48:34 | INFO | hw5.seq2seq | example source: 這超過了每年因父母離婚而受到影響的孩子數目 。\n",
      "2023-04-13 13:48:34 | INFO | hw5.seq2seq | example hypothesis: this goes beyond the number of children affected by divorce every year .\n",
      "2023-04-13 13:48:34 | INFO | hw5.seq2seq | example reference: that's more than the number of children each year who are affected by their parents divorcing .\n",
      "2023-04-13 13:48:34 | INFO | hw5.seq2seq | validation loss:\t2.5674\n",
      "2023-04-13 13:48:34 | INFO | hw5.seq2seq | BLEU = 20.70 57.6/29.1/16.7/9.9 (BP = 0.902 ratio = 0.906 hyp_len = 69538 ref_len = 76732)\n",
      "2023-04-13 13:48:35 | INFO | hw5.seq2seq | saved epoch checkpoint: /home/ph/ML_2023/HW5test/checkpoints/rnn/checkpoint20.pt\n",
      "2023-04-13 13:48:35 | INFO | hw5.seq2seq | end of epoch 20\n"
     ]
    },
    {
     "data": {
      "application/vnd.jupyter.widget-view+json": {
       "model_id": "",
       "version_major": 2,
       "version_minor": 0
      },
      "text/plain": [
       "train epoch 21:   0%|          | 0/799 [00:00<?, ?it/s]"
      ]
     },
     "metadata": {},
     "output_type": "display_data"
    },
    {
     "name": "stdout",
     "output_type": "stream",
     "text": [
      "2023-04-13 13:56:30 | INFO | hw5.seq2seq | training loss: 2.4237\n",
      "2023-04-13 13:56:30 | INFO | hw5.seq2seq | begin validation\n"
     ]
    },
    {
     "data": {
      "application/vnd.jupyter.widget-view+json": {
       "model_id": "",
       "version_major": 2,
       "version_minor": 0
      },
      "text/plain": [
       "validation:   0%|          | 0/27 [00:00<?, ?it/s]"
      ]
     },
     "metadata": {},
     "output_type": "display_data"
    },
    {
     "name": "stdout",
     "output_type": "stream",
     "text": [
      "2023-04-13 13:57:07 | WARNING | sacrebleu | That's 100 lines that end in a tokenized period ('.')\n",
      "2023-04-13 13:57:07 | WARNING | sacrebleu | It looks like you forgot to detokenize your test data, which may hurt your score.\n",
      "2023-04-13 13:57:07 | WARNING | sacrebleu | If you insist your data is detokenized, or don't care, you can suppress this message with the `force` parameter.\n",
      "2023-04-13 13:57:07 | INFO | hw5.seq2seq | example source: 所以 , 開學第一天 , 我都會教新的九年級生這些鏈環的意義 , 我會給他們每人一張紙條 。\n",
      "2023-04-13 13:57:07 | INFO | hw5.seq2seq | example hypothesis: so on the first day of school , i teach new ninth grade what these links mean , and i give them a note .\n",
      "2023-04-13 13:57:07 | INFO | hw5.seq2seq | example reference: so on the first day of school , i teach my new ninthgraders about the meaning behind those links , and i give them each a slip of paper .\n",
      "2023-04-13 13:57:07 | INFO | hw5.seq2seq | validation loss:\t2.5663\n",
      "2023-04-13 13:57:07 | INFO | hw5.seq2seq | BLEU = 20.81 57.1/28.6/16.4/9.6 (BP = 0.924 ratio = 0.926 hyp_len = 71091 ref_len = 76732)\n",
      "2023-04-13 13:57:08 | INFO | hw5.seq2seq | saved epoch checkpoint: /home/ph/ML_2023/HW5test/checkpoints/rnn/checkpoint21.pt\n",
      "2023-04-13 13:57:09 | INFO | hw5.seq2seq | end of epoch 21\n"
     ]
    },
    {
     "data": {
      "application/vnd.jupyter.widget-view+json": {
       "model_id": "",
       "version_major": 2,
       "version_minor": 0
      },
      "text/plain": [
       "train epoch 22:   0%|          | 0/799 [00:00<?, ?it/s]"
      ]
     },
     "metadata": {},
     "output_type": "display_data"
    },
    {
     "name": "stdout",
     "output_type": "stream",
     "text": [
      "2023-04-13 14:05:04 | INFO | hw5.seq2seq | training loss: 2.4105\n",
      "2023-04-13 14:05:04 | INFO | hw5.seq2seq | begin validation\n"
     ]
    },
    {
     "data": {
      "application/vnd.jupyter.widget-view+json": {
       "model_id": "",
       "version_major": 2,
       "version_minor": 0
      },
      "text/plain": [
       "validation:   0%|          | 0/27 [00:00<?, ?it/s]"
      ]
     },
     "metadata": {},
     "output_type": "display_data"
    },
    {
     "name": "stdout",
     "output_type": "stream",
     "text": [
      "2023-04-13 14:05:41 | WARNING | sacrebleu | That's 100 lines that end in a tokenized period ('.')\n",
      "2023-04-13 14:05:41 | WARNING | sacrebleu | It looks like you forgot to detokenize your test data, which may hurt your score.\n",
      "2023-04-13 14:05:41 | WARNING | sacrebleu | If you insist your data is detokenized, or don't care, you can suppress this message with the `force` parameter.\n",
      "2023-04-13 14:05:41 | INFO | hw5.seq2seq | example source: 這研究表明一般美國人所認定親密的朋友是在危機出現時可以依靠的人\n",
      "2023-04-13 14:05:41 | INFO | hw5.seq2seq | example hypothesis: this study shows that average americans think that intimate friends can rely on people who are at risk .\n",
      "2023-04-13 14:05:41 | INFO | hw5.seq2seq | example reference: it looked at the number of close friends the average american believes they can call on in a crisis .\n",
      "2023-04-13 14:05:41 | INFO | hw5.seq2seq | validation loss:\t2.5618\n",
      "2023-04-13 14:05:41 | INFO | hw5.seq2seq | BLEU = 21.16 57.2/28.9/16.6/9.8 (BP = 0.930 ratio = 0.932 hyp_len = 71506 ref_len = 76732)\n",
      "2023-04-13 14:05:43 | INFO | hw5.seq2seq | saved epoch checkpoint: /home/ph/ML_2023/HW5test/checkpoints/rnn/checkpoint22.pt\n",
      "2023-04-13 14:05:44 | INFO | hw5.seq2seq | end of epoch 22\n"
     ]
    },
    {
     "data": {
      "application/vnd.jupyter.widget-view+json": {
       "model_id": "",
       "version_major": 2,
       "version_minor": 0
      },
      "text/plain": [
       "train epoch 23:   0%|          | 0/799 [00:00<?, ?it/s]"
      ]
     },
     "metadata": {},
     "output_type": "display_data"
    },
    {
     "name": "stdout",
     "output_type": "stream",
     "text": [
      "2023-04-13 14:13:39 | INFO | hw5.seq2seq | training loss: 2.3973\n",
      "2023-04-13 14:13:39 | INFO | hw5.seq2seq | begin validation\n"
     ]
    },
    {
     "data": {
      "application/vnd.jupyter.widget-view+json": {
       "model_id": "",
       "version_major": 2,
       "version_minor": 0
      },
      "text/plain": [
       "validation:   0%|          | 0/27 [00:00<?, ?it/s]"
      ]
     },
     "metadata": {},
     "output_type": "display_data"
    },
    {
     "name": "stdout",
     "output_type": "stream",
     "text": [
      "2023-04-13 14:14:16 | WARNING | sacrebleu | That's 100 lines that end in a tokenized period ('.')\n",
      "2023-04-13 14:14:16 | WARNING | sacrebleu | It looks like you forgot to detokenize your test data, which may hurt your score.\n",
      "2023-04-13 14:14:16 | WARNING | sacrebleu | If you insist your data is detokenized, or don't care, you can suppress this message with the `force` parameter.\n",
      "2023-04-13 14:14:16 | INFO | hw5.seq2seq | example source: 沒有使用任何photoshop修圖 。 .這幾件作品是關於中國的文化記憶 。\n",
      "2023-04-13 14:14:16 | INFO | hw5.seq2seq | example hypothesis: there's no photoshop . these are the cultural memory of china .\n",
      "2023-04-13 14:14:16 | INFO | hw5.seq2seq | example reference: there is no photoshop involved . lb: these works are on china's cultural memories .\n",
      "2023-04-13 14:14:16 | INFO | hw5.seq2seq | validation loss:\t2.5591\n",
      "2023-04-13 14:14:16 | INFO | hw5.seq2seq | BLEU = 20.91 57.5/29.1/16.7/10.0 (BP = 0.911 ratio = 0.914 hyp_len = 70166 ref_len = 76732)\n",
      "2023-04-13 14:14:17 | INFO | hw5.seq2seq | saved epoch checkpoint: /home/ph/ML_2023/HW5test/checkpoints/rnn/checkpoint23.pt\n",
      "2023-04-13 14:14:17 | INFO | hw5.seq2seq | end of epoch 23\n"
     ]
    },
    {
     "data": {
      "application/vnd.jupyter.widget-view+json": {
       "model_id": "",
       "version_major": 2,
       "version_minor": 0
      },
      "text/plain": [
       "train epoch 24:   0%|          | 0/799 [00:00<?, ?it/s]"
      ]
     },
     "metadata": {},
     "output_type": "display_data"
    },
    {
     "name": "stdout",
     "output_type": "stream",
     "text": [
      "2023-04-13 14:22:15 | INFO | hw5.seq2seq | training loss: 2.3868\n",
      "2023-04-13 14:22:15 | INFO | hw5.seq2seq | begin validation\n"
     ]
    },
    {
     "data": {
      "application/vnd.jupyter.widget-view+json": {
       "model_id": "",
       "version_major": 2,
       "version_minor": 0
      },
      "text/plain": [
       "validation:   0%|          | 0/27 [00:00<?, ?it/s]"
      ]
     },
     "metadata": {},
     "output_type": "display_data"
    },
    {
     "name": "stdout",
     "output_type": "stream",
     "text": [
      "2023-04-13 14:22:52 | WARNING | sacrebleu | That's 100 lines that end in a tokenized period ('.')\n",
      "2023-04-13 14:22:52 | WARNING | sacrebleu | It looks like you forgot to detokenize your test data, which may hurt your score.\n",
      "2023-04-13 14:22:52 | WARNING | sacrebleu | If you insist your data is detokenized, or don't care, you can suppress this message with the `force` parameter.\n",
      "2023-04-13 14:22:52 | INFO | hw5.seq2seq | example source: 但要做到如此 , 各國的入境處需要被大量的支援 , 然後對入境難民進行安檢 , 並配合其他機制及根據每個國家的能力來分配這些湧入歐洲的難民 ,\n",
      "2023-04-13 14:22:52 | INFO | hw5.seq2seq | example hypothesis: but to do that , countries entrance require huge amounts of support , and then security refugees with other mechanisms and the ability to distribute those floods into europe , according to their ability .\n",
      "2023-04-13 14:22:52 | INFO | hw5.seq2seq | example reference: but for that , the countries at entry points need to be massively supported , and then screening the people with security checks and all the other mechanisms , distributing those that are coming into all european countries , according to the possibilities of each country .\n",
      "2023-04-13 14:22:52 | INFO | hw5.seq2seq | validation loss:\t2.5592\n",
      "2023-04-13 14:22:52 | INFO | hw5.seq2seq | BLEU = 20.88 57.6/29.1/16.7/10.0 (BP = 0.908 ratio = 0.912 hyp_len = 69991 ref_len = 76732)\n",
      "2023-04-13 14:22:53 | INFO | hw5.seq2seq | saved epoch checkpoint: /home/ph/ML_2023/HW5test/checkpoints/rnn/checkpoint24.pt\n",
      "2023-04-13 14:22:53 | INFO | hw5.seq2seq | end of epoch 24\n"
     ]
    },
    {
     "data": {
      "application/vnd.jupyter.widget-view+json": {
       "model_id": "",
       "version_major": 2,
       "version_minor": 0
      },
      "text/plain": [
       "train epoch 25:   0%|          | 0/799 [00:00<?, ?it/s]"
      ]
     },
     "metadata": {},
     "output_type": "display_data"
    },
    {
     "name": "stdout",
     "output_type": "stream",
     "text": [
      "2023-04-13 14:30:52 | INFO | hw5.seq2seq | training loss: 2.3763\n",
      "2023-04-13 14:30:52 | INFO | hw5.seq2seq | begin validation\n"
     ]
    },
    {
     "data": {
      "application/vnd.jupyter.widget-view+json": {
       "model_id": "",
       "version_major": 2,
       "version_minor": 0
      },
      "text/plain": [
       "validation:   0%|          | 0/27 [00:00<?, ?it/s]"
      ]
     },
     "metadata": {},
     "output_type": "display_data"
    },
    {
     "name": "stdout",
     "output_type": "stream",
     "text": [
      "2023-04-13 14:31:30 | WARNING | sacrebleu | That's 100 lines that end in a tokenized period ('.')\n",
      "2023-04-13 14:31:30 | WARNING | sacrebleu | It looks like you forgot to detokenize your test data, which may hurt your score.\n",
      "2023-04-13 14:31:30 | WARNING | sacrebleu | If you insist your data is detokenized, or don't care, you can suppress this message with the `force` parameter.\n",
      "2023-04-13 14:31:30 | INFO | hw5.seq2seq | example source: 我覺得這些經歷有潛力可以成為解藥 , 協助對抗部落主義、基要主義、大屠殺 , 以及環境破壞 。\n",
      "2023-04-13 14:31:30 | INFO | hw5.seq2seq | example hypothesis: i think these experiences have the potential to be an antidote to the fight against tribalism , fundamentalism , genocide , and environmental destruction .\n",
      "2023-04-13 14:31:30 | INFO | hw5.seq2seq | example reference: and i felt that these experiences had the potential to help be an antidote to tribalism , to fundamentalism , to genocide and environmental destruction .\n",
      "2023-04-13 14:31:30 | INFO | hw5.seq2seq | validation loss:\t2.5523\n",
      "2023-04-13 14:31:30 | INFO | hw5.seq2seq | BLEU = 20.93 57.4/29.0/16.7/9.9 (BP = 0.915 ratio = 0.918 hyp_len = 70439 ref_len = 76732)\n",
      "2023-04-13 14:31:31 | INFO | hw5.seq2seq | saved epoch checkpoint: /home/ph/ML_2023/HW5test/checkpoints/rnn/checkpoint25.pt\n",
      "2023-04-13 14:31:31 | INFO | hw5.seq2seq | end of epoch 25\n"
     ]
    },
    {
     "data": {
      "application/vnd.jupyter.widget-view+json": {
       "model_id": "",
       "version_major": 2,
       "version_minor": 0
      },
      "text/plain": [
       "train epoch 26:   0%|          | 0/799 [00:00<?, ?it/s]"
      ]
     },
     "metadata": {},
     "output_type": "display_data"
    },
    {
     "name": "stdout",
     "output_type": "stream",
     "text": [
      "2023-04-13 14:39:31 | INFO | hw5.seq2seq | training loss: 2.3646\n",
      "2023-04-13 14:39:31 | INFO | hw5.seq2seq | begin validation\n"
     ]
    },
    {
     "data": {
      "application/vnd.jupyter.widget-view+json": {
       "model_id": "",
       "version_major": 2,
       "version_minor": 0
      },
      "text/plain": [
       "validation:   0%|          | 0/27 [00:00<?, ?it/s]"
      ]
     },
     "metadata": {},
     "output_type": "display_data"
    },
    {
     "name": "stdout",
     "output_type": "stream",
     "text": [
      "2023-04-13 14:40:09 | WARNING | sacrebleu | That's 100 lines that end in a tokenized period ('.')\n",
      "2023-04-13 14:40:09 | WARNING | sacrebleu | It looks like you forgot to detokenize your test data, which may hurt your score.\n",
      "2023-04-13 14:40:09 | WARNING | sacrebleu | If you insist your data is detokenized, or don't care, you can suppress this message with the `force` parameter.\n",
      "2023-04-13 14:40:09 | INFO | hw5.seq2seq | example source: 而我在醫院 , 坐在我父親的病床旁正在想我是否該讓他喝這一瓶1.5公升的水因為醫生進來說 \" 你今天一定要逼他喝 \" 我父親已經一星期無法進食了如果我給他喝這瓶水我會不會害死他\n",
      "2023-04-13 14:40:09 | INFO | hw5.seq2seq | example hypothesis: and i'm in the hospital , sitting next to my father's bed and wondering if i should let him drink this bottle of 1 . 5 liters of water , because the doctor says , \" you must force him to drink today , \" my father hasn't been eating for a week , and if i give him this bottle , i will kill him .\n",
      "2023-04-13 14:40:09 | INFO | hw5.seq2seq | example reference: and i am sitting by my father's bedside in hospital , trying to work out whether i should let him drink the oneandahalfliter bottle of water that his doctors just came in and said , \" you must make him drink today , \" my father's been nil by mouth for a week or whether , by giving him this bottle , i might actually kill him .\n",
      "2023-04-13 14:40:09 | INFO | hw5.seq2seq | validation loss:\t2.5555\n",
      "2023-04-13 14:40:09 | INFO | hw5.seq2seq | BLEU = 21.34 57.1/28.8/16.6/9.9 (BP = 0.936 ratio = 0.938 hyp_len = 71971 ref_len = 76732)\n",
      "2023-04-13 14:40:12 | INFO | hw5.seq2seq | saved epoch checkpoint: /home/ph/ML_2023/HW5test/checkpoints/rnn/checkpoint26.pt\n",
      "2023-04-13 14:40:13 | INFO | hw5.seq2seq | end of epoch 26\n"
     ]
    },
    {
     "data": {
      "application/vnd.jupyter.widget-view+json": {
       "model_id": "",
       "version_major": 2,
       "version_minor": 0
      },
      "text/plain": [
       "train epoch 27:   0%|          | 0/799 [00:00<?, ?it/s]"
      ]
     },
     "metadata": {},
     "output_type": "display_data"
    },
    {
     "name": "stdout",
     "output_type": "stream",
     "text": [
      "2023-04-13 14:48:10 | INFO | hw5.seq2seq | training loss: 2.3555\n",
      "2023-04-13 14:48:10 | INFO | hw5.seq2seq | begin validation\n"
     ]
    },
    {
     "data": {
      "application/vnd.jupyter.widget-view+json": {
       "model_id": "",
       "version_major": 2,
       "version_minor": 0
      },
      "text/plain": [
       "validation:   0%|          | 0/27 [00:00<?, ?it/s]"
      ]
     },
     "metadata": {},
     "output_type": "display_data"
    },
    {
     "name": "stdout",
     "output_type": "stream",
     "text": [
      "2023-04-13 14:48:46 | WARNING | sacrebleu | That's 100 lines that end in a tokenized period ('.')\n",
      "2023-04-13 14:48:46 | WARNING | sacrebleu | It looks like you forgot to detokenize your test data, which may hurt your score.\n",
      "2023-04-13 14:48:46 | WARNING | sacrebleu | If you insist your data is detokenized, or don't care, you can suppress this message with the `force` parameter.\n",
      "2023-04-13 14:48:46 | INFO | hw5.seq2seq | example source: 我們都很喜歡誇讚這三個神秘的戰士他們好像與生俱來都有聖人的基因 。\n",
      "2023-04-13 14:48:46 | INFO | hw5.seq2seq | example hypothesis: we love to exaggerate these three mysterious soldiers who seem to have a saint gene innately .\n",
      "2023-04-13 14:48:46 | INFO | hw5.seq2seq | example reference: now , we all love to trot out these three mystic warriors as if they were born with a \" saint \" gene .\n",
      "2023-04-13 14:48:46 | INFO | hw5.seq2seq | validation loss:\t2.5547\n",
      "2023-04-13 14:48:46 | INFO | hw5.seq2seq | BLEU = 20.99 57.9/29.3/16.9/10.1 (BP = 0.904 ratio = 0.909 hyp_len = 69729 ref_len = 76732)\n",
      "2023-04-13 14:48:49 | INFO | hw5.seq2seq | saved epoch checkpoint: /home/ph/ML_2023/HW5test/checkpoints/rnn/checkpoint27.pt\n",
      "2023-04-13 14:48:49 | INFO | hw5.seq2seq | end of epoch 27\n"
     ]
    },
    {
     "data": {
      "application/vnd.jupyter.widget-view+json": {
       "model_id": "",
       "version_major": 2,
       "version_minor": 0
      },
      "text/plain": [
       "train epoch 28:   0%|          | 0/799 [00:00<?, ?it/s]"
      ]
     },
     "metadata": {},
     "output_type": "display_data"
    },
    {
     "name": "stdout",
     "output_type": "stream",
     "text": [
      "2023-04-13 14:56:48 | INFO | hw5.seq2seq | training loss: 2.3452\n",
      "2023-04-13 14:56:48 | INFO | hw5.seq2seq | begin validation\n"
     ]
    },
    {
     "data": {
      "application/vnd.jupyter.widget-view+json": {
       "model_id": "",
       "version_major": 2,
       "version_minor": 0
      },
      "text/plain": [
       "validation:   0%|          | 0/27 [00:00<?, ?it/s]"
      ]
     },
     "metadata": {},
     "output_type": "display_data"
    },
    {
     "name": "stdout",
     "output_type": "stream",
     "text": [
      "2023-04-13 14:57:26 | WARNING | sacrebleu | That's 100 lines that end in a tokenized period ('.')\n",
      "2023-04-13 14:57:26 | WARNING | sacrebleu | It looks like you forgot to detokenize your test data, which may hurt your score.\n",
      "2023-04-13 14:57:26 | WARNING | sacrebleu | If you insist your data is detokenized, or don't care, you can suppress this message with the `force` parameter.\n",
      "2023-04-13 14:57:26 | INFO | hw5.seq2seq | example source: 結果我們做了什麼呢 ?\n",
      "2023-04-13 14:57:26 | INFO | hw5.seq2seq | example hypothesis: so what did we do ?\n",
      "2023-04-13 14:57:26 | INFO | hw5.seq2seq | example reference: so what did we do ?\n",
      "2023-04-13 14:57:26 | INFO | hw5.seq2seq | validation loss:\t2.5499\n",
      "2023-04-13 14:57:26 | INFO | hw5.seq2seq | BLEU = 21.28 56.6/28.5/16.4/9.8 (BP = 0.942 ratio = 0.944 hyp_len = 72428 ref_len = 76732)\n",
      "2023-04-13 14:57:30 | INFO | hw5.seq2seq | saved epoch checkpoint: /home/ph/ML_2023/HW5test/checkpoints/rnn/checkpoint28.pt\n",
      "2023-04-13 14:57:30 | INFO | hw5.seq2seq | end of epoch 28\n"
     ]
    },
    {
     "data": {
      "application/vnd.jupyter.widget-view+json": {
       "model_id": "",
       "version_major": 2,
       "version_minor": 0
      },
      "text/plain": [
       "train epoch 29:   0%|          | 0/799 [00:00<?, ?it/s]"
      ]
     },
     "metadata": {},
     "output_type": "display_data"
    },
    {
     "name": "stdout",
     "output_type": "stream",
     "text": [
      "2023-04-13 15:05:33 | INFO | hw5.seq2seq | training loss: 2.3359\n",
      "2023-04-13 15:05:33 | INFO | hw5.seq2seq | begin validation\n"
     ]
    },
    {
     "data": {
      "application/vnd.jupyter.widget-view+json": {
       "model_id": "",
       "version_major": 2,
       "version_minor": 0
      },
      "text/plain": [
       "validation:   0%|          | 0/27 [00:00<?, ?it/s]"
      ]
     },
     "metadata": {},
     "output_type": "display_data"
    },
    {
     "name": "stdout",
     "output_type": "stream",
     "text": [
      "2023-04-13 15:06:11 | WARNING | sacrebleu | That's 100 lines that end in a tokenized period ('.')\n",
      "2023-04-13 15:06:11 | WARNING | sacrebleu | It looks like you forgot to detokenize your test data, which may hurt your score.\n",
      "2023-04-13 15:06:11 | WARNING | sacrebleu | If you insist your data is detokenized, or don't care, you can suppress this message with the `force` parameter.\n",
      "2023-04-13 15:06:11 | INFO | hw5.seq2seq | example source: 這本來是被視為一個大腦的快感系統 。\n",
      "2023-04-13 15:06:11 | INFO | hw5.seq2seq | example hypothesis: this is actually viewed as a brain's pleasure system .\n",
      "2023-04-13 15:06:11 | INFO | hw5.seq2seq | example reference: this was originally seen as a system that was the pleasure system of the brain .\n",
      "2023-04-13 15:06:11 | INFO | hw5.seq2seq | validation loss:\t2.5478\n",
      "2023-04-13 15:06:11 | INFO | hw5.seq2seq | BLEU = 21.10 57.9/29.3/17.0/10.2 (BP = 0.907 ratio = 0.911 hyp_len = 69887 ref_len = 76732)\n",
      "2023-04-13 15:06:13 | INFO | hw5.seq2seq | saved epoch checkpoint: /home/ph/ML_2023/HW5test/checkpoints/rnn/checkpoint29.pt\n",
      "2023-04-13 15:06:13 | INFO | hw5.seq2seq | end of epoch 29\n"
     ]
    },
    {
     "data": {
      "application/vnd.jupyter.widget-view+json": {
       "model_id": "",
       "version_major": 2,
       "version_minor": 0
      },
      "text/plain": [
       "train epoch 30:   0%|          | 0/799 [00:00<?, ?it/s]"
      ]
     },
     "metadata": {},
     "output_type": "display_data"
    },
    {
     "name": "stdout",
     "output_type": "stream",
     "text": [
      "2023-04-13 15:14:18 | INFO | hw5.seq2seq | training loss: 2.3277\n",
      "2023-04-13 15:14:18 | INFO | hw5.seq2seq | begin validation\n"
     ]
    },
    {
     "data": {
      "application/vnd.jupyter.widget-view+json": {
       "model_id": "",
       "version_major": 2,
       "version_minor": 0
      },
      "text/plain": [
       "validation:   0%|          | 0/27 [00:00<?, ?it/s]"
      ]
     },
     "metadata": {},
     "output_type": "display_data"
    },
    {
     "name": "stdout",
     "output_type": "stream",
     "text": [
      "2023-04-13 15:14:56 | WARNING | sacrebleu | That's 100 lines that end in a tokenized period ('.')\n",
      "2023-04-13 15:14:56 | WARNING | sacrebleu | It looks like you forgot to detokenize your test data, which may hurt your score.\n",
      "2023-04-13 15:14:56 | WARNING | sacrebleu | If you insist your data is detokenized, or don't care, you can suppress this message with the `force` parameter.\n",
      "2023-04-13 15:14:56 | INFO | hw5.seq2seq | example source: 但最後一點 , 或許也是最重要的一點 , 我們要怎麼做 ? 身為病人我們要怎麼做 ?\n",
      "2023-04-13 15:14:56 | INFO | hw5.seq2seq | example hypothesis: but lastly , and perhaps most importantly , how do we do this , as patients , how do we do this ?\n",
      "2023-04-13 15:14:56 | INFO | hw5.seq2seq | example reference: but finally , and perhaps most importantly , what do we do ? what do we do as patients ?\n",
      "2023-04-13 15:14:56 | INFO | hw5.seq2seq | validation loss:\t2.5509\n",
      "2023-04-13 15:14:56 | INFO | hw5.seq2seq | BLEU = 20.95 57.1/28.8/16.6/9.8 (BP = 0.921 ratio = 0.924 hyp_len = 70899 ref_len = 76732)\n",
      "2023-04-13 15:14:59 | INFO | hw5.seq2seq | saved epoch checkpoint: /home/ph/ML_2023/HW5test/checkpoints/rnn/checkpoint30.pt\n",
      "2023-04-13 15:14:59 | INFO | hw5.seq2seq | end of epoch 30\n"
     ]
    }
   ],
   "source": [
    "epoch_itr = load_data_iterator(task, \"train\", config.start_epoch, config.max_tokens, config.num_workers)\n",
    "# try_load_checkpoint(model, optimizer, name=config.resume)\n",
    "while epoch_itr.next_epoch_idx <= config.max_epoch:\n",
    "    # train for one epoch\n",
    "    train_one_epoch(epoch_itr, model, task, criterion, optimizer, config.accum_steps)\n",
    "    stats = validate_and_save(model, task, criterion, optimizer, epoch=epoch_itr.epoch)\n",
    "    logger.info(\"end of epoch {}\".format(epoch_itr.epoch))    \n",
    "    epoch_itr = load_data_iterator(task, \"train\", epoch_itr.next_epoch_idx, config.max_tokens, config.num_workers)"
   ]
  },
  {
   "cell_type": "markdown",
   "metadata": {
    "id": "KyjRwllxPjtf"
   },
   "source": [
    "# Submission"
   ]
  },
  {
   "cell_type": "code",
   "execution_count": 45,
   "metadata": {
    "id": "N70Gc6smPi1d"
   },
   "outputs": [
    {
     "name": "stdout",
     "output_type": "stream",
     "text": [
      "Namespace(inputs=['./checkpoints/rnn'], output='./checkpoints/rnn/avg_last_5_checkpoint.pt', num_epoch_checkpoints=5, num_update_checkpoints=None, checkpoint_upper_bound=None)\n",
      "averaging checkpoints:  ['./checkpoints/rnn/checkpoint30.pt', './checkpoints/rnn/checkpoint29.pt', './checkpoints/rnn/checkpoint28.pt', './checkpoints/rnn/checkpoint27.pt', './checkpoints/rnn/checkpoint26.pt']\n",
      "Finished writing averaged checkpoint to ./checkpoints/rnn/avg_last_5_checkpoint.pt\n"
     ]
    }
   ],
   "source": [
    "# averaging a few checkpoints can have a similar effect to ensemble\n",
    "checkdir=config.savedir\n",
    "!python ./fairseq/scripts/average_checkpoints.py \\\n",
    "--inputs {checkdir} \\\n",
    "--num-epoch-checkpoints 5 \\\n",
    "--output {checkdir}/avg_last_5_checkpoint.pt"
   ]
  },
  {
   "cell_type": "markdown",
   "metadata": {
    "id": "BAGMiun8PnZy"
   },
   "source": [
    "## Confirm model weights used to generate submission"
   ]
  },
  {
   "cell_type": "code",
   "execution_count": 46,
   "metadata": {
    "id": "tvRdivVUPnsU"
   },
   "outputs": [
    {
     "name": "stdout",
     "output_type": "stream",
     "text": [
      "2023-04-13 15:20:50 | INFO | hw5.seq2seq | loaded checkpoint checkpoints/rnn/avg_last_5_checkpoint.pt: step=unknown loss=2.5509486198425293 bleu=20.954267627307537\n",
      "2023-04-13 15:20:50 | INFO | hw5.seq2seq | begin validation\n"
     ]
    },
    {
     "data": {
      "application/vnd.jupyter.widget-view+json": {
       "model_id": "",
       "version_major": 2,
       "version_minor": 0
      },
      "text/plain": [
       "validation:   0%|          | 0/27 [00:00<?, ?it/s]"
      ]
     },
     "metadata": {},
     "output_type": "display_data"
    },
    {
     "name": "stdout",
     "output_type": "stream",
     "text": [
      "2023-04-13 15:21:17 | WARNING | sacrebleu | That's 100 lines that end in a tokenized period ('.')\n",
      "2023-04-13 15:21:17 | WARNING | sacrebleu | It looks like you forgot to detokenize your test data, which may hurt your score.\n",
      "2023-04-13 15:21:17 | WARNING | sacrebleu | If you insist your data is detokenized, or don't care, you can suppress this message with the `force` parameter.\n",
      "2023-04-13 15:21:17 | INFO | hw5.seq2seq | example source: 現在我們沒怎麼注意望遠鏡了 。\n",
      "2023-04-13 15:21:17 | INFO | hw5.seq2seq | example hypothesis: now we're not paying a lot of attention to the telescope .\n",
      "2023-04-13 15:21:17 | INFO | hw5.seq2seq | example reference: so we're not paying that much attention to telescopes .\n",
      "2023-04-13 15:21:17 | INFO | hw5.seq2seq | validation loss:\t2.5333\n",
      "2023-04-13 15:21:17 | INFO | hw5.seq2seq | BLEU = 21.45 57.7/29.3/17.0/10.2 (BP = 0.922 ratio = 0.925 hyp_len = 70959 ref_len = 76732)\n"
     ]
    }
   ],
   "source": [
    "# checkpoint_last.pt : latest epoch\n",
    "# checkpoint_best.pt : highest validation bleu\n",
    "# avg_last_5_checkpoint.pt: the average of last 5 epochs\n",
    "try_load_checkpoint(model, name=\"avg_last_5_checkpoint.pt\")\n",
    "validate(model, task, criterion, log_to_wandb=False)\n",
    "None"
   ]
  },
  {
   "cell_type": "markdown",
   "metadata": {
    "id": "ioAIflXpPsxt"
   },
   "source": [
    "## Generate Prediction"
   ]
  },
  {
   "cell_type": "code",
   "execution_count": 47,
   "metadata": {
    "id": "oYMxA8FlPtIq"
   },
   "outputs": [],
   "source": [
    "def generate_prediction(model, task, split=\"test\", outfile=\"./prediction.txt\"):    \n",
    "    task.load_dataset(split=split, epoch=1)\n",
    "    itr = load_data_iterator(task, split, 1, config.max_tokens, config.num_workers).next_epoch_itr(shuffle=False)\n",
    "    \n",
    "    idxs = []\n",
    "    hyps = []\n",
    "    model.eval()\n",
    "    progress = tqdm.tqdm(itr, desc=f\"prediction\")\n",
    "    with torch.no_grad():\n",
    "        for i, sample in enumerate(progress):\n",
    "            # validation loss\n",
    "            sample = utils.move_to_cuda(sample, device=device)\n",
    "\n",
    "            # do inference\n",
    "            s, h, r = inference_step(sample, model)\n",
    "            \n",
    "            hyps.extend(h)\n",
    "            idxs.extend(list(sample['id']))\n",
    "            \n",
    "    # sort based on the order before preprocess\n",
    "    hyps = [x for _,x in sorted(zip(idxs,hyps))]\n",
    "    \n",
    "    with open(outfile, \"w\") as f:\n",
    "        for h in hyps:\n",
    "            f.write(h+\"\\n\")"
   ]
  },
  {
   "cell_type": "code",
   "execution_count": 48,
   "metadata": {
    "id": "Le4RFWXxjmm0"
   },
   "outputs": [],
   "source": [
    "# generate_prediction(model, task)"
   ]
  },
  {
   "cell_type": "code",
   "execution_count": 49,
   "metadata": {
    "id": "wvenyi6BPwnD"
   },
   "outputs": [
    {
     "ename": "RuntimeError",
     "evalue": "No active exception to reraise",
     "output_type": "error",
     "traceback": [
      "\u001b[0;31m---------------------------------------------------------------------------\u001b[0m",
      "\u001b[0;31mRuntimeError\u001b[0m                              Traceback (most recent call last)",
      "Cell \u001b[0;32mIn[49], line 1\u001b[0m\n\u001b[0;32m----> 1\u001b[0m \u001b[38;5;28;01mraise\u001b[39;00m\n",
      "\u001b[0;31mRuntimeError\u001b[0m: No active exception to reraise"
     ]
    }
   ],
   "source": [
    "# raise"
   ]
  },
  {
   "cell_type": "markdown",
   "metadata": {
    "id": "1z0cJE-wPzaU"
   },
   "source": [
    "# Back-translation"
   ]
  },
  {
   "cell_type": "markdown",
   "metadata": {
    "id": "5-7uPJ2CP0sm"
   },
   "source": [
    "## Train a backward translation model"
   ]
  },
  {
   "cell_type": "markdown",
   "metadata": {
    "id": "ppGHjg2ZP3sV"
   },
   "source": [
    "1. Switch the source_lang and target_lang in **config** \n",
    "2. Change the savedir in **config** (eg. \"./checkpoints/transformer-back\")\n",
    "3. Train model"
   ]
  },
  {
   "cell_type": "markdown",
   "metadata": {
    "id": "waTGz29UP6WI"
   },
   "source": [
    "## Generate synthetic data with backward model "
   ]
  },
  {
   "cell_type": "markdown",
   "metadata": {
    "id": "sIeTsPexP8FL"
   },
   "source": [
    "### Download monolingual data"
   ]
  },
  {
   "cell_type": "code",
   "execution_count": 49,
   "metadata": {
    "id": "i7N4QlsbP8fh"
   },
   "outputs": [],
   "source": [
    "mono_dataset_name = 'mono'"
   ]
  },
  {
   "cell_type": "code",
   "execution_count": 50,
   "metadata": {
    "id": "396saD9-QBPY"
   },
   "outputs": [
    {
     "name": "stdout",
     "output_type": "stream",
     "text": [
      "ted_zh_corpus.deduped.gz is exist, skip downloading\n"
     ]
    }
   ],
   "source": [
    "mono_prefix = Path(data_dir).absolute() / mono_dataset_name\n",
    "mono_prefix.mkdir(parents=True, exist_ok=True)\n",
    "\n",
    "urls = (\n",
    "    \"https://github.com/figisiwirf/ml2023-hw5-dataset/releases/download/v1.0.1/ted_zh_corpus.deduped.gz\",\n",
    ")\n",
    "file_names = (\n",
    "    'ted_zh_corpus.deduped.gz',\n",
    ")\n",
    "\n",
    "for u, f in zip(urls, file_names):\n",
    "    path = mono_prefix/f\n",
    "    if not path.exists():\n",
    "        !wget {u} -O {path}\n",
    "    else:\n",
    "        print(f'{f} is exist, skip downloading')\n",
    "    if path.suffix == \".tgz\":\n",
    "        !tar -xvf {path} -C {prefix}\n",
    "    elif path.suffix == \".zip\":\n",
    "        !unzip -o {path} -d {prefix}\n",
    "    elif path.suffix == \".gz\":\n",
    "        !gzip -fkd {path}"
   ]
  },
  {
   "cell_type": "markdown",
   "metadata": {
    "id": "JOVQRHzGQU4-"
   },
   "source": [
    "### TODO: clean corpus\n",
    "\n",
    "1. remove sentences that are too long or too short\n",
    "2. unify punctuation\n",
    "\n",
    "hint: you can use clean_s() defined above to do this"
   ]
  },
  {
   "cell_type": "code",
   "execution_count": 51,
   "metadata": {},
   "outputs": [],
   "source": [
    "#參考:https://github.com/pai4451/ML2021/blob/main/hw5/hw5.ipynb\n",
    "def clean_corpus(mono_prefix, l1, l2, max_len=1000, min_len=1):\n",
    "#     if Path(f'{mono_prefix}/ted_zh_corpus.deduped.clean.{l1}').exists() and Path(f'{mono_prefix}/ted_zh_corpus.deduped.clean.{l2}').exists():\n",
    "#         print(f'{mono_prefix}/ted_zh_corpus.deduped.clean.{l1} & {l2} exists. skipping clean.')\n",
    "#         return\n",
    "    with open(f'{mono_prefix}/ted_zh_corpus.deduped', 'r') as l1_in_f:\n",
    "#         with open(f'{prefix}.{l2}', 'r') as l2_in_f:\n",
    "            with open(f'{mono_prefix}/ted_zh_corpus.deduped.clean.{l1}', 'w') as l1_out_f:\n",
    "                with open(f'{mono_prefix}/ted_zh_corpus.deduped.clean.{l2}', 'w') as l2_out_f:\n",
    "                    for s1 in l1_in_f:\n",
    "                        s1 = s1.strip()\n",
    "#                         s2 = l2_in_f.readline().strip()\n",
    "                        s1 = clean_s(s1, l1)\n",
    "#                         s2 = clean_s(s2, l2)\n",
    "                        s1_len = len_s(s1, l1)\n",
    "#                         s2_len = len_s(s2, l2)\n",
    "                        if min_len > 0: # remove short sentence\n",
    "                            if s1_len < min_len:\n",
    "                                continue\n",
    "                        if max_len > 0: # remove long sentence\n",
    "                            if s1_len > max_len :\n",
    "                                continue\n",
    "#                         if ratio > 0: # remove by ratio of length\n",
    "#                             if s1_len/s2_len > ratio or s2_len/s1_len > ratio:\n",
    "#                                 continue\n",
    "                        print(s1, file=l1_out_f)\n",
    "                        print('.', file=l2_out_f)\n"
   ]
  },
  {
   "cell_type": "code",
   "execution_count": 53,
   "metadata": {},
   "outputs": [],
   "source": [
    "clean_corpus(mono_prefix, 'zh','en')"
   ]
  },
  {
   "cell_type": "markdown",
   "metadata": {
    "id": "jegH0bvMQVmR"
   },
   "source": [
    "### TODO: Subword Units\n",
    "\n",
    "Use the spm model of the backward model to tokenize the data into subword units\n",
    "\n",
    "hint: spm model is located at DATA/raw-data/\\[dataset\\]/spm\\[vocab_num\\].model"
   ]
  },
  {
   "cell_type": "code",
   "execution_count": 55,
   "metadata": {
    "id": "vqgR4uUMQZGY"
   },
   "outputs": [],
   "source": [
    "# for lang in ['zh','en']:\n",
    "#     out_path = mono_prefix/f'mono.tok.{lang}'\n",
    "#     if out_path.exists():\n",
    "#         print(f\"{out_path} exists. skipping spm_encode.\")\n",
    "#     else:\n",
    "#         with open(mono_prefix/f'mono.tok.{lang}', 'w') as out_f:\n",
    "#             with open(mono_prefix/f'ted_zh_corpus.deduped.clean.{lang}', 'r') as in_f:\n",
    "#                 for line in in_f:\n",
    "#                     line = line.strip()\n",
    "#                     tok = spm_model.encode(line, out_type=str)\n",
    "#                     print(' '.join(tok), file=out_f)\n",
    "for lang in ['zh','en']:\n",
    "    out_path = mono_prefix/f'mono.tok.{lang}'\n",
    "    with open(mono_prefix/f'mono.tok.{lang}', 'w') as out_f:\n",
    "        with open(mono_prefix/f'ted_zh_corpus.deduped.clean.{lang}', 'r') as in_f:\n",
    "            for line in in_f:\n",
    "                line = line.strip()\n",
    "                tok = spm_model.encode(line, out_type=str)\n",
    "                print(' '.join(tok), file=out_f)"
   ]
  },
  {
   "cell_type": "markdown",
   "metadata": {
    "id": "a65glBVXQZiE"
   },
   "source": [
    "### Binarize\n",
    "\n",
    "use fairseq to binarize data"
   ]
  },
  {
   "cell_type": "code",
   "execution_count": 56,
   "metadata": {
    "id": "b803qA5aQaEu"
   },
   "outputs": [
    {
     "name": "stdout",
     "output_type": "stream",
     "text": [
      "2023-04-13 15:22:47 | INFO | fairseq_cli.preprocess | Namespace(no_progress_bar=False, log_interval=100, log_format=None, tensorboard_logdir=None, wandb_project=None, azureml_logging=False, seed=1, cpu=False, tpu=False, bf16=False, memory_efficient_bf16=False, fp16=False, memory_efficient_fp16=False, fp16_no_flatten_grads=False, fp16_init_scale=128, fp16_scale_window=None, fp16_scale_tolerance=0.0, min_loss_scale=0.0001, threshold_loss_scale=None, user_dir=None, empty_cache_freq=0, all_gather_list_size=16384, model_parallel_size=1, quantization_config_path=None, profile=False, reset_logging=False, suppress_crashes=False, criterion='cross_entropy', tokenizer=None, bpe=None, optimizer=None, lr_scheduler='fixed', scoring='bleu', task='translation', source_lang='zh', target_lang='en', trainpref='/home/ph/ML_2023/HW5test/DATA/rawdata/mono/mono.tok', validpref=None, testpref=None, align_suffix=None, destdir='DATA/data-bin/mono', thresholdtgt=0, thresholdsrc=0, tgtdict='./DATA/data-bin/ted2020/dict.en.txt', srcdict='./DATA/data-bin/ted2020/dict.en.txt', nwordstgt=-1, nwordssrc=-1, alignfile=None, dataset_impl='mmap', joined_dictionary=False, only_source=False, padding_factor=8, workers=2)\n",
      "2023-04-13 15:22:47 | INFO | fairseq_cli.preprocess | [zh] Dictionary: 7992 types\n",
      "2023-04-13 15:23:25 | INFO | fairseq_cli.preprocess | [zh] /home/ph/ML_2023/HW5test/DATA/rawdata/mono/mono.tok.zh: 781713 sents, 14012898 tokens, 0.000178% replaced by <unk>\n",
      "2023-04-13 15:23:25 | INFO | fairseq_cli.preprocess | [en] Dictionary: 7992 types\n",
      "2023-04-13 15:23:38 | INFO | fairseq_cli.preprocess | [en] /home/ph/ML_2023/HW5test/DATA/rawdata/mono/mono.tok.en: 781713 sents, 1563426 tokens, 0.0% replaced by <unk>\n",
      "2023-04-13 15:23:38 | INFO | fairseq_cli.preprocess | Wrote preprocessed data to DATA/data-bin/mono\n"
     ]
    }
   ],
   "source": [
    "binpath = Path('./DATA/data-bin', mono_dataset_name)\n",
    "src_dict_file = './DATA/data-bin/ted2020/dict.en.txt'\n",
    "tgt_dict_file = src_dict_file\n",
    "monopref = str(mono_prefix/\"mono.tok\") # whatever filepath you get after applying subword tokenization\n",
    "\n",
    "# if binpath.exists():\n",
    "#     print(binpath, \"exists, will not overwrite!\")\n",
    "# else:\n",
    "!python -m fairseq_cli.preprocess\\\n",
    "    --source-lang 'zh'\\\n",
    "    --target-lang 'en'\\\n",
    "    --trainpref {monopref}\\\n",
    "    --destdir {binpath}\\\n",
    "    --srcdict {src_dict_file}\\\n",
    "    --tgtdict {tgt_dict_file}\\\n",
    "    --workers 2"
   ]
  },
  {
   "cell_type": "markdown",
   "metadata": {
    "id": "smA0JraEQdxz"
   },
   "source": [
    "### TODO: Generate synthetic data with backward model\n",
    "\n",
    "Add binarized monolingual data to the original data directory, and name it with \"split_name\"\n",
    "\n",
    "ex. ./DATA/data-bin/ted2020/\\[split_name\\].zh-en.\\[\"en\", \"zh\"\\].\\[\"bin\", \"idx\"\\]\n",
    "\n",
    "then you can use 'generate_prediction(model, task, split=\"split_name\")' to generate translation prediction"
   ]
  },
  {
   "cell_type": "code",
   "execution_count": 57,
   "metadata": {
    "id": "jvaOVHeoQfkB"
   },
   "outputs": [],
   "source": [
    "# Add binarized monolingual data to the original data directory, and name it with \"split_name\"\n",
    "# ex. ./DATA/data-bin/ted2020/\\[split_name\\].zh-en.\\[\"en\", \"zh\"\\].\\[\"bin\", \"idx\"\\]\n",
    "!cp ./DATA/data-bin/mono/train.zh-en.zh.bin ./DATA/data-bin/ted2020/mono.zh-en.zh.bin\n",
    "!cp ./DATA/data-bin/mono/train.zh-en.zh.idx ./DATA/data-bin/ted2020/mono.zh-en.zh.idx\n",
    "!cp ./DATA/data-bin/mono/train.zh-en.en.bin ./DATA/data-bin/ted2020/mono.zh-en.en.bin\n",
    "!cp ./DATA/data-bin/mono/train.zh-en.en.idx ./DATA/data-bin/ted2020/mono.zh-en.en.idx"
   ]
  },
  {
   "cell_type": "code",
   "execution_count": 58,
   "metadata": {
    "id": "fFEkxPu-Qhlc"
   },
   "outputs": [
    {
     "name": "stdout",
     "output_type": "stream",
     "text": [
      "2023-04-13 15:23:53 | INFO | fairseq.data.data_utils | loaded 781,713 examples from: ./DATA/data-bin/ted2020/mono.zh-en.zh\n",
      "2023-04-13 15:23:53 | INFO | fairseq.data.data_utils | loaded 781,713 examples from: ./DATA/data-bin/ted2020/mono.zh-en.en\n",
      "2023-04-13 15:23:53 | INFO | fairseq.tasks.translation | ./DATA/data-bin/ted2020 mono zh-en 781713 examples\n"
     ]
    },
    {
     "data": {
      "application/vnd.jupyter.widget-view+json": {
       "model_id": "f002dd5806be43f9a649c533c4a3d0b0",
       "version_major": 2,
       "version_minor": 0
      },
      "text/plain": [
       "prediction:   0%|          | 0/1716 [00:00<?, ?it/s]"
      ]
     },
     "metadata": {},
     "output_type": "display_data"
    }
   ],
   "source": [
    "# hint: do prediction on split='mono' to create prediction_file\n",
    "generate_prediction(model, task, split=\"mono\", outfile=\"./DATA/rawdata/mono/mono_prediction.txt\")"
   ]
  },
  {
   "cell_type": "code",
   "execution_count": 82,
   "metadata": {},
   "outputs": [
    {
     "name": "stdout",
     "output_type": "stream",
     "text": [
      "in the mid16th century , italians were fascinated by a kind of male singer whose singers were vast , including pitch previously impossible for adult men .\r\n",
      "but there's a very high price for this gift .\r\n",
      "to prevent them from turning their voices , these singers were castrated before puberty to stop the hormones from falling down .\r\n",
      "it's called castrati , and their light , angelic voices are famous all over europe , until this cruel procedure was banned in the 19th century .\r\n",
      "although preventing the growth of the vocal folds can produce an extraordinary range of sounds , naturally developed voices already have a tremendous possibility .\r\n"
     ]
    }
   ],
   "source": [
    "!head {'./DATA/rawdata/mono/mono_prediction.txt'} -n 5"
   ]
  },
  {
   "cell_type": "markdown",
   "metadata": {
    "id": "Jn4XeawpQjLk"
   },
   "source": [
    "### TODO: Create new dataset\n",
    "\n",
    "1. Combine the prediction data with monolingual data\n",
    "2. Use the original spm model to tokenize data into Subword Units\n",
    "3. Binarize data with fairseq"
   ]
  },
  {
   "cell_type": "code",
   "execution_count": 83,
   "metadata": {
    "id": "3R35JTaTQjkm"
   },
   "outputs": [
    {
     "name": "stdout",
     "output_type": "stream",
     "text": [
      "2023-04-14 07:44:31 | INFO | fairseq_cli.preprocess | Namespace(no_progress_bar=False, log_interval=100, log_format=None, tensorboard_logdir=None, wandb_project=None, azureml_logging=False, seed=1, cpu=False, tpu=False, bf16=False, memory_efficient_bf16=False, fp16=False, memory_efficient_fp16=False, fp16_no_flatten_grads=False, fp16_init_scale=128, fp16_scale_window=None, fp16_scale_tolerance=0.0, min_loss_scale=0.0001, threshold_loss_scale=None, user_dir=None, empty_cache_freq=0, all_gather_list_size=16384, model_parallel_size=1, quantization_config_path=None, profile=False, reset_logging=False, suppress_crashes=False, criterion='cross_entropy', tokenizer=None, bpe=None, optimizer=None, lr_scheduler='fixed', scoring='bleu', task='translation', source_lang='zh', target_lang='en', trainpref='./DATA/rawdata/mono/mono.tok', validpref=None, testpref=None, align_suffix=None, destdir='DATA/data-bin/synthetic', thresholdtgt=0, thresholdsrc=0, tgtdict='./DATA/data-bin/ted2020/dict.en.txt', srcdict='./DATA/data-bin/ted2020/dict.en.txt', nwordstgt=-1, nwordssrc=-1, alignfile=None, dataset_impl='mmap', joined_dictionary=False, only_source=False, padding_factor=8, workers=2)\n",
      "2023-04-14 07:44:31 | INFO | fairseq_cli.preprocess | [zh] Dictionary: 7992 types\n",
      "2023-04-14 07:45:10 | INFO | fairseq_cli.preprocess | [zh] ./DATA/rawdata/mono/mono.tok.zh: 781713 sents, 14012898 tokens, 0.000178% replaced by <unk>\n",
      "2023-04-14 07:45:10 | INFO | fairseq_cli.preprocess | [en] Dictionary: 7992 types\n",
      "2023-04-14 07:45:23 | INFO | fairseq_cli.preprocess | [en] ./DATA/rawdata/mono/mono.tok.en: 781713 sents, 1563426 tokens, 0.0% replaced by <unk>\n",
      "2023-04-14 07:45:23 | INFO | fairseq_cli.preprocess | Wrote preprocessed data to DATA/data-bin/synthetic\n"
     ]
    }
   ],
   "source": [
    "# Combine prediction_file (.en) and mono.zh (.zh) into a new dataset.\n",
    "# \n",
    "# hint: tokenize prediction_file with the spm model\n",
    "# spm_model.encode(line, out_type=str)\n",
    "# output: ./DATA/rawdata/mono/mono.tok.en & mono.tok.zh\n",
    "#\n",
    "# hint: use fairseq to binarize these two files again\n",
    "binpath = Path('./DATA/data-bin/synthetic')\n",
    "src_dict_file = './DATA/data-bin/ted2020/dict.en.txt'\n",
    "tgt_dict_file = src_dict_file\n",
    "monopref = ('./DATA/rawdata/mono/mono.tok' )# or whatever path after applying subword tokenization, w/o the suffix (.zh/.en)\n",
    "if binpath.exists():\n",
    "    !python -m fairseq_cli.preprocess\\\n",
    "        --source-lang 'zh'\\\n",
    "        --target-lang 'en'\\\n",
    "        --trainpref {monopref}\\\n",
    "        --destdir {binpath}\\\n",
    "        --srcdict {src_dict_file}\\\n",
    "        --tgtdict {tgt_dict_file}\\\n",
    "        --workers 2\n",
    "else:\n",
    "    !python -m fairseq_cli.preprocess\\\n",
    "        --source-lang 'zh'\\\n",
    "        --target-lang 'en'\\\n",
    "        --trainpref {monopref}\\\n",
    "        --destdir {binpath}\\\n",
    "        --srcdict {src_dict_file}\\\n",
    "        --tgtdict {tgt_dict_file}\\\n",
    "        --workers 2"
   ]
  },
  {
   "cell_type": "code",
   "execution_count": 84,
   "metadata": {
    "id": "MSkse1tyQnsR"
   },
   "outputs": [],
   "source": [
    "# # create a new dataset from all the files prepared above\n",
    "!cp -r ./DATA/data-bin/ted2020/ ./DATA/data-bin/ted2020_with_mono/\n",
    "\n",
    "!cp ./DATA/data-bin/synthetic/train.zh-en.zh.bin ./DATA/data-bin/ted2020_with_mono/train1.en-zh.zh.bin\n",
    "!cp ./DATA/data-bin/synthetic/train.zh-en.zh.idx ./DATA/data-bin/ted2020_with_mono/train1.en-zh.zh.idx\n",
    "!cp ./DATA/data-bin/synthetic/train.zh-en.en.bin ./DATA/data-bin/ted2020_with_mono/train1.en-zh.en.bin\n",
    "!cp ./DATA/data-bin/synthetic/train.zh-en.en.idx ./DATA/data-bin/ted2020_with_mono/train1.en-zh.en.idx"
   ]
  },
  {
   "cell_type": "markdown",
   "metadata": {
    "id": "YVdxVGO3QrSs"
   },
   "source": [
    "Created new dataset \"ted2020_with_mono\"\n",
    "\n",
    "1. Change the datadir in **config** (\"./DATA/data-bin/ted2020_with_mono\")\n",
    "2. Switch back the source_lang and target_lang in **config** (\"en\", \"zh\")\n",
    "2. Change the savedir in **config** (eg. \"./checkpoints/transformer-bt\")\n",
    "3. Train model"
   ]
  },
  {
   "cell_type": "code",
   "execution_count": 85,
   "metadata": {},
   "outputs": [],
   "source": [
    "config = Namespace(\n",
    "    datadir = \"./DATA/data-bin/ted2020_with_mono\",\n",
    "    savedir = \"./checkpoints/transformer-bt-test\",\n",
    "    source_lang = \"en\",\n",
    "    target_lang = \"zh\",\n",
    "    \n",
    "    # cpu threads when fetching & processing data.\n",
    "    num_workers=0,  #2\n",
    "    # batch size in terms of tokens. gradient accumulation increases the effective batchsize.\n",
    "    max_tokens=8192/2,\n",
    "    accum_steps=2*2,\n",
    "    \n",
    "    # the lr s calculated from Noam lr scheduler. you can tune the maximum lr by this factor.\n",
    "    lr_factor=2.,\n",
    "    lr_warmup=4000,\n",
    "    \n",
    "    # clipping gradient norm helps alleviate gradient exploding\n",
    "    clip_norm=1.0,\n",
    "    \n",
    "    # maximum epochs for training\n",
    "    max_epoch=30,\n",
    "    start_epoch=1,\n",
    "    \n",
    "    # beam size for beam search\n",
    "    beam=5, \n",
    "    # generate sequences of maximum length ax + b, where x is the source length\n",
    "    max_len_a=1.2, \n",
    "    max_len_b=10, \n",
    "    # when decoding, post process sentence by removing sentencepiece symbols and jieba tokenization.\n",
    "    post_process = \"sentencepiece\",\n",
    "    \n",
    "    # checkpoints\n",
    "    keep_last_epochs=5,\n",
    "    resume=None, # if resume from checkpoint name (under config.savedir)\n",
    "    \n",
    "    # logging\n",
    "    use_wandb=False,\n",
    ")"
   ]
  },
  {
   "cell_type": "code",
   "execution_count": 86,
   "metadata": {},
   "outputs": [
    {
     "name": "stdout",
     "output_type": "stream",
     "text": [
      "2023-04-14 07:47:37 | INFO | fairseq.tasks.translation | [en] dictionary: 7992 types\n",
      "2023-04-14 07:47:37 | INFO | fairseq.tasks.translation | [zh] dictionary: 7992 types\n"
     ]
    }
   ],
   "source": [
    "task_cfg = TranslationConfig(\n",
    "    data=config.datadir,\n",
    "    source_lang=config.source_lang,\n",
    "    target_lang=config.target_lang,\n",
    "    train_subset=\"train\",\n",
    "    required_seq_len_multiple=8,\n",
    "    dataset_impl=\"mmap\",\n",
    "    upsample_primary=1,\n",
    ")\n",
    "task = TranslationTask.setup_task(task_cfg)"
   ]
  },
  {
   "cell_type": "code",
   "execution_count": 87,
   "metadata": {},
   "outputs": [
    {
     "name": "stdout",
     "output_type": "stream",
     "text": [
      "2023-04-14 07:47:42 | INFO | hw5.seq2seq | loading data for epoch 1\n",
      "2023-04-14 07:47:43 | INFO | fairseq.data.data_utils | loaded 390,112 examples from: ./DATA/data-bin/ted2020_with_mono/train.en-zh.en\n",
      "2023-04-14 07:47:43 | INFO | fairseq.data.data_utils | loaded 390,112 examples from: ./DATA/data-bin/ted2020_with_mono/train.en-zh.zh\n",
      "2023-04-14 07:47:43 | INFO | fairseq.tasks.translation | ./DATA/data-bin/ted2020_with_mono train en-zh 390112 examples\n",
      "2023-04-14 07:47:43 | INFO | fairseq.data.data_utils | loaded 781,713 examples from: ./DATA/data-bin/ted2020_with_mono/train1.en-zh.en\n",
      "2023-04-14 07:47:43 | INFO | fairseq.data.data_utils | loaded 781,713 examples from: ./DATA/data-bin/ted2020_with_mono/train1.en-zh.zh\n",
      "2023-04-14 07:47:43 | INFO | fairseq.tasks.translation | ./DATA/data-bin/ted2020_with_mono train1 en-zh 781713 examples\n",
      "2023-04-14 07:47:43 | INFO | fairseq.data.data_utils | loaded 3,940 examples from: ./DATA/data-bin/ted2020_with_mono/valid.en-zh.en\n",
      "2023-04-14 07:47:43 | INFO | fairseq.data.data_utils | loaded 3,940 examples from: ./DATA/data-bin/ted2020_with_mono/valid.en-zh.zh\n",
      "2023-04-14 07:47:43 | INFO | fairseq.tasks.translation | ./DATA/data-bin/ted2020_with_mono valid en-zh 3940 examples\n"
     ]
    }
   ],
   "source": [
    "logger.info(\"loading data for epoch 1\")\n",
    "task.load_dataset(split=\"train\", epoch=1, combine=True) # combine if you have back-translation data.\n",
    "task.load_dataset(split=\"valid\", epoch=1)"
   ]
  },
  {
   "cell_type": "code",
   "execution_count": 88,
   "metadata": {},
   "outputs": [
    {
     "name": "stdout",
     "output_type": "stream",
     "text": [
      "{'id': 1,\n",
      " 'source': tensor([ 361,  913,  615,   13,  269,  275,   39, 1418, 1428,  666,    6,   26,\n",
      "        1561,  659,  117,   67,   22,  105,  351,  849,    5,  835,   90,   47,\n",
      "        1561,  624,    7,    5,  388,  117,   67,   22,  105,    7,    2]),\n",
      " 'target': tensor([1561,  659,  405,   10,    5,   65, 1898,   29,  760,  624,  398,  388,\n",
      "         405,   10,    2])}\n",
      "('Source: historical average for januarys is 31 degrees ; last month was 39 . '\n",
      " '5 degrees .')\n",
      "'Target: 31度 。 上個月是39.5度 。'\n"
     ]
    }
   ],
   "source": [
    "sample = task.dataset(\"valid\")[1]\n",
    "pprint.pprint(sample)\n",
    "pprint.pprint(\n",
    "    \"Source: \" + \\\n",
    "    task.source_dictionary.string(\n",
    "        sample['source'],\n",
    "        config.post_process,\n",
    "    )\n",
    ")\n",
    "pprint.pprint(\n",
    "    \"Target: \" + \\\n",
    "    task.target_dictionary.string(\n",
    "        sample['target'],\n",
    "        config.post_process,\n",
    "    )\n",
    ")"
   ]
  },
  {
   "cell_type": "code",
   "execution_count": 89,
   "metadata": {},
   "outputs": [
    {
     "name": "stdout",
     "output_type": "stream",
     "text": [
      "2023-04-14 07:48:14 | WARNING | fairseq.tasks.fairseq_task | 2,505 samples have invalid sizes and will be skipped, max_positions=(20, 20), first few sample ids=[520, 3510, 3509, 3234, 2649, 2423, 1288, 301, 1507, 3038]\n"
     ]
    },
    {
     "data": {
      "text/plain": [
       "{'id': tensor([661]),\n",
       " 'nsentences': 1,\n",
       " 'ntokens': 15,\n",
       " 'net_input': {'src_tokens': tensor([[  1,   1,   1,   1,   1,   1,  18,  14,   6,   8, 619,  19, 889, 143,\n",
       "             7,   2]]),\n",
       "  'src_lengths': tensor([10]),\n",
       "  'prev_output_tokens': tensor([[   2,  142,  337,    4,   40,  234,  761,   43,   29,  523, 3196,  901,\n",
       "           2112,  235,   10,    1]])},\n",
       " 'target': tensor([[ 142,  337,    4,   40,  234,  761,   43,   29,  523, 3196,  901, 2112,\n",
       "           235,   10,    2,    1]])}"
      ]
     },
     "execution_count": 89,
     "metadata": {},
     "output_type": "execute_result"
    }
   ],
   "source": [
    "demo_epoch_obj = load_data_iterator(task, \"valid\", epoch=1, max_tokens=20, num_workers=0, cached=False)\n",
    "demo_iter = demo_epoch_obj.next_epoch_itr(shuffle=True)\n",
    "\n",
    "\n",
    "sample = next(demo_iter)\n",
    "sample"
   ]
  },
  {
   "cell_type": "code",
   "execution_count": 90,
   "metadata": {},
   "outputs": [],
   "source": [
    "arch_args = Namespace(\n",
    "    encoder_embed_dim=512*2,\n",
    "    encoder_ffn_embed_dim=2048*2,\n",
    "    encoder_layers=6,\n",
    "    decoder_embed_dim=512*2,\n",
    "    decoder_ffn_embed_dim=2048*2,\n",
    "    decoder_layers=6,\n",
    "    share_decoder_input_output_embed=True,\n",
    "    dropout=0.3,\n",
    ")\n",
    "\n",
    "# HINT: these patches on parameters for Transformer\n",
    "def add_transformer_args(args):\n",
    "    args.encoder_attention_heads=8\n",
    "    args.encoder_normalize_before=True\n",
    "    \n",
    "    args.decoder_attention_heads=8\n",
    "    args.decoder_normalize_before=True\n",
    "    \n",
    "    args.activation_fn=\"relu\"\n",
    "    args.max_source_positions=1024\n",
    "    args.max_target_positions=1024\n",
    "    \n",
    "    # patches on default parameters for Transformer (those not set above)\n",
    "    from fairseq.models.transformer import base_architecture\n",
    "    base_architecture(arch_args)\n",
    "\n",
    "add_transformer_args(arch_args)"
   ]
  },
  {
   "cell_type": "code",
   "execution_count": 91,
   "metadata": {},
   "outputs": [
    {
     "name": "stdout",
     "output_type": "stream",
     "text": [
      "2023-04-14 07:48:23 | INFO | hw5.seq2seq | Seq2Seq(\n",
      "  (encoder): TransformerEncoder(\n",
      "    (dropout_module): FairseqDropout()\n",
      "    (embed_tokens): Embedding(7992, 1024, padding_idx=1)\n",
      "    (embed_positions): SinusoidalPositionalEmbedding()\n",
      "    (layers): ModuleList(\n",
      "      (0-5): 6 x TransformerEncoderLayer(\n",
      "        (self_attn): MultiheadAttention(\n",
      "          (dropout_module): FairseqDropout()\n",
      "          (k_proj): Linear(in_features=1024, out_features=1024, bias=True)\n",
      "          (v_proj): Linear(in_features=1024, out_features=1024, bias=True)\n",
      "          (q_proj): Linear(in_features=1024, out_features=1024, bias=True)\n",
      "          (out_proj): Linear(in_features=1024, out_features=1024, bias=True)\n",
      "        )\n",
      "        (self_attn_layer_norm): LayerNorm((1024,), eps=1e-05, elementwise_affine=True)\n",
      "        (dropout_module): FairseqDropout()\n",
      "        (activation_dropout_module): FairseqDropout()\n",
      "        (fc1): Linear(in_features=1024, out_features=4096, bias=True)\n",
      "        (fc2): Linear(in_features=4096, out_features=1024, bias=True)\n",
      "        (final_layer_norm): LayerNorm((1024,), eps=1e-05, elementwise_affine=True)\n",
      "      )\n",
      "    )\n",
      "    (layer_norm): LayerNorm((1024,), eps=1e-05, elementwise_affine=True)\n",
      "  )\n",
      "  (decoder): TransformerDecoder(\n",
      "    (dropout_module): FairseqDropout()\n",
      "    (embed_tokens): Embedding(7992, 1024, padding_idx=1)\n",
      "    (embed_positions): SinusoidalPositionalEmbedding()\n",
      "    (layers): ModuleList(\n",
      "      (0-5): 6 x TransformerDecoderLayer(\n",
      "        (dropout_module): FairseqDropout()\n",
      "        (self_attn): MultiheadAttention(\n",
      "          (dropout_module): FairseqDropout()\n",
      "          (k_proj): Linear(in_features=1024, out_features=1024, bias=True)\n",
      "          (v_proj): Linear(in_features=1024, out_features=1024, bias=True)\n",
      "          (q_proj): Linear(in_features=1024, out_features=1024, bias=True)\n",
      "          (out_proj): Linear(in_features=1024, out_features=1024, bias=True)\n",
      "        )\n",
      "        (activation_dropout_module): FairseqDropout()\n",
      "        (self_attn_layer_norm): LayerNorm((1024,), eps=1e-05, elementwise_affine=True)\n",
      "        (encoder_attn): MultiheadAttention(\n",
      "          (dropout_module): FairseqDropout()\n",
      "          (k_proj): Linear(in_features=1024, out_features=1024, bias=True)\n",
      "          (v_proj): Linear(in_features=1024, out_features=1024, bias=True)\n",
      "          (q_proj): Linear(in_features=1024, out_features=1024, bias=True)\n",
      "          (out_proj): Linear(in_features=1024, out_features=1024, bias=True)\n",
      "        )\n",
      "        (encoder_attn_layer_norm): LayerNorm((1024,), eps=1e-05, elementwise_affine=True)\n",
      "        (fc1): Linear(in_features=1024, out_features=4096, bias=True)\n",
      "        (fc2): Linear(in_features=4096, out_features=1024, bias=True)\n",
      "        (final_layer_norm): LayerNorm((1024,), eps=1e-05, elementwise_affine=True)\n",
      "      )\n",
      "    )\n",
      "    (layer_norm): LayerNorm((1024,), eps=1e-05, elementwise_affine=True)\n",
      "    (output_projection): Linear(in_features=1024, out_features=7992, bias=False)\n",
      "  )\n",
      ")\n"
     ]
    }
   ],
   "source": [
    "model = build_model(arch_args, task)\n",
    "logger.info(model)"
   ]
  },
  {
   "cell_type": "code",
   "execution_count": 92,
   "metadata": {},
   "outputs": [],
   "source": [
    "criterion = LabelSmoothedCrossEntropyCriterion(\n",
    "    smoothing=0.1,\n",
    "    ignore_index=task.target_dictionary.pad(),\n",
    ")"
   ]
  },
  {
   "cell_type": "code",
   "execution_count": 93,
   "metadata": {},
   "outputs": [
    {
     "data": {
      "image/png": "[encoded data removed]",
      "text/plain": [
       "<Figure size 640x480 with 1 Axes>"
      ]
     },
     "metadata": {},
     "output_type": "display_data"
    }
   ],
   "source": [
    "optimizer = NoamOpt(\n",
    "    model_size=arch_args.encoder_embed_dim, \n",
    "    factor=config.lr_factor, \n",
    "    warmup=config.lr_warmup, \n",
    "    optimizer=torch.optim.AdamW(model.parameters(), lr=0, betas=(0.9, 0.98), eps=1e-9, weight_decay=0.0001))\n",
    "plt.plot(np.arange(1, 100000), [optimizer.rate(i) for i in range(1, 100000)])\n",
    "plt.legend([f\"{optimizer.model_size}:{optimizer.warmup}\"])\n",
    "None"
   ]
  },
  {
   "cell_type": "code",
   "execution_count": 94,
   "metadata": {},
   "outputs": [],
   "source": [
    "sequence_generator = task.build_generator([model], config)"
   ]
  },
  {
   "cell_type": "code",
   "execution_count": 95,
   "metadata": {},
   "outputs": [],
   "source": [
    "model = model.to(device=device)\n",
    "criterion = criterion.to(device=device)"
   ]
  },
  {
   "cell_type": "code",
   "execution_count": 96,
   "metadata": {},
   "outputs": [
    {
     "name": "stdout",
     "output_type": "stream",
     "text": [
      "2023-04-14 07:48:39 | INFO | hw5.seq2seq | task: TranslationTask\n",
      "2023-04-14 07:48:39 | INFO | hw5.seq2seq | encoder: TransformerEncoder\n",
      "2023-04-14 07:48:39 | INFO | hw5.seq2seq | decoder: TransformerDecoder\n",
      "2023-04-14 07:48:39 | INFO | hw5.seq2seq | criterion: LabelSmoothedCrossEntropyCriterion\n",
      "2023-04-14 07:48:39 | INFO | hw5.seq2seq | optimizer: NoamOpt\n",
      "2023-04-14 07:48:39 | INFO | hw5.seq2seq | num. model params: 192,729,088 (num. trained: 192,729,088)\n",
      "2023-04-14 07:48:39 | INFO | hw5.seq2seq | max tokens per batch = 4096.0, accumulate steps = 4\n"
     ]
    }
   ],
   "source": [
    "logger.info(\"task: {}\".format(task.__class__.__name__))\n",
    "logger.info(\"encoder: {}\".format(model.encoder.__class__.__name__))\n",
    "logger.info(\"decoder: {}\".format(model.decoder.__class__.__name__))\n",
    "logger.info(\"criterion: {}\".format(criterion.__class__.__name__))\n",
    "logger.info(\"optimizer: {}\".format(optimizer.__class__.__name__))\n",
    "logger.info(\n",
    "    \"num. model params: {:,} (num. trained: {:,})\".format(\n",
    "        sum(p.numel() for p in model.parameters()),\n",
    "        sum(p.numel() for p in model.parameters() if p.requires_grad),\n",
    "    )\n",
    ")\n",
    "logger.info(f\"max tokens per batch = {config.max_tokens}, accumulate steps = {config.accum_steps}\")"
   ]
  },
  {
   "cell_type": "code",
   "execution_count": 97,
   "metadata": {},
   "outputs": [
    {
     "data": {
      "application/vnd.jupyter.widget-view+json": {
       "model_id": "5b55529fc6524fe1beb56f39a3d5d969",
       "version_major": 2,
       "version_minor": 0
      },
      "text/plain": [
       "train epoch 1:   0%|          | 0/1634 [00:00<?, ?it/s]"
      ]
     },
     "metadata": {},
     "output_type": "display_data"
    },
    {
     "ename": "KeyboardInterrupt",
     "evalue": "",
     "output_type": "error",
     "traceback": [
      "\u001b[0;31m---------------------------------------------------------------------------\u001b[0m",
      "\u001b[0;31mKeyboardInterrupt\u001b[0m                         Traceback (most recent call last)",
      "Cell \u001b[0;32mIn[97], line 5\u001b[0m\n\u001b[1;32m      2\u001b[0m \u001b[38;5;66;03m# try_load_checkpoint(model, optimizer, name=config.resume)\u001b[39;00m\n\u001b[1;32m      3\u001b[0m \u001b[38;5;28;01mwhile\u001b[39;00m epoch_itr\u001b[38;5;241m.\u001b[39mnext_epoch_idx \u001b[38;5;241m<\u001b[39m\u001b[38;5;241m=\u001b[39m config\u001b[38;5;241m.\u001b[39mmax_epoch:\n\u001b[1;32m      4\u001b[0m     \u001b[38;5;66;03m# train for one epoch\u001b[39;00m\n\u001b[0;32m----> 5\u001b[0m     \u001b[43mtrain_one_epoch\u001b[49m\u001b[43m(\u001b[49m\u001b[43mepoch_itr\u001b[49m\u001b[43m,\u001b[49m\u001b[43m \u001b[49m\u001b[43mmodel\u001b[49m\u001b[43m,\u001b[49m\u001b[43m \u001b[49m\u001b[43mtask\u001b[49m\u001b[43m,\u001b[49m\u001b[43m \u001b[49m\u001b[43mcriterion\u001b[49m\u001b[43m,\u001b[49m\u001b[43m \u001b[49m\u001b[43moptimizer\u001b[49m\u001b[43m,\u001b[49m\u001b[43m \u001b[49m\u001b[43mconfig\u001b[49m\u001b[38;5;241;43m.\u001b[39;49m\u001b[43maccum_steps\u001b[49m\u001b[43m)\u001b[49m\n\u001b[1;32m      6\u001b[0m     stats \u001b[38;5;241m=\u001b[39m validate_and_save(model, task, criterion, optimizer, epoch\u001b[38;5;241m=\u001b[39mepoch_itr\u001b[38;5;241m.\u001b[39mepoch)\n\u001b[1;32m      7\u001b[0m     logger\u001b[38;5;241m.\u001b[39minfo(\u001b[38;5;124m\"\u001b[39m\u001b[38;5;124mend of epoch \u001b[39m\u001b[38;5;132;01m{}\u001b[39;00m\u001b[38;5;124m\"\u001b[39m\u001b[38;5;241m.\u001b[39mformat(epoch_itr\u001b[38;5;241m.\u001b[39mepoch))    \n",
      "Cell \u001b[0;32mIn[38], line 37\u001b[0m, in \u001b[0;36mtrain_one_epoch\u001b[0;34m(epoch_itr, model, task, criterion, optimizer, accum_steps)\u001b[0m\n\u001b[1;32m     35\u001b[0m         accum_loss \u001b[38;5;241m+\u001b[39m\u001b[38;5;241m=\u001b[39m loss\u001b[38;5;241m.\u001b[39mitem()\n\u001b[1;32m     36\u001b[0m         \u001b[38;5;66;03m# back-prop\u001b[39;00m\n\u001b[0;32m---> 37\u001b[0m         \u001b[43mscaler\u001b[49m\u001b[38;5;241;43m.\u001b[39;49m\u001b[43mscale\u001b[49m\u001b[43m(\u001b[49m\u001b[43mloss\u001b[49m\u001b[43m)\u001b[49m\u001b[38;5;241;43m.\u001b[39;49m\u001b[43mbackward\u001b[49m\u001b[43m(\u001b[49m\u001b[43m)\u001b[49m                \n\u001b[1;32m     39\u001b[0m scaler\u001b[38;5;241m.\u001b[39munscale_(optimizer)\n\u001b[1;32m     40\u001b[0m optimizer\u001b[38;5;241m.\u001b[39mmultiply_grads(\u001b[38;5;241m1\u001b[39m \u001b[38;5;241m/\u001b[39m (sample_size \u001b[38;5;129;01mor\u001b[39;00m \u001b[38;5;241m1.0\u001b[39m)) \u001b[38;5;66;03m# (sample_size or 1.0) handles the case of a zero gradient\u001b[39;00m\n",
      "File \u001b[0;32m~/anaconda3/envs/pytorch/lib/python3.9/site-packages/torch/_tensor.py:487\u001b[0m, in \u001b[0;36mTensor.backward\u001b[0;34m(self, gradient, retain_graph, create_graph, inputs)\u001b[0m\n\u001b[1;32m    477\u001b[0m \u001b[38;5;28;01mif\u001b[39;00m has_torch_function_unary(\u001b[38;5;28mself\u001b[39m):\n\u001b[1;32m    478\u001b[0m     \u001b[38;5;28;01mreturn\u001b[39;00m handle_torch_function(\n\u001b[1;32m    479\u001b[0m         Tensor\u001b[38;5;241m.\u001b[39mbackward,\n\u001b[1;32m    480\u001b[0m         (\u001b[38;5;28mself\u001b[39m,),\n\u001b[0;32m   (...)\u001b[0m\n\u001b[1;32m    485\u001b[0m         inputs\u001b[38;5;241m=\u001b[39minputs,\n\u001b[1;32m    486\u001b[0m     )\n\u001b[0;32m--> 487\u001b[0m \u001b[43mtorch\u001b[49m\u001b[38;5;241;43m.\u001b[39;49m\u001b[43mautograd\u001b[49m\u001b[38;5;241;43m.\u001b[39;49m\u001b[43mbackward\u001b[49m\u001b[43m(\u001b[49m\n\u001b[1;32m    488\u001b[0m \u001b[43m    \u001b[49m\u001b[38;5;28;43mself\u001b[39;49m\u001b[43m,\u001b[49m\u001b[43m \u001b[49m\u001b[43mgradient\u001b[49m\u001b[43m,\u001b[49m\u001b[43m \u001b[49m\u001b[43mretain_graph\u001b[49m\u001b[43m,\u001b[49m\u001b[43m \u001b[49m\u001b[43mcreate_graph\u001b[49m\u001b[43m,\u001b[49m\u001b[43m \u001b[49m\u001b[43minputs\u001b[49m\u001b[38;5;241;43m=\u001b[39;49m\u001b[43minputs\u001b[49m\n\u001b[1;32m    489\u001b[0m \u001b[43m\u001b[49m\u001b[43m)\u001b[49m\n",
      "File \u001b[0;32m~/anaconda3/envs/pytorch/lib/python3.9/site-packages/torch/autograd/__init__.py:200\u001b[0m, in \u001b[0;36mbackward\u001b[0;34m(tensors, grad_tensors, retain_graph, create_graph, grad_variables, inputs)\u001b[0m\n\u001b[1;32m    195\u001b[0m     retain_graph \u001b[38;5;241m=\u001b[39m create_graph\n\u001b[1;32m    197\u001b[0m \u001b[38;5;66;03m# The reason we repeat same the comment below is that\u001b[39;00m\n\u001b[1;32m    198\u001b[0m \u001b[38;5;66;03m# some Python versions print out the first line of a multi-line function\u001b[39;00m\n\u001b[1;32m    199\u001b[0m \u001b[38;5;66;03m# calls in the traceback and some print out the last line\u001b[39;00m\n\u001b[0;32m--> 200\u001b[0m \u001b[43mVariable\u001b[49m\u001b[38;5;241;43m.\u001b[39;49m\u001b[43m_execution_engine\u001b[49m\u001b[38;5;241;43m.\u001b[39;49m\u001b[43mrun_backward\u001b[49m\u001b[43m(\u001b[49m\u001b[43m  \u001b[49m\u001b[38;5;66;43;03m# Calls into the C++ engine to run the backward pass\u001b[39;49;00m\n\u001b[1;32m    201\u001b[0m \u001b[43m    \u001b[49m\u001b[43mtensors\u001b[49m\u001b[43m,\u001b[49m\u001b[43m \u001b[49m\u001b[43mgrad_tensors_\u001b[49m\u001b[43m,\u001b[49m\u001b[43m \u001b[49m\u001b[43mretain_graph\u001b[49m\u001b[43m,\u001b[49m\u001b[43m \u001b[49m\u001b[43mcreate_graph\u001b[49m\u001b[43m,\u001b[49m\u001b[43m \u001b[49m\u001b[43minputs\u001b[49m\u001b[43m,\u001b[49m\n\u001b[1;32m    202\u001b[0m \u001b[43m    \u001b[49m\u001b[43mallow_unreachable\u001b[49m\u001b[38;5;241;43m=\u001b[39;49m\u001b[38;5;28;43;01mTrue\u001b[39;49;00m\u001b[43m,\u001b[49m\u001b[43m \u001b[49m\u001b[43maccumulate_grad\u001b[49m\u001b[38;5;241;43m=\u001b[39;49m\u001b[38;5;28;43;01mTrue\u001b[39;49;00m\u001b[43m)\u001b[49m\n",
      "\u001b[0;31mKeyboardInterrupt\u001b[0m: "
     ]
    }
   ],
   "source": [
    "epoch_itr = load_data_iterator(task, \"train\", config.start_epoch, config.max_tokens, config.num_workers)\n",
    "# try_load_checkpoint(model, optimizer, name=config.resume)\n",
    "while epoch_itr.next_epoch_idx <= config.max_epoch:\n",
    "    # train for one epoch\n",
    "    train_one_epoch(epoch_itr, model, task, criterion, optimizer, config.accum_steps)\n",
    "    stats = validate_and_save(model, task, criterion, optimizer, epoch=epoch_itr.epoch)\n",
    "    logger.info(\"end of epoch {}\".format(epoch_itr.epoch))    \n",
    "    epoch_itr = load_data_iterator(task, \"train\", epoch_itr.next_epoch_idx, config.max_tokens, config.num_workers)"
   ]
  },
  {
   "cell_type": "code",
   "execution_count": 76,
   "metadata": {},
   "outputs": [
    {
     "name": "stdout",
     "output_type": "stream",
     "text": [
      "Namespace(inputs=['./checkpoints/transformer-bt-test'], output='./checkpoints/transformer-bt-test/avg_last_5_checkpoint.pt', num_epoch_checkpoints=5, num_update_checkpoints=None, checkpoint_upper_bound=None)\n",
      "averaging checkpoints:  ['./checkpoints/transformer-bt-test/checkpoint30.pt', './checkpoints/transformer-bt-test/checkpoint29.pt', './checkpoints/transformer-bt-test/checkpoint28.pt', './checkpoints/transformer-bt-test/checkpoint27.pt', './checkpoints/transformer-bt-test/checkpoint26.pt']\n",
      "Finished writing averaged checkpoint to ./checkpoints/transformer-bt-test/avg_last_5_checkpoint.pt\n"
     ]
    }
   ],
   "source": [
    "checkdir=config.savedir\n",
    "!python ./fairseq/scripts/average_checkpoints.py \\\n",
    "--inputs {checkdir} \\\n",
    "--num-epoch-checkpoints 5 \\\n",
    "--output {checkdir}/avg_last_5_checkpoint.pt"
   ]
  },
  {
   "cell_type": "code",
   "execution_count": 77,
   "metadata": {},
   "outputs": [
    {
     "name": "stdout",
     "output_type": "stream",
     "text": [
      "2023-04-14 07:33:16 | INFO | hw5.seq2seq | loaded checkpoint checkpoints/transformer-bt-test/avg_last_5_checkpoint.pt: step=unknown loss=2.874664306640625 bleu=27.360641144800777\n",
      "2023-04-14 07:33:16 | INFO | hw5.seq2seq | begin validation\n"
     ]
    },
    {
     "data": {
      "application/vnd.jupyter.widget-view+json": {
       "model_id": "",
       "version_major": 2,
       "version_minor": 0
      },
      "text/plain": [
       "validation:   0%|          | 0/38 [00:00<?, ?it/s]"
      ]
     },
     "metadata": {},
     "output_type": "display_data"
    },
    {
     "name": "stdout",
     "output_type": "stream",
     "text": [
      "2023-04-14 07:33:55 | INFO | hw5.seq2seq | example source: i said , \" she's not a movie star , and she's not a celebrity , and she's not an expert , and gayla's the first person who'd say she's not a saint .\n",
      "2023-04-14 07:33:55 | INFO | hw5.seq2seq | example hypothesis: 我說: 「 她不是電影明星 , 也不是名人 , 她不是專家 , 蓋拉是第一個說她不是聖人 。\n",
      "2023-04-14 07:33:55 | INFO | hw5.seq2seq | example reference: 我說:她不是一位影星她也不是名人 , 更不是專家但是她是第一個說自己不是聖人的\n",
      "2023-04-14 07:33:55 | INFO | hw5.seq2seq | validation loss:\t2.8565\n",
      "2023-04-14 07:33:55 | INFO | hw5.seq2seq | BLEU = 27.88 59.0/34.8/21.8/14.4 (BP = 0.984 ratio = 0.984 hyp_len = 108819 ref_len = 110547)\n"
     ]
    }
   ],
   "source": [
    "try_load_checkpoint(model, name=\"avg_last_5_checkpoint.pt\")\n",
    "validate(model, task, criterion, log_to_wandb=False)\n",
    "None"
   ]
  },
  {
   "cell_type": "code",
   "execution_count": 78,
   "metadata": {},
   "outputs": [],
   "source": [
    "def generate_prediction(model, task, split=\"test\", outfile=\"./prediction_back4.txt\"):    \n",
    "    task.load_dataset(split=split, epoch=1)\n",
    "    itr = load_data_iterator(task, split, 1, config.max_tokens, config.num_workers).next_epoch_itr(shuffle=False)\n",
    "    \n",
    "    idxs = []\n",
    "    hyps = []\n",
    "    model.eval()\n",
    "    progress = tqdm.tqdm(itr, desc=f\"prediction\")\n",
    "    with torch.no_grad():\n",
    "        for i, sample in enumerate(progress):\n",
    "            # validation loss\n",
    "            sample = utils.move_to_cuda(sample, device=device)\n",
    "\n",
    "            # do inference\n",
    "            s, h, r = inference_step(sample, model)\n",
    "            \n",
    "            hyps.extend(h)\n",
    "            idxs.extend(list(sample['id']))\n",
    "            \n",
    "    # sort based on the order before preprocess\n",
    "    hyps = [x for _,x in sorted(zip(idxs,hyps))]\n",
    "    \n",
    "    with open(outfile, \"w\") as f:\n",
    "        for h in hyps:\n",
    "            f.write(h+\"\\n\")"
   ]
  },
  {
   "cell_type": "code",
   "execution_count": 79,
   "metadata": {},
   "outputs": [
    {
     "name": "stdout",
     "output_type": "stream",
     "text": [
      "2023-04-14 07:33:59 | INFO | fairseq.data.data_utils | loaded 4,000 examples from: ./DATA/data-bin/ted2020_with_mono/test.en-zh.en\n",
      "2023-04-14 07:33:59 | INFO | fairseq.data.data_utils | loaded 4,000 examples from: ./DATA/data-bin/ted2020_with_mono/test.en-zh.zh\n",
      "2023-04-14 07:33:59 | INFO | fairseq.tasks.translation | ./DATA/data-bin/ted2020_with_mono test en-zh 4000 examples\n"
     ]
    },
    {
     "data": {
      "application/vnd.jupyter.widget-view+json": {
       "model_id": "6af893033f2d45bdb7f68595723fd669",
       "version_major": 2,
       "version_minor": 0
      },
      "text/plain": [
       "prediction:   0%|          | 0/34 [00:00<?, ?it/s]"
      ]
     },
     "metadata": {},
     "output_type": "display_data"
    }
   ],
   "source": [
    "generate_prediction(model, task)"
   ]
  },
  {
   "cell_type": "code",
   "execution_count": 80,
   "metadata": {},
   "outputs": [
    {
     "data": {
      "image/png": "[encoded data removed]",
      "text/plain": [
       "<Figure size 480x480 with 1 Axes>"
      ]
     },
     "metadata": {},
     "output_type": "display_data"
    }
   ],
   "source": [
    "#參考資料 : https://blog.csdn.net/weixin_42369818/article/details/124102920\n",
    "from torch.nn.functional import cosine_similarity as cs\n",
    "pos_emb = model.decoder.embed_positions.weights.cpu().detach()\n",
    "test = cs(pos_emb.unsqueeze(1),pos_emb,dim=2)\n",
    "plt.matshow(test)\n",
    "plt.savefig('Problem1.png',dpi = 600) \n",
    "plt.show()\n",
    "# plt.savefig('Proble1m.png',dpi = 600) "
   ]
  },
  {
   "cell_type": "code",
   "execution_count": 81,
   "metadata": {},
   "outputs": [
    {
     "data": {
      "image/png": "[encoded data removed]",
      "text/plain": [
       "<Figure size 640x480 with 1 Axes>"
      ]
     },
     "metadata": {},
     "output_type": "display_data"
    }
   ],
   "source": [
    "#參考資料 : https://blog.csdn.net/weixin_42369818/article/details/124102920\n",
    "plt.plot(range(1,len(aa)+1),aa)\n",
    "plt.plot(range(1,len(aa)+1),[config.clip_norm]*len(aa),\"-\")\n",
    "plt.title(\"grad norm v.s. step\")\n",
    "plt.xlabel(\"step\")\n",
    "plt.ylabel(\"grad norm\")\n",
    "plt.savefig('Problem2.png',dpi = 600) \n",
    "plt.show()"
   ]
  },
  {
   "cell_type": "markdown",
   "metadata": {
    "id": "z-m3IsoJrhmd"
   },
   "source": [
    "# References"
   ]
  },
  {
   "cell_type": "markdown",
   "metadata": {
    "id": "_CZU2beUQtl3"
   },
   "source": [
    "1. <a name=ott2019fairseq></a>Ott, M., Edunov, S., Baevski, A., Fan, A., Gross, S., Ng, N., ... & Auli, M. (2019, June). fairseq: A Fast, Extensible Toolkit for Sequence Modeling. In Proceedings of the 2019 Conference of the North American Chapter of the Association for Computational Linguistics (Demonstrations) (pp. 48-53).\n",
    "2. <a name=vaswani2017></a>Vaswani, A., Shazeer, N., Parmar, N., Uszkoreit, J., Jones, L., Gomez, A. N., ... & Polosukhin, I. (2017, December). Attention is all you need. In Proceedings of the 31st International Conference on Neural Information Processing Systems (pp. 6000-6010).\n",
    "3. <a name=reimers-2020-multilingual-sentence-bert></a>Reimers, N., & Gurevych, I. (2020, November). Making Monolingual Sentence Embeddings Multilingual Using Knowledge Distillation. In Proceedings of the 2020 Conference on Empirical Methods in Natural Language Processing (EMNLP) (pp. 4512-4525).\n",
    "4. <a name=tiedemann2012parallel></a>Tiedemann, J. (2012, May). Parallel Data, Tools and Interfaces in OPUS. In Lrec (Vol. 2012, pp. 2214-2218).\n",
    "5. <a name=kudo-richardson-2018-sentencepiece></a>Kudo, T., & Richardson, J. (2018, November). SentencePiece: A simple and language independent subword tokenizer and detokenizer for Neural Text Processing. In Proceedings of the 2018 Conference on Empirical Methods in Natural Language Processing: System Demonstrations (pp. 66-71).\n",
    "6. <a name=sennrich-etal-2016-improving></a>Sennrich, R., Haddow, B., & Birch, A. (2016, August). Improving Neural Machine Translation Models with Monolingual Data. In Proceedings of the 54th Annual Meeting of the Association for Computational Linguistics (Volume 1: Long Papers) (pp. 86-96).\n",
    "7. <a name=edunov-etal-2018-understanding></a>Edunov, S., Ott, M., Auli, M., & Grangier, D. (2018). Understanding Back-Translation at Scale. In Proceedings of the 2018 Conference on Empirical Methods in Natural Language Processing (pp. 489-500).\n",
    "8. https://github.com/ajinkyakulkarni14/TED-Multilingual-Parallel-Corpus\n",
    "9. https://ithelp.ithome.com.tw/articles/10233122\n",
    "10. https://nlp.seas.harvard.edu/2018/04/03/attention.html\n",
    "11. https://colab.research.google.com/github/ga642381/ML2021-Spring/blob/main/HW05/HW05.ipynb"
   ]
  },
  {
   "cell_type": "code",
   "execution_count": null,
   "metadata": {
    "id": "Rrfm6iLJQ0tS"
   },
   "outputs": [],
   "source": []
  }
 ],
 "metadata": {
  "accelerator": "GPU",
  "colab": {
   "collapsed_sections": [
    "nKb4u67-sT_Z",
    "n1rwQysTsdJq",
    "59si_C0Wsms7",
    "OI46v1z7MotH",
    "6ZlE_1JnMv56",
    "UDAPmxjRNEEL",
    "ce5n4eS7NQNy",
    "rUB9f1WCNgMH",
    "VFJlkOMONsc6",
    "Gt1lX3DRO_yU",
    "BAGMiun8PnZy",
    "JOVQRHzGQU4-",
    "jegH0bvMQVmR",
    "a65glBVXQZiE",
    "smA0JraEQdxz",
    "Jn4XeawpQjLk",
    "z-m3IsoJrhmd"
   ],
   "provenance": []
  },
  "kernelspec": {
   "display_name": "Python 3 (ipykernel)",
   "language": "python",
   "name": "python3"
  },
  "language_info": {
   "codemirror_mode": {
    "name": "ipython",
    "version": 3
   },
   "file_extension": ".py",
   "mimetype": "text/x-python",
   "name": "python",
   "nbconvert_exporter": "python",
   "pygments_lexer": "ipython3",
   "version": "3.9.16"
  }
 },
 "nbformat": 4,
 "nbformat_minor": 1
}
