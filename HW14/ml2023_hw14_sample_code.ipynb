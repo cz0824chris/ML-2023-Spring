{
  "metadata": {
    "kernelspec": {
      "display_name": "Python 3",
      "name": "python3"
    },
    "language_info": {
      "pygments_lexer": "ipython3",
      "nbconvert_exporter": "python",
      "version": "3.6.4",
      "file_extension": ".py",
      "codemirror_mode": {
        "name": "ipython",
        "version": 3
      },
      "name": "python",
      "mimetype": "text/x-python"
    },
    "colab": {
      "provenance": [],
      "gpuType": "T4"
    },
    "accelerator": "GPU"
  },
  "nbformat_minor": 0,
  "nbformat": 4,
  "cells": [
    {
      "cell_type": "markdown",
      "source": [
        "\n",
        "\n",
        "### LifeLong Machine Learning\n",
        "### TA's Slide\n",
        "[Slide](https://docs.google.com/presentation/d/1SMJLWPTPCIrZdNdAjrS4zQZx1kfB73jCFSb7JRX90gQ/edit?usp=sharing)\n",
        "\n",
        "### Definition\n",
        "The detailed explanations and definitions of LifeLong Learning please refer to [LifeLong learning](https://youtu.be/7qT5P9KJnWo)\n",
        "\n",
        "\n",
        "### Methods\n",
        "Someone proposed a survey paper for LifeLong Learning at the end of 2019 to distinguish 2016-2019 LigeLong Learning methods into three families.\n",
        "\n",
        "We can distinguish LifeLong Learning methods into three families, based on how task\n",
        "specific information is stored and used throughout the sequential learning process:\n",
        "* Replay-based methods\n",
        "* Regularization-based methods\n",
        "* Parameter isolation methods\n",
        "\n",
        "<img src=\"https://i.ibb.co/VDFJkWG/2019-12-29-17-25.png\" width=\"100%\">\n",
        "\n",
        "In this assignment, we have to go through EWC, MAS, SI, Remanian Walk, SCP Methods in the prior-focused methods of the regularization-based methods.\n",
        "\n",
        "Source: [Continual Learning in Neural\n",
        "Networks](https://arxiv.org/pdf/1910.02718.pdf)\n",
        "\n",
        "Please feel free to mail us if you have any questions.\n",
        "\n",
        "mlta-2023-spring@googlegroups.com\n"
      ],
      "metadata": {
        "id": "AsmmE9T_WFbD"
      }
    },
    {
      "cell_type": "markdown",
      "source": [
        "# Utilities"
      ],
      "metadata": {
        "id": "BK862tXGWFbE"
      }
    },
    {
      "cell_type": "markdown",
      "source": [
        "### Import Libraries"
      ],
      "metadata": {
        "id": "Q3qCa3AyWFbE"
      }
    },
    {
      "cell_type": "code",
      "source": [
        "import argparse\n",
        "import matplotlib.pyplot as plt\n",
        "import numpy as np\n",
        "import os\n",
        "import torch\n",
        "import torch.utils.data as data\n",
        "from torch.utils.data import DataLoader\n",
        "import torch.utils.data.sampler as sampler\n",
        "import torch.nn as nn\n",
        "import torch.nn.functional as F\n",
        "import torchvision\n",
        "from torchvision import datasets, transforms\n",
        "import tqdm\n",
        "from tqdm import trange"
      ],
      "metadata": {
        "id": "R2TZ4-_yWFbF"
      },
      "execution_count": 1,
      "outputs": []
    },
    {
      "cell_type": "markdown",
      "source": [
        "### Check devices"
      ],
      "metadata": {
        "id": "gg3_4IbVWFbF"
      }
    },
    {
      "cell_type": "code",
      "source": [
        "!nvidia-smi"
      ],
      "metadata": {
        "colab": {
          "base_uri": "https://localhost:8080/"
        },
        "id": "OivaUp0oWFbF",
        "outputId": "7262f95d-4c09-44ae-ea8c-023dffce1f60"
      },
      "execution_count": 2,
      "outputs": [
        {
          "output_type": "stream",
          "name": "stdout",
          "text": [
            "Mon Jun 26 01:54:13 2023       \n",
            "+-----------------------------------------------------------------------------+\n",
            "| NVIDIA-SMI 525.85.12    Driver Version: 525.85.12    CUDA Version: 12.0     |\n",
            "|-------------------------------+----------------------+----------------------+\n",
            "| GPU  Name        Persistence-M| Bus-Id        Disp.A | Volatile Uncorr. ECC |\n",
            "| Fan  Temp  Perf  Pwr:Usage/Cap|         Memory-Usage | GPU-Util  Compute M. |\n",
            "|                               |                      |               MIG M. |\n",
            "|===============================+======================+======================|\n",
            "|   0  Tesla T4            Off  | 00000000:00:04.0 Off |                    0 |\n",
            "| N/A   42C    P8     9W /  70W |      0MiB / 15360MiB |      0%      Default |\n",
            "|                               |                      |                  N/A |\n",
            "+-------------------------------+----------------------+----------------------+\n",
            "                                                                               \n",
            "+-----------------------------------------------------------------------------+\n",
            "| Processes:                                                                  |\n",
            "|  GPU   GI   CI        PID   Type   Process name                  GPU Memory |\n",
            "|        ID   ID                                                   Usage      |\n",
            "|=============================================================================|\n",
            "|  No running processes found                                                 |\n",
            "+-----------------------------------------------------------------------------+\n"
          ]
        }
      ]
    },
    {
      "cell_type": "markdown",
      "source": [
        "### Fix Random Seeds"
      ],
      "metadata": {
        "id": "yUJ74uBEWFbG"
      }
    },
    {
      "cell_type": "code",
      "source": [
        "def same_seeds(seed):\n",
        "  torch.manual_seed(seed)\n",
        "  if torch.cuda.is_available():\n",
        "    torch.cuda.manual_seed(seed)\n",
        "    torch.cuda.manual_seed_all(seed)\n",
        "  np.random.seed(seed)\n",
        "  torch.backends.cudnn.benchmark = False\n",
        "  torch.backends.cudnn.deterministic = True\n",
        "\n",
        "same_seeds(0)"
      ],
      "metadata": {
        "id": "wD5LIZarWFbG"
      },
      "execution_count": 3,
      "outputs": []
    },
    {
      "cell_type": "markdown",
      "source": [
        "# Prepare Data\n",
        "We utilize rotated MNIST as our training dataset.\n",
        "\n",
        "So, first, we utilize 5 different rotations to generate 10 different rotated MNISTs as different tasks."
      ],
      "metadata": {
        "id": "jF1t8-4kWFbG"
      }
    },
    {
      "cell_type": "markdown",
      "source": [
        "### Rotation and Transformation"
      ],
      "metadata": {
        "id": "RQUE7ZCEWFbG"
      }
    },
    {
      "cell_type": "code",
      "source": [
        "# Rotate MNIST to generate 10 tasks\n",
        "\n",
        "def _rotate_image(image, angle):\n",
        "  if angle is None:\n",
        "    return image\n",
        "\n",
        "  image = transforms.functional.rotate(image, angle=angle)\n",
        "  return image\n",
        "\n",
        "def get_transform(angle=None):\n",
        "  transform = transforms.Compose([transforms.ToTensor(),\n",
        "                   transforms.Lambda(lambda x: _rotate_image(x, angle)),\n",
        "                   Pad(28)\n",
        "                   ])\n",
        "  return transform\n",
        "\n",
        "class Pad(object):\n",
        "  def __init__(self, size, fill=0, padding_mode='constant'):\n",
        "    self.size = size\n",
        "    self.fill = fill\n",
        "    self.padding_mode = padding_mode\n",
        "\n",
        "  def __call__(self, img):\n",
        "    # If the H and W of img is not equal to desired size,\n",
        "    # then pad the channel of img to desired size.\n",
        "    img_size = img.size()[1]\n",
        "    assert ((self.size - img_size) % 2 == 0)\n",
        "    padding = (self.size - img_size) // 2\n",
        "    padding = (padding, padding, padding, padding)\n",
        "    return F.pad(img, padding, self.padding_mode, self.fill)\n",
        "\n",
        "class Data():\n",
        "  def __init__(self, path, train=True, angle=None):\n",
        "    transform = get_transform(angle)\n",
        "    self.dataset = datasets.MNIST(root=os.path.join(path, \"MNIST\"), transform=transform, train=train, download=True)"
      ],
      "metadata": {
        "id": "YuG2jkeEWFbG"
      },
      "execution_count": 4,
      "outputs": []
    },
    {
      "cell_type": "markdown",
      "source": [
        "### Dataloaders and Arguments\n",
        "- Training Arguments\n",
        "- Setup 5 different Rotations\n",
        "- 5 Train DataLoader\n",
        "- 5 Test DataLoader"
      ],
      "metadata": {
        "id": "KG8GcENLWFbH"
      }
    },
    {
      "cell_type": "code",
      "source": [
        "class Args:\n",
        "  task_number = 5\n",
        "  epochs_per_task = 10\n",
        "  lr = 1.0e-4\n",
        "  batch_size = 128\n",
        "  test_size=8192\n",
        "\n",
        "args=Args()\n",
        "\n",
        "device = torch.device(\"cuda\" if torch.cuda.is_available() else \"cpu\")\n",
        "# generate rotations for the tasks.\n",
        "\n",
        "# generate rotated MNIST data from 10 different rotations.\n",
        "\n",
        "angle_list = [20 * x for x in range(args.task_number)]\n",
        "\n",
        "# prepare rotated MNIST datasets.\n",
        "\n",
        "train_datasets = [Data('data', angle=angle_list[index]) for index in range(args.task_number)]\n",
        "train_dataloaders = [DataLoader(data.dataset, batch_size=args.batch_size, shuffle=True) for data in train_datasets]\n",
        "\n",
        "test_datasets = [Data('data', train=False, angle=angle_list[index]) for index in range(args.task_number)]\n",
        "test_dataloaders = [DataLoader(data.dataset, batch_size=args.test_size, shuffle=True) for data in test_datasets]"
      ],
      "metadata": {
        "colab": {
          "base_uri": "https://localhost:8080/"
        },
        "id": "jDo1m4EIWFbH",
        "outputId": "90836785-1a23-4918-9e37-b0a9518b40a4"
      },
      "execution_count": 5,
      "outputs": [
        {
          "output_type": "stream",
          "name": "stdout",
          "text": [
            "Downloading http://yann.lecun.com/exdb/mnist/train-images-idx3-ubyte.gz\n",
            "Downloading http://yann.lecun.com/exdb/mnist/train-images-idx3-ubyte.gz to data/MNIST/MNIST/raw/train-images-idx3-ubyte.gz\n"
          ]
        },
        {
          "output_type": "stream",
          "name": "stderr",
          "text": [
            "100%|██████████| 9912422/9912422 [00:00<00:00, 117710193.67it/s]\n"
          ]
        },
        {
          "output_type": "stream",
          "name": "stdout",
          "text": [
            "Extracting data/MNIST/MNIST/raw/train-images-idx3-ubyte.gz to data/MNIST/MNIST/raw\n",
            "\n",
            "Downloading http://yann.lecun.com/exdb/mnist/train-labels-idx1-ubyte.gz\n",
            "Downloading http://yann.lecun.com/exdb/mnist/train-labels-idx1-ubyte.gz to data/MNIST/MNIST/raw/train-labels-idx1-ubyte.gz\n"
          ]
        },
        {
          "output_type": "stream",
          "name": "stderr",
          "text": [
            "100%|██████████| 28881/28881 [00:00<00:00, 24531327.22it/s]\n"
          ]
        },
        {
          "output_type": "stream",
          "name": "stdout",
          "text": [
            "Extracting data/MNIST/MNIST/raw/train-labels-idx1-ubyte.gz to data/MNIST/MNIST/raw\n",
            "\n",
            "Downloading http://yann.lecun.com/exdb/mnist/t10k-images-idx3-ubyte.gz\n",
            "Downloading http://yann.lecun.com/exdb/mnist/t10k-images-idx3-ubyte.gz to data/MNIST/MNIST/raw/t10k-images-idx3-ubyte.gz\n"
          ]
        },
        {
          "output_type": "stream",
          "name": "stderr",
          "text": [
            "100%|██████████| 1648877/1648877 [00:00<00:00, 32981975.02it/s]"
          ]
        },
        {
          "output_type": "stream",
          "name": "stdout",
          "text": [
            "Extracting data/MNIST/MNIST/raw/t10k-images-idx3-ubyte.gz to data/MNIST/MNIST/raw\n"
          ]
        },
        {
          "output_type": "stream",
          "name": "stderr",
          "text": [
            "\n"
          ]
        },
        {
          "output_type": "stream",
          "name": "stdout",
          "text": [
            "\n",
            "Downloading http://yann.lecun.com/exdb/mnist/t10k-labels-idx1-ubyte.gz\n",
            "Downloading http://yann.lecun.com/exdb/mnist/t10k-labels-idx1-ubyte.gz to data/MNIST/MNIST/raw/t10k-labels-idx1-ubyte.gz\n"
          ]
        },
        {
          "output_type": "stream",
          "name": "stderr",
          "text": [
            "100%|██████████| 4542/4542 [00:00<00:00, 4500479.27it/s]\n"
          ]
        },
        {
          "output_type": "stream",
          "name": "stdout",
          "text": [
            "Extracting data/MNIST/MNIST/raw/t10k-labels-idx1-ubyte.gz to data/MNIST/MNIST/raw\n",
            "\n"
          ]
        }
      ]
    },
    {
      "cell_type": "markdown",
      "source": [
        "### Visualization"
      ],
      "metadata": {
        "id": "44eTPTSrWFbH"
      }
    },
    {
      "cell_type": "code",
      "source": [
        "# Visualize label 0-9 1 sample MNIST picture in 5 tasks.\n",
        "sample = [Data('data', angle=angle_list[index]) for index in range(args.task_number)]\n",
        "\n",
        "plt.figure(figsize=(30, 10))\n",
        "for task in range(5):\n",
        "  target_list = []\n",
        "  cnt = 0\n",
        "  while (len(target_list) < 10):\n",
        "    img, target = sample[task].dataset[cnt]\n",
        "    cnt += 1\n",
        "    if target in target_list:\n",
        "      continue\n",
        "    else:\n",
        "      target_list.append(target)\n",
        "    plt.subplot(5, 10, (task)*10 + target + 1)\n",
        "    curr_img = np.reshape(img, (28, 28))\n",
        "    plt.matshow(curr_img, cmap=plt.get_cmap('gray'), fignum=False)\n",
        "    ax = plt.gca()\n",
        "    ax.axes.xaxis.set_ticks([])\n",
        "    ax.axes.yaxis.set_ticks([])\n",
        "    plt.title(\"task: \" + str(task+1) + \" \" + \"label: \" + str(target), y=1)"
      ],
      "metadata": {
        "colab": {
          "base_uri": "https://localhost:8080/",
          "height": 488
        },
        "id": "H_JGabIFWFbH",
        "outputId": "eb827fd7-8ace-44ad-923a-d34ae940bc4b"
      },
      "execution_count": 6,
      "outputs": [
        {
          "output_type": "display_data",
          "data": {
            "text/plain": [
              "<Figure size 3000x1000 with 50 Axes>"
            ],
            "image/png": "[encoded data removed]"
          },
          "metadata": {}
        }
      ]
    },
    {
      "cell_type": "markdown",
      "source": [
        "# Prepare Model"
      ],
      "metadata": {
        "id": "4yn5L2iuWFbH"
      }
    },
    {
      "cell_type": "markdown",
      "source": [
        "### Model Architecture\n",
        "To fair comparison,\n",
        "\n",
        "We fix our model architecture to do this homework.\n",
        "\n",
        "The model architecture consists of 4 layers fully-connected network."
      ],
      "metadata": {
        "id": "TyT-BW1zWFbI"
      }
    },
    {
      "cell_type": "code",
      "source": [
        "class Model(nn.Module):\n",
        "  \"\"\"\n",
        "  Model architecture\n",
        "  1*28*28 (input) → 1024 → 512 → 256 → 10\n",
        "  \"\"\"\n",
        "  def __init__(self):\n",
        "    super(Model, self).__init__()\n",
        "    self.fc1 = nn.Linear(1*28*28, 1024)\n",
        "    self.fc2 = nn.Linear(1024, 512)\n",
        "    self.fc3 = nn.Linear(512, 256)\n",
        "    self.fc4 = nn.Linear(256, 10)\n",
        "    self.relu = nn.ReLU()\n",
        "\n",
        "  def forward(self, x):\n",
        "    x = x.view(-1, 1*28*28)\n",
        "    x = self.fc1(x)\n",
        "    x = self.relu(x)\n",
        "    x = self.fc2(x)\n",
        "    x = self.relu(x)\n",
        "    x = self.fc3(x)\n",
        "    x = self.relu(x)\n",
        "    x = self.fc4(x)\n",
        "    return x\n",
        "\n",
        "example = Model()\n",
        "print(example)"
      ],
      "metadata": {
        "colab": {
          "base_uri": "https://localhost:8080/"
        },
        "id": "PHK0IJofWFbI",
        "outputId": "d091e8be-da1c-44f7-927d-a54fe0397e11"
      },
      "execution_count": 7,
      "outputs": [
        {
          "output_type": "stream",
          "name": "stdout",
          "text": [
            "Model(\n",
            "  (fc1): Linear(in_features=784, out_features=1024, bias=True)\n",
            "  (fc2): Linear(in_features=1024, out_features=512, bias=True)\n",
            "  (fc3): Linear(in_features=512, out_features=256, bias=True)\n",
            "  (fc4): Linear(in_features=256, out_features=10, bias=True)\n",
            "  (relu): ReLU()\n",
            ")\n"
          ]
        }
      ]
    },
    {
      "cell_type": "markdown",
      "source": [
        "# Train and Evaluate"
      ],
      "metadata": {
        "id": "6tTBIThnWFbI"
      }
    },
    {
      "cell_type": "markdown",
      "source": [
        "### Train\n",
        "This is our function of training.\n",
        "\n",
        "It can generally be applied in different regularization-based lifelong learning algorithms in this homework."
      ],
      "metadata": {
        "id": "cQI3OGfgWFbI"
      }
    },
    {
      "cell_type": "code",
      "source": [
        "def train(model, optimizer, dataloader, epochs_per_task, lll_object, lll_lambda, test_dataloaders, evaluate, device, log_step=1):\n",
        "  model.train()\n",
        "  model.zero_grad()\n",
        "  objective = nn.CrossEntropyLoss()\n",
        "  acc_per_epoch = []\n",
        "  loss = 1.0\n",
        "  bar = trange(epochs_per_task, leave=False, desc=f\"Epoch 1, Loss: {loss:.7f}\")\n",
        "  for epoch in bar:\n",
        "    for imgs, labels in dataloader:\n",
        "      imgs, labels = imgs.to(device), labels.to(device)\n",
        "      outputs = model(imgs)\n",
        "      loss = objective(outputs, labels)\n",
        "      total_loss = loss\n",
        "      lll_loss = lll_object.penalty(model)\n",
        "      total_loss += lll_lambda * lll_loss\n",
        "      lll_object.update(model)\n",
        "      optimizer.zero_grad()\n",
        "      total_loss.backward()\n",
        "      optimizer.step()\n",
        "\n",
        "      loss = total_loss.item()\n",
        "    acc_average  = []\n",
        "    for test_dataloader in test_dataloaders:\n",
        "      acc_test = evaluate(model, test_dataloader, device)\n",
        "      acc_average.append(acc_test)\n",
        "    average=np.mean(np.array(acc_average))\n",
        "    acc_per_epoch.append(average*100.0)\n",
        "\n",
        "  return model, optimizer, acc_per_epoch"
      ],
      "metadata": {
        "id": "MQLGpyqnWFbJ"
      },
      "execution_count": 8,
      "outputs": []
    },
    {
      "cell_type": "markdown",
      "source": [
        "### Evaluate\n",
        "This is our function of evaluation.\n",
        "\n",
        "It can generally be applied in different regularization-based lifelong learning algorithms in this homework.\n"
      ],
      "metadata": {
        "id": "UN-V_Rq3WFbJ"
      }
    },
    {
      "cell_type": "code",
      "source": [
        "def evaluate(model, test_dataloader, device):\n",
        "    model.eval()\n",
        "    correct_cnt = 0\n",
        "    total = 0\n",
        "    for imgs, labels in test_dataloader:\n",
        "        imgs, labels = imgs.to(device), labels.to(device)\n",
        "        outputs = model(imgs)\n",
        "        _, pred_label = torch.max(outputs.data, 1)\n",
        "\n",
        "        correct_cnt += (pred_label == labels.data).sum().item()\n",
        "        total += torch.ones_like(labels.data).sum().item()\n",
        "    return correct_cnt / total"
      ],
      "metadata": {
        "id": "AgUG7ZC3WFbJ"
      },
      "execution_count": 9,
      "outputs": []
    },
    {
      "cell_type": "markdown",
      "source": [
        "# Methods\n",
        "- Baseline\n",
        "- EWC\n",
        "- SI\n",
        "- MAS\n",
        "- RWalk\n",
        "- SCP"
      ],
      "metadata": {
        "id": "-6MG7AXmWFbJ"
      }
    },
    {
      "cell_type": "markdown",
      "source": [
        "### Baseline\n",
        "The baseline class will do nothing in the regularization term."
      ],
      "metadata": {
        "id": "NqEKECBKWFbK"
      }
    },
    {
      "cell_type": "code",
      "source": [
        "# Baseline\n",
        "class baseline(object):\n",
        "  \"\"\"\n",
        "  baseline technique: do nothing in regularization term [initialize and all weight is zero]\n",
        "  \"\"\"\n",
        "  def __init__(self, model, dataloader, device):\n",
        "    self.model = model\n",
        "    self.dataloader = dataloader\n",
        "    self.device = device\n",
        "    # extract all parameters in models\n",
        "    self.params = {n: p for n, p in self.model.named_parameters() if p.requires_grad}\n",
        "\n",
        "    # store current parameters\n",
        "    self.p_old = {}\n",
        "\n",
        "    # generate weight matrix\n",
        "    self._precision_matrices = self._calculate_importance()\n",
        "\n",
        "    for n, p in self.params.items():\n",
        "      # keep the old parameter in self.p_old\n",
        "      self.p_old[n] = p.clone().detach()\n",
        "\n",
        "  def _calculate_importance(self):\n",
        "    precision_matrices = {}\n",
        "    # initialize weight matrix（fill zero）\n",
        "    for n, p in self.params.items():\n",
        "      precision_matrices[n] = p.clone().detach().fill_(0)\n",
        "\n",
        "    return precision_matrices\n",
        "\n",
        "  def penalty(self, model: nn.Module):\n",
        "    loss = 0\n",
        "    for n, p in model.named_parameters():\n",
        "      _loss = self._precision_matrices[n] * (p - self.p_old[n]) ** 2\n",
        "      loss += _loss.sum()\n",
        "    return loss\n",
        "\n",
        "  def update(self, model):\n",
        "    # do nothing\n",
        "    return"
      ],
      "metadata": {
        "id": "hi0rxYWPWFbK"
      },
      "execution_count": 10,
      "outputs": []
    },
    {
      "cell_type": "code",
      "source": [
        "# Baseline\n",
        "print(\"RUN BASELINE\")\n",
        "model = Model()\n",
        "model = model.to(device)\n",
        "optimizer = torch.optim.Adam(model.parameters(), lr=args.lr)\n",
        "\n",
        "# initialize lifelong learning object (baseline class) without adding any regularization term.\n",
        "lll_object=baseline(model=model, dataloader=None, device=device)\n",
        "lll_lambda=0.0\n",
        "baseline_acc=[]\n",
        "task_bar = trange(len(train_dataloaders),desc=\"Task   1\")\n",
        "\n",
        "# iterate training on each task continually.\n",
        "for train_indexes in task_bar:\n",
        "  # Train each task\n",
        "  model, _, acc_list = train(model, optimizer, train_dataloaders[train_indexes], args.epochs_per_task,\n",
        "                  lll_object, lll_lambda, evaluate=evaluate,device=device, test_dataloaders=test_dataloaders[:train_indexes+1])\n",
        "\n",
        "  # get model weight to baseline class and do nothing!\n",
        "  lll_object=baseline(model=model, dataloader=train_dataloaders[train_indexes],device=device)\n",
        "\n",
        "  # new a optimizer\n",
        "  optimizer = torch.optim.Adam(model.parameters(), lr=args.lr)\n",
        "\n",
        "  # Collect average accuracy in each epoch\n",
        "  baseline_acc.extend(acc_list)\n",
        "\n",
        "  # display the information of the next task.\n",
        "  task_bar.set_description_str(f\"Task  {train_indexes+2:2}\")\n",
        "\n",
        "# average accuracy in each task per epoch!\n",
        "print(baseline_acc)\n",
        "print(\"==================================================================================================\")"
      ],
      "metadata": {
        "colab": {
          "base_uri": "https://localhost:8080/"
        },
        "id": "N47ycrp3WFbK",
        "outputId": "4fd7ecc9-eea1-46e4-b6d5-43c1d2a8c130"
      },
      "execution_count": 11,
      "outputs": [
        {
          "output_type": "stream",
          "name": "stdout",
          "text": [
            "RUN BASELINE\n"
          ]
        },
        {
          "output_type": "stream",
          "name": "stderr",
          "text": [
            "Task   1:   0%|          | 0/5 [00:00<?, ?it/s]\n",
            "Epoch 1, Loss: 1.0000000:   0%|          | 0/10 [00:00<?, ?it/s]\u001b[A\n",
            "Epoch 1, Loss: 1.0000000:  10%|█         | 1/10 [00:33<05:01, 33.46s/it]\u001b[A\n",
            "Epoch 1, Loss: 1.0000000:  20%|██        | 2/10 [01:07<04:31, 33.99s/it]\u001b[A\n",
            "Epoch 1, Loss: 1.0000000:  30%|███       | 3/10 [01:47<04:14, 36.42s/it]\u001b[A\n",
            "Epoch 1, Loss: 1.0000000:  40%|████      | 4/10 [02:21<03:33, 35.66s/it]\u001b[A\n",
            "Epoch 1, Loss: 1.0000000:  50%|█████     | 5/10 [02:52<02:50, 34.01s/it]\u001b[A\n",
            "Epoch 1, Loss: 1.0000000:  60%|██████    | 6/10 [03:24<02:12, 33.13s/it]\u001b[A\n",
            "Epoch 1, Loss: 1.0000000:  70%|███████   | 7/10 [03:53<01:35, 31.99s/it]\u001b[A\n",
            "Epoch 1, Loss: 1.0000000:  80%|████████  | 8/10 [04:24<01:03, 31.53s/it]\u001b[A\n",
            "Epoch 1, Loss: 1.0000000:  90%|█████████ | 9/10 [04:55<00:31, 31.31s/it]\u001b[A\n",
            "Epoch 1, Loss: 1.0000000: 100%|██████████| 10/10 [05:26<00:00, 31.32s/it]\u001b[A\n",
            "Task   2:  20%|██        | 1/5 [05:26<21:46, 326.51s/it]\n",
            "Epoch 1, Loss: 1.0000000:   0%|          | 0/10 [00:00<?, ?it/s]\u001b[A\n",
            "Epoch 1, Loss: 1.0000000:  10%|█         | 1/10 [00:34<05:08, 34.28s/it]\u001b[A\n",
            "Epoch 1, Loss: 1.0000000:  20%|██        | 2/10 [01:07<04:31, 33.90s/it]\u001b[A\n",
            "Epoch 1, Loss: 1.0000000:  30%|███       | 3/10 [01:42<03:58, 34.11s/it]\u001b[A\n",
            "Epoch 1, Loss: 1.0000000:  40%|████      | 4/10 [02:16<03:24, 34.09s/it]\u001b[A\n",
            "Epoch 1, Loss: 1.0000000:  50%|█████     | 5/10 [02:49<02:49, 33.91s/it]\u001b[A\n",
            "Epoch 1, Loss: 1.0000000:  60%|██████    | 6/10 [03:23<02:15, 33.78s/it]\u001b[A\n",
            "Epoch 1, Loss: 1.0000000:  70%|███████   | 7/10 [03:58<01:42, 34.04s/it]\u001b[A\n",
            "Epoch 1, Loss: 1.0000000:  80%|████████  | 8/10 [04:33<01:08, 34.41s/it]\u001b[A\n",
            "Epoch 1, Loss: 1.0000000:  90%|█████████ | 9/10 [05:08<00:34, 34.55s/it]\u001b[A\n",
            "Epoch 1, Loss: 1.0000000: 100%|██████████| 10/10 [05:42<00:00, 34.50s/it]\u001b[A\n",
            "Task   3:  40%|████      | 2/5 [11:09<16:47, 335.91s/it]\n",
            "Epoch 1, Loss: 1.0000000:   0%|          | 0/10 [00:00<?, ?it/s]\u001b[A\n",
            "Epoch 1, Loss: 1.0000000:  10%|█         | 1/10 [00:37<05:40, 37.87s/it]\u001b[A\n",
            "Epoch 1, Loss: 1.0000000:  20%|██        | 2/10 [01:15<05:01, 37.66s/it]\u001b[A\n",
            "Epoch 1, Loss: 1.0000000:  30%|███       | 3/10 [01:53<04:26, 38.00s/it]\u001b[A\n",
            "Epoch 1, Loss: 1.0000000:  40%|████      | 4/10 [02:32<03:48, 38.09s/it]\u001b[A\n",
            "Epoch 1, Loss: 1.0000000:  50%|█████     | 5/10 [03:10<03:11, 38.31s/it]\u001b[A\n",
            "Epoch 1, Loss: 1.0000000:  60%|██████    | 6/10 [03:49<02:34, 38.62s/it]\u001b[A\n",
            "Epoch 1, Loss: 1.0000000:  70%|███████   | 7/10 [04:28<01:55, 38.47s/it]\u001b[A\n",
            "Epoch 1, Loss: 1.0000000:  80%|████████  | 8/10 [05:05<01:16, 38.28s/it]\u001b[A\n",
            "Epoch 1, Loss: 1.0000000:  90%|█████████ | 9/10 [05:43<00:38, 38.11s/it]\u001b[A\n",
            "Epoch 1, Loss: 1.0000000: 100%|██████████| 10/10 [06:21<00:00, 37.92s/it]\u001b[A\n",
            "Task   4:  60%|██████    | 3/5 [17:30<11:53, 356.60s/it]\n",
            "Epoch 1, Loss: 1.0000000:   0%|          | 0/10 [00:00<?, ?it/s]\u001b[A\n",
            "Epoch 1, Loss: 1.0000000:  10%|█         | 1/10 [00:41<06:14, 41.60s/it]\u001b[A\n",
            "Epoch 1, Loss: 1.0000000:  20%|██        | 2/10 [01:23<05:35, 41.95s/it]\u001b[A\n",
            "Epoch 1, Loss: 1.0000000:  30%|███       | 3/10 [02:05<04:52, 41.85s/it]\u001b[A\n",
            "Epoch 1, Loss: 1.0000000:  40%|████      | 4/10 [02:48<04:12, 42.14s/it]\u001b[A\n",
            "Epoch 1, Loss: 1.0000000:  50%|█████     | 5/10 [03:29<03:29, 41.87s/it]\u001b[A\n",
            "Epoch 1, Loss: 1.0000000:  60%|██████    | 6/10 [04:11<02:48, 42.05s/it]\u001b[A\n",
            "Epoch 1, Loss: 1.0000000:  70%|███████   | 7/10 [04:53<02:05, 41.89s/it]\u001b[A\n",
            "Epoch 1, Loss: 1.0000000:  80%|████████  | 8/10 [05:35<01:23, 41.81s/it]\u001b[A\n",
            "Epoch 1, Loss: 1.0000000:  90%|█████████ | 9/10 [06:16<00:41, 41.70s/it]\u001b[A\n",
            "Epoch 1, Loss: 1.0000000: 100%|██████████| 10/10 [06:58<00:00, 41.66s/it]\u001b[A\n",
            "Task   5:  80%|████████  | 4/5 [24:28<06:20, 380.90s/it]\n",
            "Epoch 1, Loss: 1.0000000:   0%|          | 0/10 [00:00<?, ?it/s]\u001b[A\n",
            "Epoch 1, Loss: 1.0000000:  10%|█         | 1/10 [00:45<06:52, 45.79s/it]\u001b[A\n",
            "Epoch 1, Loss: 1.0000000:  20%|██        | 2/10 [01:31<06:06, 45.87s/it]\u001b[A\n",
            "Epoch 1, Loss: 1.0000000:  30%|███       | 3/10 [02:17<05:21, 45.90s/it]\u001b[A\n",
            "Epoch 1, Loss: 1.0000000:  40%|████      | 4/10 [03:02<04:33, 45.61s/it]\u001b[A\n",
            "Epoch 1, Loss: 1.0000000:  50%|█████     | 5/10 [03:48<03:48, 45.65s/it]\u001b[A\n",
            "Epoch 1, Loss: 1.0000000:  60%|██████    | 6/10 [04:34<03:02, 45.60s/it]\u001b[A\n",
            "Epoch 1, Loss: 1.0000000:  70%|███████   | 7/10 [05:20<02:17, 45.72s/it]\u001b[A\n",
            "Epoch 1, Loss: 1.0000000:  80%|████████  | 8/10 [06:07<01:32, 46.41s/it]\u001b[A\n",
            "Epoch 1, Loss: 1.0000000:  90%|█████████ | 9/10 [06:58<00:47, 47.66s/it]\u001b[A\n",
            "Epoch 1, Loss: 1.0000000: 100%|██████████| 10/10 [07:46<00:00, 47.97s/it]\u001b[A\n",
            "Task   6: 100%|██████████| 5/5 [32:15<00:00, 387.08s/it]"
          ]
        },
        {
          "output_type": "stream",
          "name": "stdout",
          "text": [
            "[92.64, 94.44, 95.72, 96.45, 96.66, 97.09, 97.54, 97.61999999999999, 97.50999999999999, 97.89999999999999, 95.665, 95.735, 95.485, 95.685, 95.61500000000001, 95.055, 94.88, 95.38, 95.41, 95.435, 91.28666666666666, 90.59666666666666, 90.43666666666667, 89.48333333333332, 89.35, 87.23, 88.69333333333333, 87.73333333333333, 88.49333333333334, 87.72999999999999, 82.57000000000001, 80.795, 80.6775, 79.78500000000001, 79.32000000000001, 79.14999999999999, 80.5975, 79.72500000000001, 78.8825, 78.1525, 74.61800000000001, 73.27, 73.496, 71.852, 71.91199999999999, 71.296, 71.574, 70.74999999999999, 70.652, 69.156]\n",
            "==================================================================================================\n"
          ]
        },
        {
          "output_type": "stream",
          "name": "stderr",
          "text": [
            "\n"
          ]
        }
      ]
    },
    {
      "cell_type": "code",
      "source": [
        "plt.plot(baseline_acc, marker='o', linewidth=2, markersize=4, label='baseline_acc')\n",
        "plt.legend()"
      ],
      "metadata": {
        "id": "252CgjEJyCh2",
        "outputId": "bfc4ae70-165a-4dd2-deb7-af45f97f63d7",
        "colab": {
          "base_uri": "https://localhost:8080/",
          "height": 448
        }
      },
      "execution_count": 20,
      "outputs": [
        {
          "output_type": "execute_result",
          "data": {
            "text/plain": [
              "<matplotlib.legend.Legend at 0x7fbb200d7a60>"
            ]
          },
          "metadata": {},
          "execution_count": 20
        },
        {
          "output_type": "display_data",
          "data": {
            "text/plain": [
              "<Figure size 640x480 with 1 Axes>"
            ],
            "image/png": "[encoded data removed]"
          },
          "metadata": {}
        }
      ]
    },
    {
      "cell_type": "markdown",
      "source": [
        "### EWC\n",
        "\n",
        "Elastic Weight Consolidation\n",
        "\n",
        "The ewc class applied EWC algorithm to calculate the regularization term. The central concept is included in Prof.Hung-yi's lectures. Here we will focus on the algorithm of EWC.\n",
        "\n",
        "In this assignment, we want to let our model learn 10 tasks successively. Here we show a simple example that lets the model learn 2 tasks(task A and task B) successively.\n",
        "\n",
        "In the EWC algorithm, the definition of the loss function is shown below:\n",
        " $$\\mathcal{L}_B = \\mathcal{L}(\\theta) + \\sum_{i} \\frac{\\lambda}{2} F_i (\\theta_{i} - \\theta_{A,i}^{*})^2  $$\n",
        "  \n",
        "Assume we have a neural network with more than two parameters.\n",
        "\n",
        "$F_i$ corresponds to the $i^{th}$ guard in Prof. Hung-yi's lecture. Please do not modify this parameter, because it's important to task A.\n",
        "\n",
        "The definition of $F$ is shown below.\n",
        "$$ F = [ \\nabla \\log(p(y_n | x_n, \\theta_{A}^{*})) \\nabla \\log(p(y_n | x_n, \\theta_{A}^{*}))^T ] $$\n",
        "\n",
        "We only take the diagonal value of the matrix to approximate each parameter's $F_i$.\n",
        "\n",
        "The detail information and derivation are shown in 2.4.1 and 2.4 of [Continual Learning in Neural\n",
        "Networks](https://arxiv.org/pdf/1910.02718.pdf)\n",
        "\n",
        "For You Information: [Elastic Weight Consolidation](https://arxiv.org/pdf/1612.00796.pdf)"
      ],
      "metadata": {
        "id": "AD1sHoBcWFbK"
      }
    },
    {
      "cell_type": "code",
      "source": [
        "# EWC\n",
        "class ewc(object):\n",
        "  \"\"\"\n",
        "  @article{kirkpatrick2017overcoming,\n",
        "      title={Overcoming catastrophic forgetting in neural networks},\n",
        "      author={Kirkpatrick, James and Pascanu, Razvan and Rabinowitz, Neil and Veness, Joel and Desjardins, Guillaume and Rusu, Andrei A and Milan, Kieran and Quan, John and Ramalho, Tiago and Grabska-Barwinska, Agnieszka and others},\n",
        "      journal={Proceedings of the national academy of sciences},\n",
        "      year={2017},\n",
        "      url={https://arxiv.org/abs/1612.00796}\n",
        "  }\n",
        "  \"\"\"\n",
        "  def __init__(self, model, dataloader, device, prev_guards=[None]):\n",
        "    self.model = model\n",
        "    self.dataloader = dataloader\n",
        "    self.device = device\n",
        "    # extract all parameters in models\n",
        "    self.params = {n: p for n, p in self.model.named_parameters() if p.requires_grad}\n",
        "\n",
        "    # initialize parameters\n",
        "    self.p_old = {}\n",
        "    # save previous guards\n",
        "    self.previous_guards_list = prev_guards\n",
        "\n",
        "    # generate Fisher (F) matrix for EWC\n",
        "    self._precision_matrices = self._calculate_importance()\n",
        "\n",
        "    # keep the old parameter in self.p_old\n",
        "    for n, p in self.params.items():\n",
        "      self.p_old[n] = p.clone().detach()\n",
        "\n",
        "  def _calculate_importance(self):\n",
        "    precision_matrices = {}\n",
        "    # initialize Fisher (F) matrix（all fill zero）and add previous guards\n",
        "    for n, p in self.params.items():\n",
        "      precision_matrices[n] = p.clone().detach().fill_(0)\n",
        "      for i in range(len(self.previous_guards_list)):\n",
        "        if self.previous_guards_list[i]:\n",
        "          precision_matrices[n] += self.previous_guards_list[i][n]\n",
        "\n",
        "    self.model.eval()\n",
        "    if self.dataloader is not None:\n",
        "      number_data = len(self.dataloader)\n",
        "      for data in self.dataloader:\n",
        "        self.model.zero_grad()\n",
        "        # get image data\n",
        "        input = data[0].to(self.device)\n",
        "\n",
        "        # image data forward model\n",
        "        output = self.model(input)\n",
        "\n",
        "        # Simply use groud truth label of dataset.\n",
        "        label = data[1].to(self.device)\n",
        "\n",
        "        # generate Fisher(F) matrix for EWC\n",
        "        loss = F.nll_loss(F.log_softmax(output, dim=1), label)\n",
        "        loss.backward()\n",
        "\n",
        "        for n, p in self.model.named_parameters():\n",
        "          # get the gradient of each parameter and square it, then average it in all validation set.\n",
        "          precision_matrices[n].data += p.grad.data ** 2 / number_data\n",
        "\n",
        "      precision_matrices = {n: p for n, p in precision_matrices.items()}\n",
        "    return precision_matrices\n",
        "\n",
        "  def penalty(self, model: nn.Module):\n",
        "    loss = 0\n",
        "    for n, p in model.named_parameters():\n",
        "      # generate the final regularization term by the ewc weight (self._precision_matrices[n]) and the square of weight difference ((p - self.p_old[n]) ** 2).\n",
        "      _loss = self._precision_matrices[n] * (p - self.p_old[n]) ** 2\n",
        "      loss += _loss.sum()\n",
        "    return loss\n",
        "\n",
        "  def update(self, model):\n",
        "    # do nothing\n",
        "    return"
      ],
      "metadata": {
        "id": "qy-ZmOFuWFbL"
      },
      "execution_count": 12,
      "outputs": []
    },
    {
      "cell_type": "code",
      "source": [
        "# EWC\n",
        "print(\"RUN EWC\")\n",
        "model = Model()\n",
        "model = model.to(device)\n",
        "# initialize optimizer\n",
        "optimizer = torch.optim.Adam(model.parameters(), lr=args.lr)\n",
        "\n",
        "# initialize lifelong learning object for EWC\n",
        "lll_object=ewc(model=model, dataloader=None, device=device)\n",
        "\n",
        "# setup the coefficient value of regularization term.\n",
        "lll_lambda=100\n",
        "ewc_acc= []\n",
        "task_bar = trange(len(train_dataloaders),desc=\"Task   1\")\n",
        "prev_guards = []\n",
        "\n",
        "# iterate training on each task continually.\n",
        "for train_indexes in task_bar:\n",
        "  # Train Each Task\n",
        "  model, _, acc_list = train(model, optimizer, train_dataloaders[train_indexes], args.epochs_per_task, lll_object, lll_lambda, evaluate=evaluate,device=device, test_dataloaders=test_dataloaders[:train_indexes+1])\n",
        "\n",
        "  # get model weight and calculate guidance for each weight\n",
        "  prev_guards.append(lll_object._precision_matrices)\n",
        "  lll_object=ewc(model=model, dataloader=train_dataloaders[train_indexes], device=device, prev_guards=prev_guards)\n",
        "\n",
        "  # new a Optimizer\n",
        "  optimizer = torch.optim.Adam(model.parameters(), lr=args.lr)\n",
        "\n",
        "  # collect average accuracy in each epoch\n",
        "  ewc_acc.extend(acc_list)\n",
        "\n",
        "  # Update tqdm displayer\n",
        "  task_bar.set_description_str(f\"Task  {train_indexes+2:2}\")\n",
        "\n",
        "# average accuracy in each task per epoch!\n",
        "print(ewc_acc)\n",
        "print(\"==================================================================================================\")"
      ],
      "metadata": {
        "id": "FRIS2se1WFbL",
        "outputId": "ae187f84-358d-47eb-b550-d8980c3a5a02",
        "colab": {
          "base_uri": "https://localhost:8080/"
        }
      },
      "execution_count": 13,
      "outputs": [
        {
          "output_type": "stream",
          "name": "stdout",
          "text": [
            "RUN EWC\n"
          ]
        },
        {
          "output_type": "stream",
          "name": "stderr",
          "text": [
            "Task   1:   0%|          | 0/5 [00:00<?, ?it/s]\n",
            "Epoch 1, Loss: 1.0000000:   0%|          | 0/10 [00:00<?, ?it/s]\u001b[A\n",
            "Epoch 1, Loss: 1.0000000:  10%|█         | 1/10 [00:31<04:42, 31.37s/it]\u001b[A\n",
            "Epoch 1, Loss: 1.0000000:  20%|██        | 2/10 [01:03<04:14, 31.80s/it]\u001b[A\n",
            "Epoch 1, Loss: 1.0000000:  30%|███       | 3/10 [01:34<03:41, 31.67s/it]\u001b[A\n",
            "Epoch 1, Loss: 1.0000000:  40%|████      | 4/10 [02:07<03:11, 31.88s/it]\u001b[A\n",
            "Epoch 1, Loss: 1.0000000:  50%|█████     | 5/10 [02:38<02:38, 31.77s/it]\u001b[A\n",
            "Epoch 1, Loss: 1.0000000:  60%|██████    | 6/10 [03:10<02:06, 31.63s/it]\u001b[A\n",
            "Epoch 1, Loss: 1.0000000:  70%|███████   | 7/10 [03:40<01:33, 31.28s/it]\u001b[A\n",
            "Epoch 1, Loss: 1.0000000:  80%|████████  | 8/10 [04:11<01:02, 31.22s/it]\u001b[A\n",
            "Epoch 1, Loss: 1.0000000:  90%|█████████ | 9/10 [04:42<00:31, 31.20s/it]\u001b[A\n",
            "Epoch 1, Loss: 1.0000000: 100%|██████████| 10/10 [05:13<00:00, 31.12s/it]\u001b[A\n",
            "Task   2:  20%|██        | 1/5 [05:39<22:38, 339.53s/it]\n",
            "Epoch 1, Loss: 1.0000000:   0%|          | 0/10 [00:00<?, ?it/s]\u001b[A\n",
            "Epoch 1, Loss: 1.0000000:  10%|█         | 1/10 [00:34<05:14, 34.94s/it]\u001b[A\n",
            "Epoch 1, Loss: 1.0000000:  20%|██        | 2/10 [01:09<04:38, 34.81s/it]\u001b[A\n",
            "Epoch 1, Loss: 1.0000000:  30%|███       | 3/10 [01:44<04:04, 34.96s/it]\u001b[A\n",
            "Epoch 1, Loss: 1.0000000:  40%|████      | 4/10 [02:19<03:29, 34.84s/it]\u001b[A\n",
            "Epoch 1, Loss: 1.0000000:  50%|█████     | 5/10 [02:54<02:54, 34.93s/it]\u001b[A\n",
            "Epoch 1, Loss: 1.0000000:  60%|██████    | 6/10 [03:28<02:18, 34.71s/it]\u001b[A\n",
            "Epoch 1, Loss: 1.0000000:  70%|███████   | 7/10 [04:03<01:44, 34.69s/it]\u001b[A\n",
            "Epoch 1, Loss: 1.0000000:  80%|████████  | 8/10 [04:37<01:09, 34.59s/it]\u001b[A\n",
            "Epoch 1, Loss: 1.0000000:  90%|█████████ | 9/10 [05:11<00:34, 34.26s/it]\u001b[A\n",
            "Epoch 1, Loss: 1.0000000: 100%|██████████| 10/10 [05:44<00:00, 34.05s/it]\u001b[A\n",
            "Task   3:  40%|████      | 2/5 [11:49<17:52, 357.56s/it]\n",
            "Epoch 1, Loss: 1.0000000:   0%|          | 0/10 [00:00<?, ?it/s]\u001b[A\n",
            "Epoch 1, Loss: 1.0000000:  10%|█         | 1/10 [00:37<05:38, 37.66s/it]\u001b[A\n",
            "Epoch 1, Loss: 1.0000000:  20%|██        | 2/10 [01:15<05:02, 37.81s/it]\u001b[A\n",
            "Epoch 1, Loss: 1.0000000:  30%|███       | 3/10 [01:53<04:25, 37.86s/it]\u001b[A\n",
            "Epoch 1, Loss: 1.0000000:  40%|████      | 4/10 [02:31<03:46, 37.76s/it]\u001b[A\n",
            "Epoch 1, Loss: 1.0000000:  50%|█████     | 5/10 [03:09<03:09, 37.82s/it]\u001b[A\n",
            "Epoch 1, Loss: 1.0000000:  60%|██████    | 6/10 [03:46<02:30, 37.71s/it]\u001b[A\n",
            "Epoch 1, Loss: 1.0000000:  70%|███████   | 7/10 [04:24<01:53, 37.70s/it]\u001b[A\n",
            "Epoch 1, Loss: 1.0000000:  80%|████████  | 8/10 [05:02<01:15, 37.79s/it]\u001b[A\n",
            "Epoch 1, Loss: 1.0000000:  90%|█████████ | 9/10 [05:39<00:37, 37.79s/it]\u001b[A\n",
            "Epoch 1, Loss: 1.0000000: 100%|██████████| 10/10 [06:17<00:00, 37.65s/it]\u001b[A\n",
            "Task   4:  60%|██████    | 3/5 [18:31<12:35, 377.96s/it]\n",
            "Epoch 1, Loss: 1.0000000:   0%|          | 0/10 [00:00<?, ?it/s]\u001b[A\n",
            "Epoch 1, Loss: 1.0000000:  10%|█         | 1/10 [00:41<06:15, 41.73s/it]\u001b[A\n",
            "Epoch 1, Loss: 1.0000000:  20%|██        | 2/10 [01:23<05:31, 41.46s/it]\u001b[A\n",
            "Epoch 1, Loss: 1.0000000:  30%|███       | 3/10 [02:04<04:49, 41.41s/it]\u001b[A\n",
            "Epoch 1, Loss: 1.0000000:  40%|████      | 4/10 [02:45<04:08, 41.42s/it]\u001b[A\n",
            "Epoch 1, Loss: 1.0000000:  50%|█████     | 5/10 [03:27<03:26, 41.35s/it]\u001b[A\n",
            "Epoch 1, Loss: 1.0000000:  60%|██████    | 6/10 [04:08<02:45, 41.44s/it]\u001b[A\n",
            "Epoch 1, Loss: 1.0000000:  70%|███████   | 7/10 [04:49<02:04, 41.37s/it]\u001b[A\n",
            "Epoch 1, Loss: 1.0000000:  80%|████████  | 8/10 [05:32<01:23, 41.73s/it]\u001b[A\n",
            "Epoch 1, Loss: 1.0000000:  90%|█████████ | 9/10 [06:13<00:41, 41.63s/it]\u001b[A\n",
            "Epoch 1, Loss: 1.0000000: 100%|██████████| 10/10 [06:55<00:00, 41.79s/it]\u001b[A\n",
            "Task   5:  80%|████████  | 4/5 [25:53<06:43, 403.14s/it]\n",
            "Epoch 1, Loss: 1.0000000:   0%|          | 0/10 [00:00<?, ?it/s]\u001b[A\n",
            "Epoch 1, Loss: 1.0000000:  10%|█         | 1/10 [00:45<06:50, 45.59s/it]\u001b[A\n",
            "Epoch 1, Loss: 1.0000000:  20%|██        | 2/10 [01:31<06:06, 45.77s/it]\u001b[A\n",
            "Epoch 1, Loss: 1.0000000:  30%|███       | 3/10 [02:17<05:20, 45.83s/it]\u001b[A\n",
            "Epoch 1, Loss: 1.0000000:  40%|████      | 4/10 [03:02<04:33, 45.64s/it]\u001b[A\n",
            "Epoch 1, Loss: 1.0000000:  50%|█████     | 5/10 [03:47<03:47, 45.46s/it]\u001b[A\n",
            "Epoch 1, Loss: 1.0000000:  60%|██████    | 6/10 [04:33<03:02, 45.57s/it]\u001b[A\n",
            "Epoch 1, Loss: 1.0000000:  70%|███████   | 7/10 [05:19<02:17, 45.72s/it]\u001b[A\n",
            "Epoch 1, Loss: 1.0000000:  80%|████████  | 8/10 [06:05<01:31, 45.85s/it]\u001b[A\n",
            "Epoch 1, Loss: 1.0000000:  90%|█████████ | 9/10 [06:51<00:45, 45.73s/it]\u001b[A\n",
            "Epoch 1, Loss: 1.0000000: 100%|██████████| 10/10 [07:37<00:00, 45.88s/it]\u001b[A\n",
            "Task   6: 100%|██████████| 5/5 [33:55<00:00, 407.17s/it]"
          ]
        },
        {
          "output_type": "stream",
          "name": "stdout",
          "text": [
            "[92.29, 94.59, 95.87, 96.3, 96.82, 97.05, 97.42, 97.5, 97.68, 97.8, 96.19500000000001, 95.61999999999999, 95.61, 95.77, 95.67, 95.59, 95.71000000000001, 95.34499999999998, 95.065, 94.91000000000001, 91.30666666666666, 89.34333333333333, 88.79666666666667, 88.28999999999999, 87.62333333333333, 87.62333333333333, 87.99666666666667, 87.82666666666667, 86.95, 86.98, 82.9125, 81.255, 80.16000000000001, 80.81, 78.915, 79.98, 78.75750000000001, 78.655, 79.1225, 79.75750000000001, 75.396, 74.188, 73.08, 71.738, 72.902, 72.014, 72.99, 72.01799999999999, 71.93799999999999, 71.506]\n",
            "==================================================================================================\n"
          ]
        },
        {
          "output_type": "stream",
          "name": "stderr",
          "text": [
            "\n"
          ]
        }
      ]
    },
    {
      "cell_type": "markdown",
      "source": [
        "### MAS\n",
        "Memory Aware Synapses\n",
        "\n",
        "The mas class applied MAS algorithm to calculate the regularization term.\n",
        "\n",
        "The concept of MAS is similar to EWC, the only difference is the calculation of the important weight.\n",
        "The details are mentioned in the following blocks.\n",
        "\n",
        "MAS:\n",
        "\n",
        "In MAS, the Loss function is shown below, the model learns task A before it learned task B.\n",
        "\n",
        "$$\\mathcal{L}_B = \\mathcal{L}(\\theta) + \\sum_{i} \\frac{\\lambda}{2} \\Omega_i (\\theta_{i} - \\theta_{A,i}^{*})^2$$\n",
        "\n",
        "Compare with EWC, the $F_i$ in the loss function is replaced with $\\Omega_i$ in the following function.\n",
        "\n",
        "$$\\Omega_i = || \\frac{\\partial \\ell_2^2(M(x_k; \\theta))}{\\partial \\theta_i} || $$\n",
        "\n",
        "$x_k$ is the sample data of the previous task. So the $\\Omega$ is obtained gradients of the squared L2-norm of the learned network output.\n",
        "\n",
        "The method proposed in the paper is the local version by taking squared L2-norm outputs from each layer of the model.\n",
        "\n",
        "Here we only want you to implement the global version by taking outputs from the last layer of the model.\n",
        "\n",
        "For Your Information:\n",
        "[Memory Aware Synapses](https://arxiv.org/pdf/1711.09601.pdf)"
      ],
      "metadata": {
        "id": "7OTZLwxrWFbL"
      }
    },
    {
      "cell_type": "code",
      "source": [
        "class mas(object):\n",
        "  \"\"\"\n",
        "  @article{aljundi2017memory,\n",
        "      title={Memory Aware Synapses: Learning what (not) to forget},\n",
        "      author={Aljundi, Rahaf and Babiloni, Francesca and Elhoseiny, Mohamed and Rohrbach, Marcus and Tuytelaars, Tinne},\n",
        "      booktitle={ECCV},\n",
        "      year={2018},\n",
        "      url={https://eccv2018.org/openaccess/content_ECCV_2018/papers/Rahaf_Aljundi_Memory_Aware_Synapses_ECCV_2018_paper.pdf}\n",
        "  }\n",
        "  \"\"\"\n",
        "  def __init__(self, model: nn.Module, dataloader, device, prev_guards=[None]):\n",
        "    self.model = model\n",
        "    self.dataloader = dataloader\n",
        "    # extract all parameters in models\n",
        "    self.params = {n: p for n, p in self.model.named_parameters() if p.requires_grad}\n",
        "\n",
        "    # initialize parameters\n",
        "    self.p_old = {}\n",
        "\n",
        "    self.device = device\n",
        "\n",
        "    # save previous guards\n",
        "    self.previous_guards_list = prev_guards\n",
        "\n",
        "    # generate Omega(Ω) matrix for MAS\n",
        "    self._precision_matrices = self.calculate_importance()\n",
        "\n",
        "    # keep the old parameter in self.p_old\n",
        "    for n, p in self.params.items():\n",
        "      self.p_old[n] = p.clone().detach()\n",
        "\n",
        "  def calculate_importance(self):\n",
        "    precision_matrices = {}\n",
        "    # initialize Omega(Ω) matrix（all filled zero）\n",
        "    for n, p in self.params.items():\n",
        "      precision_matrices[n] = p.clone().detach().fill_(0)\n",
        "      for i in range(len(self.previous_guards_list)):\n",
        "        if self.previous_guards_list[i]:\n",
        "          precision_matrices[n] += self.previous_guards_list[i][n]\n",
        "\n",
        "    self.model.eval()\n",
        "    if self.dataloader is not None:\n",
        "      num_data = len(self.dataloader)\n",
        "      for data in self.dataloader:\n",
        "        self.model.zero_grad()\n",
        "        output = self.model(data[0].to(self.device))\n",
        "        ################################################################\n",
        "        #####  TODO: generate Omega(Ω) matrix for MAS.  #####\n",
        "\n",
        "        l2_norm = output.norm(2, dim=1).pow(2).mean()\n",
        "        l2_norm.backward()\n",
        "        for n, p in self.model.named_parameters():\n",
        "          precision_matrices[n].data += p.grad.data ** 2 / num_data\n",
        "\n",
        "        ################################################################\n",
        "        ################################################################\n",
        "\n",
        "      precision_matrices = {n: p for n, p in precision_matrices.items()}\n",
        "    return precision_matrices\n",
        "\n",
        "  def penalty(self, model: nn.Module):\n",
        "    loss = 0\n",
        "    for n, p in model.named_parameters():\n",
        "      _loss = self._precision_matrices[n] * (p - self.p_old[n]) ** 2\n",
        "      loss += _loss.sum()\n",
        "    return loss\n",
        "\n",
        "  def update(self, model):\n",
        "    # do nothing\n",
        "    return"
      ],
      "metadata": {
        "id": "kg5tuGdDWFbM"
      },
      "execution_count": 14,
      "outputs": []
    },
    {
      "cell_type": "code",
      "source": [
        "# MAS\n",
        "print(\"RUN MAS\")\n",
        "model = Model()\n",
        "model = model.to(device)\n",
        "optimizer = torch.optim.Adam(model.parameters(), lr=args.lr)\n",
        "\n",
        "lll_object=mas(model=model, dataloader=None, device=device)\n",
        "lll_lambda=0.1\n",
        "mas_acc= []\n",
        "task_bar = trange(len(train_dataloaders),desc=\"Task   1\")\n",
        "prev_guards = []\n",
        "\n",
        "for train_indexes in task_bar:\n",
        "  # Train Each Task\n",
        "  model, _, acc_list = train(model, optimizer, train_dataloaders[train_indexes], args.epochs_per_task, lll_object, lll_lambda, evaluate=evaluate,device=device, test_dataloaders=test_dataloaders[:train_indexes+1])\n",
        "\n",
        "  # get model weight and calculate guidance for each weight\n",
        "  prev_guards.append(lll_object._precision_matrices)\n",
        "  lll_object=mas(model=model, dataloader=train_dataloaders[train_indexes], device=device, prev_guards=prev_guards)\n",
        "\n",
        "  # New a Optimizer\n",
        "  optimizer = torch.optim.Adam(model.parameters(), lr=args.lr)\n",
        "\n",
        "  # Collect average accuracy in each epoch\n",
        "  mas_acc.extend(acc_list)\n",
        "  task_bar.set_description_str(f\"Task  {train_indexes+2:2}\")\n",
        "\n",
        "# average accuracy in each task per epoch!\n",
        "print(mas_acc)\n",
        "print(\"==================================================================================================\")"
      ],
      "metadata": {
        "id": "p0d1DUBqWFbM",
        "outputId": "9ad0d191-11f3-43f4-e2e4-d8d46cfa7d0a",
        "colab": {
          "base_uri": "https://localhost:8080/"
        }
      },
      "execution_count": 15,
      "outputs": [
        {
          "output_type": "stream",
          "name": "stdout",
          "text": [
            "RUN MAS\n"
          ]
        },
        {
          "output_type": "stream",
          "name": "stderr",
          "text": [
            "Task   1:   0%|          | 0/5 [00:00<?, ?it/s]\n",
            "Epoch 1, Loss: 1.0000000:   0%|          | 0/10 [00:00<?, ?it/s]\u001b[A\n",
            "Epoch 1, Loss: 1.0000000:  10%|█         | 1/10 [00:29<04:29, 29.90s/it]\u001b[A\n",
            "Epoch 1, Loss: 1.0000000:  20%|██        | 2/10 [00:59<03:57, 29.72s/it]\u001b[A\n",
            "Epoch 1, Loss: 1.0000000:  30%|███       | 3/10 [01:28<03:27, 29.62s/it]\u001b[A\n",
            "Epoch 1, Loss: 1.0000000:  40%|████      | 4/10 [01:59<02:58, 29.79s/it]\u001b[A\n",
            "Epoch 1, Loss: 1.0000000:  50%|█████     | 5/10 [02:28<02:27, 29.57s/it]\u001b[A\n",
            "Epoch 1, Loss: 1.0000000:  60%|██████    | 6/10 [02:58<01:58, 29.67s/it]\u001b[A\n",
            "Epoch 1, Loss: 1.0000000:  70%|███████   | 7/10 [03:27<01:28, 29.61s/it]\u001b[A\n",
            "Epoch 1, Loss: 1.0000000:  80%|████████  | 8/10 [03:57<00:59, 29.68s/it]\u001b[A\n",
            "Epoch 1, Loss: 1.0000000:  90%|█████████ | 9/10 [04:26<00:29, 29.64s/it]\u001b[A\n",
            "Epoch 1, Loss: 1.0000000: 100%|██████████| 10/10 [04:56<00:00, 29.65s/it]\u001b[A\n",
            "Task   2:  20%|██        | 1/5 [05:21<21:27, 321.93s/it]\n",
            "Epoch 1, Loss: 1.0000000:   0%|          | 0/10 [00:00<?, ?it/s]\u001b[A\n",
            "Epoch 1, Loss: 1.0000000:  10%|█         | 1/10 [00:33<05:02, 33.58s/it]\u001b[A\n",
            "Epoch 1, Loss: 1.0000000:  20%|██        | 2/10 [01:07<04:30, 33.81s/it]\u001b[A\n",
            "Epoch 1, Loss: 1.0000000:  30%|███       | 3/10 [01:41<03:56, 33.72s/it]\u001b[A\n",
            "Epoch 1, Loss: 1.0000000:  40%|████      | 4/10 [02:14<03:22, 33.74s/it]\u001b[A\n",
            "Epoch 1, Loss: 1.0000000:  50%|█████     | 5/10 [02:48<02:47, 33.50s/it]\u001b[A\n",
            "Epoch 1, Loss: 1.0000000:  60%|██████    | 6/10 [03:21<02:14, 33.62s/it]\u001b[A\n",
            "Epoch 1, Loss: 1.0000000:  70%|███████   | 7/10 [03:55<01:40, 33.60s/it]\u001b[A\n",
            "Epoch 1, Loss: 1.0000000:  80%|████████  | 8/10 [04:29<01:07, 33.67s/it]\u001b[A\n",
            "Epoch 1, Loss: 1.0000000:  90%|█████████ | 9/10 [05:02<00:33, 33.53s/it]\u001b[A\n",
            "Epoch 1, Loss: 1.0000000: 100%|██████████| 10/10 [05:36<00:00, 33.66s/it]\u001b[A\n",
            "Task   3:  40%|████      | 2/5 [11:23<17:15, 345.07s/it]\n",
            "Epoch 1, Loss: 1.0000000:   0%|          | 0/10 [00:00<?, ?it/s]\u001b[A\n",
            "Epoch 1, Loss: 1.0000000:  10%|█         | 1/10 [00:37<05:39, 37.69s/it]\u001b[A\n",
            "Epoch 1, Loss: 1.0000000:  20%|██        | 2/10 [01:15<05:01, 37.73s/it]\u001b[A\n",
            "Epoch 1, Loss: 1.0000000:  30%|███       | 3/10 [01:53<04:24, 37.78s/it]\u001b[A\n",
            "Epoch 1, Loss: 1.0000000:  40%|████      | 4/10 [02:31<03:47, 37.85s/it]\u001b[A\n",
            "Epoch 1, Loss: 1.0000000:  50%|█████     | 5/10 [03:09<03:09, 37.89s/it]\u001b[A\n",
            "Epoch 1, Loss: 1.0000000:  60%|██████    | 6/10 [03:46<02:30, 37.74s/it]\u001b[A\n",
            "Epoch 1, Loss: 1.0000000:  70%|███████   | 7/10 [04:24<01:53, 37.82s/it]\u001b[A\n",
            "Epoch 1, Loss: 1.0000000:  80%|████████  | 8/10 [05:02<01:15, 37.70s/it]\u001b[A\n",
            "Epoch 1, Loss: 1.0000000:  90%|█████████ | 9/10 [05:39<00:37, 37.74s/it]\u001b[A\n",
            "Epoch 1, Loss: 1.0000000: 100%|██████████| 10/10 [06:17<00:00, 37.74s/it]\u001b[A\n",
            "Task   4:  60%|██████    | 3/5 [18:05<12:22, 371.38s/it]\n",
            "Epoch 1, Loss: 1.0000000:   0%|          | 0/10 [00:00<?, ?it/s]\u001b[A\n",
            "Epoch 1, Loss: 1.0000000:  10%|█         | 1/10 [00:41<06:17, 41.95s/it]\u001b[A\n",
            "Epoch 1, Loss: 1.0000000:  20%|██        | 2/10 [01:23<05:32, 41.56s/it]\u001b[A\n",
            "Epoch 1, Loss: 1.0000000:  30%|███       | 3/10 [02:04<04:50, 41.51s/it]\u001b[A\n",
            "Epoch 1, Loss: 1.0000000:  40%|████      | 4/10 [02:46<04:09, 41.64s/it]\u001b[A\n",
            "Epoch 1, Loss: 1.0000000:  50%|█████     | 5/10 [03:28<03:28, 41.68s/it]\u001b[A\n",
            "Epoch 1, Loss: 1.0000000:  60%|██████    | 6/10 [04:10<02:47, 41.83s/it]\u001b[A\n",
            "Epoch 1, Loss: 1.0000000:  70%|███████   | 7/10 [04:51<02:05, 41.70s/it]\u001b[A\n",
            "Epoch 1, Loss: 1.0000000:  80%|████████  | 8/10 [05:34<01:23, 41.91s/it]\u001b[A\n",
            "Epoch 1, Loss: 1.0000000:  90%|█████████ | 9/10 [06:15<00:41, 41.77s/it]\u001b[A\n",
            "Epoch 1, Loss: 1.0000000: 100%|██████████| 10/10 [06:57<00:00, 41.71s/it]\u001b[A\n",
            "Task   5:  80%|████████  | 4/5 [25:28<06:39, 399.32s/it]\n",
            "Epoch 1, Loss: 1.0000000:   0%|          | 0/10 [00:00<?, ?it/s]\u001b[A\n",
            "Epoch 1, Loss: 1.0000000:  10%|█         | 1/10 [00:47<07:10, 47.87s/it]\u001b[A\n",
            "Epoch 1, Loss: 1.0000000:  20%|██        | 2/10 [01:33<06:14, 46.82s/it]\u001b[A\n",
            "Epoch 1, Loss: 1.0000000:  30%|███       | 3/10 [02:20<05:25, 46.47s/it]\u001b[A\n",
            "Epoch 1, Loss: 1.0000000:  40%|████      | 4/10 [03:05<04:37, 46.19s/it]\u001b[A\n",
            "Epoch 1, Loss: 1.0000000:  50%|█████     | 5/10 [03:51<03:50, 46.02s/it]\u001b[A\n",
            "Epoch 1, Loss: 1.0000000:  60%|██████    | 6/10 [04:37<03:04, 46.16s/it]\u001b[A\n",
            "Epoch 1, Loss: 1.0000000:  70%|███████   | 7/10 [05:24<02:18, 46.30s/it]\u001b[A\n",
            "Epoch 1, Loss: 1.0000000:  80%|████████  | 8/10 [06:11<01:32, 46.37s/it]\u001b[A\n",
            "Epoch 1, Loss: 1.0000000:  90%|█████████ | 9/10 [06:57<00:46, 46.35s/it]\u001b[A\n",
            "Epoch 1, Loss: 1.0000000: 100%|██████████| 10/10 [07:42<00:00, 46.03s/it]\u001b[A\n",
            "Task   6: 100%|██████████| 5/5 [33:35<00:00, 403.07s/it]"
          ]
        },
        {
          "output_type": "stream",
          "name": "stdout",
          "text": [
            "[92.38, 94.55, 95.35, 96.28999999999999, 96.93, 97.00999999999999, 97.36, 97.54, 97.75, 97.82, 95.82, 96.135, 96.56, 95.42999999999999, 96.02999999999999, 96.00500000000001, 96.42500000000001, 96.175, 96.54, 95.795, 91.89, 92.22333333333333, 92.46666666666667, 92.01, 92.07000000000001, 91.94999999999999, 91.16666666666666, 92.27333333333334, 91.77, 92.15, 87.2575, 86.13499999999999, 86.50499999999998, 85.8925, 86.94, 87.255, 86.6225, 86.7825, 86.605, 88.49499999999999, 82.498, 80.946, 83.356, 83.666, 82.65800000000002, 81.89, 80.57600000000001, 82.92999999999999, 79.786, 80.70600000000002]\n",
            "==================================================================================================\n"
          ]
        },
        {
          "output_type": "stream",
          "name": "stderr",
          "text": [
            "\n"
          ]
        }
      ]
    },
    {
      "cell_type": "code",
      "source": [
        "plt.plot(mas_acc, marker='o', linewidth=2, markersize=4, label='mas')\n",
        "plt.legend()\n",
        "plt.savefig('HW14.png', dpi=600)"
      ],
      "metadata": {
        "id": "uR3M1KhzaieW",
        "outputId": "1fb49309-1166-4822-e875-22c13e6ccbf9",
        "colab": {
          "base_uri": "https://localhost:8080/",
          "height": 430
        }
      },
      "execution_count": 22,
      "outputs": [
        {
          "output_type": "display_data",
          "data": {
            "text/plain": [
              "<Figure size 640x480 with 1 Axes>"
            ],
            "image/png": "[encoded data removed]"
          },
          "metadata": {}
        }
      ]
    },
    {
      "cell_type": "markdown",
      "source": [
        "### SI\n",
        "The si class applied SI (Synaptic Intelligence) algorithm to calculate the regularization term."
      ],
      "metadata": {
        "id": "YXgF4OXtWFbM"
      }
    },
    {
      "cell_type": "code",
      "source": [
        "# SI\n",
        "class si(object):\n",
        "  \"\"\"\n",
        "  @article{kirkpatrick2017overcoming,\n",
        "      title={Overcoming catastrophic forgetting in neural networks},\n",
        "      author={Kirkpatrick, James and Pascanu, Razvan and Rabinowitz, Neil and Veness, Joel and Desjardins, Guillaume and Rusu, Andrei A and Milan, Kieran and Quan, John and Ramalho, Tiago and Grabska-Barwinska, Agnieszka and others},\n",
        "      journal={Proceedings of the national academy of sciences},\n",
        "      year={2017},\n",
        "      url={https://arxiv.org/abs/1612.00796}\n",
        "  }\n",
        "  \"\"\"\n",
        "  def __init__(self, model, dataloader, epsilon, device):\n",
        "    self.model = model\n",
        "    self.dataloader = dataloader\n",
        "    self.device = device\n",
        "    self.epsilon = epsilon\n",
        "    # extract all parameters in models\n",
        "    self.params = {n: p for n, p in self.model.named_parameters() if p.requires_grad}\n",
        "\n",
        "    self._n_p_prev, self._n_omega = self._calculate_importance()\n",
        "    self.W, self.p_old = self._init_()\n",
        "\n",
        "\n",
        "  def _init_(self):\n",
        "    W = {}\n",
        "    p_old = {}\n",
        "    for n, p in self.model.named_parameters():\n",
        "      n = n.replace('.', '__')\n",
        "      if p.requires_grad:\n",
        "        W[n] = p.data.clone().zero_()\n",
        "        p_old[n] = p.data.clone()\n",
        "    return W, p_old\n",
        "\n",
        "  def _calculate_importance(self):\n",
        "    n_p_prev = {}\n",
        "    n_omega = {}\n",
        "\n",
        "    if self.dataloader != None:\n",
        "      for n, p in self.model.named_parameters():\n",
        "        n = n.replace('.', '__')\n",
        "        if p.requires_grad:\n",
        "          # Find/calculate new values for quadratic penalty on parameters\n",
        "          p_prev = getattr(self.model, '{}_SI_prev_task'.format(n))\n",
        "          W = getattr(self.model, '{}_W'.format(n))\n",
        "          p_current = p.detach().clone()\n",
        "          p_change = p_current - p_prev\n",
        "          omega_add = W/(p_change**2 + self.epsilon)\n",
        "          try:\n",
        "            omega = getattr(self.model, '{}_SI_omega'.format(n))\n",
        "          except AttributeError:\n",
        "            omega = p.detach().clone().zero_()\n",
        "          omega_new = omega + omega_add\n",
        "          n_omega[n] = omega_new\n",
        "          n_p_prev[n] = p_current\n",
        "\n",
        "          # Store these new values in the model\n",
        "          self.model.register_buffer('{}_SI_prev_task'.format(n), p_current)\n",
        "          self.model.register_buffer('{}_SI_omega'.format(n), omega_new)\n",
        "\n",
        "    else:\n",
        "      for n, p in self.model.named_parameters():\n",
        "        n = n.replace('.', '__')\n",
        "        if p.requires_grad:\n",
        "          n_p_prev[n] = p.detach().clone()\n",
        "          n_omega[n] = p.detach().clone().zero_()\n",
        "          self.model.register_buffer('{}_SI_prev_task'.format(n), p.detach().clone())\n",
        "    return n_p_prev, n_omega\n",
        "\n",
        "  def penalty(self, model: nn.Module):\n",
        "    loss = 0.0\n",
        "    for n, p in model.named_parameters():\n",
        "      n = n.replace('.', '__')\n",
        "      if p.requires_grad:\n",
        "        prev_values = self._n_p_prev[n]\n",
        "        omega = self._n_omega[n]\n",
        "        _loss = omega * (p - prev_values) ** 2\n",
        "        loss += _loss.sum()\n",
        "    return loss\n",
        "\n",
        "  def update(self, model):\n",
        "    for n, p in model.named_parameters():\n",
        "      n = n.replace('.', '__')\n",
        "      if p.requires_grad:\n",
        "        if p.grad is not None:\n",
        "          self.W[n].add_(-p.grad * (p.detach() - self.p_old[n]))\n",
        "          self.model.register_buffer('{}_W'.format(n), self.W[n])\n",
        "        self.p_old[n] = p.detach().clone()\n",
        "    return"
      ],
      "metadata": {
        "id": "BBb0NwlNWFbM"
      },
      "execution_count": null,
      "outputs": []
    },
    {
      "cell_type": "code",
      "source": [
        "# SI\n",
        "print(\"RUN SI\")\n",
        "model = Model()\n",
        "model = model.to(device)\n",
        "optimizer = torch.optim.Adam(model.parameters(), lr=args.lr)\n",
        "\n",
        "lll_object=si(model=model, dataloader=None, epsilon=0.1, device=device)\n",
        "lll_lambda=1\n",
        "si_acc = []\n",
        "task_bar = trange(len(train_dataloaders),desc=\"Task   1\")\n",
        "\n",
        "for train_indexes in task_bar:\n",
        "  # Train Each Task\n",
        "  model, _, acc_list = train(model, optimizer, train_dataloaders[train_indexes], args.epochs_per_task, lll_object, lll_lambda, evaluate=evaluate,device=device, test_dataloaders=test_dataloaders[:train_indexes+1])\n",
        "\n",
        "  # get model weight and calculate guidance for each weight\n",
        "  lll_object=si(model=model, dataloader=train_dataloaders[train_indexes], epsilon=0.1, device=device)\n",
        "\n",
        "  # New a Optimizer\n",
        "  optimizer = torch.optim.Adam(model.parameters(), lr=args.lr)\n",
        "\n",
        "  # Collect average accuracy in each epoch\n",
        "  si_acc.extend(acc_list)\n",
        "  task_bar.set_description_str(f\"Task  {train_indexes+2:2}\")\n",
        "\n",
        "# average accuracy in each task per epoch!\n",
        "print(si_acc)\n",
        "print(\"==================================================================================================\")"
      ],
      "metadata": {
        "id": "cdYo8wuPWFbM"
      },
      "execution_count": null,
      "outputs": []
    },
    {
      "cell_type": "markdown",
      "source": [
        "### RWalk\n",
        "\n",
        "#### Remanian Walk for Incremental Learning\n",
        "\n",
        "The rwalk class applied Remanian Walk algorithm to calculate the regularization term.\n",
        "\n",
        "The details are mentioned in the following blocks."
      ],
      "metadata": {
        "id": "uObzNbO2WFbN"
      }
    },
    {
      "cell_type": "code",
      "source": [
        "class rwalk(object):\n",
        "  def __init__(self, model, dataloader, epsilon, device, prev_guards=[None]):\n",
        "    self.model = model\n",
        "    self.dataloader = dataloader\n",
        "    self.device = device\n",
        "    self.epsilon = epsilon\n",
        "    self.update_ewc_parameter = 0.4\n",
        "    # extract model parameters and store in dictionary\n",
        "    self.params = {n: p for n, p in self.model.named_parameters() if p.requires_grad}\n",
        "\n",
        "    # initialize the guidance matrix\n",
        "    self._means = {}\n",
        "\n",
        "    self.previous_guards_list = prev_guards\n",
        "\n",
        "    # Generate Fisher (F) Information Matrix\n",
        "    self._precision_matrices = self._calculate_importance_ewc()\n",
        "\n",
        "    self._n_p_prev, self._n_omega = self._calculate_importance()\n",
        "    self.W, self.p_old = self._init_()\n",
        "\n",
        "  def _init_(self):\n",
        "    W = {}\n",
        "    p_old = {}\n",
        "    for n, p in self.model.named_parameters():\n",
        "      n = n.replace('.', '__')\n",
        "      if p.requires_grad:\n",
        "        W[n] = p.data.clone().zero_()\n",
        "        p_old[n] = p.data.clone()\n",
        "    return W, p_old\n",
        "\n",
        "  def _calculate_importance(self):\n",
        "    n_p_prev = {}\n",
        "    n_omega = {}\n",
        "\n",
        "    if self.dataloader is not None:\n",
        "      for n, p in self.model.named_parameters():\n",
        "        n = n.replace('.', '__')\n",
        "        if p.requires_grad:\n",
        "          # Find/calculate new values for quadratic penalty on parameters\n",
        "          p_prev = getattr(self.model, '{}_SI_prev_task'.format(n))\n",
        "          W = getattr(self.model, '{}_W'.format(n))\n",
        "          p_current = p.detach().clone()\n",
        "          p_change = p_current - p_prev\n",
        "          omega_add = W / (1.0 / 2.0*self._precision_matrices[n] *p_change**2 + self.epsilon)\n",
        "          try:\n",
        "              omega = getattr(self.model, '{}_SI_omega'.format(n))\n",
        "          except AttributeError:\n",
        "              omega = p.detach().clone().zero_()\n",
        "          omega_new = 0.5 * omega + 0.5 *omega_add\n",
        "          n_omega[n] = omega_new\n",
        "          n_p_prev[n] = p_current\n",
        "\n",
        "          # Store these new values in the model\n",
        "          self.model.register_buffer('{}_SI_prev_task'.format(n), p_current)\n",
        "          self.model.register_buffer('{}_SI_omega'.format(n), omega_new)\n",
        "\n",
        "    else:\n",
        "      for n, p in self.model.named_parameters():\n",
        "        n = n.replace('.', '__')\n",
        "        if p.requires_grad:\n",
        "          n_p_prev[n] = p.detach().clone()\n",
        "          n_omega[n] = p.detach().clone().zero_()\n",
        "          self.model.register_buffer('{}_SI_prev_task'.format(n), p.detach().clone())\n",
        "    return n_p_prev, n_omega\n",
        "\n",
        "  def _calculate_importance_ewc(self):\n",
        "    precision_matrices = {}\n",
        "    for n, p in self.params.items():\n",
        "      # initialize Fisher (F) matrix（all fill zero）\n",
        "      n = n.replace('.', '__')\n",
        "      precision_matrices[n] = p.clone().detach().fill_(0)\n",
        "      for i in range(len(self.previous_guards_list)):\n",
        "        if self.previous_guards_list[i]:\n",
        "          precision_matrices[n] += self.previous_guards_list[i][n]\n",
        "\n",
        "\n",
        "    self.model.eval()\n",
        "    if self.dataloader is not None:\n",
        "      number_data = len(self.dataloader)\n",
        "      for n, p in self.model.named_parameters():\n",
        "        n = n.replace('.', '__')\n",
        "        precision_matrices[n].data *= (1 - self.update_ewc_parameter)\n",
        "      for data in self.dataloader:\n",
        "        self.model.zero_grad()\n",
        "        input = data[0].to(self.device)\n",
        "        output = self.model(input)\n",
        "        label = data[1].to(self.device)\n",
        "\n",
        "        # generate Fisher(F) matrix for RWALK\n",
        "        loss = F.nll_loss(F.log_softmax(output, dim=1), label)\n",
        "        loss.backward()\n",
        "\n",
        "        for n, p in self.model.named_parameters():\n",
        "          n = n.replace('.', '__')\n",
        "          precision_matrices[n].data += self.update_ewc_parameter*p.grad.data ** 2 / number_data\n",
        "\n",
        "      precision_matrices = {n: p for n, p in precision_matrices.items()}\n",
        "    return precision_matrices\n",
        "\n",
        "  def penalty(self, model: nn.Module):\n",
        "    loss = 0.0\n",
        "    for n, p in model.named_parameters():\n",
        "      n = n.replace('.', '__')\n",
        "      if p.requires_grad:\n",
        "        prev_values = self._n_p_prev[n]\n",
        "        omega = self._n_omega[n]\n",
        "        # Generate regularization term  _loss by omega and Fisher Matrix\n",
        "        _loss = (omega + self._precision_matrices[n]) * (p - prev_values) ** 2\n",
        "        loss += _loss.sum()\n",
        "\n",
        "    return loss\n",
        "\n",
        "  def update(self, model):\n",
        "    for n, p in model.named_parameters():\n",
        "      n = n.replace('.', '__')\n",
        "      if p.requires_grad:\n",
        "        if p.grad is not None:\n",
        "          self.W[n].add_(-p.grad * (p.detach() - self.p_old[n]))\n",
        "          self.model.register_buffer('{}_W'.format(n), self.W[n])\n",
        "        self.p_old[n] = p.detach().clone()\n",
        "    return"
      ],
      "metadata": {
        "id": "Cbz6IwNpWFbN"
      },
      "execution_count": null,
      "outputs": []
    },
    {
      "cell_type": "code",
      "source": [
        "# RWalk\n",
        "print(\"RUN Rwalk\")\n",
        "model = Model()\n",
        "model = model.to(device)\n",
        "optimizer = torch.optim.Adam(model.parameters(), lr=args.lr)\n",
        "\n",
        "lll_object=rwalk(model=model, dataloader=None, epsilon=0.1, device=device)\n",
        "lll_lambda=100\n",
        "rwalk_acc = []\n",
        "task_bar = trange(len(train_dataloaders),desc=\"Task   1\")\n",
        "prev_guards = []\n",
        "\n",
        "for train_indexes in task_bar:\n",
        "  model, _, acc_list = train(model, optimizer, train_dataloaders[train_indexes], args.epochs_per_task, lll_object, lll_lambda, evaluate=evaluate,device=device, test_dataloaders=test_dataloaders[:train_indexes+1])\n",
        "  prev_guards.append(lll_object._precision_matrices)\n",
        "  lll_object=rwalk(model=model, dataloader=train_dataloaders[train_indexes], epsilon=0.1, device=device, prev_guards=prev_guards)\n",
        "  optimizer = torch.optim.Adam(model.parameters(), lr=args.lr)\n",
        "  rwalk_acc.extend(acc_list)\n",
        "  task_bar.set_description_str(f\"Task  {train_indexes+2:2}\")\n",
        "\n",
        "# average accuracy in each task per epoch!\n",
        "print(rwalk_acc)\n",
        "print(\"==================================================================================================\")"
      ],
      "metadata": {
        "id": "QrsbxyDQWFbN"
      },
      "execution_count": null,
      "outputs": []
    },
    {
      "cell_type": "markdown",
      "source": [
        "### SCP\n",
        "Sliced Cramer Preservation\n",
        "\n",
        "Pseudo Code:\n",
        "<img src=\"https://i.ibb.co/QJycmNZ/2021-02-18-21-07.png\" width=\"100%\">"
      ],
      "metadata": {
        "id": "wcOnWF1lWFbg"
      }
    },
    {
      "cell_type": "code",
      "source": [
        "def sample_spherical(npoints, ndim=3):\n",
        "  vec = np.random.randn(ndim, npoints)\n",
        "  vec /= np.linalg.norm(vec, axis=0)\n",
        "  return torch.from_numpy(vec)\n",
        "\n",
        "class scp(object):\n",
        "  \"\"\"\n",
        "  OPEN REVIEW VERSION:\n",
        "  https://openreview.net/forum?id=BJge3TNKwH\n",
        "  \"\"\"\n",
        "  def __init__(self, model: nn.Module, dataloader, L: int, device, prev_guards=[None]):\n",
        "    self.model = model\n",
        "    self.dataloader = dataloader\n",
        "    self.params = {n: p for n, p in self.model.named_parameters() if p.requires_grad}\n",
        "    self._state_parameters = {}\n",
        "    self.L= L\n",
        "    self.device = device\n",
        "    self.previous_guards_list = prev_guards\n",
        "    self._precision_matrices = self.calculate_importance()\n",
        "    for n, p in self.params.items():\n",
        "      self._state_parameters[n] = p.clone().detach()\n",
        "\n",
        "  def calculate_importance(self):\n",
        "    precision_matrices = {}\n",
        "    for n, p in self.params.items():\n",
        "      precision_matrices[n] = p.clone().detach().fill_(0)\n",
        "      for i in range(len(self.previous_guards_list)):\n",
        "        if self.previous_guards_list[i]:\n",
        "          precision_matrices[n] += self.previous_guards_list[i][n]\n",
        "\n",
        "    self.model.eval()\n",
        "    if self.dataloader is not None:\n",
        "      num_data = len(self.dataloader)\n",
        "      for data in self.dataloader:\n",
        "        self.model.zero_grad()\n",
        "        output = self.model(data[0].to(self.device))\n",
        "\n",
        "        mean_vec = output.mean(dim=0)\n",
        "\n",
        "        L_vectors = sample_spherical(self.L, output.shape[-1])\n",
        "        L_vectors = L_vectors.transpose(1,0).to(self.device).float()\n",
        "\n",
        "        total_scalar = 0\n",
        "        for vec in L_vectors:\n",
        "          scalar=torch.matmul(vec, mean_vec)\n",
        "          total_scalar += scalar\n",
        "        total_scalar /= L_vectors.shape[0]\n",
        "        total_scalar.backward()\n",
        "\n",
        "        for n, p in self.model.named_parameters():\n",
        "          precision_matrices[n].data += p.grad**2 / num_data\n",
        "\n",
        "    precision_matrices = {n: p for n, p in precision_matrices.items()}\n",
        "    return precision_matrices\n",
        "\n",
        "  def penalty(self, model: nn.Module):\n",
        "    loss = 0\n",
        "    for n, p in model.named_parameters():\n",
        "      _loss = self._precision_matrices[n] * (p - self._state_parameters[n]) ** 2\n",
        "      loss += _loss.sum()\n",
        "    return loss\n",
        "\n",
        "  def update(self, model):\n",
        "    # do nothing\n",
        "    return"
      ],
      "metadata": {
        "id": "jg_foxDpWFbg"
      },
      "execution_count": null,
      "outputs": []
    },
    {
      "cell_type": "code",
      "source": [
        "# SCP\n",
        "print(\"RUN SLICE CRAMER PRESERVATION\")\n",
        "model = Model()\n",
        "model = model.to(device)\n",
        "optimizer = torch.optim.Adam(model.parameters(), lr=args.lr)\n",
        "\n",
        "lll_object=scp(model=model, dataloader=None, L=100, device=device)\n",
        "lll_lambda=100\n",
        "scp_acc= []\n",
        "task_bar = trange(len(train_dataloaders),desc=\"Task   1\")\n",
        "prev_guards = []\n",
        "\n",
        "for train_indexes in task_bar:\n",
        "  model, _, acc_list = train(model, optimizer, train_dataloaders[train_indexes], args.epochs_per_task, lll_object, lll_lambda, evaluate=evaluate,device=device, test_dataloaders=test_dataloaders[:train_indexes+1])\n",
        "  prev_guards.append(lll_object._precision_matrices)\n",
        "  lll_object=scp(model=model, dataloader=train_dataloaders[train_indexes], L=100, device=device, prev_guards=prev_guards)\n",
        "  optimizer = torch.optim.Adam(model.parameters(), lr=args.lr)\n",
        "  scp_acc.extend(acc_list)\n",
        "  task_bar.set_description_str(f\"Task  {train_indexes+2:2}\")\n",
        "\n",
        "# average accuracy in each task per epoch!\n",
        "print(scp_acc)\n",
        "print(\"==================================================================================================\")"
      ],
      "metadata": {
        "id": "3FIQm7F3WFbg"
      },
      "execution_count": null,
      "outputs": []
    },
    {
      "cell_type": "markdown",
      "source": [
        "# Plot function"
      ],
      "metadata": {
        "id": "h_BaIfqZWFbg"
      }
    },
    {
      "cell_type": "code",
      "source": [
        "import matplotlib.pyplot as plt\n",
        "def draw_acc(acc_list, label_list):\n",
        "  for acc, label in zip(acc_list, label_list):\n",
        "    plt.plot(acc, marker='o', ls='--', lw=2, markersize=4, label=label)\n",
        "    plt.legend()\n",
        "  plt.savefig('acc_summary.png')\n",
        "  plt.show()\n",
        "\n",
        "acc_list = [baseline_acc, ewc_acc, mas_acc, si_acc, rwalk_acc, scp_acc]\n",
        "label_list = ['baseline', 'EWC', 'MAS', 'SI', 'RWALK', 'SCP']\n",
        "draw_acc(acc_list, label_list)"
      ],
      "metadata": {
        "id": "WO0fR_drWFbg"
      },
      "execution_count": null,
      "outputs": []
    }
  ]
}