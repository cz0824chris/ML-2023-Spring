{
 "cells": [
  {
   "cell_type": "code",
   "execution_count": 25,
   "metadata": {},
   "outputs": [
    {
     "name": "stderr",
     "output_type": "stream",
     "text": [
      "'wget' ���O�����Υ~���R�O�B�i���檺�{���Χ妸�ɡC\n",
      "'wget' ���O�����Υ~���R�O�B�i���檺�{���Χ妸�ɡC\n",
      "'wget' ���O�����Υ~���R�O�B�i���檺�{���Χ妸�ɡC\n",
      "'wget' ���O�����Υ~���R�O�B�i���檺�{���Χ妸�ɡC\n",
      "'cat' ���O�����Υ~���R�O�B�i���檺�{���Χ妸�ɡC\n",
      "'rm' ���O�����Υ~���R�O�B�i���檺�{���Χ妸�ɡC\n",
      "'rm' ���O�����Υ~���R�O�B�i���檺�{���Χ妸�ɡC\n",
      "'rm' ���O�����Υ~���R�O�B�i���檺�{���Χ妸�ɡC\n",
      "'rm' ���O�����Υ~���R�O�B�i���檺�{���Χ妸�ɡC\n",
      "'rm' ���O�����Υ~���R�O�B�i���檺�{���Χ妸�ɡC\n"
     ]
    }
   ],
   "source": [
    "!wget https://github.com/googly-mingto/ML2023HW4/releases/download/data/Dataset.tar.gz.partaa\n",
    "!wget https://github.com/googly-mingto/ML2023HW4/releases/download/data/Dataset.tar.gz.partab\n",
    "!wget https://github.com/googly-mingto/ML2023HW4/releases/download/data/Dataset.tar.gz.partac\n",
    "!wget https://github.com/googly-mingto/ML2023HW4/releases/download/data/Dataset.tar.gz.partad\n",
    "\n",
    "!cat Dataset.tar.gz.part* > Dataset.tar.gz\n",
    "!rm Dataset.tar.gz.partaa\n",
    "!rm Dataset.tar.gz.partab\n",
    "!rm Dataset.tar.gz.partac\n",
    "!rm Dataset.tar.gz.partad\n",
    "# unzip the file\n",
    "!tar zxf Dataset.tar.gz\n",
    "!rm Dataset.tar.gz"
   ]
  },
  {
   "cell_type": "code",
   "execution_count": 24,
   "metadata": {},
   "outputs": [],
   "source": [
    "!tar zxf Dataset.tar.gz"
   ]
  },
  {
   "cell_type": "code",
   "execution_count": 1,
   "metadata": {
    "_cell_guid": "b1076dfc-b9ad-4769-8c92-a6c4dae69d19",
    "_uuid": "8f2839f25d086af736a60e9eeb907d3b93b6e0e5",
    "execution": {
     "iopub.execute_input": "2023-03-23T06:15:55.120046Z",
     "iopub.status.busy": "2023-03-23T06:15:55.119426Z",
     "iopub.status.idle": "2023-03-23T06:15:55.130009Z",
     "shell.execute_reply": "2023-03-23T06:15:55.128674Z",
     "shell.execute_reply.started": "2023-03-23T06:15:55.120006Z"
    }
   },
   "outputs": [],
   "source": [
    "import numpy as np\n",
    "import torch\n",
    "import random\n",
    "\n",
    "def set_seed(seed):\n",
    "    np.random.seed(seed)\n",
    "    random.seed(seed)\n",
    "    torch.manual_seed(seed)\n",
    "    if torch.cuda.is_available():\n",
    "        torch.cuda.manual_seed(seed)\n",
    "        torch.cuda.manual_seed_all(seed)\n",
    "    torch.backends.cudnn.benchmark = False\n",
    "    torch.backends.cudnn.deterministic = True\n",
    "\n",
    "set_seed(24)"
   ]
  },
  {
   "cell_type": "code",
   "execution_count": 2,
   "metadata": {
    "execution": {
     "iopub.execute_input": "2023-03-23T06:15:55.133239Z",
     "iopub.status.busy": "2023-03-23T06:15:55.132774Z",
     "iopub.status.idle": "2023-03-23T06:15:55.147046Z",
     "shell.execute_reply": "2023-03-23T06:15:55.145713Z",
     "shell.execute_reply.started": "2023-03-23T06:15:55.133198Z"
    }
   },
   "outputs": [],
   "source": [
    "import os\n",
    "import json\n",
    "import torch\n",
    "import random\n",
    "from pathlib import Path\n",
    "from torch.utils.data import Dataset\n",
    "from torch.nn.utils.rnn import pad_sequence\n",
    " \n",
    " \n",
    "class myDataset(Dataset):\n",
    "\tdef __init__(self, data_dir, segment_len=128):\n",
    "\t\tself.data_dir = data_dir\n",
    "\t\tself.segment_len = segment_len\n",
    "\t\n",
    "\t\t# Load the mapping from speaker neme to their corresponding id. \n",
    "\t\tmapping_path = Path(data_dir) / \"mapping.json\"\n",
    "\t\tmapping = json.load(mapping_path.open())\n",
    "\t\tself.speaker2id = mapping[\"speaker2id\"]\n",
    "\t\n",
    "\t\t# Load metadata of training data.\n",
    "\t\tmetadata_path = Path(data_dir) / \"metadata.json\"\n",
    "\t\tmetadata = json.load(open(metadata_path))[\"speakers\"]\n",
    "\t\n",
    "\t\t# Get the total number of speaker.\n",
    "\t\tself.speaker_num = len(metadata.keys())\n",
    "\t\tself.data = []\n",
    "\t\tfor speaker in metadata.keys():\n",
    "\t\t\tfor utterances in metadata[speaker]:\n",
    "\t\t\t\tself.data.append([utterances[\"feature_path\"], self.speaker2id[speaker]])\n",
    " \n",
    "\tdef __len__(self):\n",
    "\t\t\treturn len(self.data)\n",
    " \n",
    "\tdef __getitem__(self, index):\n",
    "\t\tfeat_path, speaker = self.data[index]\n",
    "\t\t# Load preprocessed mel-spectrogram.\n",
    "\t\tmel = torch.load(os.path.join(self.data_dir, feat_path))\n",
    "\n",
    "\t\t# Segmemt mel-spectrogram into \"segment_len\" frames.\n",
    "\t\tif len(mel) > self.segment_len:\n",
    "\t\t\t# Randomly get the starting point of the segment.\n",
    "\t\t\tstart = random.randint(0, len(mel) - self.segment_len)\n",
    "\t\t\t# Get a segment with \"segment_len\" frames.\n",
    "\t\t\tmel = torch.FloatTensor(mel[start:start+self.segment_len])\n",
    "\t\telse:\n",
    "\t\t\tmel = torch.FloatTensor(mel)\n",
    "\t\t# Turn the speaker id into long for computing loss later.\n",
    "\t\tspeaker = torch.FloatTensor([speaker]).long()\n",
    "\t\treturn mel, speaker\n",
    " \n",
    "\tdef get_speaker_number(self):\n",
    "\t\treturn self.speaker_num"
   ]
  },
  {
   "cell_type": "code",
   "execution_count": 3,
   "metadata": {
    "execution": {
     "iopub.execute_input": "2023-03-23T06:15:55.148998Z",
     "iopub.status.busy": "2023-03-23T06:15:55.148529Z",
     "iopub.status.idle": "2023-03-23T06:15:55.160958Z",
     "shell.execute_reply": "2023-03-23T06:15:55.159853Z",
     "shell.execute_reply.started": "2023-03-23T06:15:55.148959Z"
    }
   },
   "outputs": [],
   "source": [
    "import torch\n",
    "from torch.utils.data import DataLoader, random_split\n",
    "from torch.nn.utils.rnn import pad_sequence\n",
    "\n",
    "\n",
    "def collate_batch(batch):\n",
    "\t# Process features within a batch.\n",
    "\t\"\"\"Collate a batch of data.\"\"\"\n",
    "\tmel, speaker = zip(*batch)\n",
    "\t# Because we train the model batch by batch, we need to pad the features in the same batch to make their lengths the same.\n",
    "\tmel = pad_sequence(mel, batch_first=True, padding_value=-20)    # pad log 10^(-20) which is very small value.\n",
    "\t# mel: (batch size, length, 40)\n",
    "\treturn mel, torch.FloatTensor(speaker).long()\n",
    "\n",
    "\n",
    "def get_dataloader(data_dir, batch_size, n_workers):\n",
    "\t\"\"\"Generate dataloader\"\"\"\n",
    "\tdataset = myDataset(data_dir)\n",
    "\tspeaker_num = dataset.get_speaker_number()\n",
    "\t# Split dataset into training dataset and validation dataset\n",
    "\ttrainlen = int(0.9 * len(dataset))\n",
    "\tlengths = [trainlen, len(dataset) - trainlen]\n",
    "\ttrainset, validset = random_split(dataset, lengths)\n",
    "\n",
    "\ttrain_loader = DataLoader(\n",
    "\t\ttrainset,\n",
    "\t\tbatch_size=batch_size,\n",
    "\t\tshuffle=True,\n",
    "\t\tdrop_last=True,\n",
    "\t\tnum_workers=n_workers,\n",
    "\t\tpin_memory=True,\n",
    "\t\tcollate_fn=collate_batch,\n",
    "\t)\n",
    "\tvalid_loader = DataLoader(\n",
    "\t\tvalidset,\n",
    "\t\tbatch_size=batch_size,\n",
    "\t\tnum_workers=n_workers,\n",
    "\t\tdrop_last=True,\n",
    "\t\tpin_memory=True,\n",
    "\t\tcollate_fn=collate_batch,\n",
    "\t)\n",
    "\n",
    "\treturn train_loader, valid_loader, speaker_num"
   ]
  },
  {
   "cell_type": "code",
   "execution_count": 4,
   "metadata": {
    "execution": {
     "iopub.execute_input": "2023-03-23T06:15:55.164751Z",
     "iopub.status.busy": "2023-03-23T06:15:55.164278Z",
     "iopub.status.idle": "2023-03-23T06:16:06.194651Z",
     "shell.execute_reply": "2023-03-23T06:16:06.193429Z",
     "shell.execute_reply.started": "2023-03-23T06:15:55.164711Z"
    }
   },
   "outputs": [
    {
     "name": "stdout",
     "output_type": "stream",
     "text": [
      "Requirement already satisfied: conformer in c:\\users\\user\\anaconda3\\envs\\pytorch-gpu\\lib\\site-packages (0.2.5)\n",
      "Requirement already satisfied: einops in c:\\users\\user\\anaconda3\\envs\\pytorch-gpu\\lib\\site-packages (from conformer) (0.6.0)\n",
      "Requirement already satisfied: torch in c:\\users\\user\\anaconda3\\envs\\pytorch-gpu\\lib\\site-packages (from conformer) (1.13.1)\n",
      "Requirement already satisfied: typing_extensions in c:\\users\\user\\anaconda3\\envs\\pytorch-gpu\\lib\\site-packages (from torch->conformer) (4.3.0)\n"
     ]
    },
    {
     "name": "stderr",
     "output_type": "stream",
     "text": [
      "\n",
      "[notice] A new release of pip is available: 23.0 -> 23.0.1\n",
      "[notice] To update, run: python.exe -m pip install --upgrade pip\n"
     ]
    }
   ],
   "source": [
    "#參考網站:https://github.com/lucidrains/conformer?utm_source=catalyzex.com\n",
    "!pip install conformer\n",
    "from conformer import ConformerBlock"
   ]
  },
  {
   "cell_type": "code",
   "execution_count": 97,
   "metadata": {
    "execution": {
     "iopub.execute_input": "2023-03-23T06:16:06.197386Z",
     "iopub.status.busy": "2023-03-23T06:16:06.196986Z",
     "iopub.status.idle": "2023-03-23T06:16:06.208238Z",
     "shell.execute_reply": "2023-03-23T06:16:06.206746Z",
     "shell.execute_reply.started": "2023-03-23T06:16:06.197344Z"
    }
   },
   "outputs": [],
   "source": [
    "#參考網站:https://github.com/lucidrains/conformer?utm_source=catalyzex.com\n",
    "import torch\n",
    "import torch.nn as nn\n",
    "import torch.nn.functional as F\n",
    "\n",
    "\n",
    "class Classifier(nn.Module):\n",
    "\tdef __init__(self, d_model=350, n_spks=600, dropout=0.25): #350 0.25\n",
    "\t\tsuper().__init__()\n",
    "\t\t# Project the dimension of features from that of input into d_model.\n",
    "\t\tself.prenet = nn.Linear(40, d_model)\n",
    "\t\t# TODO:\n",
    "\t\t#   Change Transformer to Conformer.\n",
    "\t\t#   https://arxiv.org/abs/2005.08100\n",
    "\t\t# self.encoder_layer = nn.TransformerEncoderLayer(\n",
    "\t\t# \td_model=d_model, dim_feedforward=256, nhead=2\n",
    "\t\t# )\n",
    "\t\tself.encoder_layer = ConformerBlock(\n",
    "        dim = d_model,\n",
    "        dim_head = 4, #4\n",
    "        heads =5 ,#5 0.8944 \n",
    "        ff_mult = 8, #0.8981\n",
    "#         ff_mult = 6,\n",
    "        conv_expansion_factor = 4,#2\n",
    "        conv_kernel_size = 24,\n",
    "        attn_dropout = dropout,\n",
    "        ff_dropout = dropout,\n",
    "        conv_dropout = dropout\n",
    "    )\n",
    "\t\t# self.encoder = nn.TransformerEncoder(self.encoder_layer, num_layers=2)\n",
    "\n",
    "\t\t# Project the the dimension of features from d_model into speaker nums.\n",
    "# \t\tself.pred_layer = nn.Sequential(\n",
    "# \t\t\tnn.Linear(d_model, d_model),\n",
    "# \t\t\tnn.Sigmoid(),\n",
    "# \t\t\tnn.Linear(d_model, n_spks),\n",
    "\t\t\t\n",
    "# \t\t)\n",
    "\t\tself.pred_layer = nn.Sequential(\n",
    "            nn.LeakyReLU(), #0.8931\n",
    "            nn.BatchNorm1d(d_model),\n",
    "            #nn.LeakyReLU(), #0.8874\n",
    "            nn.Linear(d_model, n_spks),\n",
    "        )\n",
    "\tdef forward(self, mels):\n",
    "\t\t\"\"\"\n",
    "\t\targs:\n",
    "\t\t\tmels: (batch size, length, 40)\n",
    "\t\treturn:\n",
    "\t\t\tout: (batch size, n_spks)\n",
    "\t\t\"\"\"\n",
    "\t\t# out: (batch size, length, d_model)\n",
    "\t\tout = self.prenet(mels)\n",
    "\t\t# out: (length, batch size, d_model)\n",
    "\t\tout = out.permute(1, 0, 2)\n",
    "\t\t# The encoder layer expect features in the shape of (length, batch size, d_model).\n",
    "\t\tout = self.encoder_layer(out)\n",
    "\t\t# out: (batch size, length, d_model)\n",
    "\t\tout = out.transpose(0, 1)\n",
    "\t\t# mean pooling\n",
    "\t\tstats = out.mean(dim=1)\n",
    "\n",
    "\t\t# out: (batch, n_spks)\n",
    "\t\tout = self.pred_layer(stats)\n",
    "\t\treturn out"
   ]
  },
  {
   "cell_type": "code",
   "execution_count": 98,
   "metadata": {
    "execution": {
     "iopub.execute_input": "2023-03-23T06:16:06.210873Z",
     "iopub.status.busy": "2023-03-23T06:16:06.209493Z",
     "iopub.status.idle": "2023-03-23T06:16:06.225718Z",
     "shell.execute_reply": "2023-03-23T06:16:06.224496Z",
     "shell.execute_reply.started": "2023-03-23T06:16:06.210829Z"
    }
   },
   "outputs": [],
   "source": [
    "import math\n",
    "\n",
    "import torch\n",
    "from torch.optim import Optimizer\n",
    "from torch.optim.lr_scheduler import LambdaLR\n",
    "\n",
    "\n",
    "def get_cosine_schedule_with_warmup(\n",
    "\toptimizer: Optimizer,\n",
    "\tnum_warmup_steps: int,\n",
    "\tnum_training_steps: int,\n",
    "\tnum_cycles: float = 0.5,\n",
    "\tlast_epoch: int = -1,\n",
    "):\n",
    "\t\"\"\"\n",
    "\tCreate a schedule with a learning rate that decreases following the values of the cosine function between the\n",
    "\tinitial lr set in the optimizer to 0, after a warmup period during which it increases linearly between 0 and the\n",
    "\tinitial lr set in the optimizer.\n",
    "\n",
    "\tArgs:\n",
    "\t\toptimizer (:class:`~torch.optim.Optimizer`):\n",
    "\t\tThe optimizer for which to schedule the learning rate.\n",
    "\t\tnum_warmup_steps (:obj:`int`):\n",
    "\t\tThe number of steps for the warmup phase.\n",
    "\t\tnum_training_steps (:obj:`int`):\n",
    "\t\tThe total number of training steps.\n",
    "\t\tnum_cycles (:obj:`float`, `optional`, defaults to 0.5):\n",
    "\t\tThe number of waves in the cosine schedule (the defaults is to just decrease from the max value to 0\n",
    "\t\tfollowing a half-cosine).\n",
    "\t\tlast_epoch (:obj:`int`, `optional`, defaults to -1):\n",
    "\t\tThe index of the last epoch when resuming training.\n",
    "\n",
    "\tReturn:\n",
    "\t\t:obj:`torch.optim.lr_scheduler.LambdaLR` with the appropriate schedule.\n",
    "\t\"\"\"\n",
    "\tdef lr_lambda(current_step):\n",
    "\t\t# Warmup\n",
    "\t\tif current_step < num_warmup_steps:\n",
    "\t\t\treturn float(current_step) / float(max(1, num_warmup_steps))\n",
    "\t\t# decadence\n",
    "\t\tprogress = float(current_step - num_warmup_steps) / float(\n",
    "\t\t\tmax(1, num_training_steps - num_warmup_steps)\n",
    "\t\t)\n",
    "\t\treturn max(\n",
    "\t\t\t0.0, 0.5 * (1.0 + math.cos(math.pi * float(num_cycles) * 2.0 * progress))\n",
    "\t\t)\n",
    "\n",
    "\treturn LambdaLR(optimizer, lr_lambda, last_epoch)"
   ]
  },
  {
   "cell_type": "code",
   "execution_count": 99,
   "metadata": {
    "execution": {
     "iopub.execute_input": "2023-03-23T06:16:06.229926Z",
     "iopub.status.busy": "2023-03-23T06:16:06.229422Z",
     "iopub.status.idle": "2023-03-23T06:16:06.238028Z",
     "shell.execute_reply": "2023-03-23T06:16:06.236703Z",
     "shell.execute_reply.started": "2023-03-23T06:16:06.229870Z"
    }
   },
   "outputs": [],
   "source": [
    "import torch\n",
    "\n",
    "\n",
    "def model_fn(batch, model, criterion, device):\n",
    "\t\"\"\"Forward a batch through the model.\"\"\"\n",
    "\n",
    "\tmels, labels = batch\n",
    "\tmels = mels.to(device)\n",
    "\tlabels = labels.to(device)\n",
    "\n",
    "\touts = model(mels)\n",
    "\n",
    "\tloss = criterion(outs, labels)\n",
    "\n",
    "\t# Get the speaker id with highest probability.\n",
    "\tpreds = outs.argmax(1)\n",
    "\t# Compute accuracy.\n",
    "\taccuracy = torch.mean((preds == labels).float())\n",
    "\n",
    "\treturn loss, accuracy"
   ]
  },
  {
   "cell_type": "code",
   "execution_count": 100,
   "metadata": {
    "execution": {
     "iopub.execute_input": "2023-03-23T06:16:06.240764Z",
     "iopub.status.busy": "2023-03-23T06:16:06.240260Z",
     "iopub.status.idle": "2023-03-23T06:16:06.250397Z",
     "shell.execute_reply": "2023-03-23T06:16:06.249031Z",
     "shell.execute_reply.started": "2023-03-23T06:16:06.240723Z"
    }
   },
   "outputs": [],
   "source": [
    "from tqdm import tqdm\n",
    "import torch\n",
    "\n",
    "\n",
    "def valid(dataloader, model, criterion, device): \n",
    "\t\"\"\"Validate on validation set.\"\"\"\n",
    "\n",
    "\tmodel.eval()\n",
    "\trunning_loss = 0.0\n",
    "\trunning_accuracy = 0.0\n",
    "\tpbar = tqdm(total=len(dataloader.dataset), ncols=0, desc=\"Valid\", unit=\" uttr\")\n",
    "\n",
    "\tfor i, batch in enumerate(dataloader):\n",
    "\t\twith torch.no_grad():\n",
    "\t\t\tloss, accuracy = model_fn(batch, model, criterion, device)\n",
    "\t\t\trunning_loss += loss.item()\n",
    "\t\t\trunning_accuracy += accuracy.item()\n",
    "\n",
    "\t\tpbar.update(dataloader.batch_size)\n",
    "\t\tpbar.set_postfix(\n",
    "\t\t\tloss=f\"{running_loss / (i+1):.2f}\",\n",
    "\t\t\taccuracy=f\"{running_accuracy / (i+1):.2f}\",\n",
    "\t\t)\n",
    "\n",
    "\tpbar.close()\n",
    "\tmodel.train()\n",
    "\n",
    "\treturn running_accuracy / len(dataloader)"
   ]
  },
  {
   "cell_type": "code",
   "execution_count": 101,
   "metadata": {
    "execution": {
     "iopub.execute_input": "2023-03-23T06:16:06.252773Z",
     "iopub.status.busy": "2023-03-23T06:16:06.252077Z",
     "iopub.status.idle": "2023-03-23T09:31:19.942232Z",
     "shell.execute_reply": "2023-03-23T09:31:19.941055Z",
     "shell.execute_reply.started": "2023-03-23T06:16:06.252729Z"
    }
   },
   "outputs": [
    {
     "name": "stdout",
     "output_type": "stream",
     "text": [
      "[Info]: Use cuda now!\n",
      "[Info]: Finish loading data!\n",
      "[Info]: Finish creating model!\n"
     ]
    },
    {
     "name": "stderr",
     "output_type": "stream",
     "text": [
      "Train: 100% 2000/2000 [01:38<00:00, 20.30 step/s, accuracy=0.48, loss=2.32, step=2000]\n",
      "Valid:  99% 5632/5667 [00:02<00:00, 1966.95 uttr/s, accuracy=0.42, loss=2.70]\n",
      "Train: 100% 2000/2000 [01:36<00:00, 20.64 step/s, accuracy=0.69, loss=1.07, step=4000]\n",
      "Valid:  99% 5632/5667 [00:02<00:00, 2166.96 uttr/s, accuracy=0.62, loss=1.73]\n",
      "Train: 100% 2000/2000 [01:37<00:00, 20.53 step/s, accuracy=0.69, loss=1.03, step=6000]\n",
      "Valid:  99% 5632/5667 [00:02<00:00, 2213.68 uttr/s, accuracy=0.67, loss=1.45]\n",
      "Train: 100% 2000/2000 [01:36<00:00, 20.69 step/s, accuracy=0.86, loss=0.53, step=8000]\n",
      "Valid:  99% 5632/5667 [00:02<00:00, 2193.05 uttr/s, accuracy=0.73, loss=1.27]\n",
      "Train: 100% 2000/2000 [01:37<00:00, 20.60 step/s, accuracy=0.77, loss=0.90, step=1e+4]\n",
      "Valid:  99% 5632/5667 [00:02<00:00, 2180.35 uttr/s, accuracy=0.72, loss=1.30]\n",
      "Train:   0% 3/2000 [00:00<02:04, 16.04 step/s, accuracy=0.84, loss=0.69, step=1e+4]"
     ]
    },
    {
     "name": "stdout",
     "output_type": "stream",
     "text": [
      "Step 10000, best model saved. (accuracy=0.7280)\n"
     ]
    },
    {
     "name": "stderr",
     "output_type": "stream",
     "text": [
      "Train: 100% 2000/2000 [01:36<00:00, 20.64 step/s, accuracy=0.89, loss=0.56, step=12000]\n",
      "Valid:  99% 5632/5667 [00:02<00:00, 2205.90 uttr/s, accuracy=0.75, loss=1.16]\n",
      "Train: 100% 2000/2000 [01:36<00:00, 20.67 step/s, accuracy=0.89, loss=0.34, step=14000]\n",
      "Valid:  99% 5632/5667 [00:02<00:00, 2196.46 uttr/s, accuracy=0.76, loss=1.19]\n",
      "Train: 100% 2000/2000 [01:36<00:00, 20.63 step/s, accuracy=0.94, loss=0.17, step=16000]\n",
      "Valid:  99% 5632/5667 [00:02<00:00, 2205.90 uttr/s, accuracy=0.77, loss=1.18]\n",
      "Train: 100% 2000/2000 [01:36<00:00, 20.62 step/s, accuracy=0.94, loss=0.14, step=18000]\n",
      "Valid:  99% 5632/5667 [00:02<00:00, 2186.26 uttr/s, accuracy=0.77, loss=1.19]\n",
      "Train: 100% 2000/2000 [01:36<00:00, 20.64 step/s, accuracy=0.94, loss=0.24, step=2e+4] \n",
      "Valid:  99% 5632/5667 [00:02<00:00, 2211.08 uttr/s, accuracy=0.78, loss=1.17]\n",
      "Train:   0% 3/2000 [00:00<02:06, 15.79 step/s, accuracy=0.94, loss=0.20, step=2e+4]"
     ]
    },
    {
     "name": "stdout",
     "output_type": "stream",
     "text": [
      "Step 20000, best model saved. (accuracy=0.7793)\n"
     ]
    },
    {
     "name": "stderr",
     "output_type": "stream",
     "text": [
      "Train: 100% 2000/2000 [01:36<00:00, 20.64 step/s, accuracy=0.88, loss=0.29, step=22000]\n",
      "Valid:  99% 5632/5667 [00:02<00:00, 2192.20 uttr/s, accuracy=0.79, loss=1.16]\n",
      "Train: 100% 2000/2000 [01:36<00:00, 20.63 step/s, accuracy=0.94, loss=0.17, step=24000]\n",
      "Valid:  99% 5632/5667 [00:02<00:00, 2209.36 uttr/s, accuracy=0.78, loss=1.27]\n",
      "Train: 100% 2000/2000 [01:36<00:00, 20.63 step/s, accuracy=0.92, loss=0.39, step=26000]\n",
      "Valid:  99% 5632/5667 [00:02<00:00, 2187.11 uttr/s, accuracy=0.79, loss=1.17]\n",
      "Train: 100% 2000/2000 [01:37<00:00, 20.51 step/s, accuracy=0.97, loss=0.16, step=28000]\n",
      "Valid:  99% 5632/5667 [00:02<00:00, 2188.80 uttr/s, accuracy=0.80, loss=1.11]\n",
      "Train: 100% 2000/2000 [01:37<00:00, 20.45 step/s, accuracy=0.95, loss=0.15, step=3e+4] \n",
      "Valid:  99% 5632/5667 [00:02<00:00, 2182.04 uttr/s, accuracy=0.81, loss=1.10]\n",
      "Train:   0% 4/2000 [00:00<02:02, 16.30 step/s, accuracy=0.92, loss=0.33, step=3e+4]"
     ]
    },
    {
     "name": "stdout",
     "output_type": "stream",
     "text": [
      "Step 30000, best model saved. (accuracy=0.8109)\n"
     ]
    },
    {
     "name": "stderr",
     "output_type": "stream",
     "text": [
      "Train: 100% 2000/2000 [01:35<00:00, 20.93 step/s, accuracy=0.95, loss=0.20, step=32000]\n",
      "Valid:  99% 5632/5667 [00:02<00:00, 2279.82 uttr/s, accuracy=0.81, loss=1.12]\n",
      "Train: 100% 2000/2000 [01:33<00:00, 21.32 step/s, accuracy=0.88, loss=0.33, step=34000]\n",
      "Valid:  99% 5632/5667 [00:02<00:00, 2291.85 uttr/s, accuracy=0.81, loss=1.11]\n",
      "Train: 100% 2000/2000 [01:33<00:00, 21.29 step/s, accuracy=0.92, loss=0.19, step=36000]\n",
      "Valid:  99% 5632/5667 [00:02<00:00, 2269.74 uttr/s, accuracy=0.81, loss=1.18]\n",
      "Train: 100% 2000/2000 [01:33<00:00, 21.31 step/s, accuracy=0.95, loss=0.11, step=38000]\n",
      "Valid:  99% 5632/5667 [00:02<00:00, 2290.92 uttr/s, accuracy=0.82, loss=1.12]\n",
      "Train: 100% 2000/2000 [01:33<00:00, 21.31 step/s, accuracy=0.98, loss=0.07, step=4e+4] \n",
      "Valid:  99% 5632/5667 [00:02<00:00, 2290.92 uttr/s, accuracy=0.82, loss=1.04]\n",
      "Train:   0% 3/2000 [00:00<02:00, 16.57 step/s, accuracy=0.95, loss=0.14, step=4e+4]"
     ]
    },
    {
     "name": "stdout",
     "output_type": "stream",
     "text": [
      "Step 40000, best model saved. (accuracy=0.8168)\n"
     ]
    },
    {
     "name": "stderr",
     "output_type": "stream",
     "text": [
      "Train: 100% 2000/2000 [01:33<00:00, 21.29 step/s, accuracy=0.95, loss=0.15, step=42000]\n",
      "Valid:  99% 5632/5667 [00:02<00:00, 2289.06 uttr/s, accuracy=0.82, loss=1.08]\n",
      "Train: 100% 2000/2000 [01:34<00:00, 21.20 step/s, accuracy=0.97, loss=0.12, step=44000]\n",
      "Valid:  99% 5632/5667 [00:02<00:00, 2272.48 uttr/s, accuracy=0.82, loss=1.04]\n",
      "Train: 100% 2000/2000 [01:33<00:00, 21.30 step/s, accuracy=0.98, loss=0.05, step=46000]\n",
      "Valid:  99% 5632/5667 [00:02<00:00, 2279.82 uttr/s, accuracy=0.82, loss=1.06]\n",
      "Train: 100% 2000/2000 [01:33<00:00, 21.29 step/s, accuracy=0.97, loss=0.06, step=48000]\n",
      "Valid:  99% 5632/5667 [00:02<00:00, 2270.65 uttr/s, accuracy=0.83, loss=1.05]\n",
      "Train: 100% 2000/2000 [01:33<00:00, 21.29 step/s, accuracy=0.97, loss=0.09, step=5e+4] \n",
      "Valid:  99% 5632/5667 [00:02<00:00, 2286.28 uttr/s, accuracy=0.84, loss=1.01]\n",
      "Train:   0% 4/2000 [00:00<02:00, 16.57 step/s, accuracy=0.98, loss=0.08, step=5e+4]"
     ]
    },
    {
     "name": "stdout",
     "output_type": "stream",
     "text": [
      "Step 50000, best model saved. (accuracy=0.8365)\n"
     ]
    },
    {
     "name": "stderr",
     "output_type": "stream",
     "text": [
      "Train: 100% 2000/2000 [01:33<00:00, 21.29 step/s, accuracy=0.95, loss=0.07, step=52000]\n",
      "Valid:  99% 5632/5667 [00:02<00:00, 2290.92 uttr/s, accuracy=0.84, loss=1.03]\n",
      "Train: 100% 2000/2000 [01:34<00:00, 21.26 step/s, accuracy=0.98, loss=0.08, step=54000]\n",
      "Valid:  99% 5632/5667 [00:02<00:00, 2214.55 uttr/s, accuracy=0.83, loss=1.19]\n",
      "Train: 100% 2000/2000 [01:33<00:00, 21.28 step/s, accuracy=0.98, loss=0.04, step=56000]\n",
      "Valid:  99% 5632/5667 [00:02<00:00, 2275.23 uttr/s, accuracy=0.83, loss=1.08]\n",
      "Train: 100% 2000/2000 [01:34<00:00, 21.27 step/s, accuracy=0.94, loss=0.13, step=58000]\n",
      "Valid:  99% 5632/5667 [00:02<00:00, 2274.31 uttr/s, accuracy=0.84, loss=1.02]\n",
      "Train: 100% 2000/2000 [01:33<00:00, 21.28 step/s, accuracy=0.98, loss=0.07, step=6e+4] \n",
      "Valid:  99% 5632/5667 [00:02<00:00, 2304.94 uttr/s, accuracy=0.84, loss=1.07]\n",
      "Train:   0% 4/2000 [00:00<02:03, 16.17 step/s, accuracy=0.97, loss=0.06, step=6e+4]"
     ]
    },
    {
     "name": "stdout",
     "output_type": "stream",
     "text": [
      "Step 60000, best model saved. (accuracy=0.8402)\n"
     ]
    },
    {
     "name": "stderr",
     "output_type": "stream",
     "text": [
      "Train: 100% 2000/2000 [01:33<00:00, 21.28 step/s, accuracy=1.00, loss=0.03, step=62000]\n",
      "Valid:  99% 5632/5667 [00:02<00:00, 2282.58 uttr/s, accuracy=0.84, loss=1.03]\n",
      "Train: 100% 2000/2000 [01:33<00:00, 21.29 step/s, accuracy=0.98, loss=0.03, step=64000]\n",
      "Valid:  99% 5632/5667 [00:02<00:00, 2264.28 uttr/s, accuracy=0.85, loss=1.01]\n",
      "Train: 100% 2000/2000 [01:33<00:00, 21.29 step/s, accuracy=0.97, loss=0.06, step=66000]\n",
      "Valid:  99% 5632/5667 [00:02<00:00, 2264.28 uttr/s, accuracy=0.85, loss=1.00]\n",
      "Train: 100% 2000/2000 [01:33<00:00, 21.32 step/s, accuracy=0.94, loss=0.28, step=68000]\n",
      "Valid:  99% 5632/5667 [00:02<00:00, 2209.35 uttr/s, accuracy=0.85, loss=1.05]\n",
      "Train: 100% 2000/2000 [01:34<00:00, 21.27 step/s, accuracy=0.98, loss=0.05, step=7e+4] \n",
      "Valid:  99% 5632/5667 [00:02<00:00, 2190.50 uttr/s, accuracy=0.85, loss=0.96]\n",
      "Train:   0% 3/2000 [00:00<02:20, 14.22 step/s, accuracy=1.00, loss=0.02, step=7e+4]"
     ]
    },
    {
     "name": "stdout",
     "output_type": "stream",
     "text": [
      "Step 70000, best model saved. (accuracy=0.8539)\n"
     ]
    },
    {
     "name": "stderr",
     "output_type": "stream",
     "text": [
      "Train: 100% 2000/2000 [01:33<00:00, 21.28 step/s, accuracy=0.98, loss=0.04, step=72000]\n",
      "Valid:  99% 5632/5667 [00:02<00:00, 2209.35 uttr/s, accuracy=0.86, loss=0.89]\n",
      "Train: 100% 2000/2000 [01:34<00:00, 21.27 step/s, accuracy=0.98, loss=0.07, step=74000]\n",
      "Valid:  99% 5632/5667 [00:02<00:00, 2204.18 uttr/s, accuracy=0.86, loss=0.94]\n",
      "Train: 100% 2000/2000 [01:35<00:00, 21.01 step/s, accuracy=1.00, loss=0.02, step=76000]\n",
      "Valid:  99% 5632/5667 [00:02<00:00, 2034.26 uttr/s, accuracy=0.86, loss=0.94]\n",
      "Train: 100% 2000/2000 [01:33<00:00, 21.29 step/s, accuracy=0.98, loss=0.10, step=78000]\n",
      "Valid:  99% 5632/5667 [00:02<00:00, 2248.05 uttr/s, accuracy=0.86, loss=0.96]\n",
      "Train: 100% 2000/2000 [01:34<00:00, 21.28 step/s, accuracy=0.97, loss=0.05, step=8e+4] \n",
      "Valid:  99% 5632/5667 [00:02<00:00, 2248.95 uttr/s, accuracy=0.87, loss=0.94]\n",
      "Train:   0% 3/2000 [00:00<02:18, 14.43 step/s, accuracy=1.00, loss=0.01, step=8e+4]"
     ]
    },
    {
     "name": "stdout",
     "output_type": "stream",
     "text": [
      "Step 80000, best model saved. (accuracy=0.8674)\n"
     ]
    },
    {
     "name": "stderr",
     "output_type": "stream",
     "text": [
      "Train: 100% 2000/2000 [01:33<00:00, 21.29 step/s, accuracy=1.00, loss=0.01, step=82000]\n",
      "Valid:  99% 5632/5667 [00:02<00:00, 2291.85 uttr/s, accuracy=0.86, loss=0.93]\n",
      "Train: 100% 2000/2000 [01:33<00:00, 21.28 step/s, accuracy=1.00, loss=0.01, step=84000]\n",
      "Valid:  99% 5632/5667 [00:02<00:00, 2275.23 uttr/s, accuracy=0.87, loss=0.92]\n",
      "Train: 100% 2000/2000 [01:33<00:00, 21.28 step/s, accuracy=1.00, loss=0.01, step=86000]\n",
      "Valid:  99% 5632/5667 [00:02<00:00, 2278.90 uttr/s, accuracy=0.87, loss=0.87]\n",
      "Train: 100% 2000/2000 [01:34<00:00, 21.27 step/s, accuracy=0.98, loss=0.02, step=88000]\n",
      "Valid:  99% 5632/5667 [00:02<00:00, 2262.46 uttr/s, accuracy=0.87, loss=0.89]\n",
      "Train: 100% 2000/2000 [01:33<00:00, 21.29 step/s, accuracy=1.00, loss=0.01, step=9e+4] \n",
      "Valid:  99% 5632/5667 [00:02<00:00, 2288.13 uttr/s, accuracy=0.86, loss=0.94]\n",
      "Train:   0% 4/2000 [00:00<02:04, 16.04 step/s, accuracy=0.98, loss=0.04, step=9e+4]"
     ]
    },
    {
     "name": "stdout",
     "output_type": "stream",
     "text": [
      "Step 90000, best model saved. (accuracy=0.8674)\n"
     ]
    },
    {
     "name": "stderr",
     "output_type": "stream",
     "text": [
      "Train: 100% 2000/2000 [01:33<00:00, 21.30 step/s, accuracy=0.97, loss=0.04, step=92000]\n",
      "Valid:  99% 5632/5667 [00:02<00:00, 2287.21 uttr/s, accuracy=0.87, loss=0.89]\n",
      "Train: 100% 2000/2000 [01:33<00:00, 21.29 step/s, accuracy=1.00, loss=0.00, step=94000]\n",
      "Valid:  99% 5632/5667 [00:02<00:00, 2293.71 uttr/s, accuracy=0.87, loss=0.86]\n",
      "Train: 100% 2000/2000 [01:33<00:00, 21.32 step/s, accuracy=1.00, loss=0.01, step=96000]\n",
      "Valid:  99% 5632/5667 [00:02<00:00, 2293.71 uttr/s, accuracy=0.87, loss=0.92]\n",
      "Train: 100% 2000/2000 [01:33<00:00, 21.28 step/s, accuracy=1.00, loss=0.01, step=98000]\n",
      "Valid:  99% 5632/5667 [00:02<00:00, 2215.42 uttr/s, accuracy=0.87, loss=0.86]\n",
      "Train: 100% 2000/2000 [01:33<00:00, 21.29 step/s, accuracy=1.00, loss=0.00, step=1e+5] \n",
      "Valid:  99% 5632/5667 [00:02<00:00, 2293.71 uttr/s, accuracy=0.88, loss=0.80]\n",
      "Train:   0% 3/2000 [00:00<01:59, 16.71 step/s, accuracy=1.00, loss=0.01, step=1e+5]"
     ]
    },
    {
     "name": "stdout",
     "output_type": "stream",
     "text": [
      "Step 100000, best model saved. (accuracy=0.8812)\n"
     ]
    },
    {
     "name": "stderr",
     "output_type": "stream",
     "text": [
      "Train: 100% 2000/2000 [01:34<00:00, 21.26 step/s, accuracy=1.00, loss=0.01, step=102000]\n",
      "Valid:  99% 5632/5667 [00:02<00:00, 2290.92 uttr/s, accuracy=0.88, loss=0.84]\n",
      "Train: 100% 2000/2000 [01:33<00:00, 21.29 step/s, accuracy=1.00, loss=0.01, step=104000]\n",
      "Valid:  99% 5632/5667 [00:02<00:00, 2277.06 uttr/s, accuracy=0.88, loss=0.85]\n",
      "Train: 100% 2000/2000 [01:33<00:00, 21.30 step/s, accuracy=1.00, loss=0.01, step=106000]\n",
      "Valid:  99% 5632/5667 [00:02<00:00, 2287.21 uttr/s, accuracy=0.88, loss=0.87]\n",
      "Train: 100% 2000/2000 [01:33<00:00, 21.30 step/s, accuracy=1.00, loss=0.00, step=108000]\n",
      "Valid:  99% 5632/5667 [00:02<00:00, 2265.19 uttr/s, accuracy=0.88, loss=0.93]\n",
      "Train: 100% 2000/2000 [01:33<00:00, 21.29 step/s, accuracy=1.00, loss=0.00, step=110000]\n",
      "Valid:  99% 5632/5667 [00:02<00:00, 2278.90 uttr/s, accuracy=0.88, loss=0.86]\n",
      "Train:   0% 3/2000 [00:00<02:02, 16.30 step/s, accuracy=1.00, loss=0.00, step=110003]"
     ]
    },
    {
     "name": "stdout",
     "output_type": "stream",
     "text": [
      "Step 110000, best model saved. (accuracy=0.8846)\n"
     ]
    },
    {
     "name": "stderr",
     "output_type": "stream",
     "text": [
      "Train: 100% 2000/2000 [01:34<00:00, 21.27 step/s, accuracy=1.00, loss=0.00, step=112000]\n",
      "Valid:  99% 5632/5667 [00:02<00:00, 2277.98 uttr/s, accuracy=0.89, loss=0.75]\n",
      "Train: 100% 2000/2000 [01:33<00:00, 21.28 step/s, accuracy=1.00, loss=0.00, step=114000]\n",
      "Valid:  99% 5632/5667 [00:02<00:00, 2282.58 uttr/s, accuracy=0.88, loss=0.84]\n",
      "Train: 100% 2000/2000 [01:33<00:00, 21.30 step/s, accuracy=1.00, loss=0.00, step=116000]\n",
      "Valid:  99% 5632/5667 [00:02<00:00, 2292.78 uttr/s, accuracy=0.88, loss=0.85]\n",
      "Train: 100% 2000/2000 [01:34<00:00, 21.24 step/s, accuracy=1.00, loss=0.01, step=118000]\n",
      "Valid:  99% 5632/5667 [00:02<00:00, 2231.18 uttr/s, accuracy=0.89, loss=0.82]\n",
      "Train: 100% 2000/2000 [01:33<00:00, 21.28 step/s, accuracy=1.00, loss=0.00, step=120000]\n",
      "Valid:  99% 5632/5667 [00:02<00:00, 2268.83 uttr/s, accuracy=0.89, loss=0.88]\n",
      "Train:   0% 3/2000 [00:00<02:19, 14.32 step/s, accuracy=1.00, loss=0.01, step=120003]"
     ]
    },
    {
     "name": "stdout",
     "output_type": "stream",
     "text": [
      "Step 120000, best model saved. (accuracy=0.8883)\n"
     ]
    },
    {
     "name": "stderr",
     "output_type": "stream",
     "text": [
      "Train: 100% 2000/2000 [01:33<00:00, 21.30 step/s, accuracy=1.00, loss=0.00, step=122000]\n",
      "Valid:  99% 5632/5667 [00:02<00:00, 2286.28 uttr/s, accuracy=0.89, loss=0.80]\n",
      "Train: 100% 2000/2000 [01:33<00:00, 21.29 step/s, accuracy=1.00, loss=0.00, step=124000]\n",
      "Valid:  99% 5632/5667 [00:02<00:00, 2287.21 uttr/s, accuracy=0.88, loss=0.83]\n",
      "Train: 100% 2000/2000 [01:33<00:00, 21.28 step/s, accuracy=1.00, loss=0.00, step=126000]\n",
      "Valid:  99% 5632/5667 [00:02<00:00, 2279.82 uttr/s, accuracy=0.88, loss=0.84]\n",
      "Train: 100% 2000/2000 [01:33<00:00, 21.31 step/s, accuracy=1.00, loss=0.00, step=128000]\n",
      "Valid:  99% 5632/5667 [00:02<00:00, 2212.82 uttr/s, accuracy=0.89, loss=0.83]\n",
      "Train: 100% 2000/2000 [01:34<00:00, 21.26 step/s, accuracy=1.00, loss=0.01, step=130000]\n",
      "Valid:  99% 5632/5667 [00:02<00:00, 2232.94 uttr/s, accuracy=0.88, loss=0.84]\n",
      "Train:   0% 0/2000 [00:00<?, ? step/s]"
     ]
    },
    {
     "name": "stdout",
     "output_type": "stream",
     "text": [
      "Step 130000, best model saved. (accuracy=0.8944)\n"
     ]
    },
    {
     "name": "stderr",
     "output_type": "stream",
     "text": [
      "\n"
     ]
    }
   ],
   "source": [
    "from tqdm import tqdm\n",
    "\n",
    "import torch\n",
    "import torch.nn as nn\n",
    "from torch.optim import AdamW\n",
    "from torch.utils.data import DataLoader, random_split\n",
    "\n",
    "\n",
    "def parse_args():\n",
    "\t\"\"\"arguments\"\"\"\n",
    "\tconfig = {\n",
    "\t\t\"data_dir\": \"./Dataset\",\n",
    "\t\t\"save_path\": \"model.ckpt\",\n",
    "\t\t\"batch_size\": 64,\n",
    "\t\t\"n_workers\": 0,\n",
    "\t\t\"valid_steps\": 2000,\n",
    "\t\t\"warmup_steps\": 1000,\n",
    "\t\t\"save_steps\": 10000,\n",
    "\t\t\"total_steps\": 130000,\n",
    "\t}\n",
    "\n",
    "\treturn config\n",
    "\n",
    "\n",
    "def main(\n",
    "\tdata_dir,\n",
    "\tsave_path,\n",
    "\tbatch_size,\n",
    "\tn_workers,\n",
    "\tvalid_steps,\n",
    "\twarmup_steps,\n",
    "\ttotal_steps,\n",
    "\tsave_steps,\n",
    "):\n",
    "\t\"\"\"Main function.\"\"\"\n",
    "\tdevice = torch.device(\"cuda\" if torch.cuda.is_available() else \"cpu\")\n",
    "\tprint(f\"[Info]: Use {device} now!\")\n",
    "\n",
    "\ttrain_loader, valid_loader, speaker_num = get_dataloader(data_dir, batch_size, n_workers)\n",
    "\ttrain_iterator = iter(train_loader)\n",
    "\tprint(f\"[Info]: Finish loading data!\",flush = True)\n",
    "\n",
    "\tmodel = Classifier(n_spks=speaker_num).to(device)\n",
    "\tcriterion = nn.CrossEntropyLoss()\n",
    "\toptimizer = AdamW(model.parameters(), lr=1e-3)\n",
    "\tscheduler = get_cosine_schedule_with_warmup(optimizer, warmup_steps, total_steps)\n",
    "\tprint(f\"[Info]: Finish creating model!\",flush = True)\n",
    "\n",
    "\tbest_accuracy = -1.0\n",
    "\tbest_state_dict = None\n",
    "\n",
    "\tpbar = tqdm(total=valid_steps, ncols=0, desc=\"Train\", unit=\" step\")\n",
    "\n",
    "\tfor step in range(total_steps):\n",
    "\t\t# Get data\n",
    "\t\ttry:\n",
    "\t\t\tbatch = next(train_iterator)\n",
    "\t\texcept StopIteration:\n",
    "\t\t\ttrain_iterator = iter(train_loader)\n",
    "\t\t\tbatch = next(train_iterator)\n",
    "\n",
    "\t\tloss, accuracy = model_fn(batch, model, criterion, device)\n",
    "\t\tbatch_loss = loss.item()\n",
    "\t\tbatch_accuracy = accuracy.item()\n",
    "\n",
    "\t\t# Updata model\n",
    "\t\tloss.backward()\n",
    "\t\toptimizer.step()\n",
    "\t\tscheduler.step()\n",
    "\t\toptimizer.zero_grad()\n",
    "\n",
    "\t\t# Log\n",
    "\t\tpbar.update()\n",
    "\t\tpbar.set_postfix(\n",
    "\t\t\tloss=f\"{batch_loss:.2f}\",\n",
    "\t\t\taccuracy=f\"{batch_accuracy:.2f}\",\n",
    "\t\t\tstep=step + 1,\n",
    "\t\t)\n",
    "\n",
    "\t\t# Do validation\n",
    "\t\tif (step + 1) % valid_steps == 0:\n",
    "\t\t\tpbar.close()\n",
    "\n",
    "\t\t\tvalid_accuracy = valid(valid_loader, model, criterion, device)\n",
    "\n",
    "\t\t\t# keep the best model\n",
    "\t\t\tif valid_accuracy > best_accuracy:\n",
    "\t\t\t\tbest_accuracy = valid_accuracy\n",
    "\t\t\t\tbest_state_dict = model.state_dict()\n",
    "\n",
    "\t\t\tpbar = tqdm(total=valid_steps, ncols=0, desc=\"Train\", unit=\" step\")\n",
    "\n",
    "\t\t# Save the best model so far.\n",
    "\t\tif (step + 1) % save_steps == 0 and best_state_dict is not None:\n",
    "\t\t\ttorch.save(best_state_dict, save_path)\n",
    "\t\t\tpbar.write(f\"Step {step + 1}, best model saved. (accuracy={best_accuracy:.4f})\")\n",
    "\n",
    "\tpbar.close()\n",
    "\n",
    "\n",
    "if __name__ == \"__main__\":\n",
    "\tmain(**parse_args())"
   ]
  },
  {
   "cell_type": "code",
   "execution_count": 102,
   "metadata": {
    "execution": {
     "iopub.execute_input": "2023-03-23T09:31:19.944405Z",
     "iopub.status.busy": "2023-03-23T09:31:19.944082Z",
     "iopub.status.idle": "2023-03-23T09:31:19.955531Z",
     "shell.execute_reply": "2023-03-23T09:31:19.954390Z",
     "shell.execute_reply.started": "2023-03-23T09:31:19.944371Z"
    }
   },
   "outputs": [],
   "source": [
    "import os\n",
    "import json\n",
    "import torch\n",
    "from pathlib import Path\n",
    "from torch.utils.data import Dataset\n",
    "\n",
    "\n",
    "class InferenceDataset(Dataset):\n",
    "\tdef __init__(self, data_dir):\n",
    "\t\ttestdata_path = Path(data_dir) / \"testdata.json\"\n",
    "\t\tmetadata = json.load(testdata_path.open())\n",
    "\t\tself.data_dir = data_dir\n",
    "\t\tself.data = metadata[\"utterances\"]\n",
    "\n",
    "\tdef __len__(self):\n",
    "\t\treturn len(self.data)\n",
    "\n",
    "\tdef __getitem__(self, index):\n",
    "\t\tutterance = self.data[index]\n",
    "\t\tfeat_path = utterance[\"feature_path\"]\n",
    "\t\tmel = torch.load(os.path.join(self.data_dir, feat_path))\n",
    "\n",
    "\t\treturn feat_path, mel\n",
    "\n",
    "\n",
    "def inference_collate_batch(batch):\n",
    "\t\"\"\"Collate a batch of data.\"\"\"\n",
    "\tfeat_paths, mels = zip(*batch)\n",
    "\n",
    "\treturn feat_paths, torch.stack(mels)"
   ]
  },
  {
   "cell_type": "code",
   "execution_count": 103,
   "metadata": {
    "execution": {
     "iopub.execute_input": "2023-03-23T09:31:19.958604Z",
     "iopub.status.busy": "2023-03-23T09:31:19.957613Z",
     "iopub.status.idle": "2023-03-23T09:32:10.783320Z",
     "shell.execute_reply": "2023-03-23T09:32:10.782193Z",
     "shell.execute_reply.started": "2023-03-23T09:31:19.958562Z"
    }
   },
   "outputs": [
    {
     "name": "stdout",
     "output_type": "stream",
     "text": [
      "[Info]: Use cuda now!\n",
      "[Info]: Finish loading data!\n",
      "[Info]: Finish creating model!\n"
     ]
    },
    {
     "data": {
      "application/vnd.jupyter.widget-view+json": {
       "model_id": "5ac5ecf3a81a45ff87144d33752ce67d",
       "version_major": 2,
       "version_minor": 0
      },
      "text/plain": [
       "  0%|          | 0/8000 [00:00<?, ?it/s]"
      ]
     },
     "metadata": {},
     "output_type": "display_data"
    }
   ],
   "source": [
    "import json\n",
    "import csv\n",
    "from pathlib import Path\n",
    "from tqdm.notebook import tqdm\n",
    "\n",
    "import torch\n",
    "from torch.utils.data import DataLoader\n",
    "\n",
    "def parse_args():\n",
    "\t\"\"\"arguments\"\"\"\n",
    "\tconfig = {\n",
    "\t\t\"data_dir\": \"./Dataset\",\n",
    "\t\t\"model_path\": \"./model.ckpt\",\n",
    "\t\t\"output_path\": \"./output16.csv\",\n",
    "\t}\n",
    "\n",
    "\treturn config\n",
    "\n",
    "\n",
    "def main(\n",
    "\tdata_dir,\n",
    "\tmodel_path,\n",
    "\toutput_path,\n",
    "):\n",
    "\t\"\"\"Main function.\"\"\"\n",
    "\tdevice = torch.device(\"cuda\" if torch.cuda.is_available() else \"cpu\")\n",
    "\tprint(f\"[Info]: Use {device} now!\")\n",
    "\n",
    "\tmapping_path = Path(data_dir) / \"mapping.json\"\n",
    "\tmapping = json.load(mapping_path.open())\n",
    "\n",
    "\tdataset = InferenceDataset(data_dir)\n",
    "\tdataloader = DataLoader(\n",
    "\t\tdataset,\n",
    "\t\tbatch_size=1,\n",
    "\t\tshuffle=False,\n",
    "\t\tdrop_last=False,\n",
    "\t\tnum_workers=0,\n",
    "\t\tcollate_fn=inference_collate_batch,\n",
    "\t)\n",
    "\tprint(f\"[Info]: Finish loading data!\",flush = True)\n",
    "\n",
    "\tspeaker_num = len(mapping[\"id2speaker\"])\n",
    "\tmodel = Classifier(n_spks=speaker_num).to(device)\n",
    "\tmodel.load_state_dict(torch.load(model_path))\n",
    "\tmodel.eval()\n",
    "\tprint(f\"[Info]: Finish creating model!\",flush = True)\n",
    "\n",
    "\tresults = [[\"Id\", \"Category\"]]\n",
    "\tfor feat_paths, mels in tqdm(dataloader):\n",
    "\t\twith torch.no_grad():\n",
    "\t\t\tmels = mels.to(device)\n",
    "\t\t\touts = model(mels)\n",
    "\t\t\tpreds = outs.argmax(1).cpu().numpy()\n",
    "\t\t\tfor feat_path, pred in zip(feat_paths, preds):\n",
    "\t\t\t\tresults.append([feat_path, mapping[\"id2speaker\"][str(pred)]])\n",
    "\n",
    "\twith open(output_path, 'w', newline='') as csvfile:\n",
    "\t\twriter = csv.writer(csvfile)\n",
    "\t\twriter.writerows(results)\n",
    "\n",
    "\n",
    "if __name__ == \"__main__\":\n",
    "\tmain(**parse_args())"
   ]
  },
  {
   "cell_type": "code",
   "execution_count": null,
   "metadata": {},
   "outputs": [],
   "source": []
  }
 ],
 "metadata": {
  "kernelspec": {
   "display_name": "Python 3 (ipykernel)",
   "language": "python",
   "name": "python3"
  },
  "language_info": {
   "codemirror_mode": {
    "name": "ipython",
    "version": 3
   },
   "file_extension": ".py",
   "mimetype": "text/x-python",
   "name": "python",
   "nbconvert_exporter": "python",
   "pygments_lexer": "ipython3",
   "version": "3.9.13"
  }
 },
 "nbformat": 4,
 "nbformat_minor": 4
}
