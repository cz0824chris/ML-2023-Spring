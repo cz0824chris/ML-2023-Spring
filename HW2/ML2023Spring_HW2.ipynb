{
 "cells": [
  {
   "cell_type": "code",
   "execution_count": 1,
   "metadata": {
    "colab": {
     "base_uri": "https://localhost:8080/"
    },
    "id": "OzkiMEcC3Foq",
    "outputId": "c89a4a46-f908-43e4-b9f2-35b14644d4e3"
   },
   "outputs": [],
   "source": [
    "# !pip install --upgrade gdown\n",
    "\n",
    "# # Main link\n",
    "# !gdown --id '1N1eVIDe9hKM5uiNRGmifBlwSDGiVXPJe' --output libriphone.zip\n",
    "# # !gdown --id '1qzCRnywKh30mTbWUEjXuNT2isOCAPdO1' --output libriphone.zip\n",
    "\n",
    "# !unzip -q libriphone.zip\n",
    "# !ls libriphone"
   ]
  },
  {
   "cell_type": "code",
   "execution_count": 2,
   "metadata": {
    "id": "BsZKgBZQJjaE"
   },
   "outputs": [],
   "source": [
    "import numpy as np\n",
    "import torch\n",
    "import random\n",
    "\n",
    "def same_seeds(seed):\n",
    "    random.seed(seed) \n",
    "    np.random.seed(seed)  \n",
    "    torch.manual_seed(seed)\n",
    "    if torch.cuda.is_available():\n",
    "        torch.cuda.manual_seed(seed)\n",
    "        torch.cuda.manual_seed_all(seed) \n",
    "    torch.backends.cudnn.benchmark = False\n",
    "    torch.backends.cudnn.deterministic = True"
   ]
  },
  {
   "cell_type": "code",
   "execution_count": 3,
   "metadata": {
    "id": "IJjLT8em-y9G"
   },
   "outputs": [],
   "source": [
    "import os\n",
    "import torch\n",
    "from tqdm import tqdm\n",
    "\n",
    "def load_feat(path):\n",
    "    feat = torch.load(path)\n",
    "    return feat\n",
    "\n",
    "def shift(x, n):\n",
    "    if n < 0:\n",
    "        left = x[0].repeat(-n, 1)\n",
    "        right = x[:n]\n",
    "    elif n > 0:\n",
    "        right = x[-1].repeat(n, 1)\n",
    "        left = x[n:]\n",
    "    else:\n",
    "        return x\n",
    "\n",
    "    return torch.cat((left, right), dim=0)\n",
    "\n",
    "def concat_feat(x, concat_n):\n",
    "    assert concat_n % 2 == 1 # n must be odd\n",
    "    if concat_n < 2:\n",
    "        return x\n",
    "    seq_len, feature_dim = x.size(0), x.size(1)\n",
    "    x = x.repeat(1, concat_n) \n",
    "    x = x.view(seq_len, concat_n, feature_dim).permute(1, 0, 2) # concat_n, seq_len, feature_dim\n",
    "    mid = (concat_n // 2)\n",
    "    for r_idx in range(1, mid+1):\n",
    "        x[mid + r_idx, :] = shift(x[mid + r_idx], r_idx)\n",
    "        x[mid - r_idx, :] = shift(x[mid - r_idx], -r_idx)\n",
    "\n",
    "    return x.permute(1, 0, 2).view(seq_len, concat_n * feature_dim)\n",
    "\n",
    "def preprocess_data(split, feat_dir, phone_path, concat_nframes, train_ratio=0.8, random_seed=1213):\n",
    "    class_num = 41 # NOTE: pre-computed, should not need change\n",
    "\n",
    "    if split == 'train' or split == 'val':\n",
    "        mode = 'train'\n",
    "    elif split == 'test':\n",
    "        mode = 'test'\n",
    "    else:\n",
    "        raise ValueError('Invalid \\'split\\' argument for dataset: PhoneDataset!')\n",
    "\n",
    "    label_dict = {}\n",
    "    if mode == 'train':\n",
    "        for line in open(os.path.join(phone_path, f'{mode}_labels.txt')).readlines():\n",
    "            line = line.strip('\\n').split(' ')\n",
    "            label_dict[line[0]] = [int(p) for p in line[1:]]\n",
    "        \n",
    "        # split training and validation data\n",
    "        usage_list = open(os.path.join(phone_path, 'train_split.txt')).readlines()\n",
    "        random.seed(random_seed)\n",
    "        random.shuffle(usage_list)\n",
    "        train_len = int(len(usage_list) * train_ratio)\n",
    "        usage_list = usage_list[:train_len] if split == 'train' else usage_list[train_len:]\n",
    "\n",
    "    elif mode == 'test':\n",
    "        usage_list = open(os.path.join(phone_path, 'test_split.txt')).readlines()\n",
    "\n",
    "    usage_list = [line.strip('\\n') for line in usage_list]\n",
    "    print('[Dataset] - # phone classes: ' + str(class_num) + ', number of utterances for ' + split + ': ' + str(len(usage_list)))\n",
    "\n",
    "    max_len = 3000000\n",
    "    X = torch.empty(max_len, 39 * concat_nframes)\n",
    "    if mode == 'train':\n",
    "        y = torch.empty(max_len, dtype=torch.long)\n",
    "\n",
    "    idx = 0\n",
    "    for i, fname in tqdm(enumerate(usage_list)):\n",
    "        feat = load_feat(os.path.join(feat_dir, mode, f'{fname}.pt'))\n",
    "        cur_len = len(feat)\n",
    "        feat = concat_feat(feat, concat_nframes)\n",
    "        if mode == 'train':\n",
    "          label = torch.LongTensor(label_dict[fname])\n",
    "\n",
    "        X[idx: idx + cur_len, :] = feat\n",
    "        if mode == 'train':\n",
    "          y[idx: idx + cur_len] = label\n",
    "\n",
    "        idx += cur_len\n",
    "\n",
    "    X = X[:idx, :]\n",
    "    if mode == 'train':\n",
    "      y = y[:idx]\n",
    "\n",
    "    print(f'[INFO] {split} set')\n",
    "    print(X.shape)\n",
    "    if mode == 'train':\n",
    "      print(y.shape)\n",
    "      return X, y\n",
    "    else:\n",
    "      return X\n"
   ]
  },
  {
   "cell_type": "markdown",
   "metadata": {
    "id": "us5XW_x6udZQ"
   },
   "source": [
    "# Dataset"
   ]
  },
  {
   "cell_type": "code",
   "execution_count": 4,
   "metadata": {
    "id": "Fjf5EcmJtf4e"
   },
   "outputs": [],
   "source": [
    "import torch\n",
    "from torch.utils.data import Dataset\n",
    "\n",
    "class LibriDataset(Dataset):\n",
    "    def __init__(self, X, y=None):\n",
    "        self.data = X\n",
    "        if y is not None:\n",
    "            self.label = torch.LongTensor(y)\n",
    "        else:\n",
    "            self.label = None\n",
    "\n",
    "    def __getitem__(self, idx):\n",
    "        if self.label is not None:\n",
    "            return self.data[idx], self.label[idx]\n",
    "        else:\n",
    "            return self.data[idx]\n",
    "\n",
    "    def __len__(self):\n",
    "        return len(self.data)\n"
   ]
  },
  {
   "cell_type": "markdown",
   "metadata": {
    "id": "IRqKNvNZwe3V"
   },
   "source": [
    "# Model\n",
    "Feel free to modify the structure of the model."
   ]
  },
  {
   "cell_type": "code",
   "execution_count": 5,
   "metadata": {
    "id": "Bg-GRd7ywdrL"
   },
   "outputs": [],
   "source": [
    "import torch.nn as nn\n",
    "\n",
    "class BasicBlock(nn.Module):\n",
    "    def __init__(self, input_dim, output_dim):\n",
    "        super(BasicBlock, self).__init__()\n",
    "\n",
    "        # TODO: apply batch normalization and dropout for strong baseline.\n",
    "        # Reference: https://pytorch.org/docs/stable/generated/torch.nn.BatchNorm1d.html (batch normalization)\n",
    "        #       https://pytorch.org/docs/stable/generated/torch.nn.Dropout.html (dropout)\n",
    "        self.block = nn.Sequential(\n",
    "            nn.Linear(input_dim, output_dim),\n",
    "            nn.GELU(),\n",
    "            nn.BatchNorm1d(output_dim),\n",
    "            nn.Dropout(0.25),\n",
    "        )\n",
    "\n",
    "    def forward(self, x):\n",
    "        x = self.block(x)\n",
    "        return x\n",
    "\n",
    "\n",
    "class Classifier(nn.Module):\n",
    "    def __init__(self, input_dim, output_dim=41, hidden_layers=1, hidden_dim=256):\n",
    "        super(Classifier, self).__init__()\n",
    "\n",
    "        self.fc = nn.Sequential(\n",
    "            BasicBlock(input_dim, hidden_dim),\n",
    "            *[BasicBlock(hidden_dim, hidden_dim) for _ in range(hidden_layers)],\n",
    "            nn.Linear(hidden_dim, output_dim)\n",
    "        )\n",
    "\n",
    "    def forward(self, x):\n",
    "        x = self.fc(x)\n",
    "        return x"
   ]
  },
  {
   "cell_type": "code",
   "execution_count": 6,
   "metadata": {},
   "outputs": [],
   "source": [
    "# import torch.nn as nn\n",
    "\n",
    "# class Classifier(nn.Module):\n",
    "#     def __init__(self, input_dim, output_dim=41, hidden_layers=1, hidden_dim=256):\n",
    "#         super(Classifier, self).__init__()\n",
    "#         self.lstm = nn.GRU(input_dim,hidden_dim ,hidden_layers,batch_first = True ,dropout = 0.25)\n",
    "        \n",
    "#         self.classifier = nn.Sequential(\n",
    "#             nn.Linear(input_dim, output_dim),\n",
    "#             nn.BatchNorm1d(output_dim),\n",
    "#             nn.GELU(),\n",
    "#             nn.Dropout(0.25),\n",
    "#         )\n",
    "#     def forward(self, x):\n",
    "#         x = x.view(-1,17,39)\n",
    "#         x,_ = self.lstm(x)\n",
    "#         x = x.contiguous().view(x.size(0),-1)\n",
    "#         x = self.classifier(x)\n",
    "#         return x"
   ]
  },
  {
   "cell_type": "code",
   "execution_count": 7,
   "metadata": {},
   "outputs": [],
   "source": [
    "# import torch.nn as nn\n",
    "# class RNN_GRU(nn.Module):\n",
    "#     def __init__(self, input_dim, hidden_dim, hidden_layers, output_class):\n",
    "#         super(RNN_GRU, self).__init__()\n",
    "#         self.hidden_dim = hidden_dim\n",
    "#         self.hidden_layers = hidden_layers\n",
    "#         self.gru = nn.GRU(input_dim, hidden_dim, hidden_layers, batch_first=True)\n",
    "#         self.linear = nn.Linear(hidden_dim,output_class)\n",
    "\n",
    "#     def forward(self, x):\n",
    "#         gru_output,h_n = self(x)\n",
    "#         out = self.linear(gru_output[:,-1,:])\n",
    "\n",
    "#         return out\n"
   ]
  },
  {
   "cell_type": "markdown",
   "metadata": {
    "id": "TlIq8JeqvvHC"
   },
   "source": [
    "# Hyper-parameters"
   ]
  },
  {
   "cell_type": "code",
   "execution_count": 8,
   "metadata": {
    "id": "iIHn79Iav1ri"
   },
   "outputs": [],
   "source": [
    "# data prarameters\n",
    "# TODO: change the value of \"concat_nframes\" for medium baseline\n",
    "concat_nframes = 43   # the number of frames to concat with, n must be odd (total 2k+1 = n frames)\n",
    "train_ratio = 0.99   # the ratio of data used for training, the rest will be used for validation\n",
    "\n",
    "# training parameters\n",
    "seed = 24          # random seed\n",
    "batch_size = 2048        # batch size\n",
    "num_epoch = 40        # the number of training epoch\n",
    "learning_rate = 0.003      # learning rate\n",
    "model_path = './model.ckpt'  # the path where the checkpoint will be saved\n",
    "\n",
    "# model parameters\n",
    "# TODO: change the value of \"hidden_layers\" or \"hidden_dim\" for medium baseline\n",
    "input_dim = 39 * concat_nframes  # the input dim of the model, you should not change the value\n",
    "hidden_layers = 12          # the number of hidden layers\n",
    "hidden_dim = 1024           # the hidden dim\n",
    "output_classes = 41\n"
   ]
  },
  {
   "cell_type": "markdown",
   "metadata": {
    "id": "IIUFRgG5yoDn"
   },
   "source": [
    "# Dataloader"
   ]
  },
  {
   "cell_type": "code",
   "execution_count": 10,
   "metadata": {
    "id": "c1zI3v5jyrDn"
   },
   "outputs": [
    {
     "name": "stdout",
     "output_type": "stream",
     "text": [
      "DEVICE: cuda\n",
      "[Dataset] - # phone classes: 41, number of utterances for train: 3394\n"
     ]
    },
    {
     "ename": "RuntimeError",
     "evalue": "[enforce fail at C:\\cb\\pytorch_1000000000000\\work\\c10\\core\\impl\\alloc_cpu.cpp:72] data. DefaultCPUAllocator: not enough memory: you tried to allocate 23868000000 bytes.",
     "output_type": "error",
     "traceback": [
      "\u001b[1;31m---------------------------------------------------------------------------\u001b[0m",
      "\u001b[1;31mRuntimeError\u001b[0m                              Traceback (most recent call last)",
      "\u001b[1;32m~\\AppData\\Local\\Temp\\ipykernel_11340\\3820694536.py\u001b[0m in \u001b[0;36m<module>\u001b[1;34m\u001b[0m\n\u001b[0;32m      7\u001b[0m \u001b[1;33m\u001b[0m\u001b[0m\n\u001b[0;32m      8\u001b[0m \u001b[1;31m# preprocess data\u001b[0m\u001b[1;33m\u001b[0m\u001b[1;33m\u001b[0m\u001b[0m\n\u001b[1;32m----> 9\u001b[1;33m \u001b[0mtrain_X\u001b[0m\u001b[1;33m,\u001b[0m \u001b[0mtrain_y\u001b[0m \u001b[1;33m=\u001b[0m \u001b[0mpreprocess_data\u001b[0m\u001b[1;33m(\u001b[0m\u001b[0msplit\u001b[0m\u001b[1;33m=\u001b[0m\u001b[1;34m'train'\u001b[0m\u001b[1;33m,\u001b[0m \u001b[0mfeat_dir\u001b[0m\u001b[1;33m=\u001b[0m\u001b[1;34m'./libriphone/feat'\u001b[0m\u001b[1;33m,\u001b[0m \u001b[0mphone_path\u001b[0m\u001b[1;33m=\u001b[0m\u001b[1;34m'./libriphone'\u001b[0m\u001b[1;33m,\u001b[0m \u001b[0mconcat_nframes\u001b[0m\u001b[1;33m=\u001b[0m\u001b[0mconcat_nframes\u001b[0m\u001b[1;33m,\u001b[0m \u001b[0mtrain_ratio\u001b[0m\u001b[1;33m=\u001b[0m\u001b[0mtrain_ratio\u001b[0m\u001b[1;33m,\u001b[0m \u001b[0mrandom_seed\u001b[0m\u001b[1;33m=\u001b[0m\u001b[0mseed\u001b[0m\u001b[1;33m)\u001b[0m\u001b[1;33m\u001b[0m\u001b[1;33m\u001b[0m\u001b[0m\n\u001b[0m\u001b[0;32m     10\u001b[0m \u001b[0mval_X\u001b[0m\u001b[1;33m,\u001b[0m \u001b[0mval_y\u001b[0m \u001b[1;33m=\u001b[0m \u001b[0mpreprocess_data\u001b[0m\u001b[1;33m(\u001b[0m\u001b[0msplit\u001b[0m\u001b[1;33m=\u001b[0m\u001b[1;34m'val'\u001b[0m\u001b[1;33m,\u001b[0m \u001b[0mfeat_dir\u001b[0m\u001b[1;33m=\u001b[0m\u001b[1;34m'./libriphone/feat'\u001b[0m\u001b[1;33m,\u001b[0m \u001b[0mphone_path\u001b[0m\u001b[1;33m=\u001b[0m\u001b[1;34m'./libriphone'\u001b[0m\u001b[1;33m,\u001b[0m \u001b[0mconcat_nframes\u001b[0m\u001b[1;33m=\u001b[0m\u001b[0mconcat_nframes\u001b[0m\u001b[1;33m,\u001b[0m \u001b[0mtrain_ratio\u001b[0m\u001b[1;33m=\u001b[0m\u001b[0mtrain_ratio\u001b[0m\u001b[1;33m,\u001b[0m \u001b[0mrandom_seed\u001b[0m\u001b[1;33m=\u001b[0m\u001b[0mseed\u001b[0m\u001b[1;33m)\u001b[0m\u001b[1;33m\u001b[0m\u001b[1;33m\u001b[0m\u001b[0m\n\u001b[0;32m     11\u001b[0m \u001b[1;33m\u001b[0m\u001b[0m\n",
      "\u001b[1;32m~\\AppData\\Local\\Temp\\ipykernel_11340\\2814602635.py\u001b[0m in \u001b[0;36mpreprocess_data\u001b[1;34m(split, feat_dir, phone_path, concat_nframes, train_ratio, random_seed)\u001b[0m\n\u001b[0;32m     63\u001b[0m \u001b[1;33m\u001b[0m\u001b[0m\n\u001b[0;32m     64\u001b[0m     \u001b[0mmax_len\u001b[0m \u001b[1;33m=\u001b[0m \u001b[1;36m3000000\u001b[0m\u001b[1;33m\u001b[0m\u001b[1;33m\u001b[0m\u001b[0m\n\u001b[1;32m---> 65\u001b[1;33m     \u001b[0mX\u001b[0m \u001b[1;33m=\u001b[0m \u001b[0mtorch\u001b[0m\u001b[1;33m.\u001b[0m\u001b[0mempty\u001b[0m\u001b[1;33m(\u001b[0m\u001b[0mmax_len\u001b[0m\u001b[1;33m,\u001b[0m \u001b[1;36m39\u001b[0m \u001b[1;33m*\u001b[0m \u001b[0mconcat_nframes\u001b[0m\u001b[1;33m)\u001b[0m\u001b[1;33m\u001b[0m\u001b[1;33m\u001b[0m\u001b[0m\n\u001b[0m\u001b[0;32m     66\u001b[0m     \u001b[1;32mif\u001b[0m \u001b[0mmode\u001b[0m \u001b[1;33m==\u001b[0m \u001b[1;34m'train'\u001b[0m\u001b[1;33m:\u001b[0m\u001b[1;33m\u001b[0m\u001b[1;33m\u001b[0m\u001b[0m\n\u001b[0;32m     67\u001b[0m         \u001b[0my\u001b[0m \u001b[1;33m=\u001b[0m \u001b[0mtorch\u001b[0m\u001b[1;33m.\u001b[0m\u001b[0mempty\u001b[0m\u001b[1;33m(\u001b[0m\u001b[0mmax_len\u001b[0m\u001b[1;33m,\u001b[0m \u001b[0mdtype\u001b[0m\u001b[1;33m=\u001b[0m\u001b[0mtorch\u001b[0m\u001b[1;33m.\u001b[0m\u001b[0mlong\u001b[0m\u001b[1;33m)\u001b[0m\u001b[1;33m\u001b[0m\u001b[1;33m\u001b[0m\u001b[0m\n",
      "\u001b[1;31mRuntimeError\u001b[0m: [enforce fail at C:\\cb\\pytorch_1000000000000\\work\\c10\\core\\impl\\alloc_cpu.cpp:72] data. DefaultCPUAllocator: not enough memory: you tried to allocate 23868000000 bytes."
     ]
    }
   ],
   "source": [
    "from torch.utils.data import DataLoader\n",
    "import gc\n",
    "\n",
    "same_seeds(seed)\n",
    "device = 'cuda' if torch.cuda.is_available() else 'cpu'\n",
    "print(f'DEVICE: {device}')\n",
    "\n",
    "# preprocess data\n",
    "train_X, train_y = preprocess_data(split='train', feat_dir='./libriphone/feat', phone_path='./libriphone', concat_nframes=concat_nframes, train_ratio=train_ratio, random_seed=seed)\n",
    "val_X, val_y = preprocess_data(split='val', feat_dir='./libriphone/feat', phone_path='./libriphone', concat_nframes=concat_nframes, train_ratio=train_ratio, random_seed=seed)\n",
    "\n",
    "# get dataset\n",
    "train_set = LibriDataset(train_X, train_y)\n",
    "val_set = LibriDataset(val_X, val_y)\n",
    "\n",
    "# remove raw feature to save memory\n",
    "del train_X, train_y, val_X, val_y\n",
    "gc.collect()\n",
    "\n",
    "# get dataloader\n",
    "train_loader = DataLoader(train_set, batch_size=batch_size, shuffle=True)\n",
    "val_loader = DataLoader(val_set, batch_size=batch_size, shuffle=False)"
   ]
  },
  {
   "cell_type": "markdown",
   "metadata": {
    "id": "pwWH1KIqzxEr"
   },
   "source": [
    "# Training"
   ]
  },
  {
   "cell_type": "code",
   "execution_count": 51,
   "metadata": {
    "id": "CdMWsBs7zzNs"
   },
   "outputs": [
    {
     "name": "stdout",
     "output_type": "stream",
     "text": [
      "第1個epoch的learning rate：0.003000\n"
     ]
    },
    {
     "name": "stderr",
     "output_type": "stream",
     "text": [
      "100%|██████████| 1024/1024 [00:35<00:00, 28.57it/s]\n",
      "100%|██████████| 11/11 [00:00<00:00, 51.54it/s]\n"
     ]
    },
    {
     "name": "stdout",
     "output_type": "stream",
     "text": [
      "[001/040] Train Acc: 0.50132 Loss: 1.73119 | Val Acc: 0.65133 loss: 1.18415\n",
      "saving model with acc 0.65133\n",
      "第2個epoch的learning rate：0.001500\n"
     ]
    },
    {
     "name": "stderr",
     "output_type": "stream",
     "text": [
      "100%|██████████| 1024/1024 [00:35<00:00, 28.97it/s]\n",
      "100%|██████████| 11/11 [00:00<00:00, 43.17it/s]\n"
     ]
    },
    {
     "name": "stdout",
     "output_type": "stream",
     "text": [
      "[002/040] Train Acc: 0.63554 Loss: 1.25480 | Val Acc: 0.70835 loss: 0.97101\n",
      "saving model with acc 0.70835\n",
      "第3個epoch的learning rate：0.003000\n"
     ]
    },
    {
     "name": "stderr",
     "output_type": "stream",
     "text": [
      "100%|██████████| 1024/1024 [00:35<00:00, 28.94it/s]\n",
      "100%|██████████| 11/11 [00:00<00:00, 49.68it/s]\n"
     ]
    },
    {
     "name": "stdout",
     "output_type": "stream",
     "text": [
      "[003/040] Train Acc: 0.64933 Loss: 1.21142 | Val Acc: 0.71612 loss: 0.92018\n",
      "saving model with acc 0.71612\n",
      "第4個epoch的learning rate：0.002886\n"
     ]
    },
    {
     "name": "stderr",
     "output_type": "stream",
     "text": [
      "100%|██████████| 1024/1024 [00:35<00:00, 28.99it/s]\n",
      "100%|██████████| 11/11 [00:00<00:00, 52.02it/s]\n"
     ]
    },
    {
     "name": "stdout",
     "output_type": "stream",
     "text": [
      "[004/040] Train Acc: 0.68040 Loss: 1.08889 | Val Acc: 0.75493 loss: 0.80079\n",
      "saving model with acc 0.75493\n",
      "第5個epoch的learning rate：0.002561\n"
     ]
    },
    {
     "name": "stderr",
     "output_type": "stream",
     "text": [
      "100%|██████████| 1024/1024 [00:35<00:00, 28.95it/s]\n",
      "100%|██████████| 11/11 [00:00<00:00, 48.80it/s]\n"
     ]
    },
    {
     "name": "stdout",
     "output_type": "stream",
     "text": [
      "[005/040] Train Acc: 0.70083 Loss: 1.01053 | Val Acc: 0.78039 loss: 0.71808\n",
      "saving model with acc 0.78039\n",
      "第6個epoch的learning rate：0.002074\n"
     ]
    },
    {
     "name": "stderr",
     "output_type": "stream",
     "text": [
      "100%|██████████| 1024/1024 [00:35<00:00, 28.95it/s]\n",
      "100%|██████████| 11/11 [00:00<00:00, 42.42it/s]\n"
     ]
    },
    {
     "name": "stdout",
     "output_type": "stream",
     "text": [
      "[006/040] Train Acc: 0.71880 Loss: 0.94237 | Val Acc: 0.79665 loss: 0.65850\n",
      "saving model with acc 0.79665\n",
      "第7個epoch的learning rate：0.001500\n"
     ]
    },
    {
     "name": "stderr",
     "output_type": "stream",
     "text": [
      "100%|██████████| 1024/1024 [00:35<00:00, 28.97it/s]\n",
      "100%|██████████| 11/11 [00:00<00:00, 41.30it/s]\n"
     ]
    },
    {
     "name": "stdout",
     "output_type": "stream",
     "text": [
      "[007/040] Train Acc: 0.73550 Loss: 0.87795 | Val Acc: 0.81463 loss: 0.59636\n",
      "saving model with acc 0.81463\n",
      "第8個epoch的learning rate：0.000926\n"
     ]
    },
    {
     "name": "stderr",
     "output_type": "stream",
     "text": [
      "100%|██████████| 1024/1024 [00:35<00:00, 28.72it/s]\n",
      "100%|██████████| 11/11 [00:00<00:00, 42.25it/s]\n"
     ]
    },
    {
     "name": "stdout",
     "output_type": "stream",
     "text": [
      "[008/040] Train Acc: 0.75074 Loss: 0.82094 | Val Acc: 0.83346 loss: 0.53919\n",
      "saving model with acc 0.83346\n",
      "第9個epoch的learning rate：0.000439\n"
     ]
    },
    {
     "name": "stderr",
     "output_type": "stream",
     "text": [
      "100%|██████████| 1024/1024 [00:35<00:00, 28.92it/s]\n",
      "100%|██████████| 11/11 [00:00<00:00, 48.80it/s]\n"
     ]
    },
    {
     "name": "stdout",
     "output_type": "stream",
     "text": [
      "[009/040] Train Acc: 0.76217 Loss: 0.77799 | Val Acc: 0.84419 loss: 0.50159\n",
      "saving model with acc 0.84419\n",
      "第10個epoch的learning rate：0.000114\n"
     ]
    },
    {
     "name": "stderr",
     "output_type": "stream",
     "text": [
      "100%|██████████| 1024/1024 [00:35<00:00, 28.95it/s]\n",
      "100%|██████████| 11/11 [00:00<00:00, 50.13it/s]\n"
     ]
    },
    {
     "name": "stdout",
     "output_type": "stream",
     "text": [
      "[010/040] Train Acc: 0.76959 Loss: 0.75137 | Val Acc: 0.84958 loss: 0.48676\n",
      "saving model with acc 0.84958\n",
      "第11個epoch的learning rate：0.003000\n"
     ]
    },
    {
     "name": "stderr",
     "output_type": "stream",
     "text": [
      "100%|██████████| 1024/1024 [00:35<00:00, 28.89it/s]\n",
      "100%|██████████| 11/11 [00:00<00:00, 42.58it/s]\n"
     ]
    },
    {
     "name": "stdout",
     "output_type": "stream",
     "text": [
      "[011/040] Train Acc: 0.73311 Loss: 0.88332 | Val Acc: 0.82025 loss: 0.58753\n",
      "第12個epoch的learning rate：0.002993\n"
     ]
    },
    {
     "name": "stderr",
     "output_type": "stream",
     "text": [
      "100%|██████████| 1024/1024 [00:35<00:00, 28.91it/s]\n",
      "100%|██████████| 11/11 [00:00<00:00, 49.89it/s]\n"
     ]
    },
    {
     "name": "stdout",
     "output_type": "stream",
     "text": [
      "[012/040] Train Acc: 0.73973 Loss: 0.85767 | Val Acc: 0.82264 loss: 0.56104\n",
      "第13個epoch的learning rate：0.002971\n"
     ]
    },
    {
     "name": "stderr",
     "output_type": "stream",
     "text": [
      "100%|██████████| 1024/1024 [00:35<00:00, 28.92it/s]\n",
      "100%|██████████| 11/11 [00:00<00:00, 42.91it/s]\n"
     ]
    },
    {
     "name": "stdout",
     "output_type": "stream",
     "text": [
      "[013/040] Train Acc: 0.74630 Loss: 0.83122 | Val Acc: 0.83398 loss: 0.53472\n",
      "第14個epoch的learning rate：0.002935\n"
     ]
    },
    {
     "name": "stderr",
     "output_type": "stream",
     "text": [
      "100%|██████████| 1024/1024 [00:35<00:00, 28.93it/s]\n",
      "100%|██████████| 11/11 [00:00<00:00, 42.42it/s]\n"
     ]
    },
    {
     "name": "stdout",
     "output_type": "stream",
     "text": [
      "[014/040] Train Acc: 0.75305 Loss: 0.80871 | Val Acc: 0.84371 loss: 0.50340\n",
      "第15個epoch的learning rate：0.002886\n"
     ]
    },
    {
     "name": "stderr",
     "output_type": "stream",
     "text": [
      "100%|██████████| 1024/1024 [00:35<00:00, 28.93it/s]\n",
      "100%|██████████| 11/11 [00:00<00:00, 42.75it/s]\n"
     ]
    },
    {
     "name": "stdout",
     "output_type": "stream",
     "text": [
      "[015/040] Train Acc: 0.75792 Loss: 0.78915 | Val Acc: 0.84252 loss: 0.49119\n",
      "第16個epoch的learning rate：0.002823\n"
     ]
    },
    {
     "name": "stderr",
     "output_type": "stream",
     "text": [
      "100%|██████████| 1024/1024 [00:35<00:00, 28.79it/s]\n",
      "100%|██████████| 11/11 [00:00<00:00, 39.25it/s]\n"
     ]
    },
    {
     "name": "stdout",
     "output_type": "stream",
     "text": [
      "[016/040] Train Acc: 0.76322 Loss: 0.77013 | Val Acc: 0.85248 loss: 0.46639\n",
      "saving model with acc 0.85248\n",
      "第17個epoch的learning rate：0.002747\n"
     ]
    },
    {
     "name": "stderr",
     "output_type": "stream",
     "text": [
      "100%|██████████| 1024/1024 [00:35<00:00, 28.79it/s]\n",
      "100%|██████████| 11/11 [00:00<00:00, 43.42it/s]\n"
     ]
    },
    {
     "name": "stdout",
     "output_type": "stream",
     "text": [
      "[017/040] Train Acc: 0.76879 Loss: 0.75187 | Val Acc: 0.85616 loss: 0.45115\n",
      "saving model with acc 0.85616\n",
      "第18個epoch的learning rate：0.002660\n"
     ]
    },
    {
     "name": "stderr",
     "output_type": "stream",
     "text": [
      "100%|██████████| 1024/1024 [00:35<00:00, 28.94it/s]\n",
      "100%|██████████| 11/11 [00:00<00:00, 51.06it/s]\n"
     ]
    },
    {
     "name": "stdout",
     "output_type": "stream",
     "text": [
      "[018/040] Train Acc: 0.77316 Loss: 0.73481 | Val Acc: 0.86421 loss: 0.42534\n",
      "saving model with acc 0.86421\n",
      "第19個epoch的learning rate：0.002561\n"
     ]
    },
    {
     "name": "stderr",
     "output_type": "stream",
     "text": [
      "100%|██████████| 1024/1024 [00:35<00:00, 29.03it/s]\n",
      "100%|██████████| 11/11 [00:00<00:00, 43.08it/s]\n"
     ]
    },
    {
     "name": "stdout",
     "output_type": "stream",
     "text": [
      "[019/040] Train Acc: 0.77789 Loss: 0.71784 | Val Acc: 0.86369 loss: 0.42712\n",
      "第20個epoch的learning rate：0.002452\n"
     ]
    },
    {
     "name": "stderr",
     "output_type": "stream",
     "text": [
      "100%|██████████| 1024/1024 [00:35<00:00, 28.97it/s]\n",
      "100%|██████████| 11/11 [00:00<00:00, 45.96it/s]\n"
     ]
    },
    {
     "name": "stdout",
     "output_type": "stream",
     "text": [
      "[020/040] Train Acc: 0.78187 Loss: 0.70337 | Val Acc: 0.87156 loss: 0.39874\n",
      "saving model with acc 0.87156\n",
      "第21個epoch的learning rate：0.002333\n"
     ]
    },
    {
     "name": "stderr",
     "output_type": "stream",
     "text": [
      "100%|██████████| 1024/1024 [00:35<00:00, 28.86it/s]\n",
      "100%|██████████| 11/11 [00:00<00:00, 49.68it/s]\n"
     ]
    },
    {
     "name": "stdout",
     "output_type": "stream",
     "text": [
      "[021/040] Train Acc: 0.78570 Loss: 0.68880 | Val Acc: 0.87980 loss: 0.37959\n",
      "saving model with acc 0.87980\n",
      "第22個epoch的learning rate：0.002207\n"
     ]
    },
    {
     "name": "stderr",
     "output_type": "stream",
     "text": [
      "100%|██████████| 1024/1024 [00:35<00:00, 29.00it/s]\n",
      "100%|██████████| 11/11 [00:00<00:00, 43.08it/s]\n"
     ]
    },
    {
     "name": "stdout",
     "output_type": "stream",
     "text": [
      "[022/040] Train Acc: 0.79014 Loss: 0.67437 | Val Acc: 0.87995 loss: 0.37073\n",
      "saving model with acc 0.87995\n",
      "第23個epoch的learning rate：0.002074\n"
     ]
    },
    {
     "name": "stderr",
     "output_type": "stream",
     "text": [
      "100%|██████████| 1024/1024 [00:35<00:00, 28.78it/s]\n",
      "100%|██████████| 11/11 [00:00<00:00, 50.36it/s]\n"
     ]
    },
    {
     "name": "stdout",
     "output_type": "stream",
     "text": [
      "[023/040] Train Acc: 0.79388 Loss: 0.66090 | Val Acc: 0.88495 loss: 0.36371\n",
      "saving model with acc 0.88495\n",
      "第24個epoch的learning rate：0.001935\n"
     ]
    },
    {
     "name": "stderr",
     "output_type": "stream",
     "text": [
      "100%|██████████| 1024/1024 [00:35<00:00, 28.69it/s]\n",
      "100%|██████████| 11/11 [00:00<00:00, 41.31it/s]\n"
     ]
    },
    {
     "name": "stdout",
     "output_type": "stream",
     "text": [
      "[024/040] Train Acc: 0.79768 Loss: 0.64677 | Val Acc: 0.88605 loss: 0.34879\n",
      "saving model with acc 0.88605\n",
      "第25個epoch的learning rate：0.001793\n"
     ]
    },
    {
     "name": "stderr",
     "output_type": "stream",
     "text": [
      "100%|██████████| 1024/1024 [00:35<00:00, 28.85it/s]\n",
      "100%|██████████| 11/11 [00:00<00:00, 42.92it/s]\n"
     ]
    },
    {
     "name": "stdout",
     "output_type": "stream",
     "text": [
      "[025/040] Train Acc: 0.80132 Loss: 0.63558 | Val Acc: 0.89392 loss: 0.32872\n",
      "saving model with acc 0.89392\n",
      "第26個epoch的learning rate：0.001647\n"
     ]
    },
    {
     "name": "stderr",
     "output_type": "stream",
     "text": [
      "100%|██████████| 1024/1024 [00:35<00:00, 28.56it/s]\n",
      "100%|██████████| 11/11 [00:00<00:00, 49.02it/s]\n"
     ]
    },
    {
     "name": "stdout",
     "output_type": "stream",
     "text": [
      "[026/040] Train Acc: 0.80433 Loss: 0.62354 | Val Acc: 0.90007 loss: 0.32032\n",
      "saving model with acc 0.90007\n",
      "第27個epoch的learning rate：0.001500\n"
     ]
    },
    {
     "name": "stderr",
     "output_type": "stream",
     "text": [
      "100%|██████████| 1024/1024 [00:35<00:00, 28.82it/s]\n",
      "100%|██████████| 11/11 [00:00<00:00, 48.80it/s]\n"
     ]
    },
    {
     "name": "stdout",
     "output_type": "stream",
     "text": [
      "[027/040] Train Acc: 0.80757 Loss: 0.61266 | Val Acc: 0.89868 loss: 0.31426\n",
      "第28個epoch的learning rate：0.001353\n"
     ]
    },
    {
     "name": "stderr",
     "output_type": "stream",
     "text": [
      "100%|██████████| 1024/1024 [00:35<00:00, 28.80it/s]\n",
      "100%|██████████| 11/11 [00:00<00:00, 41.00it/s]\n"
     ]
    },
    {
     "name": "stdout",
     "output_type": "stream",
     "text": [
      "[028/040] Train Acc: 0.81090 Loss: 0.60111 | Val Acc: 0.90488 loss: 0.30025\n",
      "saving model with acc 0.90488\n",
      "第29個epoch的learning rate：0.001207\n"
     ]
    },
    {
     "name": "stderr",
     "output_type": "stream",
     "text": [
      "100%|██████████| 1024/1024 [00:35<00:00, 28.84it/s]\n",
      "100%|██████████| 11/11 [00:00<00:00, 51.06it/s]\n"
     ]
    },
    {
     "name": "stdout",
     "output_type": "stream",
     "text": [
      "[029/040] Train Acc: 0.81367 Loss: 0.59120 | Val Acc: 0.90708 loss: 0.29371\n",
      "saving model with acc 0.90708\n",
      "第30個epoch的learning rate：0.001065\n"
     ]
    },
    {
     "name": "stderr",
     "output_type": "stream",
     "text": [
      "100%|██████████| 1024/1024 [00:35<00:00, 28.86it/s]\n",
      "100%|██████████| 11/11 [00:00<00:00, 43.94it/s]\n"
     ]
    },
    {
     "name": "stdout",
     "output_type": "stream",
     "text": [
      "[030/040] Train Acc: 0.81691 Loss: 0.58006 | Val Acc: 0.91027 loss: 0.28442\n",
      "saving model with acc 0.91027\n",
      "第31個epoch的learning rate：0.000926\n"
     ]
    },
    {
     "name": "stderr",
     "output_type": "stream",
     "text": [
      "100%|██████████| 1024/1024 [00:35<00:00, 28.86it/s]\n",
      "100%|██████████| 11/11 [00:00<00:00, 50.36it/s]\n"
     ]
    },
    {
     "name": "stdout",
     "output_type": "stream",
     "text": [
      "[031/040] Train Acc: 0.81952 Loss: 0.57142 | Val Acc: 0.91489 loss: 0.27878\n",
      "saving model with acc 0.91489\n",
      "第32個epoch的learning rate：0.000793\n"
     ]
    },
    {
     "name": "stderr",
     "output_type": "stream",
     "text": [
      "100%|██████████| 1024/1024 [00:35<00:00, 28.86it/s]\n",
      "100%|██████████| 11/11 [00:00<00:00, 51.29it/s]\n"
     ]
    },
    {
     "name": "stdout",
     "output_type": "stream",
     "text": [
      "[032/040] Train Acc: 0.82160 Loss: 0.56267 | Val Acc: 0.91470 loss: 0.27253\n",
      "第33個epoch的learning rate：0.000667\n"
     ]
    },
    {
     "name": "stderr",
     "output_type": "stream",
     "text": [
      "100%|██████████| 1024/1024 [00:35<00:00, 28.66it/s]\n",
      "100%|██████████| 11/11 [00:00<00:00, 42.10it/s]\n"
     ]
    },
    {
     "name": "stdout",
     "output_type": "stream",
     "text": [
      "[033/040] Train Acc: 0.82450 Loss: 0.55436 | Val Acc: 0.91556 loss: 0.26611\n",
      "saving model with acc 0.91556\n",
      "第34個epoch的learning rate：0.000548\n"
     ]
    },
    {
     "name": "stderr",
     "output_type": "stream",
     "text": [
      "100%|██████████| 1024/1024 [00:35<00:00, 28.64it/s]\n",
      "100%|██████████| 11/11 [00:00<00:00, 43.08it/s]\n"
     ]
    },
    {
     "name": "stdout",
     "output_type": "stream",
     "text": [
      "[034/040] Train Acc: 0.82637 Loss: 0.54732 | Val Acc: 0.92162 loss: 0.25493\n",
      "saving model with acc 0.92162\n",
      "第35個epoch的learning rate：0.000439\n"
     ]
    },
    {
     "name": "stderr",
     "output_type": "stream",
     "text": [
      "100%|██████████| 1024/1024 [00:35<00:00, 28.85it/s]\n",
      "100%|██████████| 11/11 [00:00<00:00, 50.83it/s]\n"
     ]
    },
    {
     "name": "stdout",
     "output_type": "stream",
     "text": [
      "[035/040] Train Acc: 0.82795 Loss: 0.54153 | Val Acc: 0.92033 loss: 0.25204\n",
      "第36個epoch的learning rate：0.000340\n"
     ]
    },
    {
     "name": "stderr",
     "output_type": "stream",
     "text": [
      "100%|██████████| 1024/1024 [00:35<00:00, 28.95it/s]\n",
      "100%|██████████| 11/11 [00:00<00:00, 42.91it/s]\n"
     ]
    },
    {
     "name": "stdout",
     "output_type": "stream",
     "text": [
      "[036/040] Train Acc: 0.82981 Loss: 0.53463 | Val Acc: 0.92262 loss: 0.24765\n",
      "saving model with acc 0.92262\n",
      "第37個epoch的learning rate：0.000253\n"
     ]
    },
    {
     "name": "stderr",
     "output_type": "stream",
     "text": [
      "100%|██████████| 1024/1024 [00:35<00:00, 28.99it/s]\n",
      "100%|██████████| 11/11 [00:00<00:00, 43.59it/s]\n"
     ]
    },
    {
     "name": "stdout",
     "output_type": "stream",
     "text": [
      "[037/040] Train Acc: 0.83119 Loss: 0.53059 | Val Acc: 0.92424 loss: 0.24515\n",
      "saving model with acc 0.92424\n",
      "第38個epoch的learning rate：0.000177\n"
     ]
    },
    {
     "name": "stderr",
     "output_type": "stream",
     "text": [
      "100%|██████████| 1024/1024 [00:35<00:00, 28.95it/s]\n",
      "100%|██████████| 11/11 [00:00<00:00, 51.05it/s]\n"
     ]
    },
    {
     "name": "stdout",
     "output_type": "stream",
     "text": [
      "[038/040] Train Acc: 0.83214 Loss: 0.52668 | Val Acc: 0.92486 loss: 0.24376\n",
      "saving model with acc 0.92486\n",
      "第39個epoch的learning rate：0.000114\n"
     ]
    },
    {
     "name": "stderr",
     "output_type": "stream",
     "text": [
      "100%|██████████| 1024/1024 [00:35<00:00, 28.82it/s]\n",
      "100%|██████████| 11/11 [00:00<00:00, 41.00it/s]\n"
     ]
    },
    {
     "name": "stdout",
     "output_type": "stream",
     "text": [
      "[039/040] Train Acc: 0.83329 Loss: 0.52376 | Val Acc: 0.92519 loss: 0.24247\n",
      "saving model with acc 0.92519\n",
      "第40個epoch的learning rate：0.000065\n"
     ]
    },
    {
     "name": "stderr",
     "output_type": "stream",
     "text": [
      "100%|██████████| 1024/1024 [00:35<00:00, 28.87it/s]\n",
      "100%|██████████| 11/11 [00:00<00:00, 50.59it/s]"
     ]
    },
    {
     "name": "stdout",
     "output_type": "stream",
     "text": [
      "[040/040] Train Acc: 0.83365 Loss: 0.52238 | Val Acc: 0.92491 loss: 0.24106\n"
     ]
    },
    {
     "name": "stderr",
     "output_type": "stream",
     "text": [
      "\n"
     ]
    }
   ],
   "source": [
    "# create model, define a loss function, and optimizer\n",
    "model = Classifier(input_dim=input_dim, hidden_layers=hidden_layers, hidden_dim=hidden_dim).to(device)\n",
    "\n",
    "# model = RNN_GRU(input_dim, hidden_dim, hidden_layers, output_classes).to(device)\n",
    "criterion = nn.CrossEntropyLoss() \n",
    "optimizer = torch.optim.AdamW(model.parameters(), lr=learning_rate,weight_decay =0.0001 )\n",
    "scheduler = torch.optim.lr_scheduler.CosineAnnealingWarmRestarts(optimizer, T_0=2, T_mult=4, eta_min=0)  \n",
    "best_acc = 0.0\n",
    "for epoch in range(num_epoch):\n",
    "    train_acc = 0.0\n",
    "    train_loss = 0.0\n",
    "    val_acc = 0.0\n",
    "    val_loss = 0.0\n",
    "    print(\"第%d個epoch的learning rate：%f\" % (epoch+1, optimizer.param_groups[0]['lr']))\n",
    "    # training\n",
    "    model.train() # set the model to training mode\n",
    "    for i, batch in enumerate(tqdm(train_loader)):\n",
    "        features, labels = batch\n",
    "        features = features.to(device)\n",
    "        labels = labels.to(device)\n",
    "        \n",
    "        optimizer.zero_grad() \n",
    "        outputs = model(features) \n",
    "        \n",
    "        loss = criterion(outputs, labels)\n",
    "        loss.backward() \n",
    "        optimizer.step() \n",
    "        \n",
    "        _, train_pred = torch.max(outputs, 1) # get the index of the class with the highest probability\n",
    "        train_acc += (train_pred.detach() == labels.detach()).sum().item()\n",
    "        train_loss += loss.item()\n",
    "    scheduler.step()\n",
    "    # validation\n",
    "    model.eval() # set the model to evaluation mode\n",
    "    with torch.no_grad():\n",
    "        for i, batch in enumerate(tqdm(val_loader)):\n",
    "            features, labels = batch\n",
    "            features = features.to(device)\n",
    "            labels = labels.to(device)\n",
    "            outputs = model(features)\n",
    "            \n",
    "            loss = criterion(outputs, labels) \n",
    "            \n",
    "            _, val_pred = torch.max(outputs, 1) \n",
    "            val_acc += (val_pred.cpu() == labels.cpu()).sum().item() # get the index of the class with the highest probability\n",
    "            val_loss += loss.item()\n",
    "\n",
    "    print(f'[{epoch+1:03d}/{num_epoch:03d}] Train Acc: {train_acc/len(train_set):3.5f} Loss: {train_loss/len(train_loader):3.5f} | Val Acc: {val_acc/len(val_set):3.5f} loss: {val_loss/len(val_loader):3.5f}')\n",
    "\n",
    "    # if the model improves, save a checkpoint at this epoch\n",
    "    if val_acc > best_acc:\n",
    "        best_acc = val_acc\n",
    "        torch.save(model.state_dict(), model_path)\n",
    "        print(f'saving model with acc {best_acc/len(val_set):.5f}')\n"
   ]
  },
  {
   "cell_type": "code",
   "execution_count": 52,
   "metadata": {
    "id": "ab33MxosWLmG"
   },
   "outputs": [
    {
     "data": {
      "text/plain": [
       "0"
      ]
     },
     "execution_count": 52,
     "metadata": {},
     "output_type": "execute_result"
    }
   ],
   "source": [
    "del train_set, val_set\n",
    "del train_loader, val_loader\n",
    "gc.collect()"
   ]
  },
  {
   "cell_type": "markdown",
   "metadata": {
    "id": "1Hi7jTn3PX-m"
   },
   "source": [
    "# Testing\n",
    "Create a testing dataset, and load model from the saved checkpoint."
   ]
  },
  {
   "cell_type": "code",
   "execution_count": 53,
   "metadata": {
    "id": "VOG1Ou0PGrhc"
   },
   "outputs": [
    {
     "name": "stdout",
     "output_type": "stream",
     "text": [
      "[Dataset] - # phone classes: 41, number of utterances for test: 857\n"
     ]
    },
    {
     "name": "stderr",
     "output_type": "stream",
     "text": [
      "857it [00:04, 186.84it/s]\n"
     ]
    },
    {
     "name": "stdout",
     "output_type": "stream",
     "text": [
      "[INFO] test set\n",
      "torch.Size([527364, 1989])\n"
     ]
    }
   ],
   "source": [
    "# load data\n",
    "test_X = preprocess_data(split='test', feat_dir='./libriphone/feat', phone_path='./libriphone', concat_nframes=concat_nframes)\n",
    "test_set = LibriDataset(test_X, None)\n",
    "test_loader = DataLoader(test_set, batch_size=batch_size, shuffle=False)"
   ]
  },
  {
   "cell_type": "code",
   "execution_count": 54,
   "metadata": {
    "id": "ay0Fu8Ovkdad"
   },
   "outputs": [
    {
     "data": {
      "text/plain": [
       "<All keys matched successfully>"
      ]
     },
     "execution_count": 54,
     "metadata": {},
     "output_type": "execute_result"
    }
   ],
   "source": [
    "# load model\n",
    "model = Classifier(input_dim=input_dim, hidden_layers=hidden_layers, hidden_dim=hidden_dim).to(device)\n",
    "model.load_state_dict(torch.load(model_path))"
   ]
  },
  {
   "cell_type": "markdown",
   "metadata": {
    "id": "zp-DV1p4r7Nz"
   },
   "source": [
    "Make prediction."
   ]
  },
  {
   "cell_type": "code",
   "execution_count": 55,
   "metadata": {
    "id": "84HU5GGjPqR0"
   },
   "outputs": [
    {
     "name": "stderr",
     "output_type": "stream",
     "text": [
      "100%|██████████| 258/258 [00:04<00:00, 60.26it/s]\n"
     ]
    }
   ],
   "source": [
    "pred = np.array([], dtype=np.int32)\n",
    "\n",
    "model.eval()\n",
    "with torch.no_grad():\n",
    "    for i, batch in enumerate(tqdm(test_loader)):\n",
    "        features = batch\n",
    "        features = features.to(device)\n",
    "\n",
    "        outputs = model(features)\n",
    "\n",
    "        _, test_pred = torch.max(outputs, 1) # get the index of the class with the highest probability\n",
    "        pred = np.concatenate((pred, test_pred.cpu().numpy()), axis=0)\n"
   ]
  },
  {
   "cell_type": "markdown",
   "metadata": {
    "id": "wyZqy40Prz0v"
   },
   "source": [
    "Write prediction to a CSV file.\n",
    "\n",
    "After finish running this block, download the file `prediction.csv` from the files section on the left-hand side and submit it to Kaggle."
   ]
  },
  {
   "cell_type": "code",
   "execution_count": 56,
   "metadata": {
    "id": "GuljYSPHcZir"
   },
   "outputs": [],
   "source": [
    "with open('prediction_test.csv', 'w') as f:\n",
    "    f.write('Id,Class\\n')\n",
    "    for i, y in enumerate(pred):\n",
    "        f.write('{},{}\\n'.format(i, y))"
   ]
  },
  {
   "cell_type": "code",
   "execution_count": null,
   "metadata": {},
   "outputs": [],
   "source": []
  }
 ],
 "metadata": {
  "accelerator": "GPU",
  "colab": {
   "provenance": []
  },
  "kernelspec": {
   "display_name": "Python 3 (ipykernel)",
   "language": "python",
   "name": "python3"
  },
  "language_info": {
   "codemirror_mode": {
    "name": "ipython",
    "version": 3
   },
   "file_extension": ".py",
   "mimetype": "text/x-python",
   "name": "python",
   "nbconvert_exporter": "python",
   "pygments_lexer": "ipython3",
   "version": "3.9.13"
  }
 },
 "nbformat": 4,
 "nbformat_minor": 1
}
